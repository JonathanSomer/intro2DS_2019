{
 "cells": [
  {
   "cell_type": "markdown",
   "metadata": {
    "slideshow": {
     "slide_type": "slide"
    }
   },
   "source": [
    "## Simpson's Paradox\n",
    "\n",
    "* Discrete Variables Example\n",
    "* Continuous Variables Example\n",
    "\n",
    "<img src = \"images/simpsons.png\">"
   ]
  },
  {
   "cell_type": "markdown",
   "metadata": {
    "slideshow": {
     "slide_type": "slide"
    }
   },
   "source": [
    "### Simpson's Paradox - Discrete (I)\n",
    "\n",
    "In 1973, UC Berkeley was ~~sued~~ afraid it would be sued for gender bias, because their graduate school admission figures showed obvious bias against women. We'll use made-up figures to simplify things.\n",
    "\n",
    "Let X be the gender of an applicant, Female or Male.\n",
    "\n",
    "Let Z be the admission to Berkeley, yes or no.\n",
    "\n",
    "And we're looking at proportion of admission given gender, the conditional distribution $P(Z = yes|X)$:\n",
    "\n",
    "| X | F  | M  |\n",
    "|---|----|----|\n",
    "| P(Z = yes\\|X) |0.41|0.59|\n",
    "\n",
    "Let Y be the departmant to which an applicant applied, say Law and Math. When looking at $P(Z = yes|X,Y)$ we get a different pattern:\n",
    "\n",
    "| Y/X  | F  | M  |\n",
    "|-----|----|----|\n",
    "| Law |0.33|0.28|\n",
    "| Math|0.72|0.67|\n",
    "\n",
    "So, when not considering Y - the department variable, it seems women are less likely to be admitted. But when considering Y, they are more likely to be admitted in each and every department!\n"
   ]
  },
  {
   "cell_type": "markdown",
   "metadata": {
    "slideshow": {
     "slide_type": "slide"
    }
   },
   "source": [
    "### Simpson's Paradox - Discrete (II)\n",
    "\n",
    "What sorcery is this?\n",
    "\n",
    "<img src = \"images/berkley.png\">\n",
    "\n",
    "* Women applied more for hard-to-get-in Law department!\n",
    "* This was NOT a random sample. Therefore the person who analyzed the data should have taken extra care to condition the results on possible confounding variables (in this case Y - the department the applicant applied to in the first place)\n",
    "* False use of Statistics is everywhere. Do better."
   ]
  },
  {
   "cell_type": "markdown",
   "metadata": {
    "slideshow": {
     "slide_type": "slide"
    }
   },
   "source": [
    "### Simpson's Paradox - Continuous\n",
    "\n",
    "[source](https://simplystatistics.org/2017/08/08/code-for-my-educational-gifs/)\n",
    "\n",
    "<img src = \"images/simpson_continuous.gif\">"
   ]
  }
 ],
 "metadata": {
  "celltoolbar": "Slideshow",
  "kernelspec": {
   "display_name": "Python 3",
   "language": "python",
   "name": "python3"
  },
  "language_info": {
   "codemirror_mode": {
    "name": "ipython",
    "version": 3
   },
   "file_extension": ".py",
   "mimetype": "text/x-python",
   "name": "python",
   "nbconvert_exporter": "python",
   "pygments_lexer": "ipython3",
   "version": "3.6.4"
  }
 },
 "nbformat": 4,
 "nbformat_minor": 2
}
