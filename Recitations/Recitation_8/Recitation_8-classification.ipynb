{
 "cells": [
  {
   "cell_type": "markdown",
   "metadata": {},
   "source": [
    "# classification"
   ]
  },
  {
   "cell_type": "markdown",
   "metadata": {},
   "source": [
    "## Fixing Dr. Oak's pokedex (AGAIN)\n",
    "\n",
    "Dr Oak's pokedex has fell to the toilet.. __AGAIN__<br> \n",
    "after leaving it in rice overnight, it is working again, but has a strange bug<br>\n",
    "it now cannot identify the pokemon's ~~HP~~ __stage__.  \n",
    "fortunatily Dr. Oak still has the full data for the original 150 pokemons.\n",
    "help Dr. Oak create a predictive model to predict ~~HP~~  __stage__ based on other pokemon charecteristics. \n",
    "<br>\n",
    "![Alt text](images/pokedex.gif)"
   ]
  },
  {
   "cell_type": "code",
   "execution_count": 1,
   "metadata": {},
   "outputs": [],
   "source": [
    "import numpy as np\n",
    "import pandas as pd\n",
    "import seaborn as sns\n",
    "from matplotlib import pyplot as plt\n",
    "import copy\n",
    "\n",
    "# old imports from sklearn!\n",
    "from sklearn.model_selection import train_test_split\n",
    "from sklearn.model_selection import cross_validate\n",
    "\n",
    "# new imports from sklearn\n",
    "from sklearn.linear_model import LogisticRegression\n",
    "from sklearn.neighbors import KNeighborsClassifier\n",
    "from sklearn import tree\n",
    "from sklearn.ensemble import RandomForestClassifier\n",
    "from sklearn.metrics import classification_report"
   ]
  },
  {
   "cell_type": "code",
   "execution_count": 2,
   "metadata": {},
   "outputs": [
    {
     "data": {
      "text/html": [
       "<div>\n",
       "<style scoped>\n",
       "    .dataframe tbody tr th:only-of-type {\n",
       "        vertical-align: middle;\n",
       "    }\n",
       "\n",
       "    .dataframe tbody tr th {\n",
       "        vertical-align: top;\n",
       "    }\n",
       "\n",
       "    .dataframe thead th {\n",
       "        text-align: right;\n",
       "    }\n",
       "</style>\n",
       "<table border=\"1\" class=\"dataframe\">\n",
       "  <thead>\n",
       "    <tr style=\"text-align: right;\">\n",
       "      <th></th>\n",
       "      <th>Name</th>\n",
       "      <th>Type_1</th>\n",
       "      <th>Type_2</th>\n",
       "      <th>Total</th>\n",
       "      <th>HP</th>\n",
       "      <th>Attack</th>\n",
       "      <th>Defense</th>\n",
       "      <th>Sp_Atk</th>\n",
       "      <th>Sp_Def</th>\n",
       "      <th>Speed</th>\n",
       "      <th>Stage</th>\n",
       "      <th>Legendary</th>\n",
       "    </tr>\n",
       "  </thead>\n",
       "  <tbody>\n",
       "    <tr>\n",
       "      <th>0</th>\n",
       "      <td>Bulbasaur</td>\n",
       "      <td>Grass</td>\n",
       "      <td>Poison</td>\n",
       "      <td>318</td>\n",
       "      <td>45</td>\n",
       "      <td>49</td>\n",
       "      <td>49</td>\n",
       "      <td>65</td>\n",
       "      <td>65</td>\n",
       "      <td>45</td>\n",
       "      <td>1</td>\n",
       "      <td>False</td>\n",
       "    </tr>\n",
       "    <tr>\n",
       "      <th>1</th>\n",
       "      <td>Ivysaur</td>\n",
       "      <td>Grass</td>\n",
       "      <td>Poison</td>\n",
       "      <td>405</td>\n",
       "      <td>60</td>\n",
       "      <td>62</td>\n",
       "      <td>63</td>\n",
       "      <td>80</td>\n",
       "      <td>80</td>\n",
       "      <td>60</td>\n",
       "      <td>2</td>\n",
       "      <td>False</td>\n",
       "    </tr>\n",
       "    <tr>\n",
       "      <th>2</th>\n",
       "      <td>Venusaur</td>\n",
       "      <td>Grass</td>\n",
       "      <td>Poison</td>\n",
       "      <td>525</td>\n",
       "      <td>80</td>\n",
       "      <td>82</td>\n",
       "      <td>83</td>\n",
       "      <td>100</td>\n",
       "      <td>100</td>\n",
       "      <td>80</td>\n",
       "      <td>3</td>\n",
       "      <td>False</td>\n",
       "    </tr>\n",
       "    <tr>\n",
       "      <th>3</th>\n",
       "      <td>Charmander</td>\n",
       "      <td>Fire</td>\n",
       "      <td>NaN</td>\n",
       "      <td>309</td>\n",
       "      <td>39</td>\n",
       "      <td>52</td>\n",
       "      <td>43</td>\n",
       "      <td>60</td>\n",
       "      <td>50</td>\n",
       "      <td>65</td>\n",
       "      <td>1</td>\n",
       "      <td>False</td>\n",
       "    </tr>\n",
       "    <tr>\n",
       "      <th>4</th>\n",
       "      <td>Charmeleon</td>\n",
       "      <td>Fire</td>\n",
       "      <td>NaN</td>\n",
       "      <td>405</td>\n",
       "      <td>58</td>\n",
       "      <td>64</td>\n",
       "      <td>58</td>\n",
       "      <td>80</td>\n",
       "      <td>65</td>\n",
       "      <td>80</td>\n",
       "      <td>2</td>\n",
       "      <td>False</td>\n",
       "    </tr>\n",
       "  </tbody>\n",
       "</table>\n",
       "</div>"
      ],
      "text/plain": [
       "         Name Type_1  Type_2  Total  HP  Attack  Defense  Sp_Atk  Sp_Def  \\\n",
       "0   Bulbasaur  Grass  Poison    318  45      49       49      65      65   \n",
       "1     Ivysaur  Grass  Poison    405  60      62       63      80      80   \n",
       "2    Venusaur  Grass  Poison    525  80      82       83     100     100   \n",
       "3  Charmander   Fire     NaN    309  39      52       43      60      50   \n",
       "4  Charmeleon   Fire     NaN    405  58      64       58      80      65   \n",
       "\n",
       "   Speed  Stage  Legendary  \n",
       "0     45      1      False  \n",
       "1     60      2      False  \n",
       "2     80      3      False  \n",
       "3     65      1      False  \n",
       "4     80      2      False  "
      ]
     },
     "execution_count": 2,
     "metadata": {},
     "output_type": "execute_result"
    }
   ],
   "source": [
    "df = pd.read_csv('pokemon.csv', encoding ='latin1')\n",
    "df.head()"
   ]
  },
  {
   "cell_type": "code",
   "execution_count": 3,
   "metadata": {},
   "outputs": [
    {
     "name": "stdout",
     "output_type": "stream",
     "text": [
      "                 HP    Attack   Defense    Sp_Atk    Sp_Def     Speed  \\\n",
      "HP         1.000000  0.306768  0.119782  0.236649  0.490978 -0.040939   \n",
      "Attack     0.306768  1.000000  0.491965  0.146312  0.369069  0.194701   \n",
      "Defense    0.119782  0.491965  1.000000  0.187569  0.139912 -0.053252   \n",
      "Sp_Atk     0.236649  0.146312  0.187569  1.000000  0.522907  0.411516   \n",
      "Sp_Def     0.490978  0.369069  0.139912  0.522907  1.000000  0.392656   \n",
      "Speed     -0.040939  0.194701 -0.053252  0.411516  0.392656  1.000000   \n",
      "Stage      0.249207  0.361321  0.270861  0.391712  0.358308  0.240042   \n",
      "Legendary  0.172441  0.147486  0.141576  0.334159  0.215314  0.199969   \n",
      "\n",
      "              Stage  Legendary  \n",
      "HP         0.249207   0.172441  \n",
      "Attack     0.361321   0.147486  \n",
      "Defense    0.270861   0.141576  \n",
      "Sp_Atk     0.391712   0.334159  \n",
      "Sp_Def     0.358308   0.215314  \n",
      "Speed      0.240042   0.199969  \n",
      "Stage      1.000000  -0.142508  \n",
      "Legendary -0.142508   1.000000  \n"
     ]
    },
    {
     "data": {
      "image/png": "[encoded data removed]",
      "text/plain": [
       "<matplotlib.figure.Figure at 0x10b045208>"
      ]
     },
     "metadata": {},
     "output_type": "display_data"
    }
   ],
   "source": [
    "# Calculate correlations\n",
    "corr = df.drop(['Name', 'Total'], axis=1).corr()\n",
    "print(corr)\n",
    "# Heatmap\n",
    "sns.heatmap(corr,cmap=\"YlGnBu\")\n",
    "plt.show()"
   ]
  },
  {
   "cell_type": "code",
   "execution_count": 4,
   "metadata": {},
   "outputs": [
    {
     "data": {
      "text/plain": [
       "<matplotlib.axes._subplots.AxesSubplot at 0x1049d9ba8>"
      ]
     },
     "execution_count": 4,
     "metadata": {},
     "output_type": "execute_result"
    },
    {
     "data": {
      "image/png": "[encoded data removed]",
      "text/plain": [
       "<matplotlib.figure.Figure at 0x10b08e668>"
      ]
     },
     "metadata": {},
     "output_type": "display_data"
    }
   ],
   "source": [
    "sns.boxplot(x='Stage',y='Attack', data=df)"
   ]
  },
  {
   "cell_type": "code",
   "execution_count": 5,
   "metadata": {},
   "outputs": [
    {
     "data": {
      "text/plain": [
       "<matplotlib.axes._subplots.AxesSubplot at 0x10b371d68>"
      ]
     },
     "execution_count": 5,
     "metadata": {},
     "output_type": "execute_result"
    },
    {
     "data": {
      "image/png": "[encoded data removed]",
      "text/plain": [
       "<matplotlib.figure.Figure at 0x10b300e48>"
      ]
     },
     "metadata": {},
     "output_type": "display_data"
    }
   ],
   "source": [
    "sns.scatterplot(x='Attack', y='Defense', hue='Stage', data=df)"
   ]
  },
  {
   "cell_type": "markdown",
   "metadata": {},
   "source": [
    "## logistic"
   ]
  },
  {
   "cell_type": "code",
   "execution_count": 6,
   "metadata": {},
   "outputs": [
    {
     "data": {
      "text/plain": [
       "LogisticRegression(C=1.0, class_weight=None, dual=False, fit_intercept=True,\n",
       "                   intercept_scaling=1, l1_ratio=None, max_iter=100,\n",
       "                   multi_class='multinomial', n_jobs=None, penalty='l2',\n",
       "                   random_state=0, solver='lbfgs', tol=0.0001, verbose=0,\n",
       "                   warm_start=False)"
      ]
     },
     "execution_count": 6,
     "metadata": {},
     "output_type": "execute_result"
    }
   ],
   "source": [
    "X = pd.DataFrame(df['Attack'])\n",
    "y = pd.DataFrame(df['Stage'])\n",
    "y = np.ravel(y)\n",
    "\n",
    "clf = LogisticRegression(random_state=0, solver='lbfgs', multi_class='multinomial')\n",
    "clf.fit(X, y)"
   ]
  },
  {
   "cell_type": "code",
   "execution_count": 7,
   "metadata": {},
   "outputs": [
    {
     "data": {
      "text/plain": [
       "array([1, 1, 1, 1, 1, 1, 1, 1, 1, 1, 1, 1, 1, 1, 2, 1, 1, 1, 1, 1, 1, 2,\n",
       "       1, 2, 1, 2, 1, 2, 1, 1, 2, 1, 1, 2, 1, 1, 1, 1, 1, 1, 1, 1, 1, 1,\n",
       "       1, 1, 2, 1, 1, 1, 1, 1, 1, 1, 1, 1, 2, 1, 2, 1, 1, 2, 1, 1, 1, 1,\n",
       "       2, 2, 1, 2, 2, 1, 1, 1, 2, 2, 2, 2, 1, 1, 1, 1, 1, 2, 2, 1, 1, 1,\n",
       "       2, 1, 2, 1, 1, 1, 1, 1, 1, 2, 2, 1, 1, 1, 2, 1, 1, 2, 2, 1, 1, 2,\n",
       "       2, 2, 1, 1, 2, 1, 1, 1, 2, 1, 1, 1, 2, 1, 1, 2, 2, 2, 1, 2, 2, 1,\n",
       "       1, 1, 1, 2, 1, 1, 1, 1, 2, 2, 2, 2, 2, 2, 1, 1, 2, 2, 2])"
      ]
     },
     "execution_count": 7,
     "metadata": {},
     "output_type": "execute_result"
    }
   ],
   "source": [
    "clf.predict(X)"
   ]
  },
  {
   "cell_type": "code",
   "execution_count": 8,
   "metadata": {},
   "outputs": [
    {
     "data": {
      "text/plain": [
       "array([[0.68903274, 0.26682366, 0.0441436 ],\n",
       "       [0.60342623, 0.330052  , 0.06652177],\n",
       "       [0.45776679, 0.42592316, 0.11631005],\n",
       "       [0.67024983, 0.28108036, 0.0486698 ],\n",
       "       [0.58939744, 0.33996899, 0.07063357],\n",
       "       [0.4429849 , 0.43465911, 0.12235599],\n",
       "       [0.69514974, 0.26213583, 0.04271443],\n",
       "       [0.59643546, 0.33501024, 0.0685543 ],\n",
       "       [0.45036974, 0.43032108, 0.11930918],\n",
       "       [0.7919201 , 0.18512859, 0.02295131],\n",
       "       [0.83449664, 0.14957269, 0.01593067],\n",
       "       [0.7130528 , 0.24829067, 0.03865653],\n",
       "       [0.7676442 , 0.20494357, 0.02741224],\n",
       "       [0.81418776, 0.16666119, 0.01915104],\n",
       "       [0.39910946, 0.45927258, 0.14161797],\n",
       "       [0.7130528 , 0.24829067, 0.03865653],\n",
       "       [0.61725652, 0.32014815, 0.06259533],\n",
       "       [0.47258466, 0.41695935, 0.11045599],\n",
       "       [0.64425023, 0.30046517, 0.0552846 ],\n",
       "       [0.46517283, 0.42146826, 0.11335891],\n",
       "       [0.61725652, 0.32014815, 0.06259533],\n",
       "       [0.39910946, 0.45927258, 0.14161797],\n",
       "       [0.61725652, 0.32014815, 0.06259533],\n",
       "       [0.43561546, 0.43893436, 0.12545017],\n",
       "       [0.65084786, 0.29558513, 0.05356701],\n",
       "       [0.39910946, 0.45927258, 0.14161797],\n",
       "       [0.50961843, 0.39371052, 0.09667105],\n",
       "       [0.3289945 , 0.49377777, 0.17722773],\n",
       "       [0.70119277, 0.25748327, 0.04132396],\n",
       "       [0.60342623, 0.330052  , 0.06652177],\n",
       "       [0.38472371, 0.46687468, 0.14840161],\n",
       "       [0.63759036, 0.30536393, 0.05704571],\n",
       "       [0.53170434, 0.37930868, 0.08898698],\n",
       "       [0.31561973, 0.4995511 , 0.18482917],\n",
       "       [0.7130528 , 0.24829067, 0.03865653],\n",
       "       [0.54632076, 0.36957059, 0.08410865],\n",
       "       [0.73584494, 0.23039829, 0.03375677],\n",
       "       [0.50222569, 0.39844398, 0.09933033],\n",
       "       [0.7130528 , 0.24829067, 0.03865653],\n",
       "       [0.54632076, 0.36957059, 0.08410865],\n",
       "       [0.7130528 , 0.24829067, 0.03865653],\n",
       "       [0.47258466, 0.41695935, 0.11045599],\n",
       "       [0.68284292, 0.27154495, 0.04561213],\n",
       "       [0.58231464, 0.34492543, 0.07275993],\n",
       "       [0.47258466, 0.41695935, 0.11045599],\n",
       "       [0.54632076, 0.36957059, 0.08410865],\n",
       "       [0.36345104, 0.47764651, 0.15890245],\n",
       "       [0.65084786, 0.29558513, 0.05356701],\n",
       "       [0.58231464, 0.34492543, 0.07275993],\n",
       "       [0.65084786, 0.29558513, 0.05356701],\n",
       "       [0.47258466, 0.41695935, 0.11045599],\n",
       "       [0.7130528 , 0.24829067, 0.03865653],\n",
       "       [0.54632076, 0.36957059, 0.08410865],\n",
       "       [0.67024983, 0.28108036, 0.0486698 ],\n",
       "       [0.45776679, 0.42592316, 0.11631005],\n",
       "       [0.47258466, 0.41695935, 0.11045599],\n",
       "       [0.29605055, 0.50744732, 0.19650213],\n",
       "       [0.54632076, 0.36957059, 0.08410865],\n",
       "       [0.2648762 , 0.51850175, 0.21662205],\n",
       "       [0.68284292, 0.27154495, 0.04561213],\n",
       "       [0.58231464, 0.34492543, 0.07275993],\n",
       "       [0.36345104, 0.47764651, 0.15890245],\n",
       "       [0.83449664, 0.14957269, 0.01593067],\n",
       "       [0.7676442 , 0.20494357, 0.02741224],\n",
       "       [0.68284292, 0.27154495, 0.04561213],\n",
       "       [0.47258466, 0.41695935, 0.11045599],\n",
       "       [0.3289945 , 0.49377777, 0.17722773],\n",
       "       [0.16090471, 0.53580264, 0.30329265],\n",
       "       [0.50961843, 0.39371052, 0.09667105],\n",
       "       [0.39910946, 0.45927258, 0.14161797],\n",
       "       [0.29605055, 0.50744732, 0.19650213],\n",
       "       [0.7413457 , 0.22603583, 0.03261847],\n",
       "       [0.54632076, 0.36957059, 0.08410865],\n",
       "       [0.47258466, 0.41695935, 0.11045599],\n",
       "       [0.36345104, 0.47764651, 0.15890245],\n",
       "       [0.20856329, 0.53248767, 0.25894903],\n",
       "       [0.43561546, 0.43893436, 0.12545017],\n",
       "       [0.3289945 , 0.49377777, 0.17722773],\n",
       "       [0.58231464, 0.34492543, 0.07275993],\n",
       "       [0.50961843, 0.39371052, 0.09667105],\n",
       "       [0.7676442 , 0.20494357, 0.02741224],\n",
       "       [0.61725652, 0.32014815, 0.06259533],\n",
       "       [0.58231464, 0.34492543, 0.07275993],\n",
       "       [0.43561546, 0.43893436, 0.12545017],\n",
       "       [0.2648762 , 0.51850175, 0.21662205],\n",
       "       [0.7130528 , 0.24829067, 0.03865653],\n",
       "       [0.54632076, 0.36957059, 0.08410865],\n",
       "       [0.47258466, 0.41695935, 0.11045599],\n",
       "       [0.29605055, 0.50744732, 0.19650213],\n",
       "       [0.58231464, 0.34492543, 0.07275993],\n",
       "       [0.36345104, 0.47764651, 0.15890245],\n",
       "       [0.7676442 , 0.20494357, 0.02741224],\n",
       "       [0.68284292, 0.27154495, 0.04561213],\n",
       "       [0.58231464, 0.34492543, 0.07275993],\n",
       "       [0.7130528 , 0.24829067, 0.03865653],\n",
       "       [0.69514974, 0.26213583, 0.04271443],\n",
       "       [0.52436084, 0.38413977, 0.09149939],\n",
       "       [0.29605055, 0.50744732, 0.19650213],\n",
       "       [0.16090471, 0.53580264, 0.30329265],\n",
       "       [0.7919201 , 0.18512859, 0.02295131],\n",
       "       [0.68284292, 0.27154495, 0.04561213],\n",
       "       [0.7413457 , 0.22603583, 0.03261847],\n",
       "       [0.36345104, 0.47764651, 0.15890245],\n",
       "       [0.68284292, 0.27154495, 0.04561213],\n",
       "       [0.47258466, 0.41695935, 0.11045599],\n",
       "       [0.20856329, 0.53248767, 0.25894903],\n",
       "       [0.29605055, 0.50744732, 0.19650213],\n",
       "       [0.65084786, 0.29558513, 0.05356701],\n",
       "       [0.58231464, 0.34492543, 0.07275993],\n",
       "       [0.39910946, 0.45927258, 0.14161797],\n",
       "       [0.43561546, 0.43893436, 0.12545017],\n",
       "       [0.16090471, 0.53580264, 0.30329265],\n",
       "       [0.88453501, 0.10643787, 0.00902712],\n",
       "       [0.65084786, 0.29558513, 0.05356701],\n",
       "       [0.36345104, 0.47764651, 0.15890245],\n",
       "       [0.7413457 , 0.22603583, 0.03261847],\n",
       "       [0.58231464, 0.34492543, 0.07275993],\n",
       "       [0.56802499, 0.35481978, 0.07715523],\n",
       "       [0.38472371, 0.46687468, 0.14840161],\n",
       "       [0.7130528 , 0.24829067, 0.03865653],\n",
       "       [0.50961843, 0.39371052, 0.09667105],\n",
       "       [0.7130528 , 0.24829067, 0.03865653],\n",
       "       [0.2648762 , 0.51850175, 0.21662205],\n",
       "       [0.68284292, 0.27154495, 0.04561213],\n",
       "       [0.45036974, 0.43032108, 0.11930918],\n",
       "       [0.36345104, 0.47764651, 0.15890245],\n",
       "       [0.18363535, 0.53543921, 0.28092543],\n",
       "       [0.3289945 , 0.49377777, 0.17722773],\n",
       "       [0.86956613, 0.11949946, 0.01093441],\n",
       "       [0.18363535, 0.53543921, 0.28092543],\n",
       "       [0.43561546, 0.43893436, 0.12545017],\n",
       "       [0.69514974, 0.26213583, 0.04271443],\n",
       "       [0.65084786, 0.29558513, 0.05356701],\n",
       "       [0.58231464, 0.34492543, 0.07275993],\n",
       "       [0.58231464, 0.34492543, 0.07275993],\n",
       "       [0.16090471, 0.53580264, 0.30329265],\n",
       "       [0.61725652, 0.32014815, 0.06259533],\n",
       "       [0.7413457 , 0.22603583, 0.03261847],\n",
       "       [0.61725652, 0.32014815, 0.06259533],\n",
       "       [0.47258466, 0.41695935, 0.11045599],\n",
       "       [0.23566866, 0.52685525, 0.23747609],\n",
       "       [0.29605055, 0.50744732, 0.19650213],\n",
       "       [0.2648762 , 0.51850175, 0.21662205],\n",
       "       [0.43561546, 0.43893436, 0.12545017],\n",
       "       [0.39910946, 0.45927258, 0.14161797],\n",
       "       [0.3289945 , 0.49377777, 0.17722773],\n",
       "       [0.58939744, 0.33996899, 0.07063357],\n",
       "       [0.4429849 , 0.43465911, 0.12235599],\n",
       "       [0.14428452, 0.53432017, 0.32139531],\n",
       "       [0.2648762 , 0.51850175, 0.21662205],\n",
       "       [0.3289945 , 0.49377777, 0.17722773]])"
      ]
     },
     "execution_count": 8,
     "metadata": {},
     "output_type": "execute_result"
    }
   ],
   "source": [
    "clf.predict_proba(X) \n"
   ]
  },
  {
   "cell_type": "code",
   "execution_count": 9,
   "metadata": {},
   "outputs": [
    {
     "name": "stdout",
     "output_type": "stream",
     "text": [
      "              precision    recall  f1-score   support\n",
      "\n",
      "     class 1       0.59      0.76      0.66        79\n",
      "     class 2       0.45      0.39      0.42        56\n",
      "     class 3       0.00      0.00      0.00        16\n",
      "\n",
      "    accuracy                           0.54       151\n",
      "   macro avg       0.35      0.38      0.36       151\n",
      "weighted avg       0.47      0.54      0.50       151\n",
      "\n"
     ]
    },
    {
     "name": "stderr",
     "output_type": "stream",
     "text": [
      "/Library/Frameworks/Python.framework/Versions/3.6/lib/python3.6/site-packages/sklearn/metrics/classification.py:1437: UndefinedMetricWarning: Precision and F-score are ill-defined and being set to 0.0 in labels with no predicted samples.\n",
      "  'precision', 'predicted', average, warn_for)\n"
     ]
    }
   ],
   "source": [
    "y_true = y\n",
    "y_pred = clf.predict(X)\n",
    "target_names = ['class 1', 'class 2', 'class 3']\n",
    "print(classification_report(y_true, y_pred, target_names=target_names))"
   ]
  },
  {
   "cell_type": "code",
   "execution_count": 10,
   "metadata": {},
   "outputs": [
    {
     "name": "stderr",
     "output_type": "stream",
     "text": [
      "/Library/Frameworks/Python.framework/Versions/3.6/lib/python3.6/site-packages/sklearn/linear_model/logistic.py:947: ConvergenceWarning: lbfgs failed to converge. Increase the number of iterations.\n",
      "  \"of iterations.\", ConvergenceWarning)\n"
     ]
    },
    {
     "data": {
      "text/plain": [
       "LogisticRegression(C=1.0, class_weight=None, dual=False, fit_intercept=True,\n",
       "                   intercept_scaling=1, l1_ratio=None, max_iter=100,\n",
       "                   multi_class='multinomial', n_jobs=None, penalty='l2',\n",
       "                   random_state=0, solver='lbfgs', tol=0.0001, verbose=0,\n",
       "                   warm_start=False)"
      ]
     },
     "execution_count": 10,
     "metadata": {},
     "output_type": "execute_result"
    }
   ],
   "source": [
    "X = pd.DataFrame(df.drop(['Name', 'Type_1', 'Type_2','Total','Stage'], axis=1))\n",
    "y = pd.DataFrame(df['Stage'])\n",
    "y = np.ravel(y)\n",
    "\n",
    "clf = LogisticRegression(random_state=0, solver='lbfgs', multi_class='multinomial')\n",
    "clf.fit(X, y)"
   ]
  },
  {
   "cell_type": "code",
   "execution_count": 11,
   "metadata": {},
   "outputs": [
    {
     "data": {
      "text/plain": [
       "LogisticRegression(C=1.0, class_weight=None, dual=False, fit_intercept=True,\n",
       "                   intercept_scaling=1, l1_ratio=None, max_iter=500,\n",
       "                   multi_class='multinomial', n_jobs=None, penalty='l2',\n",
       "                   random_state=0, solver='lbfgs', tol=0.0001, verbose=0,\n",
       "                   warm_start=False)"
      ]
     },
     "execution_count": 11,
     "metadata": {},
     "output_type": "execute_result"
    }
   ],
   "source": [
    "X = pd.DataFrame(df.drop(['Name', 'Type_1', 'Type_2','Total','Stage'], axis=1))\n",
    "y = pd.DataFrame(df['Stage'])\n",
    "y = np.ravel(y)\n",
    "\n",
    "clf = LogisticRegression(random_state=0, solver='lbfgs', multi_class='multinomial', max_iter=500)\n",
    "clf.fit(X, y)"
   ]
  },
  {
   "cell_type": "code",
   "execution_count": 12,
   "metadata": {},
   "outputs": [
    {
     "name": "stdout",
     "output_type": "stream",
     "text": [
      "              precision    recall  f1-score   support\n",
      "\n",
      "     class 1       0.76      0.84      0.80        79\n",
      "     class 2       0.59      0.64      0.62        56\n",
      "     class 3       0.33      0.06      0.11        16\n",
      "\n",
      "    accuracy                           0.68       151\n",
      "   macro avg       0.56      0.51      0.51       151\n",
      "weighted avg       0.65      0.68      0.66       151\n",
      "\n"
     ]
    }
   ],
   "source": [
    "y_true = y\n",
    "y_pred = clf.predict(X)\n",
    "target_names = ['class 1', 'class 2', 'class 3']\n",
    "print(classification_report(y_true, y_pred, target_names=target_names))"
   ]
  },
  {
   "cell_type": "markdown",
   "metadata": {},
   "source": [
    "## knn"
   ]
  },
  {
   "cell_type": "code",
   "execution_count": 13,
   "metadata": {},
   "outputs": [
    {
     "data": {
      "text/plain": [
       "KNeighborsClassifier(algorithm='auto', leaf_size=30, metric='euclidean',\n",
       "                     metric_params=None, n_jobs=None, n_neighbors=3, p=2,\n",
       "                     weights='uniform')"
      ]
     },
     "execution_count": 13,
     "metadata": {},
     "output_type": "execute_result"
    }
   ],
   "source": [
    "X = pd.DataFrame(df.drop(['Name', 'Type_1', 'Type_2','Total','Stage'], axis=1))\n",
    "y = pd.DataFrame(df['Stage'])\n",
    "y = np.ravel(y)\n",
    "\n",
    "neigh = KNeighborsClassifier(n_neighbors=3, metric=\"euclidean\")\n",
    "neigh.fit(X, y) "
   ]
  },
  {
   "cell_type": "code",
   "execution_count": 14,
   "metadata": {},
   "outputs": [
    {
     "name": "stdout",
     "output_type": "stream",
     "text": [
      "              precision    recall  f1-score   support\n",
      "\n",
      "     class 1       0.92      0.91      0.92        79\n",
      "     class 2       0.80      0.84      0.82        56\n",
      "     class 3       0.57      0.50      0.53        16\n",
      "\n",
      "    accuracy                           0.84       151\n",
      "   macro avg       0.76      0.75      0.76       151\n",
      "weighted avg       0.84      0.84      0.84       151\n",
      "\n"
     ]
    }
   ],
   "source": [
    "y_true = y\n",
    "y_pred = neigh.predict(X)\n",
    "target_names = ['class 1', 'class 2', 'class 3']\n",
    "print(classification_report(y_true, y_pred, target_names=target_names))"
   ]
  },
  {
   "cell_type": "markdown",
   "metadata": {},
   "source": [
    "__*notice the metric and weights parameters*__"
   ]
  },
  {
   "cell_type": "markdown",
   "metadata": {},
   "source": [
    "for knn you must select a hyperparameter K. <br>\n",
    "let's see how different levels of k change the results."
   ]
  },
  {
   "cell_type": "code",
   "execution_count": 15,
   "metadata": {},
   "outputs": [
    {
     "data": {
      "image/png": "[encoded data removed]",
      "text/plain": [
       "<matplotlib.figure.Figure at 0x10b36a908>"
      ]
     },
     "metadata": {},
     "output_type": "display_data"
    }
   ],
   "source": [
    "k_vals = [i for i in range(1,151)]\n",
    "scores = []\n",
    "for k in k_vals:\n",
    "    neigh = KNeighborsClassifier(n_neighbors=k, metric=\"euclidean\")\n",
    "    neigh.fit(X, y) \n",
    "    scores.append(neigh.score(X,y))\n",
    "\n",
    "plt.plot(np.array(k_vals), np.array(scores))\n",
    "plt.show()"
   ]
  },
  {
   "cell_type": "markdown",
   "metadata": {},
   "source": [
    "## tree"
   ]
  },
  {
   "cell_type": "code",
   "execution_count": 16,
   "metadata": {},
   "outputs": [
    {
     "data": {
      "text/plain": [
       "[Text(105.434,215.808,'X[0] <= 53.5\\nentropy = 0.578\\nsamples = 151\\nvalue = [79, 56, 16]'),\n",
       " Text(66.1548,198.543,'X[3] <= 110.0\\nentropy = 0.226\\nsamples = 54\\nvalue = [47, 7, 0]'),\n",
       " Text(55.129,181.278,'X[5] <= 110.0\\nentropy = 0.145\\nsamples = 51\\nvalue = [47, 4, 0]'),\n",
       " Text(44.1032,164.014,'X[2] <= 170.0\\nentropy = 0.113\\nsamples = 50\\nvalue = [47, 3, 0]'),\n",
       " Text(33.0774,146.749,'X[1] <= 27.5\\nentropy = 0.078\\nsamples = 49\\nvalue = [47, 2, 0]'),\n",
       " Text(22.0516,129.485,'X[5] <= 57.5\\nentropy = 0.5\\nsamples = 4\\nvalue = [2, 2, 0]'),\n",
       " Text(11.0258,112.22,'entropy = 0.0\\nsamples = 2\\nvalue = [0, 2, 0]'),\n",
       " Text(33.0774,112.22,'entropy = 0.0\\nsamples = 2\\nvalue = [2, 0, 0]'),\n",
       " Text(44.1032,129.485,'entropy = 0.0\\nsamples = 45\\nvalue = [45, 0, 0]'),\n",
       " Text(55.129,146.749,'entropy = 0.0\\nsamples = 1\\nvalue = [0, 1, 0]'),\n",
       " Text(66.1548,164.014,'entropy = 0.0\\nsamples = 1\\nvalue = [0, 1, 0]'),\n",
       " Text(77.1806,181.278,'entropy = 0.0\\nsamples = 3\\nvalue = [0, 3, 0]'),\n",
       " Text(144.714,198.543,'X[3] <= 44.0\\nentropy = 0.609\\nsamples = 97\\nvalue = [32, 49, 16]'),\n",
       " Text(133.688,181.278,'entropy = 0.0\\nsamples = 10\\nvalue = [10, 0, 0]'),\n",
       " Text(155.74,181.278,'X[1] <= 57.5\\nentropy = 0.585\\nsamples = 87\\nvalue = [22, 49, 16]'),\n",
       " Text(88.2065,164.014,'X[5] <= 65.0\\nentropy = 0.43\\nsamples = 11\\nvalue = [8, 1, 2]'),\n",
       " Text(77.1806,146.749,'entropy = 0.0\\nsamples = 7\\nvalue = [7, 0, 0]'),\n",
       " Text(99.2323,146.749,'X[0] <= 62.5\\nentropy = 0.625\\nsamples = 4\\nvalue = [1, 1, 2]'),\n",
       " Text(88.2065,129.485,'X[3] <= 85.0\\nentropy = 0.444\\nsamples = 3\\nvalue = [0, 1, 2]'),\n",
       " Text(77.1806,112.22,'entropy = 0.0\\nsamples = 1\\nvalue = [0, 1, 0]'),\n",
       " Text(99.2323,112.22,'entropy = 0.0\\nsamples = 2\\nvalue = [0, 0, 2]'),\n",
       " Text(110.258,129.485,'entropy = 0.0\\nsamples = 1\\nvalue = [1, 0, 0]'),\n",
       " Text(223.273,164.014,'X[6] <= 0.5\\nentropy = 0.533\\nsamples = 76\\nvalue = [14, 48, 14]'),\n",
       " Text(212.247,146.749,'X[0] <= 74.0\\nentropy = 0.498\\nsamples = 72\\nvalue = [10, 48, 14]'),\n",
       " Text(143.335,129.485,'X[2] <= 47.5\\nentropy = 0.342\\nsamples = 39\\nvalue = [6, 31, 2]'),\n",
       " Text(121.284,112.22,'X[5] <= 67.5\\nentropy = 0.5\\nsamples = 2\\nvalue = [1, 0, 1]'),\n",
       " Text(110.258,94.9554,'entropy = 0.0\\nsamples = 1\\nvalue = [1, 0, 0]'),\n",
       " Text(132.31,94.9554,'entropy = 0.0\\nsamples = 1\\nvalue = [0, 0, 1]'),\n",
       " Text(165.387,112.22,'X[3] <= 122.5\\nentropy = 0.279\\nsamples = 37\\nvalue = [5, 31, 1]'),\n",
       " Text(154.361,94.9554,'X[0] <= 64.0\\nentropy = 0.239\\nsamples = 36\\nvalue = [5, 31, 0]'),\n",
       " Text(143.335,77.6908,'entropy = 0.0\\nsamples = 18\\nvalue = [0, 18, 0]'),\n",
       " Text(165.387,77.6908,'X[5] <= 47.5\\nentropy = 0.401\\nsamples = 18\\nvalue = [5, 13, 0]'),\n",
       " Text(154.361,60.4262,'entropy = 0.0\\nsamples = 1\\nvalue = [1, 0, 0]'),\n",
       " Text(176.413,60.4262,'X[2] <= 58.5\\nentropy = 0.36\\nsamples = 17\\nvalue = [4, 13, 0]'),\n",
       " Text(154.361,43.1615,'X[2] <= 53.5\\nentropy = 0.444\\nsamples = 3\\nvalue = [2, 1, 0]'),\n",
       " Text(143.335,25.8969,'entropy = 0.0\\nsamples = 1\\nvalue = [0, 1, 0]'),\n",
       " Text(165.387,25.8969,'entropy = 0.0\\nsamples = 2\\nvalue = [2, 0, 0]'),\n",
       " Text(198.465,43.1615,'X[1] <= 107.5\\nentropy = 0.245\\nsamples = 14\\nvalue = [2, 12, 0]'),\n",
       " Text(187.439,25.8969,'entropy = 0.0\\nsamples = 11\\nvalue = [0, 11, 0]'),\n",
       " Text(209.49,25.8969,'X[5] <= 75.0\\nentropy = 0.444\\nsamples = 3\\nvalue = [2, 1, 0]'),\n",
       " Text(198.465,8.63231,'entropy = 0.0\\nsamples = 1\\nvalue = [0, 1, 0]'),\n",
       " Text(220.516,8.63231,'entropy = 0.0\\nsamples = 2\\nvalue = [2, 0, 0]'),\n",
       " Text(176.413,94.9554,'entropy = 0.0\\nsamples = 1\\nvalue = [0, 0, 1]'),\n",
       " Text(281.158,129.485,'X[1] <= 77.5\\nentropy = 0.588\\nsamples = 33\\nvalue = [4, 17, 12]'),\n",
       " Text(270.132,112.22,'entropy = 0.0\\nsamples = 7\\nvalue = [0, 7, 0]'),\n",
       " Text(292.184,112.22,'X[0] <= 93.0\\nentropy = 0.615\\nsamples = 26\\nvalue = [4, 10, 12]'),\n",
       " Text(264.619,94.9554,'X[4] <= 82.5\\nentropy = 0.499\\nsamples = 19\\nvalue = [1, 6, 12]'),\n",
       " Text(253.594,77.6908,'X[1] <= 101.0\\nentropy = 0.562\\nsamples = 11\\nvalue = [1, 6, 4]'),\n",
       " Text(231.542,60.4262,'X[5] <= 95.5\\nentropy = 0.278\\nsamples = 6\\nvalue = [0, 5, 1]'),\n",
       " Text(220.516,43.1615,'entropy = 0.0\\nsamples = 5\\nvalue = [0, 5, 0]'),\n",
       " Text(242.568,43.1615,'entropy = 0.0\\nsamples = 1\\nvalue = [0, 0, 1]'),\n",
       " Text(275.645,60.4262,'X[5] <= 90.0\\nentropy = 0.56\\nsamples = 5\\nvalue = [1, 1, 3]'),\n",
       " Text(264.619,43.1615,'entropy = 0.0\\nsamples = 3\\nvalue = [0, 0, 3]'),\n",
       " Text(286.671,43.1615,'X[3] <= 80.0\\nentropy = 0.5\\nsamples = 2\\nvalue = [1, 1, 0]'),\n",
       " Text(275.645,25.8969,'entropy = 0.0\\nsamples = 1\\nvalue = [1, 0, 0]'),\n",
       " Text(297.697,25.8969,'entropy = 0.0\\nsamples = 1\\nvalue = [0, 1, 0]'),\n",
       " Text(275.645,77.6908,'entropy = 0.0\\nsamples = 8\\nvalue = [0, 0, 8]'),\n",
       " Text(319.748,94.9554,'X[0] <= 117.5\\nentropy = 0.49\\nsamples = 7\\nvalue = [3, 4, 0]'),\n",
       " Text(308.723,77.6908,'X[5] <= 90.5\\nentropy = 0.32\\nsamples = 5\\nvalue = [1, 4, 0]'),\n",
       " Text(297.697,60.4262,'entropy = 0.0\\nsamples = 4\\nvalue = [0, 4, 0]'),\n",
       " Text(319.748,60.4262,'entropy = 0.0\\nsamples = 1\\nvalue = [1, 0, 0]'),\n",
       " Text(330.774,77.6908,'entropy = 0.0\\nsamples = 2\\nvalue = [2, 0, 0]'),\n",
       " Text(234.298,146.749,'entropy = 0.0\\nsamples = 4\\nvalue = [4, 0, 0]')]"
      ]
     },
     "execution_count": 16,
     "metadata": {},
     "output_type": "execute_result"
    },
    {
     "data": {
      "image/png": "[encoded data removed]",
      "text/plain": [
       "<matplotlib.figure.Figure at 0x10b48dcc0>"
      ]
     },
     "metadata": {},
     "output_type": "display_data"
    }
   ],
   "source": [
    "X = pd.DataFrame(df.drop(['Name', 'Type_1', 'Type_2','Total','Stage'], axis=1))\n",
    "y = pd.DataFrame(df['Stage'])\n",
    "y = np.ravel(y)\n",
    "\n",
    "clf = tree.DecisionTreeClassifier()\n",
    "clf = clf.fit(X, y)\n",
    "tree.plot_tree(clf)"
   ]
  },
  {
   "cell_type": "markdown",
   "metadata": {},
   "source": [
    "## Random Forest"
   ]
  },
  {
   "cell_type": "code",
   "execution_count": 17,
   "metadata": {},
   "outputs": [
    {
     "name": "stdout",
     "output_type": "stream",
     "text": [
      "Index(['Sp_Def', 'Defense', 'Legendary'], dtype='object')\n",
      "Index(['Speed', 'Defense', 'Sp_Atk'], dtype='object')\n",
      "Index(['Defense', 'Legendary', 'Speed'], dtype='object')\n",
      "Index(['Attack', 'Legendary', 'Sp_Def'], dtype='object')\n",
      "Index(['Speed', 'Defense', 'Legendary'], dtype='object')\n",
      "Index(['Attack', 'Sp_Atk', 'HP'], dtype='object')\n",
      "Index(['Speed', 'Attack', 'HP'], dtype='object')\n",
      "Index(['Attack', 'Speed', 'Sp_Atk'], dtype='object')\n",
      "Index(['Defense', 'HP', 'Legendary'], dtype='object')\n",
      "Index(['Attack', 'Defense', 'Sp_Def'], dtype='object')\n",
      "Index(['Sp_Atk', 'Sp_Def', 'HP'], dtype='object')\n",
      "Index(['Sp_Atk', 'Sp_Def', 'HP'], dtype='object')\n",
      "Index(['Defense', 'Sp_Atk', 'HP'], dtype='object')\n",
      "Index(['Sp_Def', 'Sp_Atk', 'Speed'], dtype='object')\n",
      "Index(['Legendary', 'HP', 'Defense'], dtype='object')\n",
      "Index(['Defense', 'Sp_Atk', 'Sp_Def'], dtype='object')\n",
      "Index(['Sp_Atk', 'Defense', 'Sp_Def'], dtype='object')\n",
      "Index(['HP', 'Defense', 'Sp_Def'], dtype='object')\n",
      "Index(['Defense', 'Speed', 'HP'], dtype='object')\n",
      "Index(['Legendary', 'HP', 'Sp_Def'], dtype='object')\n",
      "Index(['Speed', 'HP', 'Sp_Atk'], dtype='object')\n",
      "Index(['Sp_Def', 'Legendary', 'Defense'], dtype='object')\n",
      "Index(['Speed', 'Legendary', 'Sp_Atk'], dtype='object')\n",
      "Index(['HP', 'Speed', 'Defense'], dtype='object')\n",
      "Index(['Sp_Atk', 'Defense', 'Attack'], dtype='object')\n",
      "Index(['HP', 'Legendary', 'Attack'], dtype='object')\n",
      "Index(['Speed', 'Legendary', 'HP'], dtype='object')\n",
      "Index(['Sp_Def', 'Speed', 'Attack'], dtype='object')\n",
      "Index(['Attack', 'HP', 'Sp_Def'], dtype='object')\n",
      "Index(['Legendary', 'HP', 'Sp_Atk'], dtype='object')\n",
      "Index(['Sp_Atk', 'Defense', 'Speed'], dtype='object')\n",
      "Index(['Defense', 'Sp_Def', 'HP'], dtype='object')\n",
      "Index(['Attack', 'HP', 'Defense'], dtype='object')\n",
      "Index(['Attack', 'Sp_Atk', 'HP'], dtype='object')\n",
      "Index(['Legendary', 'Sp_Def', 'Attack'], dtype='object')\n",
      "Index(['Speed', 'Sp_Def', 'Legendary'], dtype='object')\n",
      "Index(['Defense', 'Legendary', 'Sp_Atk'], dtype='object')\n",
      "Index(['Sp_Def', 'HP', 'Legendary'], dtype='object')\n",
      "Index(['Speed', 'Attack', 'Defense'], dtype='object')\n",
      "Index(['Attack', 'Defense', 'Sp_Atk'], dtype='object')\n",
      "Index(['Sp_Def', 'Attack', 'Legendary'], dtype='object')\n",
      "Index(['Defense', 'Sp_Def', 'Attack'], dtype='object')\n",
      "Index(['Attack', 'Sp_Atk', 'Sp_Def'], dtype='object')\n",
      "Index(['Attack', 'Sp_Def', 'Defense'], dtype='object')\n",
      "Index(['Speed', 'Defense', 'Sp_Def'], dtype='object')\n",
      "Index(['Sp_Def', 'Legendary', 'Sp_Atk'], dtype='object')\n",
      "Index(['HP', 'Speed', 'Legendary'], dtype='object')\n",
      "Index(['Attack', 'Legendary', 'Defense'], dtype='object')\n",
      "Index(['Attack', 'Defense', 'Sp_Atk'], dtype='object')\n",
      "Index(['Speed', 'Attack', 'HP'], dtype='object')\n",
      "Index(['Legendary', 'Sp_Atk', 'Speed'], dtype='object')\n",
      "Index(['Attack', 'Speed', 'Sp_Def'], dtype='object')\n",
      "Index(['Attack', 'Legendary', 'Defense'], dtype='object')\n",
      "Index(['HP', 'Speed', 'Defense'], dtype='object')\n",
      "Index(['Speed', 'HP', 'Sp_Def'], dtype='object')\n",
      "Index(['HP', 'Legendary', 'Defense'], dtype='object')\n",
      "Index(['Sp_Def', 'HP', 'Defense'], dtype='object')\n",
      "Index(['Speed', 'Defense', 'Sp_Atk'], dtype='object')\n",
      "Index(['Defense', 'Attack', 'Legendary'], dtype='object')\n",
      "Index(['Attack', 'Sp_Atk', 'Sp_Def'], dtype='object')\n",
      "Index(['Legendary', 'Sp_Def', 'Attack'], dtype='object')\n",
      "Index(['Attack', 'Speed', 'Legendary'], dtype='object')\n",
      "Index(['Sp_Def', 'Defense', 'Sp_Atk'], dtype='object')\n",
      "Index(['Sp_Atk', 'Speed', 'Attack'], dtype='object')\n",
      "Index(['Legendary', 'Sp_Atk', 'Speed'], dtype='object')\n",
      "Index(['HP', 'Attack', 'Legendary'], dtype='object')\n",
      "Index(['Sp_Def', 'HP', 'Attack'], dtype='object')\n",
      "Index(['Attack', 'Defense', 'Speed'], dtype='object')\n",
      "Index(['Sp_Atk', 'Defense', 'Sp_Def'], dtype='object')\n",
      "Index(['Speed', 'Defense', 'Attack'], dtype='object')\n",
      "Index(['Attack', 'Sp_Atk', 'HP'], dtype='object')\n",
      "Index(['Sp_Atk', 'Legendary', 'Sp_Def'], dtype='object')\n",
      "Index(['Attack', 'Defense', 'Sp_Atk'], dtype='object')\n",
      "Index(['Sp_Def', 'HP', 'Legendary'], dtype='object')\n",
      "Index(['Legendary', 'Defense', 'HP'], dtype='object')\n",
      "Index(['Speed', 'Sp_Atk', 'Attack'], dtype='object')\n",
      "Index(['HP', 'Defense', 'Legendary'], dtype='object')\n",
      "Index(['Attack', 'Speed', 'Sp_Atk'], dtype='object')\n",
      "Index(['Legendary', 'Defense', 'HP'], dtype='object')\n",
      "Index(['Speed', 'Legendary', 'Attack'], dtype='object')\n",
      "Index(['Speed', 'Legendary', 'Defense'], dtype='object')\n",
      "Index(['Attack', 'HP', 'Sp_Atk'], dtype='object')\n",
      "Index(['Speed', 'Sp_Atk', 'Attack'], dtype='object')\n",
      "Index(['Sp_Def', 'Attack', 'Sp_Atk'], dtype='object')\n",
      "Index(['Sp_Def', 'Speed', 'Defense'], dtype='object')\n",
      "Index(['Sp_Def', 'Legendary', 'Speed'], dtype='object')\n",
      "Index(['Defense', 'Attack', 'Speed'], dtype='object')\n",
      "Index(['Legendary', 'Speed', 'Defense'], dtype='object')\n",
      "Index(['Sp_Def', 'HP', 'Speed'], dtype='object')\n",
      "Index(['Speed', 'HP', 'Sp_Def'], dtype='object')\n",
      "Index(['Speed', 'Sp_Def', 'Sp_Atk'], dtype='object')\n",
      "Index(['HP', 'Speed', 'Legendary'], dtype='object')\n",
      "Index(['HP', 'Sp_Atk', 'Defense'], dtype='object')\n",
      "Index(['Sp_Def', 'Defense', 'Attack'], dtype='object')\n",
      "Index(['Defense', 'Speed', 'Sp_Atk'], dtype='object')\n",
      "Index(['HP', 'Sp_Atk', 'Legendary'], dtype='object')\n",
      "Index(['Attack', 'HP', 'Speed'], dtype='object')\n",
      "Index(['HP', 'Legendary', 'Sp_Atk'], dtype='object')\n",
      "Index(['Defense', 'HP', 'Legendary'], dtype='object')\n",
      "Index(['Defense', 'Attack', 'HP'], dtype='object')\n"
     ]
    }
   ],
   "source": [
    "results = []\n",
    "for i in range(100):\n",
    "    BS_DF = df.sample(151, replace = True)\n",
    "    BS_X = pd.DataFrame(BS_DF.drop(['Name', 'Type_1', 'Type_2','Total','Stage'], axis=1))\n",
    "    BS_X = BS_X.sample(3, axis=1)\n",
    "    print(BS_X.columns)\n",
    "    BS_y = pd.DataFrame(BS_DF['Stage'])\n",
    "    BS_y = np.ravel(y)\n",
    "\n",
    "    clf = tree.DecisionTreeClassifier(max_depth=3)\n",
    "    clf = clf.fit(BS_X, BS_y)\n",
    "    results.append(pd.DataFrame(clf.predict(BS_X)))\n",
    "\n",
    "results_df = pd.concat(results, axis=1)\n"
   ]
  },
  {
   "cell_type": "code",
   "execution_count": 18,
   "metadata": {},
   "outputs": [
    {
     "data": {
      "text/html": [
       "<div>\n",
       "<style scoped>\n",
       "    .dataframe tbody tr th:only-of-type {\n",
       "        vertical-align: middle;\n",
       "    }\n",
       "\n",
       "    .dataframe tbody tr th {\n",
       "        vertical-align: top;\n",
       "    }\n",
       "\n",
       "    .dataframe thead th {\n",
       "        text-align: right;\n",
       "    }\n",
       "</style>\n",
       "<table border=\"1\" class=\"dataframe\">\n",
       "  <thead>\n",
       "    <tr style=\"text-align: right;\">\n",
       "      <th></th>\n",
       "      <th>0</th>\n",
       "      <th>1</th>\n",
       "      <th>2</th>\n",
       "      <th>3</th>\n",
       "      <th>4</th>\n",
       "      <th>5</th>\n",
       "      <th>6</th>\n",
       "      <th>7</th>\n",
       "      <th>8</th>\n",
       "      <th>9</th>\n",
       "      <th>...</th>\n",
       "      <th>141</th>\n",
       "      <th>142</th>\n",
       "      <th>143</th>\n",
       "      <th>144</th>\n",
       "      <th>145</th>\n",
       "      <th>146</th>\n",
       "      <th>147</th>\n",
       "      <th>148</th>\n",
       "      <th>149</th>\n",
       "      <th>150</th>\n",
       "    </tr>\n",
       "  </thead>\n",
       "  <tbody>\n",
       "    <tr>\n",
       "      <th>0</th>\n",
       "      <td>1</td>\n",
       "      <td>1</td>\n",
       "      <td>1</td>\n",
       "      <td>1</td>\n",
       "      <td>2</td>\n",
       "      <td>1</td>\n",
       "      <td>1</td>\n",
       "      <td>1</td>\n",
       "      <td>1</td>\n",
       "      <td>1</td>\n",
       "      <td>...</td>\n",
       "      <td>2</td>\n",
       "      <td>1</td>\n",
       "      <td>1</td>\n",
       "      <td>1</td>\n",
       "      <td>1</td>\n",
       "      <td>1</td>\n",
       "      <td>1</td>\n",
       "      <td>1</td>\n",
       "      <td>1</td>\n",
       "      <td>1</td>\n",
       "    </tr>\n",
       "    <tr>\n",
       "      <th>0</th>\n",
       "      <td>2</td>\n",
       "      <td>2</td>\n",
       "      <td>3</td>\n",
       "      <td>1</td>\n",
       "      <td>1</td>\n",
       "      <td>2</td>\n",
       "      <td>2</td>\n",
       "      <td>2</td>\n",
       "      <td>2</td>\n",
       "      <td>2</td>\n",
       "      <td>...</td>\n",
       "      <td>1</td>\n",
       "      <td>1</td>\n",
       "      <td>1</td>\n",
       "      <td>1</td>\n",
       "      <td>1</td>\n",
       "      <td>1</td>\n",
       "      <td>2</td>\n",
       "      <td>3</td>\n",
       "      <td>2</td>\n",
       "      <td>1</td>\n",
       "    </tr>\n",
       "    <tr>\n",
       "      <th>0</th>\n",
       "      <td>1</td>\n",
       "      <td>1</td>\n",
       "      <td>1</td>\n",
       "      <td>1</td>\n",
       "      <td>2</td>\n",
       "      <td>1</td>\n",
       "      <td>2</td>\n",
       "      <td>1</td>\n",
       "      <td>1</td>\n",
       "      <td>1</td>\n",
       "      <td>...</td>\n",
       "      <td>1</td>\n",
       "      <td>1</td>\n",
       "      <td>1</td>\n",
       "      <td>1</td>\n",
       "      <td>1</td>\n",
       "      <td>1</td>\n",
       "      <td>1</td>\n",
       "      <td>1</td>\n",
       "      <td>1</td>\n",
       "      <td>1</td>\n",
       "    </tr>\n",
       "    <tr>\n",
       "      <th>0</th>\n",
       "      <td>1</td>\n",
       "      <td>1</td>\n",
       "      <td>1</td>\n",
       "      <td>1</td>\n",
       "      <td>2</td>\n",
       "      <td>1</td>\n",
       "      <td>1</td>\n",
       "      <td>1</td>\n",
       "      <td>2</td>\n",
       "      <td>1</td>\n",
       "      <td>...</td>\n",
       "      <td>1</td>\n",
       "      <td>1</td>\n",
       "      <td>1</td>\n",
       "      <td>2</td>\n",
       "      <td>1</td>\n",
       "      <td>2</td>\n",
       "      <td>2</td>\n",
       "      <td>1</td>\n",
       "      <td>2</td>\n",
       "      <td>1</td>\n",
       "    </tr>\n",
       "    <tr>\n",
       "      <th>0</th>\n",
       "      <td>2</td>\n",
       "      <td>1</td>\n",
       "      <td>1</td>\n",
       "      <td>1</td>\n",
       "      <td>2</td>\n",
       "      <td>1</td>\n",
       "      <td>1</td>\n",
       "      <td>2</td>\n",
       "      <td>1</td>\n",
       "      <td>1</td>\n",
       "      <td>...</td>\n",
       "      <td>1</td>\n",
       "      <td>1</td>\n",
       "      <td>1</td>\n",
       "      <td>1</td>\n",
       "      <td>1</td>\n",
       "      <td>1</td>\n",
       "      <td>1</td>\n",
       "      <td>1</td>\n",
       "      <td>1</td>\n",
       "      <td>1</td>\n",
       "    </tr>\n",
       "  </tbody>\n",
       "</table>\n",
       "<p>5 rows × 151 columns</p>\n",
       "</div>"
      ],
      "text/plain": [
       "   0    1    2    3    4    5    6    7    8    9   ...   141  142  143  144  \\\n",
       "0    1    1    1    1    2    1    1    1    1    1 ...     2    1    1    1   \n",
       "0    2    2    3    1    1    2    2    2    2    2 ...     1    1    1    1   \n",
       "0    1    1    1    1    2    1    2    1    1    1 ...     1    1    1    1   \n",
       "0    1    1    1    1    2    1    1    1    2    1 ...     1    1    1    2   \n",
       "0    2    1    1    1    2    1    1    2    1    1 ...     1    1    1    1   \n",
       "\n",
       "   145  146  147  148  149  150  \n",
       "0    1    1    1    1    1    1  \n",
       "0    1    1    2    3    2    1  \n",
       "0    1    1    1    1    1    1  \n",
       "0    1    2    2    1    2    1  \n",
       "0    1    1    1    1    1    1  \n",
       "\n",
       "[5 rows x 151 columns]"
      ]
     },
     "execution_count": 18,
     "metadata": {},
     "output_type": "execute_result"
    }
   ],
   "source": [
    "results_df.T.head()"
   ]
  },
  {
   "cell_type": "code",
   "execution_count": 19,
   "metadata": {},
   "outputs": [
    {
     "data": {
      "text/plain": [
       "0    1\n",
       "1    1\n",
       "2    1\n",
       "3    1\n",
       "4    1\n",
       "Name: 0, dtype: int64"
      ]
     },
     "execution_count": 19,
     "metadata": {},
     "output_type": "execute_result"
    }
   ],
   "source": [
    "preds = results_df.T.mode(axis=0).iloc[0,:]\n",
    "preds.head()"
   ]
  },
  {
   "cell_type": "code",
   "execution_count": 20,
   "metadata": {},
   "outputs": [
    {
     "name": "stdout",
     "output_type": "stream",
     "text": [
      "              precision    recall  f1-score   support\n",
      "\n",
      "     class 1       0.52      1.00      0.69        79\n",
      "     class 2       0.00      0.00      0.00        56\n",
      "     class 3       0.00      0.00      0.00        16\n",
      "\n",
      "    accuracy                           0.52       151\n",
      "   macro avg       0.17      0.33      0.23       151\n",
      "weighted avg       0.27      0.52      0.36       151\n",
      "\n"
     ]
    },
    {
     "name": "stderr",
     "output_type": "stream",
     "text": [
      "/Library/Frameworks/Python.framework/Versions/3.6/lib/python3.6/site-packages/sklearn/metrics/classification.py:1437: UndefinedMetricWarning: Precision and F-score are ill-defined and being set to 0.0 in labels with no predicted samples.\n",
      "  'precision', 'predicted', average, warn_for)\n"
     ]
    }
   ],
   "source": [
    "y_true = y\n",
    "y_pred = preds\n",
    "target_names = ['class 1', 'class 2', 'class 3']\n",
    "print(classification_report(y_true, y_pred, target_names=target_names))"
   ]
  },
  {
   "cell_type": "markdown",
   "metadata": {},
   "source": [
    "## real Random Forest\n",
    "our manual code does not randomly select parameters to consider in every split. "
   ]
  },
  {
   "cell_type": "code",
   "execution_count": 21,
   "metadata": {},
   "outputs": [
    {
     "name": "stdout",
     "output_type": "stream",
     "text": [
      "Index(['HP', 'Attack', 'Defense', 'Sp_Atk', 'Sp_Def', 'Speed', 'Legendary'], dtype='object')\n",
      "[0.33293855 0.08485015 0.07850197 0.23035664 0.09061067 0.11900675\n",
      " 0.06373527]\n"
     ]
    }
   ],
   "source": [
    "clf = RandomForestClassifier(n_estimators=3, max_depth=3,random_state=0)\n",
    "clf.fit(X, y)  \n",
    "\n",
    "print(X.columns)\n",
    "print(clf.feature_importances_)\n"
   ]
  },
  {
   "cell_type": "code",
   "execution_count": 22,
   "metadata": {},
   "outputs": [
    {
     "name": "stdout",
     "output_type": "stream",
     "text": [
      "              precision    recall  f1-score   support\n",
      "\n",
      "     class 1       0.89      0.90      0.89        79\n",
      "     class 2       0.70      0.88      0.78        56\n",
      "     class 3       0.00      0.00      0.00        16\n",
      "\n",
      "    accuracy                           0.79       151\n",
      "   macro avg       0.53      0.59      0.56       151\n",
      "weighted avg       0.72      0.79      0.76       151\n",
      "\n"
     ]
    }
   ],
   "source": [
    "y_true = y\n",
    "y_pred = clf.predict(X)\n",
    "target_names = ['class 1', 'class 2', 'class 3']\n",
    "print(classification_report(y_true, y_pred, target_names=target_names))"
   ]
  },
  {
   "cell_type": "markdown",
   "metadata": {},
   "source": [
    "# Fixed!\n",
    "\n",
    "your model has been tested and Dr. Oak decided to use it to fix the pokedex!\n",
    "the world is now once again whole.\n",
    "until next time Dr. oak plays pokemon on the toilet.....\n"
   ]
  }
 ],
 "metadata": {
  "kernelspec": {
   "display_name": "Python 3",
   "language": "python",
   "name": "python3"
  },
  "language_info": {
   "codemirror_mode": {
    "name": "ipython",
    "version": 3
   },
   "file_extension": ".py",
   "mimetype": "text/x-python",
   "name": "python",
   "nbconvert_exporter": "python",
   "pygments_lexer": "ipython3",
   "version": "3.6.4"
  }
 },
 "nbformat": 4,
 "nbformat_minor": 2
}
