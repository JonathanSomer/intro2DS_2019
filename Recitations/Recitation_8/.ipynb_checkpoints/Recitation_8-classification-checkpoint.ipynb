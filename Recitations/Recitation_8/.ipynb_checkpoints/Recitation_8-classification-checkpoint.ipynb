{
 "cells": [
  {
   "cell_type": "markdown",
   "metadata": {},
   "source": [
    "# classification"
   ]
  },
  {
   "cell_type": "markdown",
   "metadata": {},
   "source": [
    "## Fixing Dr. Oak's pokedex\n",
    "\n",
    "Dr Oak's pokedex has fell to the toilet.. __AGAIN__<br> \n",
    "after leaving it in rice overnight, it is working again, but has a strange bug<br>\n",
    "it now cannot identify the pokemon's ~~HP~~ __stage__.  \n",
    "fortunatily Dr. Oak still has the full data for the original 150 pokemons.\n",
    "help Dr. Oak create a predictive model to predict ~~HP~~  __stage__ based on other pokemon charecteristics. \n",
    "<br>\n",
    "![Alt text](images/pokedex.gif)"
   ]
  },
  {
   "cell_type": "code",
   "execution_count": null,
   "metadata": {},
   "outputs": [],
   "source": [
    "import numpy as np\n",
    "import pandas as pd\n",
    "import seaborn as sns\n",
    "from matplotlib import pyplot as plt\n",
    "import copy\n",
    "\n",
    "# old imports from sklearn!\n",
    "from sklearn.model_selection import train_test_split\n",
    "from sklearn.model_selection import cross_validate\n",
    "\n",
    "# new imports from sklearn\n",
    "from sklearn.linear_model import LogisticRegression\n",
    "from sklearn.neighbors import KNeighborsClassifier\n",
    "from sklearn import tree\n",
    "from sklearn.ensemble import RandomForestClassifier\n",
    "from sklearn.metrics import classification_report"
   ]
  },
  {
   "cell_type": "code",
   "execution_count": null,
   "metadata": {},
   "outputs": [],
   "source": [
    "df = pd.read_csv('pokemon.csv', encoding ='latin1')\n",
    "df.head()"
   ]
  },
  {
   "cell_type": "code",
   "execution_count": null,
   "metadata": {},
   "outputs": [],
   "source": [
    "# Calculate correlations\n",
    "corr = df.drop(['Name', 'Total'], axis=1).corr()\n",
    "print(corr)\n",
    "# Heatmap\n",
    "sns.heatmap(corr,cmap=\"YlGnBu\")\n",
    "plt.show()"
   ]
  },
  {
   "cell_type": "code",
   "execution_count": null,
   "metadata": {},
   "outputs": [],
   "source": [
    "sns.boxplot(x='Stage',y='Attack', data=df)"
   ]
  },
  {
   "cell_type": "code",
   "execution_count": null,
   "metadata": {},
   "outputs": [],
   "source": [
    "sns.scatterplot(x='Attack', y='Defense', hue='Stage', data=df)"
   ]
  },
  {
   "cell_type": "markdown",
   "metadata": {},
   "source": [
    "## logistic"
   ]
  },
  {
   "cell_type": "code",
   "execution_count": null,
   "metadata": {},
   "outputs": [],
   "source": [
    "X = pd.DataFrame(df['Attack'])\n",
    "y = pd.DataFrame(df['Stage'])\n",
    "y = np.ravel(y)\n",
    "\n",
    "clf = LogisticRegression(random_state=0, solver='lbfgs', multi_class='multinomial')\n",
    "clf.fit(X, y)"
   ]
  },
  {
   "cell_type": "code",
   "execution_count": null,
   "metadata": {},
   "outputs": [],
   "source": [
    "clf.predict(X)"
   ]
  },
  {
   "cell_type": "code",
   "execution_count": null,
   "metadata": {},
   "outputs": [],
   "source": [
    "clf.predict_proba(X) \n"
   ]
  },
  {
   "cell_type": "code",
   "execution_count": null,
   "metadata": {},
   "outputs": [],
   "source": [
    "y_true = y\n",
    "y_pred = clf.predict(X)\n",
    "target_names = ['class 1', 'class 2', 'class 3']\n",
    "print(classification_report(y_true, y_pred, target_names=target_names))"
   ]
  },
  {
   "cell_type": "code",
   "execution_count": null,
   "metadata": {},
   "outputs": [],
   "source": [
    "X = pd.DataFrame(df.drop(['Name', 'Type_1', 'Type_2','Total','Stage'], axis=1))\n",
    "y = pd.DataFrame(df['Stage'])\n",
    "y = np.ravel(y)\n",
    "\n",
    "clf = LogisticRegression(random_state=0, solver='lbfgs', multi_class='multinomial')\n",
    "clf.fit(X, y)"
   ]
  },
  {
   "cell_type": "code",
   "execution_count": null,
   "metadata": {},
   "outputs": [],
   "source": [
    "X = pd.DataFrame(df.drop(['Name', 'Type_1', 'Type_2','Total','Stage'], axis=1))\n",
    "y = pd.DataFrame(df['Stage'])\n",
    "y = np.ravel(y)\n",
    "\n",
    "clf = LogisticRegression(random_state=0, solver='lbfgs', multi_class='multinomial', max_iter=500)\n",
    "clf.fit(X, y)"
   ]
  },
  {
   "cell_type": "code",
   "execution_count": null,
   "metadata": {},
   "outputs": [],
   "source": [
    "y_true = y\n",
    "y_pred = clf.predict(X)\n",
    "target_names = ['class 1', 'class 2', 'class 3']\n",
    "print(classification_report(y_true, y_pred, target_names=target_names))"
   ]
  },
  {
   "cell_type": "markdown",
   "metadata": {},
   "source": [
    "## knn"
   ]
  },
  {
   "cell_type": "code",
   "execution_count": null,
   "metadata": {},
   "outputs": [],
   "source": [
    "X = pd.DataFrame(df.drop(['Name', 'Type_1', 'Type_2','Total','Stage'], axis=1))\n",
    "y = pd.DataFrame(df['Stage'])\n",
    "y = np.ravel(y)\n",
    "\n",
    "neigh = KNeighborsClassifier(n_neighbors=3, metric=\"euclidean\")\n",
    "neigh.fit(X, y) "
   ]
  },
  {
   "cell_type": "code",
   "execution_count": null,
   "metadata": {},
   "outputs": [],
   "source": [
    "y_true = y\n",
    "y_pred = neigh.predict(X)\n",
    "target_names = ['class 1', 'class 2', 'class 3']\n",
    "print(classification_report(y_true, y_pred, target_names=target_names))"
   ]
  },
  {
   "cell_type": "markdown",
   "metadata": {},
   "source": [
    "__*notice the metric and weights parameters*__"
   ]
  },
  {
   "cell_type": "markdown",
   "metadata": {},
   "source": [
    "for knn you must select a hyperparameter K. <br>\n",
    "let's see how different levels of k change the results."
   ]
  },
  {
   "cell_type": "code",
   "execution_count": null,
   "metadata": {},
   "outputs": [],
   "source": [
    "k_vals = [i for i in range(1,151)]\n",
    "scores = []\n",
    "for k in k_vals:\n",
    "    neigh = KNeighborsClassifier(n_neighbors=k, metric=\"euclidean\")\n",
    "    neigh.fit(X, y) \n",
    "    scores.append(neigh.score(X,y))\n",
    "\n",
    "plt.plot(np.array(k_vals), np.array(scores))\n",
    "plt.show()"
   ]
  },
  {
   "cell_type": "markdown",
   "metadata": {},
   "source": [
    "## tree"
   ]
  },
  {
   "cell_type": "code",
   "execution_count": null,
   "metadata": {},
   "outputs": [],
   "source": [
    "X = pd.DataFrame(df.drop(['Name', 'Type_1', 'Type_2','Total','Stage'], axis=1))\n",
    "y = pd.DataFrame(df['Stage'])\n",
    "y = np.ravel(y)\n",
    "\n",
    "clf = tree.DecisionTreeClassifier()\n",
    "clf = clf.fit(X, y)\n",
    "tree.plot_tree(clf)"
   ]
  },
  {
   "cell_type": "markdown",
   "metadata": {},
   "source": [
    "## Random Forest"
   ]
  },
  {
   "cell_type": "code",
   "execution_count": null,
   "metadata": {},
   "outputs": [],
   "source": [
    "results = []\n",
    "for i in range(100):\n",
    "    BS_DF = df.sample(151, replace = True)\n",
    "    BS_X = pd.DataFrame(BS_DF.drop(['Name', 'Type_1', 'Type_2','Total','Stage'], axis=1))\n",
    "    BS_X = BS_X.sample(3, axis=1)\n",
    "    print(BS_X.columns)\n",
    "    BS_y = pd.DataFrame(BS_DF['Stage'])\n",
    "    BS_y = np.ravel(y)\n",
    "\n",
    "    clf = tree.DecisionTreeClassifier(max_depth=3)\n",
    "    clf = clf.fit(BS_X, BS_y)\n",
    "    results.append(pd.DataFrame(clf.predict(BS_X)))\n",
    "\n",
    "results_df = pd.concat(results, axis=1)\n"
   ]
  },
  {
   "cell_type": "code",
   "execution_count": null,
   "metadata": {},
   "outputs": [],
   "source": [
    "results_df.T.head()"
   ]
  },
  {
   "cell_type": "code",
   "execution_count": null,
   "metadata": {},
   "outputs": [],
   "source": [
    "preds = results_df.T.mode(axis=0).iloc[0,:]\n",
    "preds.head()"
   ]
  },
  {
   "cell_type": "code",
   "execution_count": null,
   "metadata": {},
   "outputs": [],
   "source": [
    "y_true = y\n",
    "y_pred = preds\n",
    "target_names = ['class 1', 'class 2', 'class 3']\n",
    "print(classification_report(y_true, y_pred, target_names=target_names))"
   ]
  },
  {
   "cell_type": "markdown",
   "metadata": {},
   "source": [
    "## real Random Forest\n",
    "our manual code does not randomly select parameters to consider in every split. "
   ]
  },
  {
   "cell_type": "code",
   "execution_count": null,
   "metadata": {},
   "outputs": [],
   "source": [
    "clf = RandomForestClassifier(n_estimators=3, max_depth=3,random_state=0)\n",
    "clf.fit(X, y)  \n",
    "\n",
    "print(X.columns)\n",
    "print(clf.feature_importances_)\n"
   ]
  },
  {
   "cell_type": "code",
   "execution_count": null,
   "metadata": {},
   "outputs": [],
   "source": [
    "y_true = y\n",
    "y_pred = clf.predict(X)\n",
    "target_names = ['class 1', 'class 2', 'class 3']\n",
    "print(classification_report(y_true, y_pred, target_names=target_names))"
   ]
  },
  {
   "cell_type": "markdown",
   "metadata": {},
   "source": [
    "# Fixed!\n",
    "\n",
    "your model has been tested and Dr. Oak decided to use it to fix the pokedex!\n",
    "the world is now once again whole.\n",
    "until next time Dr. oak plays pokemon on the toilet.....\n"
   ]
  }
 ],
 "metadata": {
  "kernelspec": {
   "display_name": "Python 3",
   "language": "python",
   "name": "python3"
  },
  "language_info": {
   "codemirror_mode": {
    "name": "ipython",
    "version": 3
   },
   "file_extension": ".py",
   "mimetype": "text/x-python",
   "name": "python",
   "nbconvert_exporter": "python",
   "pygments_lexer": "ipython3",
   "version": "3.6.4"
  }
 },
 "nbformat": 4,
 "nbformat_minor": 2
}
