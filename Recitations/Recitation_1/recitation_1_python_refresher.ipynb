{
 "cells": [
  {
   "cell_type": "markdown",
   "metadata": {},
   "source": [
    "# python refresher"
   ]
  },
  {
   "cell_type": "markdown",
   "metadata": {},
   "source": [
    "# 1. basic"
   ]
  },
  {
   "cell_type": "markdown",
   "metadata": {},
   "source": [
    "## 1.1 lists and dicts"
   ]
  },
  {
   "cell_type": "code",
   "execution_count": null,
   "metadata": {},
   "outputs": [],
   "source": [
    "mylist1 = []\n",
    "for i in range(10):\n",
    "    mylist1.append(i)\n",
    "\n",
    "print(mylist1)"
   ]
  },
  {
   "cell_type": "code",
   "execution_count": null,
   "metadata": {},
   "outputs": [],
   "source": [
    "mylist2 = [i for i in range(10)]\n",
    "print(mylist2)"
   ]
  },
  {
   "cell_type": "markdown",
   "metadata": {},
   "source": [
    "notice that in python indexing is done the CS way from 0 up to the specified number (not including that number!)\n",
    "unlike how normal people think about indexing (and how it is done in R) \n",
    "\n",
    "notice that python lists are not equivalent to R vectors.\n",
    "ny default python does not support vector opperations like in R.\n",
    "this may be confusing for R users converting to python.\n"
   ]
  },
  {
   "cell_type": "code",
   "execution_count": null,
   "metadata": {},
   "outputs": [],
   "source": [
    "mylist1 + mylist2"
   ]
  },
  {
   "cell_type": "code",
   "execution_count": null,
   "metadata": {},
   "outputs": [],
   "source": [
    "mylist1 * mylist2"
   ]
  },
  {
   "cell_type": "code",
   "execution_count": null,
   "metadata": {},
   "outputs": [],
   "source": [
    "my_dict = {}\n",
    "my_dict ['exmple'] = \"this is an example\"\n",
    "print(my_dict)"
   ]
  },
  {
   "cell_type": "code",
   "execution_count": null,
   "metadata": {},
   "outputs": [],
   "source": [
    "my_dict = {\n",
    "    \"example\": \"this is an example\"\n",
    "}\n",
    "print(my_dict)"
   ]
  },
  {
   "cell_type": "markdown",
   "metadata": {},
   "source": [
    "notice that dictionaries have no notion of order.\n",
    "there is no \"first item\" in a dictionary."
   ]
  },
  {
   "cell_type": "code",
   "execution_count": null,
   "metadata": {},
   "outputs": [],
   "source": [
    "my_dict[0]"
   ]
  },
  {
   "cell_type": "markdown",
   "metadata": {},
   "source": [
    "# 2. numpy"
   ]
  },
  {
   "cell_type": "code",
   "execution_count": 27,
   "metadata": {},
   "outputs": [],
   "source": [
    "import numpy as np"
   ]
  },
  {
   "cell_type": "code",
   "execution_count": null,
   "metadata": {},
   "outputs": [],
   "source": [
    "my_array1 = np.array(mylist1)\n",
    "my_array2 = np.array(mylist2)"
   ]
  },
  {
   "cell_type": "code",
   "execution_count": null,
   "metadata": {},
   "outputs": [],
   "source": [
    "print(my_array1 + my_array2)\n",
    "print(my_array1 * my_array2)\n",
    "print(my_array1 @ my_array2)\n"
   ]
  },
  {
   "cell_type": "code",
   "execution_count": null,
   "metadata": {},
   "outputs": [],
   "source": [
    "a = np.array([[1,2,3,4], [5,6,7,8], [9,10,11,12]])\n",
    "print (a)\n",
    "b = a[:2, 1:3]\n",
    "print(b)"
   ]
  },
  {
   "cell_type": "markdown",
   "metadata": {},
   "source": [
    "A slice of an array is a view into the same data, so modifying it will modify the original array."
   ]
  },
  {
   "cell_type": "code",
   "execution_count": null,
   "metadata": {},
   "outputs": [],
   "source": [
    "b[0, 0] = 77     # b[0, 0] is the same piece of data as a[0, 1]\n",
    "print(a[0, 1])   "
   ]
  },
  {
   "cell_type": "code",
   "execution_count": null,
   "metadata": {},
   "outputs": [],
   "source": [
    "print(a)"
   ]
  },
  {
   "cell_type": "markdown",
   "metadata": {},
   "source": [
    "to get around this feature we can use copy"
   ]
  },
  {
   "cell_type": "code",
   "execution_count": null,
   "metadata": {},
   "outputs": [],
   "source": [
    "import copy\n",
    "\n",
    "c = copy.copy(a[:2, 1:3])\n",
    "c[0,0] = 2222\n",
    "print(a[:2, 1:3])\n",
    "print(c)"
   ]
  },
  {
   "cell_type": "markdown",
   "metadata": {},
   "source": [
    "# 3. pandas"
   ]
  },
  {
   "cell_type": "code",
   "execution_count": 22,
   "metadata": {},
   "outputs": [],
   "source": [
    "import pandas as pd"
   ]
  },
  {
   "cell_type": "markdown",
   "metadata": {},
   "source": [
    "## 3.1 series"
   ]
  },
  {
   "cell_type": "code",
   "execution_count": null,
   "metadata": {},
   "outputs": [],
   "source": [
    "# create a Series with an arbitrary list\n",
    "s = pd.Series([7, 'Heisenberg', 3.14, -1789710578, 'Happy Eating!'])\n",
    "s"
   ]
  },
  {
   "cell_type": "code",
   "execution_count": null,
   "metadata": {},
   "outputs": [],
   "source": [
    "d = {'Chicago': 1000, 'New York': 1300, 'Portland': 900, 'San Francisco': 1100,\n",
    "     'Austin': 450, 'Boston': None}\n",
    "cities = pd.Series(d)\n",
    "cities"
   ]
  },
  {
   "cell_type": "code",
   "execution_count": null,
   "metadata": {},
   "outputs": [],
   "source": [
    "cities['Chicago']"
   ]
  },
  {
   "cell_type": "code",
   "execution_count": null,
   "metadata": {},
   "outputs": [],
   "source": [
    "cities[['Chicago', 'Portland', 'San Francisco']]"
   ]
  },
  {
   "cell_type": "code",
   "execution_count": null,
   "metadata": {},
   "outputs": [],
   "source": [
    "cities[cities < 1000]"
   ]
  },
  {
   "cell_type": "code",
   "execution_count": null,
   "metadata": {},
   "outputs": [],
   "source": [
    "# changing values using boolean logic\n",
    "cities[cities < 1000] = 750\n",
    "# changing based on the index\n",
    "cities['Chicago'] = 1400"
   ]
  },
  {
   "cell_type": "code",
   "execution_count": null,
   "metadata": {},
   "outputs": [],
   "source": [
    "print(cities.isnull())"
   ]
  },
  {
   "cell_type": "code",
   "execution_count": null,
   "metadata": {},
   "outputs": [],
   "source": [
    "#filling missing values \n",
    "cities[cities.isnull()] = 1\n",
    "print(cities)"
   ]
  },
  {
   "cell_type": "markdown",
   "metadata": {},
   "source": [
    "## 3.2 data frames"
   ]
  },
  {
   "cell_type": "code",
   "execution_count": 16,
   "metadata": {},
   "outputs": [
    {
     "data": {
      "text/html": [
       "<div>\n",
       "<style scoped>\n",
       "    .dataframe tbody tr th:only-of-type {\n",
       "        vertical-align: middle;\n",
       "    }\n",
       "\n",
       "    .dataframe tbody tr th {\n",
       "        vertical-align: top;\n",
       "    }\n",
       "\n",
       "    .dataframe thead th {\n",
       "        text-align: right;\n",
       "    }\n",
       "</style>\n",
       "<table border=\"1\" class=\"dataframe\">\n",
       "  <thead>\n",
       "    <tr style=\"text-align: right;\">\n",
       "      <th></th>\n",
       "      <th>X</th>\n",
       "      <th>Y</th>\n",
       "      <th>month</th>\n",
       "      <th>day</th>\n",
       "      <th>FFMC</th>\n",
       "      <th>DMC</th>\n",
       "      <th>DC</th>\n",
       "      <th>ISI</th>\n",
       "      <th>temp</th>\n",
       "      <th>RH</th>\n",
       "      <th>wind</th>\n",
       "      <th>rain</th>\n",
       "      <th>area</th>\n",
       "    </tr>\n",
       "  </thead>\n",
       "  <tbody>\n",
       "    <tr>\n",
       "      <th>0</th>\n",
       "      <td>7</td>\n",
       "      <td>5</td>\n",
       "      <td>mar</td>\n",
       "      <td>fri</td>\n",
       "      <td>86.2</td>\n",
       "      <td>26.2</td>\n",
       "      <td>94.3</td>\n",
       "      <td>5.1</td>\n",
       "      <td>8.2</td>\n",
       "      <td>51</td>\n",
       "      <td>6.7</td>\n",
       "      <td>0.0</td>\n",
       "      <td>0.0</td>\n",
       "    </tr>\n",
       "    <tr>\n",
       "      <th>1</th>\n",
       "      <td>7</td>\n",
       "      <td>4</td>\n",
       "      <td>oct</td>\n",
       "      <td>tue</td>\n",
       "      <td>90.6</td>\n",
       "      <td>35.4</td>\n",
       "      <td>669.1</td>\n",
       "      <td>6.7</td>\n",
       "      <td>18.0</td>\n",
       "      <td>33</td>\n",
       "      <td>0.9</td>\n",
       "      <td>0.0</td>\n",
       "      <td>0.0</td>\n",
       "    </tr>\n",
       "    <tr>\n",
       "      <th>2</th>\n",
       "      <td>7</td>\n",
       "      <td>4</td>\n",
       "      <td>oct</td>\n",
       "      <td>sat</td>\n",
       "      <td>90.6</td>\n",
       "      <td>43.7</td>\n",
       "      <td>686.9</td>\n",
       "      <td>6.7</td>\n",
       "      <td>14.6</td>\n",
       "      <td>33</td>\n",
       "      <td>1.3</td>\n",
       "      <td>0.0</td>\n",
       "      <td>0.0</td>\n",
       "    </tr>\n",
       "    <tr>\n",
       "      <th>3</th>\n",
       "      <td>8</td>\n",
       "      <td>6</td>\n",
       "      <td>mar</td>\n",
       "      <td>fri</td>\n",
       "      <td>91.7</td>\n",
       "      <td>33.3</td>\n",
       "      <td>77.5</td>\n",
       "      <td>9.0</td>\n",
       "      <td>8.3</td>\n",
       "      <td>97</td>\n",
       "      <td>4.0</td>\n",
       "      <td>0.2</td>\n",
       "      <td>0.0</td>\n",
       "    </tr>\n",
       "    <tr>\n",
       "      <th>4</th>\n",
       "      <td>8</td>\n",
       "      <td>6</td>\n",
       "      <td>mar</td>\n",
       "      <td>sun</td>\n",
       "      <td>89.3</td>\n",
       "      <td>51.3</td>\n",
       "      <td>102.2</td>\n",
       "      <td>9.6</td>\n",
       "      <td>11.4</td>\n",
       "      <td>99</td>\n",
       "      <td>1.8</td>\n",
       "      <td>0.0</td>\n",
       "      <td>0.0</td>\n",
       "    </tr>\n",
       "  </tbody>\n",
       "</table>\n",
       "</div>"
      ],
      "text/plain": [
       "   X  Y month  day  FFMC   DMC     DC  ISI  temp  RH  wind  rain  area\n",
       "0  7  5   mar  fri  86.2  26.2   94.3  5.1   8.2  51   6.7   0.0   0.0\n",
       "1  7  4   oct  tue  90.6  35.4  669.1  6.7  18.0  33   0.9   0.0   0.0\n",
       "2  7  4   oct  sat  90.6  43.7  686.9  6.7  14.6  33   1.3   0.0   0.0\n",
       "3  8  6   mar  fri  91.7  33.3   77.5  9.0   8.3  97   4.0   0.2   0.0\n",
       "4  8  6   mar  sun  89.3  51.3  102.2  9.6  11.4  99   1.8   0.0   0.0"
      ]
     },
     "execution_count": 16,
     "metadata": {},
     "output_type": "execute_result"
    }
   ],
   "source": [
    "#dataset source: https://archive.ics.uci.edu/ml/datasets/Forest+Fires\n",
    "forestfires = pd.read_csv('forestfires.csv')\n",
    "forestfires.head()"
   ]
  },
  {
   "cell_type": "code",
   "execution_count": 10,
   "metadata": {},
   "outputs": [
    {
     "name": "stdout",
     "output_type": "stream",
     "text": [
      "(517, 13)\n"
     ]
    }
   ],
   "source": [
    "print(forestfires.shape)"
   ]
  },
  {
   "cell_type": "code",
   "execution_count": 9,
   "metadata": {},
   "outputs": [
    {
     "name": "stdout",
     "output_type": "stream",
     "text": [
      "X          int64\n",
      "Y          int64\n",
      "month     object\n",
      "day       object\n",
      "FFMC     float64\n",
      "DMC      float64\n",
      "DC       float64\n",
      "ISI      float64\n",
      "temp     float64\n",
      "RH         int64\n",
      "wind     float64\n",
      "rain     float64\n",
      "area     float64\n",
      "dtype: object\n"
     ]
    }
   ],
   "source": [
    "print(forestfires.dtypes)"
   ]
  },
  {
   "cell_type": "markdown",
   "metadata": {},
   "source": [
    "## 3.3 Merge\n",
    "\n",
    "Use the **`pandas.merge()`** static method to merge/join datasets in a [relational](http://en.wikipedia.org/wiki/Relational_database) manner. (See [DOC](http://pandas.pydata.org/pandas-docs/stable/merging.html#database-style-dataframe-joining-merging))<br>\n",
    "Like SQL's JOIN clause, `pandas.merge()` allows two DataFrames to be joined on one or more keys.\n",
    "\n",
    "- parameter **`how`** : specify which keys are to be included in the resulting table\n",
    "- parameters **`on, left_on, right_on, left_index, right_index`** : to specify the columns or indexes on which to join.\n",
    "\n",
    "> `how` : {\"inner\", \"left\", \"right\", \"outer\"}\n",
    "\n",
    ">    * \"left\" : use keys from left frame only\n",
    ">    * \"right\" : use keys from right frame only\n",
    ">    * \"inner\" (default) : use intersection of keys from both frames\n",
    ">    * \"outer\" : use union of keys from both frames\n",
    "\n",
    "There are several cases to consider which are very important to understand:\n",
    "- **one-to-one** joins: to define these relationships, only one table is necessary (no join)\n",
    "    - one user **has** one phone number\n",
    "    - one phone number **belongs to** one user\n",
    "- **one-to-many** joins: to define these relationships, two tables are necessary \n",
    "    - one post **has** many comments\n",
    "    - one comment **belongs to** one post\n",
    "        - merge(left, right, on=['key'], how='?')\n",
    "- **many-to-many** joins: to define these relationships, three tables are necessary\n",
    "    - one playlist **has** many songs\n",
    "    - one song **belongs to** many playlists\n",
    "        - merge(left.reset_index(), right.reset_index(), on=['key'], how='?').set_index(['key_left','key_right'])\n",
    "\n",
    "Below are the different joins in SQL.\n",
    "\n",
    "![joins](http://i.stack.imgur.com/VQ5XP.png)"
   ]
  },
  {
   "cell_type": "code",
   "execution_count": 14,
   "metadata": {},
   "outputs": [
    {
     "data": {
      "text/html": [
       "<div>\n",
       "<style scoped>\n",
       "    .dataframe tbody tr th:only-of-type {\n",
       "        vertical-align: middle;\n",
       "    }\n",
       "\n",
       "    .dataframe tbody tr th {\n",
       "        vertical-align: top;\n",
       "    }\n",
       "\n",
       "    .dataframe thead th {\n",
       "        text-align: right;\n",
       "    }\n",
       "</style>\n",
       "<table border=\"1\" class=\"dataframe\">\n",
       "  <thead>\n",
       "    <tr style=\"text-align: right;\">\n",
       "      <th></th>\n",
       "      <th>month</th>\n",
       "      <th>day</th>\n",
       "      <th>num_patients</th>\n",
       "    </tr>\n",
       "  </thead>\n",
       "  <tbody>\n",
       "    <tr>\n",
       "      <th>0</th>\n",
       "      <td>mar</td>\n",
       "      <td>fri</td>\n",
       "      <td>100</td>\n",
       "    </tr>\n",
       "    <tr>\n",
       "      <th>1</th>\n",
       "      <td>oct</td>\n",
       "      <td>tue</td>\n",
       "      <td>274</td>\n",
       "    </tr>\n",
       "    <tr>\n",
       "      <th>2</th>\n",
       "      <td>sep</td>\n",
       "      <td>sat</td>\n",
       "      <td>8</td>\n",
       "    </tr>\n",
       "    <tr>\n",
       "      <th>3</th>\n",
       "      <td>oct</td>\n",
       "      <td>sun</td>\n",
       "      <td>73</td>\n",
       "    </tr>\n",
       "    <tr>\n",
       "      <th>4</th>\n",
       "      <td>mar</td>\n",
       "      <td>sun</td>\n",
       "      <td>982</td>\n",
       "    </tr>\n",
       "  </tbody>\n",
       "</table>\n",
       "</div>"
      ],
      "text/plain": [
       "  month  day  num_patients\n",
       "0   mar  fri           100\n",
       "1   oct  tue           274\n",
       "2   sep  sat             8\n",
       "3   oct  sun            73\n",
       "4   mar  sun           982"
      ]
     },
     "execution_count": 14,
     "metadata": {},
     "output_type": "execute_result"
    }
   ],
   "source": [
    "#dataset source: https://www.cpsc.gov/cgibin/NEISSQuery/home.aspx\n",
    "month = ['mar','oct', 'sep', 'oct', 'mar', 'jan']\n",
    "day = ['fri','tue', 'sat', 'sun', 'sun', 'fri']\n",
    "num_patients = [100, 274, 8, 73, 982, 1]\n",
    "\n",
    "hospital = pd.DataFrame(list(zip(month,day,num_patients)), columns = ['month', 'day', 'num_patients'])\n",
    "hospital.head()"
   ]
  },
  {
   "cell_type": "code",
   "execution_count": 20,
   "metadata": {},
   "outputs": [
    {
     "name": "stdout",
     "output_type": "stream",
     "text": [
      "   X  Y month day_x  FFMC   DMC     DC  ISI  temp  RH  wind  rain  area day_y  \\\n",
      "0  7  5   mar   fri  86.2  26.2   94.3  5.1   8.2  51   6.7   0.0   0.0   fri   \n",
      "1  7  5   mar   fri  86.2  26.2   94.3  5.1   8.2  51   6.7   0.0   0.0   sun   \n",
      "2  8  6   mar   fri  91.7  33.3   77.5  9.0   8.3  97   4.0   0.2   0.0   fri   \n",
      "3  8  6   mar   fri  91.7  33.3   77.5  9.0   8.3  97   4.0   0.2   0.0   sun   \n",
      "4  8  6   mar   sun  89.3  51.3  102.2  9.6  11.4  99   1.8   0.0   0.0   fri   \n",
      "\n",
      "   num_patients  \n",
      "0           100  \n",
      "1           982  \n",
      "2           100  \n",
      "3           982  \n",
      "4           100  \n"
     ]
    }
   ],
   "source": [
    "print( pd.merge(forestfires, hospital, on='month', how='inner').head())"
   ]
  },
  {
   "cell_type": "code",
   "execution_count": 19,
   "metadata": {},
   "outputs": [
    {
     "name": "stdout",
     "output_type": "stream",
     "text": [
      "   X  Y month  day  FFMC   DMC    DC   ISI  temp  RH  wind  rain  area  \\\n",
      "0  7  5   mar  fri  86.2  26.2  94.3   5.1   8.2  51   6.7   0.0   0.0   \n",
      "1  8  6   mar  fri  91.7  33.3  77.5   9.0   8.3  97   4.0   0.2   0.0   \n",
      "2  4  5   mar  fri  91.7  33.3  77.5   9.0  17.2  26   4.5   0.0   0.0   \n",
      "3  4  5   mar  fri  91.2  48.3  97.8  12.5  15.8  27   7.6   0.0   0.0   \n",
      "4  5  4   mar  fri  91.7  33.3  77.5   9.0  15.6  25   6.3   0.0   0.0   \n",
      "\n",
      "   num_patients  \n",
      "0           100  \n",
      "1           100  \n",
      "2           100  \n",
      "3           100  \n",
      "4           100  \n"
     ]
    }
   ],
   "source": [
    "print( pd.merge(forestfires, hospital, on=['month', 'day'], how='inner').head())"
   ]
  },
  {
   "cell_type": "code",
   "execution_count": 21,
   "metadata": {},
   "outputs": [
    {
     "name": "stdout",
     "output_type": "stream",
     "text": [
      "   X  Y month  day  FFMC   DMC     DC  ISI  temp  RH  wind  rain  area  \\\n",
      "0  7  5   mar  fri  86.2  26.2   94.3  5.1   8.2  51   6.7   0.0   0.0   \n",
      "1  7  4   oct  tue  90.6  35.4  669.1  6.7  18.0  33   0.9   0.0   0.0   \n",
      "2  7  4   oct  sat  90.6  43.7  686.9  6.7  14.6  33   1.3   0.0   0.0   \n",
      "3  8  6   mar  fri  91.7  33.3   77.5  9.0   8.3  97   4.0   0.2   0.0   \n",
      "4  8  6   mar  sun  89.3  51.3  102.2  9.6  11.4  99   1.8   0.0   0.0   \n",
      "\n",
      "   num_patients  \n",
      "0         100.0  \n",
      "1         274.0  \n",
      "2           NaN  \n",
      "3         100.0  \n",
      "4         982.0  \n"
     ]
    }
   ],
   "source": [
    "print( pd.merge(forestfires, hospital, on=['month', 'day'], how='left').head())"
   ]
  },
  {
   "cell_type": "markdown",
   "metadata": {},
   "source": [
    "## 3.4 group"
   ]
  },
  {
   "cell_type": "markdown",
   "metadata": {},
   "source": [
    "Use **`.groupby()`** method to execute the [split-apply-combine strategy](http://www.jstatsoft.org/v40/i01/paper) for data analysis :\n",
    "1. **Split** the DataFrame into groups based on some criteria (DataFrameGroupBy or SeriesGroupBy)\n",
    "2. **Apply** a function to each group independently\n",
    "3. **Combine** the results into a data structure (DataFrame or Series)\n",
    "\n",
    "![split-apply-combine-methodology](http://nbviewer.ipython.org/github/umddb/datascience-fall14/blob/master/lab3/img/splitApplyCombine.png)\n",
    "\n",
    "**DataFrameGroupBy/SeriesGroupBy Methods** (See [Doc](http://pandas.pydata.org/pandas-docs/stable/api.html#function-application))\n",
    "- `.apply()`: apply your own or another library's function or list of functions \n",
    "- `.agg()`: aggregate using input function or dict of {column: function}\n",
    "- `.transform()`: transform \n",
    "- `.filter()`: return a copy of a DataFrame excluding elements from groups\n",
    "\n",
    "<br>\n",
    "In the apply step, we might wish to do one of the following:\n",
    "- **Aggregation**: computing a summary statistic (or statistics) about each group. Some examples:\n",
    "    - Compute group columns sums and means : \n",
    "        - `gby.agg([np.sum, np.mean])`\n",
    "    - Compute group sizes and counts : \n",
    "        - `gby.agg([np.size, np.mean])`\n",
    "- **Transformation**: perform some group-specific computations on every data point. Some examples:\n",
    "    - Standardizing data (zscore) within group : \n",
    "        - `gby.transform(lambda x: (x - x.mean()) / x.std())`\n",
    "    - Filling NAs within groups with a value derived from each group\n",
    "        - `gby.fillna(x.mean())`\n",
    "- **Filtration**: discard some groups, according to a group-wise computation that evaluates True or False. Some examples:\n",
    "    - Discarding data that belongs to groups with only a few members : \n",
    "        - `gby.filter(lambda x: x.size() > 100)`\n",
    "    - Discarding data based on the group sum or mean\n",
    "        - `gby.filter(lambda x: x['A'].sum() + x['B'].sum() > 0)`\n",
    "    - Discarding data for missing data\n",
    "        - `gby.dropna(axis=0)`\n"
   ]
  },
  {
   "cell_type": "code",
   "execution_count": 23,
   "metadata": {},
   "outputs": [
    {
     "name": "stdout",
     "output_type": "stream",
     "text": [
      "                    name                     title        department   salary\n",
      "0        AARON,  ELVIA J          WATER RATE TAKER       WATER MGMNT  85512.0\n",
      "1      AARON,  JEFFERY M            POLICE OFFICER            POLICE  75372.0\n",
      "2    AARON,  KIMBERLEI R  CHIEF CONTRACT EXPEDITER  GENERAL SERVICES  80916.0\n",
      "3    ABAD JR,  VICENTE M         CIVIL ENGINEER IV       WATER MGMNT  99648.0\n",
      "4  ABBATACOLA,  ROBERT J       ELECTRICAL MECHANIC          AVIATION  89440.0\n"
     ]
    }
   ],
   "source": [
    "headers = ['name', 'title', 'department', 'salary']\n",
    "df_chicago = pd.read_csv('city-of-chicago-salaries.csv',\n",
    "                         names=headers)\n",
    "print(df_chicago.head())"
   ]
  },
  {
   "cell_type": "code",
   "execution_count": 24,
   "metadata": {},
   "outputs": [
    {
     "name": "stdout",
     "output_type": "stream",
     "text": [
      "               name  title  salary\n",
      "department                        \n",
      "ADMIN HEARNG     42     42      42\n",
      "ANIMAL CONTRL    61     61      61\n",
      "AVIATION       1218   1218    1218 \n",
      "\n",
      "department\n",
      "ADMIN HEARNG       42\n",
      "ANIMAL CONTRL      61\n",
      "AVIATION         1218\n",
      "dtype: int64\n"
     ]
    }
   ],
   "source": [
    "print(df_chicago.groupby('department').count().head(3), '\\n') # NOT NULL records within each column\n",
    "print(df_chicago.groupby('department').size().head(3)) # total records for each department"
   ]
  },
  {
   "cell_type": "code",
   "execution_count": 28,
   "metadata": {},
   "outputs": [
    {
     "name": "stdout",
     "output_type": "stream",
     "text": [
      "                   salary              \n",
      "                     size          mean\n",
      "department                             \n",
      "ADMIN HEARNG         42.0  70336.857143\n",
      "ANIMAL CONTRL        61.0  57121.455738\n",
      "AVIATION           1218.0  70638.249130\n",
      "BOARD OF ELECTION   110.0  55728.872727\n",
      "BOARD OF ETHICS       9.0  81650.666667\n"
     ]
    }
   ],
   "source": [
    "print(df_chicago.groupby('department').agg({'salary': [np.size, np.mean]}).head())"
   ]
  },
  {
   "cell_type": "code",
   "execution_count": 29,
   "metadata": {},
   "outputs": [
    {
     "name": "stdout",
     "output_type": "stream",
     "text": [
      "          department  salary              \n",
      "                        size          mean\n",
      "0       ADMIN HEARNG    42.0  70336.857143\n",
      "1      ANIMAL CONTRL    61.0  57121.455738\n",
      "2           AVIATION  1218.0  70638.249130\n",
      "3  BOARD OF ELECTION   110.0  55728.872727\n",
      "4    BOARD OF ETHICS     9.0  81650.666667\n"
     ]
    }
   ],
   "source": [
    "df_mean_salaries = df_chicago.groupby('department').agg({'salary': [np.size, np.mean]}).reset_index()\n",
    "print(df_mean_salaries.head())"
   ]
  },
  {
   "cell_type": "code",
   "execution_count": 30,
   "metadata": {},
   "outputs": [],
   "source": [
    "df_mean_salaries_1 = df_chicago.groupby('department').agg({'salary': [np.size, np.mean]})"
   ]
  },
  {
   "cell_type": "code",
   "execution_count": 31,
   "metadata": {},
   "outputs": [
    {
     "name": "stdout",
     "output_type": "stream",
     "text": [
      "     size          mean\n",
      "0    42.0  70336.857143\n",
      "1    61.0  57121.455738\n",
      "2  1218.0  70638.249130\n",
      "3   110.0  55728.872727\n",
      "4     9.0  81650.666667\n"
     ]
    }
   ],
   "source": [
    "print(df_mean_salaries['salary'].head())"
   ]
  },
  {
   "cell_type": "code",
   "execution_count": 32,
   "metadata": {},
   "outputs": [
    {
     "name": "stdout",
     "output_type": "stream",
     "text": [
      "                     size          mean\n",
      "department                             \n",
      "ADMIN HEARNG         42.0  70336.857143\n",
      "ANIMAL CONTRL        61.0  57121.455738\n",
      "AVIATION           1218.0  70638.249130\n",
      "BOARD OF ELECTION   110.0  55728.872727\n",
      "BOARD OF ETHICS       9.0  81650.666667\n"
     ]
    }
   ],
   "source": [
    "print(df_mean_salaries_1['salary'].head())"
   ]
  },
  {
   "cell_type": "code",
   "execution_count": null,
   "metadata": {},
   "outputs": [],
   "source": []
  },
  {
   "cell_type": "code",
   "execution_count": 33,
   "metadata": {},
   "outputs": [],
   "source": [
    "import matplotlib.pyplot as plt"
   ]
  },
  {
   "cell_type": "code",
   "execution_count": 16,
   "metadata": {},
   "outputs": [
    {
     "data": {
      "image/png": "[encoded data removed]",
      "text/plain": [
       "<matplotlib.figure.Figure at 0x10aa5e780>"
      ]
     },
     "metadata": {},
     "output_type": "display_data"
    }
   ],
   "source": [
    "plt.plot([1, 2, 3, 4], [10, 20, 25, 30], color='lightblue', linewidth=3)"
   ]
  },
  {
   "cell_type": "code",
   "execution_count": null,
   "metadata": {},
   "outputs": [],
   "source": [
    "plt.show()"
   ]
  },
  {
   "cell_type": "code",
   "execution_count": 19,
   "metadata": {},
   "outputs": [
    {
     "data": {
      "image/png": "[encoded data removed]",
      "text/plain": [
       "<matplotlib.figure.Figure at 0x10a791e48>"
      ]
     },
     "metadata": {},
     "output_type": "display_data"
    }
   ],
   "source": [
    "plt.scatter([0.3, 3.8, 1.2, 2.5], [11, 25, 9, 26], c=[1, 2, 3, 5], marker='^')\n",
    "plt.show()"
   ]
  },
  {
   "cell_type": "code",
   "execution_count": 18,
   "metadata": {},
   "outputs": [
    {
     "data": {
      "image/png": "[encoded data removed]",
      "text/plain": [
       "<matplotlib.figure.Figure at 0x10a9e7da0>"
      ]
     },
     "metadata": {},
     "output_type": "display_data"
    }
   ],
   "source": [
    "plt.plot([1, 2, 3, 4], [10, 20, 25, 30], color='lightblue', linewidth=3)\n",
    "plt.scatter([0.3, 3.8, 1.2, 2.5], [11, 25, 9, 26], c=[1, 2, 3, 5], marker='^')\n",
    "plt.xlim(0.5, 4.5)\n",
    "plt.show()"
   ]
  },
  {
   "cell_type": "markdown",
   "metadata": {},
   "source": [
    "## pandas + matplotlib"
   ]
  },
  {
   "cell_type": "code",
   "execution_count": null,
   "metadata": {},
   "outputs": [],
   "source": [
    "df_mean_salaries['salary']['mean'].plot(kind='bar')"
   ]
  }
 ],
 "metadata": {
  "kernelspec": {
   "display_name": "Python 3",
   "language": "python",
   "name": "python3"
  },
  "language_info": {
   "codemirror_mode": {
    "name": "ipython",
    "version": 3
   },
   "file_extension": ".py",
   "mimetype": "text/x-python",
   "name": "python",
   "nbconvert_exporter": "python",
   "pygments_lexer": "ipython3",
   "version": "3.6.4"
  }
 },
 "nbformat": 4,
 "nbformat_minor": 2
}
