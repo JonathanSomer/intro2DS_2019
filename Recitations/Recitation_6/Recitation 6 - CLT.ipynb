{
 "cells": [
  {
   "cell_type": "markdown",
   "metadata": {},
   "source": [
    "# CLT\n",
    "\n",
    "nice simulation, stolen from here: https://medium.freecodecamp.org/how-to-visualize-the-central-limit-theorem-in-python-b619f5b00168"
   ]
  },
  {
   "cell_type": "code",
   "execution_count": 1,
   "metadata": {},
   "outputs": [],
   "source": [
    "import numpy as np\n",
    "import matplotlib.pyplot as plt\n",
    "import matplotlib.animation as animation\n",
    "%matplotlib notebook"
   ]
  },
  {
   "cell_type": "code",
   "execution_count": 2,
   "metadata": {},
   "outputs": [
    {
     "data": {
      "text/plain": [
       "[2.0, 3.2, 4.4, 3.6, 4.0, 4.0, 5.2, 4.0, 4.8, 3.2]"
      ]
     },
     "execution_count": 2,
     "metadata": {},
     "output_type": "execute_result"
    }
   ],
   "source": [
    "n = 1000\n",
    "\n",
    "# In each simulation, there is one trial more than the previous simulation\n",
    "avg = []\n",
    "for i in range(1,n):\n",
    "    a = np.random.randint(1,7,5)\n",
    "    avg.append(np.average(a))\n",
    "    \n",
    "# sample 10 expected value of die rolls\n",
    "avg[:10]"
   ]
  },
  {
   "cell_type": "code",
   "execution_count": 3,
   "metadata": {
    "scrolled": true
   },
   "outputs": [
    {
     "data": {
      "image/png": "[encoded data removed]",
      "text/plain": [
       "<matplotlib.figure.Figure at 0x1049d6710>"
      ]
     },
     "metadata": {},
     "output_type": "display_data"
    }
   ],
   "source": [
    "def clt(current):\n",
    "    # if animation is at the last frame, stop it\n",
    "    plt.cla()\n",
    "    if current == 1000: \n",
    "        a.event_source.stop()\n",
    "\n",
    "    plt.hist(avg[0:current])\n",
    "\n",
    "    plt.gca().set_title('Expected value of die rolls')\n",
    "    plt.gca().set_xlabel('Average from die roll')\n",
    "    plt.gca().set_ylabel('Frequency')\n",
    "\n",
    "    plt.annotate('Die roll = {}'.format(current), [3,27])\n",
    "    \n",
    "fig = plt.figure()\n",
    "a = animation.FuncAnimation(fig, clt, interval=1)"
   ]
  }
 ],
 "metadata": {
  "kernelspec": {
   "display_name": "Python 3",
   "language": "python",
   "name": "python3"
  },
  "language_info": {
   "codemirror_mode": {
    "name": "ipython",
    "version": 3
   },
   "file_extension": ".py",
   "mimetype": "text/x-python",
   "name": "python",
   "nbconvert_exporter": "python",
   "pygments_lexer": "ipython3",
   "version": "3.6.4"
  }
 },
 "nbformat": 4,
 "nbformat_minor": 2
}
