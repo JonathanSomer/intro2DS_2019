{
 "cells": [
  {
   "cell_type": "markdown",
   "metadata": {},
   "source": [
    "### Heavily based on [\"10 Minutes to pandas\"](https://pandas.pydata.org/pandas-docs/stable/10min.html)"
   ]
  },
  {
   "cell_type": "code",
   "execution_count": 1,
   "metadata": {},
   "outputs": [],
   "source": [
    "import pandas as pd\n",
    "\n",
    "import numpy as np"
   ]
  },
  {
   "cell_type": "markdown",
   "metadata": {},
   "source": [
    "# Series, DataFrames"
   ]
  },
  {
   "cell_type": "code",
   "execution_count": 2,
   "metadata": {},
   "outputs": [
    {
     "name": "stdout",
     "output_type": "stream",
     "text": [
      "0    1.0\n",
      "1    3.0\n",
      "2    5.0\n",
      "3    NaN\n",
      "4    6.0\n",
      "5    8.0\n",
      "dtype: float64\n"
     ]
    }
   ],
   "source": [
    "# a pandas series is a vector of data, a column\n",
    "s = pd.Series([1,3,5,np.nan,6,8])\n",
    "print(s)"
   ]
  },
  {
   "cell_type": "code",
   "execution_count": 3,
   "metadata": {},
   "outputs": [
    {
     "name": "stdout",
     "output_type": "stream",
     "text": [
      "          A         B         C         D\n",
      "0  0.457452 -0.664152  0.148900 -1.038054\n",
      "1  0.288725 -0.239342 -0.475678  0.286864\n",
      "2 -0.039578 -0.926392 -0.204653  0.837177\n",
      "3  0.011836  0.879879  0.872803  0.140642\n",
      "4 -1.729448  0.605972  1.955143  1.559064\n",
      "5 -0.367134  1.795627 -0.395771  0.907515\n"
     ]
    }
   ],
   "source": [
    "# a DataFrame is a data table, always indexed.\n",
    "# creating one from a random numpy 2D array (notice the index isn't specified, automatically becomes zero based counter):\n",
    "df = pd.DataFrame(np.random.randn(6,4), columns = ['A', 'B', 'C', 'D'])\n",
    "print(df)"
   ]
  },
  {
   "cell_type": "code",
   "execution_count": 4,
   "metadata": {},
   "outputs": [
    {
     "name": "stdout",
     "output_type": "stream",
     "text": [
      "     A          B    C  D      E    F\n",
      "0  1.0 2013-01-02  1.0  0   test  foo\n",
      "1  1.0 2013-01-02  1.0  1  train  foo\n",
      "2  1.0 2013-01-02  1.0  2   test  foo\n",
      "3  1.0 2013-01-02  1.0  3  train  foo\n"
     ]
    }
   ],
   "source": [
    "# creating a DataFrame from a very varied dictionary where each key is a column (also see pd.from_dict()):\n",
    "df2 = pd.DataFrame({'A' : 1.,\n",
    "                    'B' : pd.Timestamp('20130102'),\n",
    "                    'C' : pd.Series(1, index = list(range(4)), dtype = 'float32'),\n",
    "                    'D' : np.array(np.arange(4), dtype = 'int32'),\n",
    "                    'E' : pd.Categorical([\"test\", \"train\", \"test\", \"train\"]),\n",
    "                    'F' : 'foo' })\n",
    "print(df2)"
   ]
  },
  {
   "cell_type": "code",
   "execution_count": 5,
   "metadata": {},
   "outputs": [
    {
     "name": "stdout",
     "output_type": "stream",
     "text": [
      "A           float64\n",
      "B    datetime64[ns]\n",
      "C           float32\n",
      "D             int32\n",
      "E          category\n",
      "F            object\n",
      "dtype: object\n"
     ]
    }
   ],
   "source": [
    "# looking at the DataFrame columns types (notice this is a Series!):\n",
    "print(df2.dtypes)"
   ]
  },
  {
   "cell_type": "code",
   "execution_count": 6,
   "metadata": {},
   "outputs": [
    {
     "name": "stdout",
     "output_type": "stream",
     "text": [
      "   x   y\n",
      "0  1   6\n",
      "1  2   7\n",
      "2  3   8\n",
      "3  4   9\n",
      "4  5  10\n"
     ]
    }
   ],
   "source": [
    "# reading from CSV\n",
    "df3 = pd.read_csv(\"https://raw.githubusercontent.com/tau-es-ds/Intro2DS2019/master/datasets/test.csv\")\n",
    "print(df3)"
   ]
  },
  {
   "cell_type": "markdown",
   "metadata": {},
   "source": [
    "# Some info"
   ]
  },
  {
   "cell_type": "code",
   "execution_count": 7,
   "metadata": {},
   "outputs": [
    {
     "name": "stdout",
     "output_type": "stream",
     "text": [
      "          A         B         C         D\n",
      "0  0.457452 -0.664152  0.148900 -1.038054\n",
      "1  0.288725 -0.239342 -0.475678  0.286864\n",
      "2 -0.039578 -0.926392 -0.204653  0.837177\n",
      "3  0.011836  0.879879  0.872803  0.140642\n",
      "4 -1.729448  0.605972  1.955143  1.559064\n"
     ]
    }
   ],
   "source": [
    "# get top rows\n",
    "print(df.head())"
   ]
  },
  {
   "cell_type": "code",
   "execution_count": 8,
   "metadata": {},
   "outputs": [
    {
     "name": "stdout",
     "output_type": "stream",
     "text": [
      "          A         B         C         D\n",
      "4 -1.729448  0.605972  1.955143  1.559064\n",
      "5 -0.367134  1.795627 -0.395771  0.907515\n"
     ]
    }
   ],
   "source": [
    "# get bottom rows\n",
    "print(df.tail(2))"
   ]
  },
  {
   "cell_type": "code",
   "execution_count": 9,
   "metadata": {},
   "outputs": [
    {
     "name": "stdout",
     "output_type": "stream",
     "text": [
      "RangeIndex(start=0, stop=6, step=1)\n"
     ]
    }
   ],
   "source": [
    "# view index\n",
    "print(df.index)"
   ]
  },
  {
   "cell_type": "code",
   "execution_count": 10,
   "metadata": {},
   "outputs": [
    {
     "name": "stdout",
     "output_type": "stream",
     "text": [
      "Index(['A', 'B', 'C', 'D'], dtype='object')\n"
     ]
    }
   ],
   "source": [
    "# view column names\n",
    "print(df.columns)"
   ]
  },
  {
   "cell_type": "code",
   "execution_count": 11,
   "metadata": {},
   "outputs": [
    {
     "name": "stdout",
     "output_type": "stream",
     "text": [
      "[[ 0.45745217 -0.66415206  0.14889953 -1.03805361]\n",
      " [ 0.28872458 -0.23934212 -0.475678    0.28686389]\n",
      " [-0.03957772 -0.92639229 -0.2046532   0.83717659]\n",
      " [ 0.01183636  0.8798792   0.87280338  0.14064193]\n",
      " [-1.72944766  0.60597246  1.95514299  1.55906351]\n",
      " [-0.36713418  1.79562685 -0.39577096  0.90751513]]\n"
     ]
    }
   ],
   "source": [
    "# get the underlying numpy matrix\n",
    "print(df.values)"
   ]
  },
  {
   "cell_type": "code",
   "execution_count": 12,
   "metadata": {},
   "outputs": [
    {
     "name": "stdout",
     "output_type": "stream",
     "text": [
      "              A         B         C         D\n",
      "count  6.000000  6.000000  6.000000  6.000000\n",
      "mean  -0.229691  0.241932  0.316791  0.448868\n",
      "std    0.787853  1.036442  0.941190  0.886099\n",
      "min   -1.729448 -0.926392 -0.475678 -1.038054\n",
      "25%   -0.285245 -0.557950 -0.347992  0.177197\n",
      "50%   -0.013871  0.183315 -0.027877  0.562020\n",
      "75%    0.219503  0.811403  0.691827  0.889930\n",
      "max    0.457452  1.795627  1.955143  1.559064\n"
     ]
    }
   ],
   "source": [
    "# quick statistics summary\n",
    "print(df.describe())"
   ]
  },
  {
   "cell_type": "code",
   "execution_count": 13,
   "metadata": {},
   "outputs": [
    {
     "name": "stdout",
     "output_type": "stream",
     "text": [
      "          0         1         2         3         4         5\n",
      "A  0.457452  0.288725 -0.039578  0.011836 -1.729448 -0.367134\n",
      "B -0.664152 -0.239342 -0.926392  0.879879  0.605972  1.795627\n",
      "C  0.148900 -0.475678 -0.204653  0.872803  1.955143 -0.395771\n",
      "D -1.038054  0.286864  0.837177  0.140642  1.559064  0.907515\n"
     ]
    }
   ],
   "source": [
    "# transposing a DataFrame\n",
    "print(df.T)"
   ]
  },
  {
   "cell_type": "code",
   "execution_count": 14,
   "metadata": {},
   "outputs": [
    {
     "name": "stdout",
     "output_type": "stream",
     "text": [
      "          D         C         B         A\n",
      "0 -1.038054  0.148900 -0.664152  0.457452\n",
      "1  0.286864 -0.475678 -0.239342  0.288725\n",
      "2  0.837177 -0.204653 -0.926392 -0.039578\n",
      "3  0.140642  0.872803  0.879879  0.011836\n",
      "4  1.559064  1.955143  0.605972 -1.729448\n",
      "5  0.907515 -0.395771  1.795627 -0.367134\n"
     ]
    }
   ],
   "source": [
    "# sorting by column names\n",
    "print(df.sort_index(axis = 1, ascending = False))"
   ]
  },
  {
   "cell_type": "code",
   "execution_count": 15,
   "metadata": {},
   "outputs": [
    {
     "name": "stdout",
     "output_type": "stream",
     "text": [
      "          A         B         C         D\n",
      "2 -0.039578 -0.926392 -0.204653  0.837177\n",
      "0  0.457452 -0.664152  0.148900 -1.038054\n",
      "1  0.288725 -0.239342 -0.475678  0.286864\n",
      "4 -1.729448  0.605972  1.955143  1.559064\n",
      "3  0.011836  0.879879  0.872803  0.140642\n",
      "5 -0.367134  1.795627 -0.395771  0.907515\n"
     ]
    }
   ],
   "source": [
    "# sorting by a specific column values\n",
    "print(df.sort_values(by = 'B'))"
   ]
  },
  {
   "cell_type": "markdown",
   "metadata": {},
   "source": [
    "# Selection"
   ]
  },
  {
   "cell_type": "code",
   "execution_count": 16,
   "metadata": {},
   "outputs": [
    {
     "name": "stdout",
     "output_type": "stream",
     "text": [
      "0    0.457452\n",
      "1    0.288725\n",
      "2   -0.039578\n",
      "3    0.011836\n",
      "4   -1.729448\n",
      "5   -0.367134\n",
      "Name: A, dtype: float64\n"
     ]
    }
   ],
   "source": [
    "# select a specific column (this will give you a Series!) - pandas people do not recommend this, see loc/iloc\n",
    "print(df['A'])"
   ]
  },
  {
   "cell_type": "code",
   "execution_count": 17,
   "metadata": {},
   "outputs": [
    {
     "name": "stdout",
     "output_type": "stream",
     "text": [
      "          A         B         C         D\n",
      "0  0.457452 -0.664152  0.148900 -1.038054\n",
      "1  0.288725 -0.239342 -0.475678  0.286864\n",
      "2 -0.039578 -0.926392 -0.204653  0.837177\n",
      "          0         1         2         3         4         5\n",
      "A  0.457452  0.288725 -0.039578  0.011836 -1.729448 -0.367134\n",
      "B -0.664152 -0.239342 -0.926392  0.879879  0.605972  1.795627\n"
     ]
    }
   ],
   "source": [
    "# slicing rows as in a numpy array - pandas people do not recommend this, see loc/iloc\n",
    "print(df[0:3])\n",
    "print(df.T['A':'B'])"
   ]
  },
  {
   "cell_type": "markdown",
   "metadata": {},
   "source": [
    "### Selection by label (`loc`)"
   ]
  },
  {
   "cell_type": "code",
   "execution_count": 18,
   "metadata": {},
   "outputs": [
    {
     "name": "stdout",
     "output_type": "stream",
     "text": [
      "0    0.457452\n",
      "1    0.288725\n",
      "2   -0.039578\n",
      "3    0.011836\n",
      "4   -1.729448\n",
      "5   -0.367134\n",
      "Name: A, dtype: float64\n"
     ]
    }
   ],
   "source": [
    "# select a specific column, all rows\n",
    "print(df.loc[:, 'A'])"
   ]
  },
  {
   "cell_type": "code",
   "execution_count": 19,
   "metadata": {},
   "outputs": [
    {
     "name": "stdout",
     "output_type": "stream",
     "text": [
      "          A         B\n",
      "0  0.457452 -0.664152\n",
      "1  0.288725 -0.239342\n"
     ]
    }
   ],
   "source": [
    "# select first 2 rows, specific two columns\n",
    "print(df.loc[0:1, ['A', 'B']])"
   ]
  },
  {
   "cell_type": "code",
   "execution_count": 20,
   "metadata": {},
   "outputs": [
    {
     "name": "stdout",
     "output_type": "stream",
     "text": [
      "0.457452173994\n",
      "0.457452173994\n"
     ]
    }
   ],
   "source": [
    "# select specific value\n",
    "print(df.loc[0, 'A'])\n",
    "\n",
    "# but \"at\" is preferred\n",
    "print(df.at[0, 'A'])"
   ]
  },
  {
   "cell_type": "markdown",
   "metadata": {},
   "source": [
    "### Selection by position (`iloc`)"
   ]
  },
  {
   "cell_type": "code",
   "execution_count": 21,
   "metadata": {},
   "outputs": [
    {
     "name": "stdout",
     "output_type": "stream",
     "text": [
      "A    0.011836\n",
      "B    0.879879\n",
      "C    0.872803\n",
      "D    0.140642\n",
      "Name: 3, dtype: float64\n"
     ]
    }
   ],
   "source": [
    "# specific row (as a Series)\n",
    "print(df.iloc[3])"
   ]
  },
  {
   "cell_type": "code",
   "execution_count": 22,
   "metadata": {},
   "outputs": [
    {
     "name": "stdout",
     "output_type": "stream",
     "text": [
      "          A         B         C         D\n",
      "3  0.011836  0.879879  0.872803  0.140642\n"
     ]
    }
   ],
   "source": [
    "# specific row (as a sub-table)\n",
    "print(df.iloc[3:4, :])"
   ]
  },
  {
   "cell_type": "code",
   "execution_count": 23,
   "metadata": {},
   "outputs": [
    {
     "name": "stdout",
     "output_type": "stream",
     "text": [
      "          A         B\n",
      "3  0.011836  0.879879\n",
      "4 -1.729448  0.605972\n"
     ]
    }
   ],
   "source": [
    "# sub-table\n",
    "print(df.iloc[3:5, 0:2])"
   ]
  },
  {
   "cell_type": "code",
   "execution_count": 24,
   "metadata": {},
   "outputs": [
    {
     "name": "stdout",
     "output_type": "stream",
     "text": [
      "          A         C\n",
      "1  0.288725 -0.475678\n",
      "2 -0.039578 -0.204653\n",
      "4 -1.729448  1.955143\n"
     ]
    }
   ],
   "source": [
    "# integer indexing\n",
    "print(df.iloc[[1,2,4], [0,2]])"
   ]
  },
  {
   "cell_type": "markdown",
   "metadata": {},
   "source": [
    "### Boolean indexing"
   ]
  },
  {
   "cell_type": "code",
   "execution_count": 25,
   "metadata": {},
   "outputs": [
    {
     "name": "stdout",
     "output_type": "stream",
     "text": [
      "          A         B         C         D\n",
      "0  0.457452 -0.664152  0.148900 -1.038054\n",
      "1  0.288725 -0.239342 -0.475678  0.286864\n",
      "3  0.011836  0.879879  0.872803  0.140642\n"
     ]
    }
   ],
   "source": [
    "# filter only values answering condition in specific column\n",
    "print(df[df.A > 0])"
   ]
  },
  {
   "cell_type": "code",
   "execution_count": 26,
   "metadata": {},
   "outputs": [
    {
     "name": "stdout",
     "output_type": "stream",
     "text": [
      "          A         B         C         D\n",
      "0  0.457452       NaN  0.148900       NaN\n",
      "1  0.288725       NaN       NaN  0.286864\n",
      "2       NaN       NaN       NaN  0.837177\n",
      "3  0.011836  0.879879  0.872803  0.140642\n",
      "4       NaN  0.605972  1.955143  1.559064\n",
      "5       NaN  1.795627       NaN  0.907515\n"
     ]
    }
   ],
   "source": [
    "# if not using specific column...\n",
    "print(df[df > 0])"
   ]
  },
  {
   "cell_type": "markdown",
   "metadata": {},
   "source": [
    "# Setting"
   ]
  },
  {
   "cell_type": "code",
   "execution_count": 27,
   "metadata": {},
   "outputs": [
    {
     "name": "stdout",
     "output_type": "stream",
     "text": [
      "          A         B         C         D  E\n",
      "0  0.457452 -0.664152  0.148900 -1.038054  1\n",
      "1  0.288725 -0.239342 -0.475678  0.286864  2\n",
      "2 -0.039578 -0.926392 -0.204653  0.837177  3\n",
      "3  0.011836  0.879879  0.872803  0.140642  4\n",
      "4 -1.729448  0.605972  1.955143  1.559064  5\n",
      "5 -0.367134  1.795627 -0.395771  0.907515  6\n"
     ]
    }
   ],
   "source": [
    "# set a new column s1\n",
    "s1 = pd.Series([1,2,3,4,5,6])\n",
    "df['E'] = s1\n",
    "print(df)"
   ]
  },
  {
   "cell_type": "code",
   "execution_count": 28,
   "metadata": {},
   "outputs": [
    {
     "name": "stdout",
     "output_type": "stream",
     "text": [
      "          A         B         C         D  E\n",
      "0  0.000000 -0.664152  0.148900 -1.038054  1\n",
      "1  0.288725 -0.239342 -0.475678  0.286864  2\n",
      "2 -0.039578 -0.926392 -0.204653  0.837177  3\n",
      "3  0.011836  0.879879  0.872803  0.140642  4\n",
      "4 -1.729448  0.605972  1.955143  1.559064  5\n",
      "5 -0.367134  1.795627 -0.395771  0.907515  6\n"
     ]
    }
   ],
   "source": [
    "# set a specific value\n",
    "df.at[0, 'A'] = 0\n",
    "print(df)"
   ]
  },
  {
   "cell_type": "code",
   "execution_count": 29,
   "metadata": {},
   "outputs": [
    {
     "name": "stdout",
     "output_type": "stream",
     "text": [
      "          A         B         C  D  E\n",
      "0  0.000000 -0.664152  0.148900  5  1\n",
      "1  0.288725 -0.239342 -0.475678  5  2\n",
      "2 -0.039578 -0.926392 -0.204653  5  3\n",
      "3  0.011836  0.879879  0.872803  5  4\n",
      "4 -1.729448  0.605972  1.955143  5  5\n",
      "5 -0.367134  1.795627 -0.395771  5  6\n"
     ]
    }
   ],
   "source": [
    "# set a whole column with numpy\n",
    "df.loc[:, 'D'] = np.array([5] * len(df))\n",
    "print(df)"
   ]
  },
  {
   "cell_type": "code",
   "execution_count": 30,
   "metadata": {},
   "outputs": [
    {
     "name": "stdout",
     "output_type": "stream",
     "text": [
      "          A         B         C  D  E\n",
      "0  0.000000       NaN  0.148900  5  1\n",
      "1  0.288725       NaN       NaN  5  2\n",
      "2       NaN       NaN       NaN  5  3\n",
      "3  0.011836  0.879879  0.872803  5  4\n",
      "4       NaN  0.605972  1.955143  5  5\n",
      "5       NaN  1.795627       NaN  5  6\n"
     ]
    }
   ],
   "source": [
    "# set with boolean indexing\n",
    "df[df < 0] = np.nan\n",
    "print(df)"
   ]
  },
  {
   "cell_type": "markdown",
   "metadata": {},
   "source": [
    "# Missing Data"
   ]
  },
  {
   "cell_type": "code",
   "execution_count": 31,
   "metadata": {},
   "outputs": [
    {
     "name": "stdout",
     "output_type": "stream",
     "text": [
      "          A         B         C  D  E\n",
      "3  0.011836  0.879879  0.872803  5  4\n"
     ]
    }
   ],
   "source": [
    "# dropping rows with any missing data (see documentation for more)\n",
    "df1 = df.copy()\n",
    "print(df1.dropna(how = 'any'))"
   ]
  },
  {
   "cell_type": "code",
   "execution_count": 32,
   "metadata": {},
   "outputs": [
    {
     "name": "stdout",
     "output_type": "stream",
     "text": [
      "          A         B         C  D  E\n",
      "0  0.000000  5.000000  0.148900  5  1\n",
      "1  0.288725  5.000000  5.000000  5  2\n",
      "2  5.000000  5.000000  5.000000  5  3\n",
      "3  0.011836  0.879879  0.872803  5  4\n",
      "4  5.000000  0.605972  1.955143  5  5\n",
      "5  5.000000  1.795627  5.000000  5  6\n"
     ]
    }
   ],
   "source": [
    "# filling missing values with a specific value\n",
    "print(df1.fillna(value = 5))"
   ]
  },
  {
   "cell_type": "code",
   "execution_count": 33,
   "metadata": {},
   "outputs": [
    {
     "name": "stdout",
     "output_type": "stream",
     "text": [
      "       A      B      C      D      E\n",
      "0  False   True  False  False  False\n",
      "1  False   True   True  False  False\n",
      "2   True   True   True  False  False\n",
      "3  False  False  False  False  False\n",
      "4   True  False  False  False  False\n",
      "5   True  False   True  False  False\n"
     ]
    }
   ],
   "source": [
    "# getting a boolean mask of where missing values are (similar to R)\n",
    "print(pd.isna(df1))"
   ]
  },
  {
   "cell_type": "markdown",
   "metadata": {},
   "source": [
    "# Basic Operations"
   ]
  },
  {
   "cell_type": "code",
   "execution_count": 34,
   "metadata": {},
   "outputs": [
    {
     "name": "stdout",
     "output_type": "stream",
     "text": [
      "A    0.100187\n",
      "B    1.093826\n",
      "C    0.992282\n",
      "D    5.000000\n",
      "E    3.500000\n",
      "dtype: float64\n"
     ]
    }
   ],
   "source": [
    "# apply mean to each column\n",
    "print(df.mean())"
   ]
  },
  {
   "cell_type": "code",
   "execution_count": 35,
   "metadata": {},
   "outputs": [
    {
     "name": "stdout",
     "output_type": "stream",
     "text": [
      "0     6.148900\n",
      "1     7.288725\n",
      "2     8.000000\n",
      "3    10.764519\n",
      "4    12.561115\n",
      "5    12.795627\n",
      "dtype: float64\n"
     ]
    }
   ],
   "source": [
    "# apply sum to each row\n",
    "print(df.sum(axis = 1))"
   ]
  },
  {
   "cell_type": "code",
   "execution_count": 36,
   "metadata": {},
   "outputs": [
    {
     "name": "stdout",
     "output_type": "stream",
     "text": [
      "          A         B         C   D   E\n",
      "0  0.000000       NaN  0.148900   5   1\n",
      "1  0.288725       NaN       NaN  10   3\n",
      "2       NaN       NaN       NaN  15   6\n",
      "3  0.300561  0.879879  1.021703  20  10\n",
      "4       NaN  1.485852  2.976846  25  15\n",
      "5       NaN  3.281479       NaN  30  21\n"
     ]
    }
   ],
   "source": [
    "# df.apply a non-pandas function\n",
    "print(df.apply(np.cumsum))"
   ]
  },
  {
   "cell_type": "code",
   "execution_count": 37,
   "metadata": {},
   "outputs": [
    {
     "name": "stdout",
     "output_type": "stream",
     "text": [
      "A    0.288725\n",
      "B    1.189654\n",
      "C    1.806243\n",
      "D    0.000000\n",
      "E    5.000000\n",
      "dtype: float64\n"
     ]
    }
   ],
   "source": [
    "# apply anonumous function\n",
    "print(df.apply(lambda x: x.max() - x.min()))"
   ]
  },
  {
   "cell_type": "markdown",
   "metadata": {},
   "source": [
    "# Basic Manipulation"
   ]
  },
  {
   "cell_type": "markdown",
   "metadata": {},
   "source": [
    "pandas is inspired by R's `tidyverse` philosophy and works best with \"tidy\", long datasets, in which every column is a single variable, and every row is a single observation."
   ]
  },
  {
   "cell_type": "code",
   "execution_count": 38,
   "metadata": {},
   "outputs": [
    {
     "data": {
      "text/html": [
       "<div>\n",
       "<style scoped>\n",
       "    .dataframe tbody tr th:only-of-type {\n",
       "        vertical-align: middle;\n",
       "    }\n",
       "\n",
       "    .dataframe tbody tr th {\n",
       "        vertical-align: top;\n",
       "    }\n",
       "\n",
       "    .dataframe thead th {\n",
       "        text-align: right;\n",
       "    }\n",
       "</style>\n",
       "<table border=\"1\" class=\"dataframe\">\n",
       "  <thead>\n",
       "    <tr style=\"text-align: right;\">\n",
       "      <th></th>\n",
       "      <th>numerical1</th>\n",
       "      <th>numerical2</th>\n",
       "    </tr>\n",
       "    <tr>\n",
       "      <th>categorical</th>\n",
       "      <th></th>\n",
       "      <th></th>\n",
       "    </tr>\n",
       "  </thead>\n",
       "  <tbody>\n",
       "    <tr>\n",
       "      <th>A</th>\n",
       "      <td>-0.309385</td>\n",
       "      <td>9.885874</td>\n",
       "    </tr>\n",
       "    <tr>\n",
       "      <th>B</th>\n",
       "      <td>-0.522445</td>\n",
       "      <td>9.610078</td>\n",
       "    </tr>\n",
       "  </tbody>\n",
       "</table>\n",
       "</div>"
      ],
      "text/plain": [
       "             numerical1  numerical2\n",
       "categorical                        \n",
       "A             -0.309385    9.885874\n",
       "B             -0.522445    9.610078"
      ]
     },
     "execution_count": 38,
     "metadata": {},
     "output_type": "execute_result"
    }
   ],
   "source": [
    "# group by a categorical variable, and get mean by group for all numeric variables\n",
    "df2 = pd.DataFrame({'categorical': np.tile(['A', 'B'], (5, )),\n",
    "                    'numerical1': np.random.randn(10),\n",
    "                    'numerical2': 10 + 2 * np.random.randn(10)})\n",
    "df2.groupby('categorical').mean()"
   ]
  },
  {
   "cell_type": "markdown",
   "metadata": {},
   "source": [
    "### See more in documentation"
   ]
  }
 ],
 "metadata": {
  "kernelspec": {
   "display_name": "Python 3",
   "language": "python",
   "name": "python3"
  },
  "language_info": {
   "codemirror_mode": {
    "name": "ipython",
    "version": 3
   },
   "file_extension": ".py",
   "mimetype": "text/x-python",
   "name": "python",
   "nbconvert_exporter": "python",
   "pygments_lexer": "ipython3",
   "version": "3.6.6"
  }
 },
 "nbformat": 4,
 "nbformat_minor": 2
}
