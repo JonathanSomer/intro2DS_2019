{
 "cells": [
  {
   "cell_type": "markdown",
   "metadata": {},
   "source": [
    "# CSD 4: Baseline Prediction"
   ]
  },
  {
   "cell_type": "markdown",
   "metadata": {},
   "source": [
    "## instructions\n",
    "\n",
    "our course will be using an automatic grading system. <br>\n",
    "after each question there will appear a code block with some prepared code to add your answer to a dictionary that will be sent to the course server for grading. <br>\n",
    "please do not edit any code other than in placeholders marked `#### your code here ####` <br>\n",
    "__don't forget to run the code block after you write your answer.__\n",
    "\n",
    "\n",
    "you can add code blocks wherever you want in order to interact with datasets and play with your own code. <br>\n",
    "in the next code block plase fill in your id number and email account in the appropriate placees. <br>\n",
    "\n",
    "and __don't forget to run the block!__"
   ]
  },
  {
   "cell_type": "code",
   "execution_count": 1,
   "metadata": {},
   "outputs": [],
   "source": [
    "ans = {}\n",
    "ans['HW'] = 'CSD4'\n",
    "ans['id_number'] = 307923383"
   ]
  },
  {
   "cell_type": "markdown",
   "metadata": {},
   "source": [
    "0. For this Case Study assignment you should have in your current folder the ebay_boys_girls_shirts folder, holding the four CSV files describing the train and test shirts images, and the boys and girls images folders. This is what we did in CSD 1, **if you already have the data in your current folder you don't need to run this again!**:"
   ]
  },
  {
   "cell_type": "code",
   "execution_count": 2,
   "metadata": {},
   "outputs": [],
   "source": [
    "\n",
    "import requests\n",
    "import tarfile\n",
    "\n",
    "if False:\n",
    "    url = \"http://www.tau.ac.il/~saharon/DScourse/ebay_boys_girls_shirts.tar.gz\"\n",
    "    r = requests.get(url)\n",
    "\n",
    "    with open(\"ebay_boys_girls_shirts.tar\", \"wb\") as file:\n",
    "        file.write(r.content)\n",
    "\n",
    "    with tarfile.open(\"ebay_boys_girls_shirts.tar\") as tar:\n",
    "        tar.extractall('.')"
   ]
  },
  {
   "cell_type": "markdown",
   "metadata": {},
   "source": [
    "1. In this Case Study assignment we will try to classify an unseen shirt image as being of boys or of girls. We will use 20% of the data (training and test) for better speed, with Logistic Regression an Classification Trees.\n",
    "\n",
    "    First we need the `x_train` and `x_test` matrices, and the `y_train` and `y_test` 0/1 vectors (0 = boys, 1 = girls).\n",
    "\n",
    "    Previously on CSD2 and CSD3:"
   ]
  },
  {
   "cell_type": "code",
   "execution_count": 3,
   "metadata": {},
   "outputs": [],
   "source": [
    "import sys\n",
    "import warnings\n",
    "import pandas as pd\n",
    "import numpy as np\n",
    "import matplotlib.pyplot as plt\n",
    "from skimage import transform, color, img_as_ubyte\n",
    "\n",
    "%matplotlib inline\n",
    "\n",
    "def get_file_list(df, folder, n_sample = None, seed = None):\n",
    "    if n_sample is None:\n",
    "        file_ids_list = df.file_id.values\n",
    "    else:\n",
    "        file_ids_list = df.sample(n = n_sample, random_state = seed).file_id.values\n",
    "    files_list = [folder + '/' + str(file_id) + '.jpg' for file_id in file_ids_list]\n",
    "    return files_list\n",
    "\n",
    "def read_image_and_resize(f, w = 100, h = 100):\n",
    "    img = plt.imread(f)\n",
    "    img = transform.resize(img, (w, h), mode='constant', anti_aliasing=True)\n",
    "    with warnings.catch_warnings():\n",
    "        warnings.simplefilter(\"ignore\")\n",
    "        img = img_as_ubyte(img)\n",
    "    img = color.gray2rgb(img)\n",
    "    img = img[np.newaxis, :, :, :3]\n",
    "    if img.shape != (1, 100, 100, 3):\n",
    "        raise ValueError(f + str(img.shape))\n",
    "    return img\n",
    "\n",
    "def read_images_4d_array(files_list):\n",
    "    images_list = [read_image_and_resize(file) for file in files_list]\n",
    "    images_array = np.concatenate(images_list)\n",
    "    return images_array\n",
    "\n",
    "def get_images_matrix(csv_file, folder, n = None, seed = 1976):\n",
    "    df = pd.read_csv(csv_file)\n",
    "    files_list = get_file_list(df, folder, n, seed)\n",
    "    images = read_images_4d_array(files_list)\n",
    "    return images, files_list\n",
    "\n",
    "def get_all_pixels(x):\n",
    "    return x.reshape(-1, np.prod(x.shape[1:]))\n",
    "\n",
    "def numpy_array_size_in_bytes(a):\n",
    "    return a.size * a.itemsize"
   ]
  },
  {
   "cell_type": "markdown",
   "metadata": {},
   "source": [
    "Use the above functions to get the train and test matrices:"
   ]
  },
  {
   "cell_type": "code",
   "execution_count": 4,
   "metadata": {},
   "outputs": [],
   "source": [
    "folder = 'ebay_boys_girls_shirts/'\n",
    "n_train = 2000\n",
    "n_test = 500\n",
    "\n",
    "x_boys_train, boys_train_files = get_images_matrix(folder + 'boys_train.csv', folder + 'boys', n_train)\n",
    "x_boys_test, boys_test_files = get_images_matrix(folder + 'boys_test.csv', folder + 'boys', n_test)\n",
    "\n",
    "x_girls_train, girls_train_files = get_images_matrix(folder + 'girls_train.csv', folder + 'girls', n_train)\n",
    "x_girls_test, girls_test_files = get_images_matrix(folder + 'girls_test.csv', folder + 'girls', n_test)\n",
    "\n",
    "\n",
    "x_boys_train_all = get_all_pixels(x_boys_train)\n",
    "x_boys_test_all = get_all_pixels(x_boys_test)\n",
    "\n",
    "x_girls_train_all = get_all_pixels(x_girls_train)\n",
    "x_girls_test_all = get_all_pixels(x_girls_test)\n",
    "\n",
    "x_train = np.vstack([x_boys_train_all, x_girls_train_all])\n",
    "x_test = np.vstack([x_boys_test_all, x_girls_test_all])"
   ]
  },
  {
   "cell_type": "markdown",
   "metadata": {},
   "source": [
    "Now follow the example to create `y_train` and `y_test` 0/1 1D numpy arrays, the labelled data:"
   ]
  },
  {
   "cell_type": "code",
   "execution_count": 5,
   "metadata": {},
   "outputs": [],
   "source": [
    "y_boys_train = np.array([np.uint8(0)] * x_boys_train.shape[0])\n",
    "y_boys_test = np.array([np.uint8(0)] * x_boys_test.shape[0])\n",
    "y_girls_train = np.array([np.uint8(1)] * x_girls_train.shape[0])\n",
    "y_girls_test = np.array([np.uint8(1)] * x_girls_test.shape[0])\n",
    "\n",
    "y_train = np.concatenate([y_boys_train, y_girls_train])\n",
    "y_test = np.concatenate([y_boys_test, y_girls_test])"
   ]
  },
  {
   "cell_type": "markdown",
   "metadata": {},
   "source": [
    "2. Always a good idea to print the shape of your matrices and their size to see there are no surprises:"
   ]
  },
  {
   "cell_type": "code",
   "execution_count": 6,
   "metadata": {},
   "outputs": [
    {
     "name": "stdout",
     "output_type": "stream",
     "text": [
      "x_train Shape: 4000 X 30000, Size (bytes): 120000000\n",
      "x_test Shape: 1000 X 30000, Size (bytes): 30000000\n",
      "y_train Shape: 4000 X 1, Size (bytes): 4000\n",
      "y_test Shape: 1000 X 1, Size (bytes): 1000\n"
     ]
    }
   ],
   "source": [
    "def shape_and_size(x, name):\n",
    "    n_rows = x.shape[0]\n",
    "    if len(x.shape) == 1:\n",
    "        n_cols = 1\n",
    "    elif len(x.shape) == 2:\n",
    "        n_cols = x.shape[1]\n",
    "    else:\n",
    "        warnings.warn('Function is meaningful for 1 or 2-D numpy arrays, taking 2nd dimension as n_cols')\n",
    "        n_cols = x.shape[1]        \n",
    "    size = numpy_array_size_in_bytes(x)\n",
    "    print('%s Shape: %d X %d, Size (bytes): %d' % (name, n_rows, n_cols, size))\n",
    "\n",
    "shape_and_size(x_train, 'x_train')\n",
    "shape_and_size(x_test, 'x_test')\n",
    "shape_and_size(y_train, 'y_train')\n",
    "shape_and_size(y_test, 'y_test')"
   ]
  },
  {
   "cell_type": "markdown",
   "metadata": {},
   "source": [
    "3. Start with the most basic, single predictor: the average pixel level. Can the average of all 30K pixels classify an unseen shirt image as being of boys or of girls with good accuracy?\n",
    "\n",
    "    Get the average pixel:"
   ]
  },
  {
   "cell_type": "code",
   "execution_count": 7,
   "metadata": {},
   "outputs": [
    {
     "name": "stdout",
     "output_type": "stream",
     "text": [
      "x_train_av Shape: 4000 X 1, Size (bytes): 32000\n",
      "x_train_av Shape: 1000 X 1, Size (bytes): 8000\n"
     ]
    }
   ],
   "source": [
    "x_train_av = x_train.mean(axis = 1).reshape(-1, 1) # we do the reshape step so that the shape would be (4000, 1), not (4000,)\n",
    "x_test_av = x_test.mean(axis = 1).reshape(-1, 1)\n",
    "\n",
    "shape_and_size(x_train_av, 'x_train_av')\n",
    "shape_and_size(x_test_av, 'x_train_av')"
   ]
  },
  {
   "cell_type": "markdown",
   "metadata": {},
   "source": [
    "Instantiate a Logistic Regression object using the [sklearn](https://scikit-learn.org/stable/) library."
   ]
  },
  {
   "cell_type": "code",
   "execution_count": 8,
   "metadata": {},
   "outputs": [],
   "source": [
    "from sklearn.linear_model import LogisticRegression\n",
    "\n",
    "mod = LogisticRegression(solver='lbfgs')"
   ]
  },
  {
   "cell_type": "markdown",
   "metadata": {},
   "source": [
    "Might want to make the model aware of your class names, or labels:"
   ]
  },
  {
   "cell_type": "code",
   "execution_count": 9,
   "metadata": {},
   "outputs": [],
   "source": [
    "mod.classes_ = ['boys', 'girls']"
   ]
  },
  {
   "cell_type": "markdown",
   "metadata": {},
   "source": [
    "Fit the model to training data:"
   ]
  },
  {
   "cell_type": "code",
   "execution_count": 10,
   "metadata": {},
   "outputs": [
    {
     "data": {
      "text/plain": [
       "LogisticRegression(C=1.0, class_weight=None, dual=False, fit_intercept=True,\n",
       "          intercept_scaling=1, max_iter=100, multi_class='warn',\n",
       "          n_jobs=None, penalty='l2', random_state=None, solver='lbfgs',\n",
       "          tol=0.0001, verbose=0, warm_start=False)"
      ]
     },
     "execution_count": 10,
     "metadata": {},
     "output_type": "execute_result"
    }
   ],
   "source": [
    "mod.fit(x_train_av, y_train)"
   ]
  },
  {
   "cell_type": "markdown",
   "metadata": {},
   "source": [
    "Get the actual Logistic Regression coefficients (we expect an intercept and a coefficient for the average pixel, the single predictor):"
   ]
  },
  {
   "cell_type": "code",
   "execution_count": 11,
   "metadata": {},
   "outputs": [
    {
     "name": "stdout",
     "output_type": "stream",
     "text": [
      "intercept: [-0.1856065]\n",
      "coefficient: [0.00121881]\n"
     ]
    }
   ],
   "source": [
    "print('intercept:', mod.intercept_)\n",
    "print('coefficient:', mod.coef_[0])"
   ]
  },
  {
   "cell_type": "markdown",
   "metadata": {},
   "source": [
    "You have all you need to get the Logistic Regression different formulas:"
   ]
  },
  {
   "cell_type": "code",
   "execution_count": 12,
   "metadata": {},
   "outputs": [
    {
     "name": "stdout",
     "output_type": "stream",
     "text": [
      "Log-odds[label(image)=boys] = -0.186 + (0.001) X average_pixel\n",
      "Odds[label(image)=boys] = exp[-0.186 + (0.001) X average_pixel]\n",
      "Prob[label(image)=boys] = 1 / [1 + exp[-0.186 + (0.001) X average_pixel]]\n"
     ]
    }
   ],
   "source": [
    "print('Log-odds[label(image)=boys] = %.3f + (%.3f) X average_pixel' % (mod.intercept_, mod.coef_[0]))\n",
    "print('Odds[label(image)=boys] = exp[%.3f + (%.3f) X average_pixel]' % (mod.intercept_, mod.coef_[0]))\n",
    "print('Prob[label(image)=boys] = 1 / [1 + exp[%.3f + (%.3f) X average_pixel]]' % (mod.intercept_, mod.coef_[0]))"
   ]
  },
  {
   "cell_type": "markdown",
   "metadata": {},
   "source": [
    "Get the predicted score on test set, which may be interpreted here as P(label(image) = boys):\n",
    "\n",
    "(Make sure you can get these manually with the above formula!)"
   ]
  },
  {
   "cell_type": "code",
   "execution_count": 13,
   "metadata": {},
   "outputs": [
    {
     "data": {
      "image/png": "[encoded data removed]",
      "text/plain": [
       "<Figure size 432x288 with 1 Axes>"
      ]
     },
     "metadata": {
      "needs_background": "light"
     },
     "output_type": "display_data"
    }
   ],
   "source": [
    "y_pred_prob = mod.predict_proba(x_test_av)\n",
    "\n",
    "plt.hist(y_pred_prob[:, 0])\n",
    "plt.xlabel('P(label(image) = boys)')\n",
    "plt.ylabel('Frequency')\n",
    "plt.show()"
   ]
  },
  {
   "cell_type": "markdown",
   "metadata": {},
   "source": [
    "We can already see the scores are not \"differentiated\", as if they're completely random, and very close to 0.5 suggesting the model is \"uncertain\".\n",
    "\n",
    "Since we used a balanced training set, it makes sence to have p = 0.5 as a cutoff threshold below which we predict \"girls\", above which we predict \"boys\".\n",
    "\n",
    "Get the predicted label:"
   ]
  },
  {
   "cell_type": "code",
   "execution_count": 14,
   "metadata": {},
   "outputs": [],
   "source": [
    "y_pred = mod.predict(x_test_av) # p=0.5 is the default cutoff"
   ]
  },
  {
   "cell_type": "markdown",
   "metadata": {},
   "source": [
    "See the confusion matrix of predicted vs. true test labels:"
   ]
  },
  {
   "cell_type": "code",
   "execution_count": 15,
   "metadata": {},
   "outputs": [
    {
     "name": "stdout",
     "output_type": "stream",
     "text": [
      "[[285 215]\n",
      " [269 231]]\n"
     ]
    }
   ],
   "source": [
    "from sklearn.metrics import confusion_matrix\n",
    "\n",
    "conf = confusion_matrix(y_test, y_pred)\n",
    "print(conf)"
   ]
  },
  {
   "cell_type": "markdown",
   "metadata": {},
   "source": [
    "This is slightly not readable, so we'll get pandas to help:"
   ]
  },
  {
   "cell_type": "code",
   "execution_count": 16,
   "metadata": {},
   "outputs": [
    {
     "data": {
      "text/html": [
       "<div>\n",
       "<style scoped>\n",
       "    .dataframe tbody tr th:only-of-type {\n",
       "        vertical-align: middle;\n",
       "    }\n",
       "\n",
       "    .dataframe tbody tr th {\n",
       "        vertical-align: top;\n",
       "    }\n",
       "\n",
       "    .dataframe thead th {\n",
       "        text-align: right;\n",
       "    }\n",
       "</style>\n",
       "<table border=\"1\" class=\"dataframe\">\n",
       "  <thead>\n",
       "    <tr style=\"text-align: right;\">\n",
       "      <th>Predicted</th>\n",
       "      <th>boys</th>\n",
       "      <th>girl</th>\n",
       "      <th>All</th>\n",
       "    </tr>\n",
       "    <tr>\n",
       "      <th>True</th>\n",
       "      <th></th>\n",
       "      <th></th>\n",
       "      <th></th>\n",
       "    </tr>\n",
       "  </thead>\n",
       "  <tbody>\n",
       "    <tr>\n",
       "      <th>boys</th>\n",
       "      <td>285</td>\n",
       "      <td>215</td>\n",
       "      <td>500</td>\n",
       "    </tr>\n",
       "    <tr>\n",
       "      <th>girl</th>\n",
       "      <td>269</td>\n",
       "      <td>231</td>\n",
       "      <td>500</td>\n",
       "    </tr>\n",
       "    <tr>\n",
       "      <th>All</th>\n",
       "      <td>554</td>\n",
       "      <td>446</td>\n",
       "      <td>1000</td>\n",
       "    </tr>\n",
       "  </tbody>\n",
       "</table>\n",
       "</div>"
      ],
      "text/plain": [
       "Predicted  boys  girl   All\n",
       "True                       \n",
       "boys        285   215   500\n",
       "girl        269   231   500\n",
       "All         554   446  1000"
      ]
     },
     "execution_count": 16,
     "metadata": {},
     "output_type": "execute_result"
    }
   ],
   "source": [
    "y_test_s = np.array(['boys'] * len(y_test))\n",
    "y_pred_s = np.array(['boys'] * len(y_test))\n",
    "y_test_s[y_test == 1] = 'girls'\n",
    "y_pred_s[y_pred == 1] = 'girls'\n",
    "\n",
    "def conf_matrix(y_true, y_pred):\n",
    "    return pd.crosstab(y_true, y_pred, rownames=['True'], colnames=['Predicted'], margins=True)\n",
    "\n",
    "conf_matrix(y_test_s, y_pred_s)"
   ]
  },
  {
   "cell_type": "markdown",
   "metadata": {},
   "source": [
    "4. You can see the average pixel preformed pretty bad in predicting the shirts images class. How do you measure it?\n",
    "\n",
    "    You can use sklearn's automatic reports to get measures such as accuracy, recall and precision:"
   ]
  },
  {
   "cell_type": "code",
   "execution_count": 17,
   "metadata": {},
   "outputs": [
    {
     "name": "stdout",
     "output_type": "stream",
     "text": [
      "              precision    recall  f1-score   support\n",
      "\n",
      "        boys       0.51      0.57      0.54       500\n",
      "        girl       0.52      0.46      0.49       500\n",
      "\n",
      "   micro avg       0.52      0.52      0.52      1000\n",
      "   macro avg       0.52      0.52      0.51      1000\n",
      "weighted avg       0.52      0.52      0.51      1000\n",
      "\n"
     ]
    }
   ],
   "source": [
    "from sklearn.metrics import classification_report\n",
    "\n",
    "print(classification_report(y_test_s, y_pred_s))"
   ]
  },
  {
   "cell_type": "markdown",
   "metadata": {},
   "source": [
    "You can also manually calculate these metrics yourself from the `conf` matrix (make sure you know how!):"
   ]
  },
  {
   "cell_type": "code",
   "execution_count": 18,
   "metadata": {},
   "outputs": [
    {
     "name": "stdout",
     "output_type": "stream",
     "text": [
      "accuracy: 0.52\n",
      "recall_boys: 0.57\n",
      "recall_girls: 0.46\n",
      "precision_boys: 0.51\n",
      "precision_girls: 0.52\n"
     ]
    }
   ],
   "source": [
    "# accuracy = P(predict correct)\n",
    "accuracy = (conf[0, 0] + conf[1, 1]) / len(y_test)\n",
    "\n",
    "# recall(boys) = P(predict boys | label boys)\n",
    "recall_boys = (conf[0, 0] / (conf[0, 0] + conf[0, 1]))\n",
    "\n",
    "# recall(girls) = P(predict girls | label girls)\n",
    "recall_girls = (conf[1,1]) / (conf[1,1] + conf[1,0])\n",
    "\n",
    "# precision(boys) = P(label boys | predict boys)\n",
    "precision_boys = (conf[0,0]) / (conf[0,0] + conf[1,0]) \n",
    "\n",
    "# precision(boys) = P(label girls | predict girls)\n",
    "precision_girls = (conf[1,1]) / (conf[1,1] + conf[0,1])\n",
    "\n",
    "print('accuracy: %.2f' % accuracy)\n",
    "print('recall_boys: %.2f' % recall_boys)\n",
    "print('recall_girls: %.2f' % recall_girls)\n",
    "print('precision_boys: %.2f' % precision_boys)\n",
    "print('precision_girls: %.2f' % precision_girls)"
   ]
  },
  {
   "cell_type": "code",
   "execution_count": 19,
   "metadata": {},
   "outputs": [],
   "source": [
    "ans['Q1'] = recall_girls\n",
    "ans['Q2'] = precision_boys\n",
    "ans['Q3'] = precision_girls"
   ]
  },
  {
   "cell_type": "markdown",
   "metadata": {},
   "source": [
    "For quickly getting the overall accuracy, this would be the default option of the `score` method of any classification model fit object:"
   ]
  },
  {
   "cell_type": "code",
   "execution_count": 20,
   "metadata": {},
   "outputs": [
    {
     "name": "stdout",
     "output_type": "stream",
     "text": [
      "Test accuracy on average pixel: 0.52\n"
     ]
    }
   ],
   "source": [
    "acc = mod.score(x_test_av, y_test)\n",
    "print('Test accuracy on average pixel: %.2f' % acc)"
   ]
  },
  {
   "cell_type": "markdown",
   "metadata": {},
   "source": [
    "That's not impressive and close to random."
   ]
  },
  {
   "cell_type": "markdown",
   "metadata": {},
   "source": [
    "5. Let's try a model with 3 predictors: the average Red pixel, the average Green pixel and the average Blue pixel.\n",
    "\n",
    "    First, get those:"
   ]
  },
  {
   "cell_type": "code",
   "execution_count": 21,
   "metadata": {},
   "outputs": [
    {
     "name": "stdout",
     "output_type": "stream",
     "text": [
      "x_train Shape: 4000 X 3, Size (bytes): 96000\n",
      "x_test Shape: 1000 X 3, Size (bytes): 24000\n"
     ]
    }
   ],
   "source": [
    "def get_average_channel(x, channel):\n",
    "    return x[:,:,:,channel].mean(axis = (1, 2)).reshape(-1, 1)\n",
    "\n",
    "def get_channels(x):\n",
    "    return np.hstack([get_average_channel(x, i) for i in range(3)])\n",
    "\n",
    "x_boys_train_av_channels = get_channels(x_boys_train)\n",
    "x_boys_test_av_channels = get_channels(x_boys_test)\n",
    "x_girls_train_av_channels = get_channels(x_girls_train)\n",
    "x_girls_test_av_channels = get_channels(x_girls_test)\n",
    "\n",
    "x_train_av_channels = np.vstack([x_boys_train_av_channels, x_girls_train_av_channels])\n",
    "x_test_av_channels = np.vstack([x_boys_test_av_channels, x_girls_test_av_channels])\n",
    "\n",
    "shape_and_size(x_train_av_channels, 'x_train')\n",
    "shape_and_size(x_test_av_channels, 'x_test')"
   ]
  },
  {
   "cell_type": "markdown",
   "metadata": {},
   "source": [
    "Define the model, fit it, get log-odds formula and overall test accuracy, now in a single chunk:"
   ]
  },
  {
   "cell_type": "code",
   "execution_count": 22,
   "metadata": {},
   "outputs": [
    {
     "name": "stdout",
     "output_type": "stream",
     "text": [
      "log-odds: -0.364 + 0.008 * red + -0.011 * green + 0.004 * blue\n",
      "Test accuracy on 3 channels with LR: 0.560\n"
     ]
    }
   ],
   "source": [
    "mod = LogisticRegression(solver='lbfgs')\n",
    "mod.fit(x_train_av_channels, y_train)\n",
    "\n",
    "coef_names = ['red', 'green', 'blue']\n",
    "coef = mod.coef_[0]\n",
    "print('log-odds: %.3f + %.3f * %s + %.3f * %s + %.3f * %s' %\n",
    "      (mod.intercept_, coef[0], coef_names[0], coef[1], coef_names[1], coef[2], coef_names[2]))\n",
    "\n",
    "acc = mod.score(x_test_av_channels, y_test)\n",
    "print('Test accuracy on 3 channels with LR: %.3f' % acc)"
   ]
  },
  {
   "cell_type": "code",
   "execution_count": 23,
   "metadata": {},
   "outputs": [],
   "source": [
    "ans['Q4'] = coef\n",
    "ans['Q5'] = acc"
   ]
  },
  {
   "cell_type": "markdown",
   "metadata": {},
   "source": [
    "The test accuracy is slightly better than when using a global average pixel but we cannot say for sure if that's not by random."
   ]
  },
  {
   "cell_type": "markdown",
   "metadata": {},
   "source": [
    "7. How about Logistic Regression with all 30K pixels?"
   ]
  },
  {
   "cell_type": "code",
   "execution_count": 24,
   "metadata": {},
   "outputs": [
    {
     "name": "stderr",
     "output_type": "stream",
     "text": [
      "/home/jonathansomer/.virtualenvs/ml/lib/python3.6/site-packages/sklearn/linear_model/logistic.py:757: ConvergenceWarning: lbfgs failed to converge. Increase the number of iterations.\n",
      "  \"of iterations.\", ConvergenceWarning)\n"
     ]
    },
    {
     "name": "stdout",
     "output_type": "stream",
     "text": [
      "Test accuracy on all pixels with LR: 0.684\n"
     ]
    }
   ],
   "source": [
    "mod = LogisticRegression(solver='lbfgs', max_iter = 100) # have a look at LogisticRegression default parameters in the docs\n",
    "mod.fit(x_train, y_train)\n",
    "\n",
    "acc = mod.score(x_test, y_test)\n",
    "print('Test accuracy on all pixels with LR: %.3f' % acc)"
   ]
  },
  {
   "cell_type": "markdown",
   "metadata": {},
   "source": [
    "Much more impressive, let's look at the confusion matrix now:"
   ]
  },
  {
   "cell_type": "code",
   "execution_count": 25,
   "metadata": {},
   "outputs": [
    {
     "data": {
      "text/html": [
       "<div>\n",
       "<style scoped>\n",
       "    .dataframe tbody tr th:only-of-type {\n",
       "        vertical-align: middle;\n",
       "    }\n",
       "\n",
       "    .dataframe tbody tr th {\n",
       "        vertical-align: top;\n",
       "    }\n",
       "\n",
       "    .dataframe thead th {\n",
       "        text-align: right;\n",
       "    }\n",
       "</style>\n",
       "<table border=\"1\" class=\"dataframe\">\n",
       "  <thead>\n",
       "    <tr style=\"text-align: right;\">\n",
       "      <th>Predicted</th>\n",
       "      <th>boys</th>\n",
       "      <th>girl</th>\n",
       "      <th>All</th>\n",
       "    </tr>\n",
       "    <tr>\n",
       "      <th>True</th>\n",
       "      <th></th>\n",
       "      <th></th>\n",
       "      <th></th>\n",
       "    </tr>\n",
       "  </thead>\n",
       "  <tbody>\n",
       "    <tr>\n",
       "      <th>boys</th>\n",
       "      <td>335</td>\n",
       "      <td>165</td>\n",
       "      <td>500</td>\n",
       "    </tr>\n",
       "    <tr>\n",
       "      <th>girl</th>\n",
       "      <td>151</td>\n",
       "      <td>349</td>\n",
       "      <td>500</td>\n",
       "    </tr>\n",
       "    <tr>\n",
       "      <th>All</th>\n",
       "      <td>486</td>\n",
       "      <td>514</td>\n",
       "      <td>1000</td>\n",
       "    </tr>\n",
       "  </tbody>\n",
       "</table>\n",
       "</div>"
      ],
      "text/plain": [
       "Predicted  boys  girl   All\n",
       "True                       \n",
       "boys        335   165   500\n",
       "girl        151   349   500\n",
       "All         486   514  1000"
      ]
     },
     "metadata": {},
     "output_type": "display_data"
    },
    {
     "data": {
      "text/plain": [
       "array([[335, 165],\n",
       "       [151, 349]])"
      ]
     },
     "execution_count": 25,
     "metadata": {},
     "output_type": "execute_result"
    }
   ],
   "source": [
    "y_pred = mod.predict(x_test)\n",
    "\n",
    "y_pred_s = np.array(['boys'] * len(y_test))\n",
    "y_pred_s[y_pred == 1] = 'girls'\n",
    "\n",
    "\n",
    "display(conf_matrix(y_test_s, y_pred_s))\n",
    "conf_all_pixels = confusion_matrix(y_test_s, y_pred_s); conf_all_pixels"
   ]
  },
  {
   "cell_type": "code",
   "execution_count": 26,
   "metadata": {},
   "outputs": [
    {
     "data": {
      "text/plain": [
       "array([[335, 165],\n",
       "       [151, 349]])"
      ]
     },
     "execution_count": 26,
     "metadata": {},
     "output_type": "execute_result"
    }
   ],
   "source": [
    "conf_all_pixels"
   ]
  },
  {
   "cell_type": "markdown",
   "metadata": {},
   "source": [
    "report the following:<br>\n",
    "__Q6)__ recall: girls<br>\n",
    "__Q7)__ precision: boys<br>\n",
    "__Q8)__ precision: girls"
   ]
  },
  {
   "cell_type": "code",
   "execution_count": 27,
   "metadata": {},
   "outputs": [
    {
     "name": "stdout",
     "output_type": "stream",
     "text": [
      "              precision    recall  f1-score   support\n",
      "\n",
      "        boys      0.689     0.670     0.680       500\n",
      "        girl      0.679     0.698     0.688       500\n",
      "\n",
      "   micro avg      0.684     0.684     0.684      1000\n",
      "   macro avg      0.684     0.684     0.684      1000\n",
      "weighted avg      0.684     0.684     0.684      1000\n",
      "\n"
     ]
    },
    {
     "data": {
      "text/plain": [
       "(0.698, 0.6893004115226338, 0.6789883268482491)"
      ]
     },
     "execution_count": 27,
     "metadata": {},
     "output_type": "execute_result"
    }
   ],
   "source": [
    "recall_girls = (conf_all_pixels[1,1]) / (conf_all_pixels[1,1] + conf_all_pixels[1,0])\n",
    "precision_boys = (conf_all_pixels[0,0]) / (conf_all_pixels[0,0] + conf_all_pixels[1,0]) \n",
    "precision_girls = (conf_all_pixels[1,1]) / (conf_all_pixels[1,1] + conf_all_pixels[0,1])\n",
    "\n",
    "print(classification_report(y_test_s, y_pred_s, digits=3))\n",
    "recall_girls, precision_boys, precision_girls"
   ]
  },
  {
   "cell_type": "code",
   "execution_count": 28,
   "metadata": {},
   "outputs": [],
   "source": [
    "ans['Q6'] = recall_girls\n",
    "ans['Q7'] = precision_boys\n",
    "ans['Q8'] = precision_girls"
   ]
  },
  {
   "cell_type": "markdown",
   "metadata": {},
   "source": [
    "Also make sure that the predicted probability score histogram looks better, more \"differentiated\":"
   ]
  },
  {
   "cell_type": "code",
   "execution_count": 29,
   "metadata": {},
   "outputs": [
    {
     "data": {
      "image/png": "[encoded data removed]",
      "text/plain": [
       "<Figure size 432x288 with 1 Axes>"
      ]
     },
     "metadata": {
      "needs_background": "light"
     },
     "output_type": "display_data"
    }
   ],
   "source": [
    "y_pred_prob = mod.predict_proba(x_test)\n",
    "\n",
    "plt.hist(y_pred_prob[:, 0])\n",
    "plt.xlabel('P(label(image) = boys)')\n",
    "plt.ylabel('Frequency')\n",
    "plt.show()"
   ]
  },
  {
   "cell_type": "markdown",
   "metadata": {},
   "source": [
    "8. It is interesting to see the accuracy for images with very low and very high predicted probability score. If we took the \"girls, boys, don't know\" strategy, how better off would we be?"
   ]
  },
  {
   "cell_type": "code",
   "execution_count": 30,
   "metadata": {},
   "outputs": [
    {
     "name": "stdout",
     "output_type": "stream",
     "text": [
      "Test accuracy on all pixels with LR, only 0.22 of images with very low/high scores: 0.810\n"
     ]
    }
   ],
   "source": [
    "y_pred_prob_1d = y_pred_prob[:, 0]\n",
    "y_pred_low_high_id = np.argwhere(( y_pred_prob_1d <= 0.001) | (y_pred_prob_1d >= 0.999)).reshape(-1)\n",
    "y_pred_low_high = y_pred_prob[y_pred_low_high_id, 0]\n",
    "y_pred_low_high_temp = y_pred_low_high.copy()\n",
    "y_pred_low_high[y_pred_low_high_temp < 0.5] = 1\n",
    "y_pred_low_high[y_pred_low_high_temp > 0.5] = 0\n",
    "y_test_low_high = y_test[y_pred_low_high_id]\n",
    "\n",
    "conf = confusion_matrix(y_test_low_high, y_pred_low_high)\n",
    "acc = (conf[0, 0] + conf[1, 1]) / len(y_test_low_high)\n",
    "print('Test accuracy on all pixels with LR, only %.2f of images with very low/high scores: %.3f' % (len(y_test_low_high)/len(y_test), acc))"
   ]
  },
  {
   "cell_type": "code",
   "execution_count": 31,
   "metadata": {},
   "outputs": [],
   "source": [
    "ans['Q9'] = acc"
   ]
  },
  {
   "cell_type": "markdown",
   "metadata": {},
   "source": [
    "# finish!\n",
    "\n",
    "to submit your HW please run this last code block and follow the instructions.\n",
    "this code will create a CSV file in the current directory on the azure notebooks project\n",
    "please download it and submit it through moodle\n"
   ]
  },
  {
   "cell_type": "code",
   "execution_count": 32,
   "metadata": {},
   "outputs": [
    {
     "name": "stdout",
     "output_type": "stream",
     "text": [
      "OK!\n"
     ]
    }
   ],
   "source": [
    "import pandas as pd\n",
    "df_ans = pd.DataFrame.from_dict(ans, orient='index')\n",
    "if df_ans.shape[0] == 11:\n",
    "    df_ans.to_csv('{}_{}.csv'.format(ans['HW'],str(ans['id_number'])))\n",
    "    print(\"OK!\")\n",
    "else:\n",
    "    print(\"seems like you missed a question, make sure you have run all the code blocks\")"
   ]
  },
  {
   "cell_type": "code",
   "execution_count": null,
   "metadata": {},
   "outputs": [],
   "source": []
  }
 ],
 "metadata": {
  "kernelspec": {
   "display_name": "Python 3",
   "language": "python",
   "name": "python3"
  },
  "language_info": {
   "codemirror_mode": {
    "name": "ipython",
    "version": 3
   },
   "file_extension": ".py",
   "mimetype": "text/x-python",
   "name": "python",
   "nbconvert_exporter": "python",
   "pygments_lexer": "ipython3",
   "version": "3.6.6"
  }
 },
 "nbformat": 4,
 "nbformat_minor": 2
}
