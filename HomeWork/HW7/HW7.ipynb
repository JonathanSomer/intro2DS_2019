{
 "cells": [
  {
   "cell_type": "markdown",
   "metadata": {},
   "source": [
    "# HW7: logistic regression"
   ]
  },
  {
   "cell_type": "markdown",
   "metadata": {},
   "source": [
    "## instructions\n",
    "\n",
    "our course will be using an automatic grading system. <br>\n",
    "after each question there will appear a code block with some prepared code to add your answer to a dictionary that will be sent to the course server for grading. <br>\n",
    "please do not edit any code other than in placeholders marked `#### your code here ####` <br>\n",
    "__don't forget to run the code block after you write your answer.__\n",
    "\n",
    "\n",
    "you can add code blocks wherever you want in order to interact with datasets and play with your own code. <br>\n",
    "in the next code block plase fill in your id number and email account in the appropriate placees. <br>\n",
    "and __don't forget to run the block!__"
   ]
  },
  {
   "cell_type": "code",
   "execution_count": 1,
   "metadata": {},
   "outputs": [],
   "source": [
    "ans = {}\n",
    "ans['HW'] = 'HW7'\n",
    "ans['id_number'] = 307923383"
   ]
  },
  {
   "cell_type": "markdown",
   "metadata": {},
   "source": [
    "#### Q1)\n",
    "Assume we fit a logistic regression and got a fit $\\hat{\\beta}$. Assume $\\hat{\\beta_1} = \\hat{\\beta_2} = 1$. Now we want to predict $\\widehat{P(y=1|x)}$ at two points $x_0$ and $\\tilde{x}_0$ that are equal in all coordinates except the first two. Assume $x_{01}=100, \\tilde{x}_{01} = 101$ and $x_{02}=0, \\tilde{x}_{02} = -1.$ Denote the resulting predictions at $x_0,\\tilde{x}_0$ by $\\hat{p}_0$ and $\\tilde{p}_0$ respectively. Which of the following holds: \n",
    "\n",
    "1. $\\hat{p}_0$ > $\\tilde{p}_0$ \n",
    "2. $\\hat{p}_0$ < $\\tilde{p}_0$ \n",
    "3. $\\hat{p}_0$ = $\\tilde{p}_0$ \n",
    "4. Not enough information to know \n"
   ]
  },
  {
   "cell_type": "code",
   "execution_count": 2,
   "metadata": {},
   "outputs": [],
   "source": [
    "ans['Q1'] = 3"
   ]
  },
  {
   "cell_type": "markdown",
   "metadata": {},
   "source": [
    "#### Q2)\n",
    "For the same setup, now assume we have three points $x_0,u_0,v_0$ that are identical in all but the first coordinate, where we have $x_{01} = 0, u_{01}=1, v_{01}=2.$ Denote the resulting predictions by $\\hat{p}_0,\\hat{q}_0,\\hat{r}_0$ respectively. Which of the following holds: \n",
    "\n",
    "1. $\\frac{log(\\hat{p}_0)}{log(\\hat{q}_0)}= \\frac{log(\\hat{q}_0)}{log(\\hat{r}_0)}$\n",
    "<br>\n",
    "<br>\n",
    "2. $\\frac{\\hat{p}_0}{1-\\hat{p}_0}=\\frac{\\hat{q}_0}{1-\\hat{q}_0}=\\frac{\\hat{r}_0}{1-\\hat{r}_0}$\n",
    "<br>\n",
    "<br>\n",
    "3. $\\frac{\\hat{p}_0}{\\hat{q}_0}= \\frac{\\hat{q}_0}{\\hat{r}_0}$\n",
    "<br>\n",
    "<br>\n",
    "4. $\\frac{\\frac{\\hat{p}_0}{1-\\hat{p}_0}}{\\frac{\\hat{q}_0}{1-\\hat{q}_0}} = \\frac{\\frac{\\hat{q}_0}{1-\\hat{q}_0}}{\\frac{\\hat{r}_0}{1-\\hat{r}_0}}$\n"
   ]
  },
  {
   "cell_type": "code",
   "execution_count": 3,
   "metadata": {},
   "outputs": [],
   "source": [
    "ans['Q2'] = 4"
   ]
  },
  {
   "cell_type": "markdown",
   "metadata": {},
   "source": [
    "#### Q3)\n",
    "In the logistic regression we ran in class on the *saheart* data, we got a significant negative coefficient $\\hat{beta}_{fam}$ for the binary variable *famshit_absent* which has the obvious meaning: it is $1$ if there is no family history and $0$ if there is. Assume we replace this variable with a variable *famhist_present = 1 - famhist_absent* which is $1$ if there is family history and $0$ otherwise. The rest of the data (including the training-test split) is unchanged. What would happen to the estimated coefficients if we run exactly the same logistic regression on this new dataset? You can base your answer on calculations, or just try it out...<br>\n",
    "\n",
    "1. Only the intercept and $\\hat{\\beta}_{fam}$ would change, but we cannot say exactly how\n",
    "2. The intercept would change and $\\hat{\\beta}_{fam}$ would switch sign but have the same absolute value\n",
    "3. All coefficients would change, we cannot say exactly how\n",
    "4. Only $\\hat{\\beta}_{fam}$ would change, it would switch sign from negative to positive"
   ]
  },
  {
   "cell_type": "code",
   "execution_count": 4,
   "metadata": {},
   "outputs": [],
   "source": [
    "ans['Q3'] = 3"
   ]
  },
  {
   "cell_type": "code",
   "execution_count": 5,
   "metadata": {},
   "outputs": [],
   "source": [
    "import pandas as pd"
   ]
  },
  {
   "cell_type": "code",
   "execution_count": 6,
   "metadata": {},
   "outputs": [],
   "source": [
    "src = \"http://www-stat.stanford.edu/~tibs/ElemStatLearn/datasets/SAheart.data\"\n",
    "df = pd.read_table(src, \n",
    "                   sep=\",\", \n",
    "                   header=0)"
   ]
  },
  {
   "cell_type": "code",
   "execution_count": 7,
   "metadata": {},
   "outputs": [
    {
     "data": {
      "text/html": [
       "<div>\n",
       "<style scoped>\n",
       "    .dataframe tbody tr th:only-of-type {\n",
       "        vertical-align: middle;\n",
       "    }\n",
       "\n",
       "    .dataframe tbody tr th {\n",
       "        vertical-align: top;\n",
       "    }\n",
       "\n",
       "    .dataframe thead th {\n",
       "        text-align: right;\n",
       "    }\n",
       "</style>\n",
       "<table border=\"1\" class=\"dataframe\">\n",
       "  <thead>\n",
       "    <tr style=\"text-align: right;\">\n",
       "      <th></th>\n",
       "      <th>row.names</th>\n",
       "      <th>sbp</th>\n",
       "      <th>tobacco</th>\n",
       "      <th>ldl</th>\n",
       "      <th>adiposity</th>\n",
       "      <th>famhist</th>\n",
       "      <th>typea</th>\n",
       "      <th>obesity</th>\n",
       "      <th>alcohol</th>\n",
       "      <th>age</th>\n",
       "      <th>chd</th>\n",
       "    </tr>\n",
       "  </thead>\n",
       "  <tbody>\n",
       "    <tr>\n",
       "      <th>0</th>\n",
       "      <td>1</td>\n",
       "      <td>160</td>\n",
       "      <td>12.00</td>\n",
       "      <td>5.73</td>\n",
       "      <td>23.11</td>\n",
       "      <td>Present</td>\n",
       "      <td>49</td>\n",
       "      <td>25.30</td>\n",
       "      <td>97.20</td>\n",
       "      <td>52</td>\n",
       "      <td>1</td>\n",
       "    </tr>\n",
       "    <tr>\n",
       "      <th>1</th>\n",
       "      <td>2</td>\n",
       "      <td>144</td>\n",
       "      <td>0.01</td>\n",
       "      <td>4.41</td>\n",
       "      <td>28.61</td>\n",
       "      <td>Absent</td>\n",
       "      <td>55</td>\n",
       "      <td>28.87</td>\n",
       "      <td>2.06</td>\n",
       "      <td>63</td>\n",
       "      <td>1</td>\n",
       "    </tr>\n",
       "    <tr>\n",
       "      <th>2</th>\n",
       "      <td>3</td>\n",
       "      <td>118</td>\n",
       "      <td>0.08</td>\n",
       "      <td>3.48</td>\n",
       "      <td>32.28</td>\n",
       "      <td>Present</td>\n",
       "      <td>52</td>\n",
       "      <td>29.14</td>\n",
       "      <td>3.81</td>\n",
       "      <td>46</td>\n",
       "      <td>0</td>\n",
       "    </tr>\n",
       "    <tr>\n",
       "      <th>3</th>\n",
       "      <td>4</td>\n",
       "      <td>170</td>\n",
       "      <td>7.50</td>\n",
       "      <td>6.41</td>\n",
       "      <td>38.03</td>\n",
       "      <td>Present</td>\n",
       "      <td>51</td>\n",
       "      <td>31.99</td>\n",
       "      <td>24.26</td>\n",
       "      <td>58</td>\n",
       "      <td>1</td>\n",
       "    </tr>\n",
       "    <tr>\n",
       "      <th>4</th>\n",
       "      <td>5</td>\n",
       "      <td>134</td>\n",
       "      <td>13.60</td>\n",
       "      <td>3.50</td>\n",
       "      <td>27.78</td>\n",
       "      <td>Present</td>\n",
       "      <td>60</td>\n",
       "      <td>25.99</td>\n",
       "      <td>57.34</td>\n",
       "      <td>49</td>\n",
       "      <td>1</td>\n",
       "    </tr>\n",
       "  </tbody>\n",
       "</table>\n",
       "</div>"
      ],
      "text/plain": [
       "   row.names  sbp  tobacco   ldl  adiposity  famhist  typea  obesity  alcohol  \\\n",
       "0          1  160    12.00  5.73      23.11  Present     49    25.30    97.20   \n",
       "1          2  144     0.01  4.41      28.61   Absent     55    28.87     2.06   \n",
       "2          3  118     0.08  3.48      32.28  Present     52    29.14     3.81   \n",
       "3          4  170     7.50  6.41      38.03  Present     51    31.99    24.26   \n",
       "4          5  134    13.60  3.50      27.78  Present     60    25.99    57.34   \n",
       "\n",
       "   age  chd  \n",
       "0   52    1  \n",
       "1   63    1  \n",
       "2   46    0  \n",
       "3   58    1  \n",
       "4   49    1  "
      ]
     },
     "execution_count": 7,
     "metadata": {},
     "output_type": "execute_result"
    }
   ],
   "source": [
    "df.head(5)"
   ]
  },
  {
   "cell_type": "code",
   "execution_count": 9,
   "metadata": {},
   "outputs": [],
   "source": [
    "from sklearn.linear_model import LogisticRegression\n",
    "from sklearn.linear_model import LinearRegression\n",
    "\n",
    "df['famhist'] = df['famhist'] == 'Present'\n",
    "\n",
    "X,y = df.drop(columns='chd'), df['chd']\n",
    "clf = LinearRegression().fit(X, y)"
   ]
  },
  {
   "cell_type": "code",
   "execution_count": 10,
   "metadata": {},
   "outputs": [],
   "source": [
    "regular_coef, regular_int = clf.coef_, clf.intercept_"
   ]
  },
  {
   "cell_type": "code",
   "execution_count": 11,
   "metadata": {},
   "outputs": [
    {
     "data": {
      "text/html": [
       "<div>\n",
       "<style scoped>\n",
       "    .dataframe tbody tr th:only-of-type {\n",
       "        vertical-align: middle;\n",
       "    }\n",
       "\n",
       "    .dataframe tbody tr th {\n",
       "        vertical-align: top;\n",
       "    }\n",
       "\n",
       "    .dataframe thead th {\n",
       "        text-align: right;\n",
       "    }\n",
       "</style>\n",
       "<table border=\"1\" class=\"dataframe\">\n",
       "  <thead>\n",
       "    <tr style=\"text-align: right;\">\n",
       "      <th></th>\n",
       "      <th>row.names</th>\n",
       "      <th>sbp</th>\n",
       "      <th>tobacco</th>\n",
       "      <th>ldl</th>\n",
       "      <th>adiposity</th>\n",
       "      <th>famhist</th>\n",
       "      <th>typea</th>\n",
       "      <th>obesity</th>\n",
       "      <th>alcohol</th>\n",
       "      <th>age</th>\n",
       "      <th>chd</th>\n",
       "    </tr>\n",
       "  </thead>\n",
       "  <tbody>\n",
       "    <tr>\n",
       "      <th>0</th>\n",
       "      <td>1</td>\n",
       "      <td>160</td>\n",
       "      <td>12.00</td>\n",
       "      <td>5.73</td>\n",
       "      <td>23.11</td>\n",
       "      <td>True</td>\n",
       "      <td>49</td>\n",
       "      <td>25.30</td>\n",
       "      <td>97.20</td>\n",
       "      <td>52</td>\n",
       "      <td>1</td>\n",
       "    </tr>\n",
       "    <tr>\n",
       "      <th>1</th>\n",
       "      <td>2</td>\n",
       "      <td>144</td>\n",
       "      <td>0.01</td>\n",
       "      <td>4.41</td>\n",
       "      <td>28.61</td>\n",
       "      <td>False</td>\n",
       "      <td>55</td>\n",
       "      <td>28.87</td>\n",
       "      <td>2.06</td>\n",
       "      <td>63</td>\n",
       "      <td>1</td>\n",
       "    </tr>\n",
       "    <tr>\n",
       "      <th>2</th>\n",
       "      <td>3</td>\n",
       "      <td>118</td>\n",
       "      <td>0.08</td>\n",
       "      <td>3.48</td>\n",
       "      <td>32.28</td>\n",
       "      <td>True</td>\n",
       "      <td>52</td>\n",
       "      <td>29.14</td>\n",
       "      <td>3.81</td>\n",
       "      <td>46</td>\n",
       "      <td>0</td>\n",
       "    </tr>\n",
       "  </tbody>\n",
       "</table>\n",
       "</div>"
      ],
      "text/plain": [
       "   row.names  sbp  tobacco   ldl  adiposity  famhist  typea  obesity  alcohol  \\\n",
       "0          1  160    12.00  5.73      23.11     True     49    25.30    97.20   \n",
       "1          2  144     0.01  4.41      28.61    False     55    28.87     2.06   \n",
       "2          3  118     0.08  3.48      32.28     True     52    29.14     3.81   \n",
       "\n",
       "   age  chd  \n",
       "0   52    1  \n",
       "1   63    1  \n",
       "2   46    0  "
      ]
     },
     "execution_count": 11,
     "metadata": {},
     "output_type": "execute_result"
    }
   ],
   "source": [
    "df.head(3)"
   ]
  },
  {
   "cell_type": "code",
   "execution_count": 12,
   "metadata": {},
   "outputs": [
    {
     "data": {
      "text/html": [
       "<div>\n",
       "<style scoped>\n",
       "    .dataframe tbody tr th:only-of-type {\n",
       "        vertical-align: middle;\n",
       "    }\n",
       "\n",
       "    .dataframe tbody tr th {\n",
       "        vertical-align: top;\n",
       "    }\n",
       "\n",
       "    .dataframe thead th {\n",
       "        text-align: right;\n",
       "    }\n",
       "</style>\n",
       "<table border=\"1\" class=\"dataframe\">\n",
       "  <thead>\n",
       "    <tr style=\"text-align: right;\">\n",
       "      <th></th>\n",
       "      <th>row.names</th>\n",
       "      <th>sbp</th>\n",
       "      <th>tobacco</th>\n",
       "      <th>ldl</th>\n",
       "      <th>adiposity</th>\n",
       "      <th>famhist</th>\n",
       "      <th>typea</th>\n",
       "      <th>obesity</th>\n",
       "      <th>alcohol</th>\n",
       "      <th>age</th>\n",
       "      <th>chd</th>\n",
       "    </tr>\n",
       "  </thead>\n",
       "  <tbody>\n",
       "    <tr>\n",
       "      <th>0</th>\n",
       "      <td>1</td>\n",
       "      <td>160</td>\n",
       "      <td>12.00</td>\n",
       "      <td>5.73</td>\n",
       "      <td>23.11</td>\n",
       "      <td>False</td>\n",
       "      <td>49</td>\n",
       "      <td>25.30</td>\n",
       "      <td>97.20</td>\n",
       "      <td>52</td>\n",
       "      <td>1</td>\n",
       "    </tr>\n",
       "    <tr>\n",
       "      <th>1</th>\n",
       "      <td>2</td>\n",
       "      <td>144</td>\n",
       "      <td>0.01</td>\n",
       "      <td>4.41</td>\n",
       "      <td>28.61</td>\n",
       "      <td>True</td>\n",
       "      <td>55</td>\n",
       "      <td>28.87</td>\n",
       "      <td>2.06</td>\n",
       "      <td>63</td>\n",
       "      <td>1</td>\n",
       "    </tr>\n",
       "    <tr>\n",
       "      <th>2</th>\n",
       "      <td>3</td>\n",
       "      <td>118</td>\n",
       "      <td>0.08</td>\n",
       "      <td>3.48</td>\n",
       "      <td>32.28</td>\n",
       "      <td>False</td>\n",
       "      <td>52</td>\n",
       "      <td>29.14</td>\n",
       "      <td>3.81</td>\n",
       "      <td>46</td>\n",
       "      <td>0</td>\n",
       "    </tr>\n",
       "  </tbody>\n",
       "</table>\n",
       "</div>"
      ],
      "text/plain": [
       "   row.names  sbp  tobacco   ldl  adiposity  famhist  typea  obesity  alcohol  \\\n",
       "0          1  160    12.00  5.73      23.11    False     49    25.30    97.20   \n",
       "1          2  144     0.01  4.41      28.61     True     55    28.87     2.06   \n",
       "2          3  118     0.08  3.48      32.28    False     52    29.14     3.81   \n",
       "\n",
       "   age  chd  \n",
       "0   52    1  \n",
       "1   63    1  \n",
       "2   46    0  "
      ]
     },
     "execution_count": 12,
     "metadata": {},
     "output_type": "execute_result"
    }
   ],
   "source": [
    "df['famhist'] = ~df['famhist']\n",
    "df.head(3)"
   ]
  },
  {
   "cell_type": "code",
   "execution_count": 13,
   "metadata": {},
   "outputs": [],
   "source": [
    "X,y = df.drop(columns='chd'), df['chd']\n",
    "clf = LinearRegression().fit(X, y)"
   ]
  },
  {
   "cell_type": "code",
   "execution_count": 14,
   "metadata": {},
   "outputs": [],
   "source": [
    "flipped_coef, flipped_int = clf.coef_, clf.intercept_"
   ]
  },
  {
   "cell_type": "code",
   "execution_count": 15,
   "metadata": {},
   "outputs": [
    {
     "name": "stdout",
     "output_type": "stream",
     "text": [
      "[-1.63303503e-04  1.55026561e-03  1.62667067e-02  3.24111900e-02\n",
      "  2.76333760e-03  1.75080192e-01  5.77578191e-03 -1.17786363e-02\n",
      " -1.66734921e-04  6.63766670e-03] -0.46730371948444255\n",
      "[-1.63303503e-04  1.55026561e-03  1.62667067e-02  3.24111900e-02\n",
      "  2.76333760e-03 -1.75080192e-01  5.77578191e-03 -1.17786363e-02\n",
      " -1.66734921e-04  6.63766670e-03] -0.2922235270241447\n"
     ]
    }
   ],
   "source": [
    "# regular_coef, regular_int = clf.coef_, clf.intercept_\n",
    "print(regular_coef, regular_int)\n",
    "print(flipped_coef, flipped_int)"
   ]
  },
  {
   "cell_type": "code",
   "execution_count": 16,
   "metadata": {},
   "outputs": [
    {
     "data": {
      "text/plain": [
       "array([ True,  True,  True,  True,  True, False,  True,  True,  True,\n",
       "        True])"
      ]
     },
     "execution_count": 16,
     "metadata": {},
     "output_type": "execute_result"
    }
   ],
   "source": [
    "regular_coef == flipped_coef"
   ]
  },
  {
   "cell_type": "code",
   "execution_count": 17,
   "metadata": {},
   "outputs": [
    {
     "data": {
      "text/plain": [
       "False"
      ]
     },
     "execution_count": 17,
     "metadata": {},
     "output_type": "execute_result"
    }
   ],
   "source": [
    "regular_int == flipped_int"
   ]
  },
  {
   "cell_type": "markdown",
   "metadata": {},
   "source": [
    "#### Q4)\n",
    "Based on the definitions from class, which of the following identities does not hold? \n",
    "\n",
    "1. $TP+FN=P$\n",
    "2. $TP+FP=\\hat{P}$\n",
    "3. $TPR+FPR=1$\n",
    "4. $TP\\leq min(P,\\hat{P})$\n",
    "\n"
   ]
  },
  {
   "cell_type": "code",
   "execution_count": 18,
   "metadata": {},
   "outputs": [],
   "source": [
    "ans['Q4'] = 3"
   ]
  },
  {
   "cell_type": "markdown",
   "metadata": {},
   "source": [
    "#### Q5)\n",
    "Assume we have two competing models, $mod_1$ and $mod_2$, for the same 2-class classification problem, evlauated on the same test set. \n",
    "Using the definitions we gave in class, with subscript for model number (so $Recall_1$ is the recall of $mod_1$, etc.), which of the following guarantees that $mod_1$ has higher accuracy on the test set?\n",
    "\n",
    "1. $Precision_1 > Precision_2$ and $\\hat{P}_1 < \\hat{P}_2$ \n",
    "2. $TP_1>TP_2$ and $FN_1 < FN_2$\n",
    "3. $Recall_1 > Recall_2$ and  $\\hat{P}_1 > \\hat{P}_2$\n",
    "4. $Recall_1 > Recall_2$ and $FPR_1 < FPR_2$\n"
   ]
  },
  {
   "cell_type": "markdown",
   "metadata": {},
   "source": [
    "Accuracy = [#(TP) + #(TN)] / (TN + FN + TP + FP)\n",
    "\n",
    "1. \n",
    "Precision = TP / P_hat\n",
    "\n",
    "Precision1 > Precision2 ---> TP1 / P_hat1 > TP2 / P_hat2\n",
    "\n",
    "It could be the case that TP1 == TP2 in this case. We have more positive predictions in model1 but same amount of TP. In mod1 we have transferred negative samples to P_hat (or else would see more TP). So this is a less accurate model\n",
    "\n",
    "2. TP1 > TP2 and FN1 < FN2\n",
    "\n",
    "\n",
    "P = TP + FN\n",
    "N = TN + FP\n",
    "\n",
    "\n",
    "[#(TP1) + #(TN1)] / (N+P)\n",
    "\n",
    "[#(TP2) + #(TN2)] / (N+P)\n",
    "\n",
    "\n",
    "3. Recall1 > Recall2 and P1 > P2\n",
    "\n",
    "Recall1 = TP1 / P\n",
    "Recall2 = TP2 / P\n",
    "\n",
    "\n",
    "TP1 / P > TP2 / P ---> TP1 > TP2\n",
    "\n",
    "TP1 + FP1 > TP2 + FP2\n",
    "\n",
    "[#(TP1) + #(TN1)] / (N+P)\n",
    "\n",
    "[#(TP2) + #(TN2)] / (N+P)\n",
    "\n",
    "\n",
    "4. Recall1 > Recall2 and  FPR1 < FPR2\n",
    "\n",
    "TP1 > TP2\n",
    "\n",
    "\n",
    "FPR1 = FP1 / N\n",
    "\n",
    "FP1 / N < FP2 / N\n",
    "\n",
    "FP1 < FP2\n",
    "1-TN1 < 1-TN2\n",
    "TN1 >TN2"
   ]
  },
  {
   "cell_type": "code",
   "execution_count": 19,
   "metadata": {},
   "outputs": [],
   "source": [
    "ans['Q5'] = 4"
   ]
  },
  {
   "cell_type": "markdown",
   "metadata": {},
   "source": [
    "#### Q6)\n",
    "I have a classification model $mod_1$ and I apply it to a test set, measure AUC and get $AUC_1=0.6$. I also construct two additional models: $mod_2=2mod_1$ and $mod_3 = 1-mod_1$ (that is, every prediction goes through the transformation), and measure their AUCs on the same test set. Which of the following holds: \n",
    "\n",
    "1. $AUC_1=AUC_2>AUC_3.$\n",
    "2. $AUC_1>AUC_2>AUC_3.$\n",
    "3. $AUC_1>AUC_2$, don't know about $AUC_3.$\n",
    "4. $AUC_1=AUC_3$, don't know about $AUC_2.$\n"
   ]
  },
  {
   "cell_type": "markdown",
   "metadata": {},
   "source": [
    "2mod1 means we double all probabilities. This scaling retains order so doesn't affect the AUC.\n",
    "\n",
    "\n",
    "\n",
    "The model outputs a probability. 1-p gives us the complement. \n",
    "So if the probability that a chosen positive will be ranked higher than a negative was 60% we now have 0.4 AUC.\n"
   ]
  },
  {
   "cell_type": "markdown",
   "metadata": {},
   "source": [
    "AUC interpretation: the probability that a randomlly chosen positive sample will have a higher score than a randomlly chosen negative sample."
   ]
  },
  {
   "cell_type": "code",
   "execution_count": 20,
   "metadata": {},
   "outputs": [],
   "source": [
    "ans['Q6'] = 1"
   ]
  },
  {
   "cell_type": "markdown",
   "metadata": {},
   "source": [
    "# finish!\n",
    "\n",
    "to submit your HW please run this last code block and follow the instructions. <BR>\n",
    "this code will create a CSV file in the current directory on the azure notebooks project <br>\n",
    "please download it and submit it through moodle"
   ]
  },
  {
   "cell_type": "code",
   "execution_count": 21,
   "metadata": {},
   "outputs": [
    {
     "name": "stdout",
     "output_type": "stream",
     "text": [
      "OK!\n"
     ]
    }
   ],
   "source": [
    "import pandas as pd\n",
    "df_ans = pd.DataFrame.from_dict(ans, orient='index')\n",
    "if df_ans.shape[0] == 8:\n",
    "    df_ans.to_csv('{}_{}.csv'.format(ans['HW'],str(ans['id_number'])))\n",
    "    print(\"OK!\")\n",
    "else:\n",
    "    print(\"seems like you missed a question, make sure you have run all the code blocks\")"
   ]
  }
 ],
 "metadata": {
  "kernelspec": {
   "display_name": "Python 3",
   "language": "python",
   "name": "python3"
  },
  "language_info": {
   "codemirror_mode": {
    "name": "ipython",
    "version": 3
   },
   "file_extension": ".py",
   "mimetype": "text/x-python",
   "name": "python",
   "nbconvert_exporter": "python",
   "pygments_lexer": "ipython3",
   "version": "3.6.6"
  }
 },
 "nbformat": 4,
 "nbformat_minor": 2
}
