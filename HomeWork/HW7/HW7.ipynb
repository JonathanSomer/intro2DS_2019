{
 "cells": [
  {
   "cell_type": "markdown",
   "metadata": {},
   "source": [
    "# HW7: logistic regression"
   ]
  },
  {
   "cell_type": "markdown",
   "metadata": {},
   "source": [
    "## instructions\n",
    "\n",
    "our course will be using an automatic grading system. <br>\n",
    "after each question there will appear a code block with some prepared code to add your answer to a dictionary that will be sent to the course server for grading. <br>\n",
    "please do not edit any code other than in placeholders marked `#### your code here ####` <br>\n",
    "__don't forget to run the code block after you write your answer.__\n",
    "\n",
    "\n",
    "you can add code blocks wherever you want in order to interact with datasets and play with your own code. <br>\n",
    "in the next code block plase fill in your id number and email account in the appropriate placees. <br>\n",
    "and __don't forget to run the block!__"
   ]
  },
  {
   "cell_type": "code",
   "execution_count": null,
   "metadata": {},
   "outputs": [],
   "source": [
    "ans = {}\n",
    "ans['HW'] = 'HW7'\n",
    "ans['id_number'] = #### your id here ####"
   ]
  },
  {
   "cell_type": "markdown",
   "metadata": {},
   "source": [
    "#### Q1)\n",
    "Assume we fit a logistic regression and got a fit $\\hat{\\beta}$. Assume $\\hat{\\beta_1} = \\hat{\\beta_2} = 1$. Now we want to predict $\\widehat{P(y=1|x)}$ at two points $x_0$ and $\\tilde{x}_0$ that are equal in all coordinates except the first two. Assume $x_{01}=100, \\tilde{x}_{01} = 101$ and $x_{02}=0, \\tilde{x}_{02} = -1.$ Denote the resulting predictions at $x_0,\\tilde{x}_0$ by $\\hat{p}_0$ and $\\tilde{p}_0$ respectively. Which of the following holds: \n",
    "\n",
    "1. $\\hat{p}_0$ > $\\tilde{p}_0$ \n",
    "2. $\\hat{p}_0$ < $\\tilde{p}_0$ \n",
    "3. $\\hat{p}_0$ = $\\tilde{p}_0$ \n",
    "4. Not enough information to know \n"
   ]
  },
  {
   "cell_type": "code",
   "execution_count": null,
   "metadata": {},
   "outputs": [],
   "source": [
    "ans['Q1'] = #### your answer here ####"
   ]
  },
  {
   "cell_type": "markdown",
   "metadata": {},
   "source": [
    "#### Q2)\n",
    "For the same setup, now assume we have three points $x_0,u_0,v_0$ that are identical in all but the first coordinate, where we have $x_{01} = 0, u_{01}=1, v_{01}=2.$ Denote the resulting predictions by $\\hat{p}_0,\\hat{q}_0,\\hat{r}_0$ respectively. Which of the following holds: \n",
    "\n",
    "1. $\\frac{log(\\hat{p}_0)}{log(\\hat{q}_0)}= \\frac{log(\\hat{q}_0)}{log(\\hat{r}_0)}$\n",
    "<br>\n",
    "<br>\n",
    "2. $\\frac{\\hat{p}_0}{1-\\hat{p}_0}=\\frac{\\hat{q}_0}{1-\\hat{q}_0}=\\frac{\\hat{r}_0}{1-\\hat{r}_0}$\n",
    "<br>\n",
    "<br>\n",
    "3. $\\frac{\\hat{p}_0}{\\hat{q}_0}= \\frac{\\hat{q}_0}{\\hat{r}_0}$\n",
    "<br>\n",
    "<br>\n",
    "4. $\\frac{\\frac{\\hat{p}_0}{1-\\hat{p}_0}}{\\frac{\\hat{q}_0}{1-\\hat{q}_0}} = \\frac{\\frac{\\hat{q}_0}{1-\\hat{q}_0}}{\\frac{\\hat{r}_0}{1-\\hat{r}_0}}$\n"
   ]
  },
  {
   "cell_type": "code",
   "execution_count": null,
   "metadata": {},
   "outputs": [],
   "source": [
    "ans['Q2'] = #### your answer here ####"
   ]
  },
  {
   "cell_type": "markdown",
   "metadata": {},
   "source": [
    "#### Q3)\n",
    "In the logistic regression we ran in class on the *saheart* data, we got a significant negative coefficient $\\hat{beta}_{fam}$ for the binary variable *famshit_absent* which has the obvious meaning: it is $1$ if there is no family history and $0$ if there is. Assume we replace this variable with a variable *famhist_present = 1 - famhist_absent* which is $1$ if there is family history and $0$ otherwise. The rest of the data (including the training-test split) is unchanged. What would happen to the estimated coefficients if we run exactly the same logistic regression on this new dataset? You can base your answer on calculations, or just try it out...<br>\n",
    "\n",
    "1. Only the intercept and $\\hat{\\beta}_{fam}$ would change, but we cannot say exactly how\n",
    "2. The intercept would change and $\\hat{\\beta}_{fam}$ would switch sign but have the same absolute value\n",
    "3. All coefficients would change, we cannot say exactly how\n",
    "4. Only $\\hat{\\beta}_{fam}$ would change, it would switch sign from negative to positive"
   ]
  },
  {
   "cell_type": "code",
   "execution_count": null,
   "metadata": {},
   "outputs": [],
   "source": [
    "ans['Q3'] = #### your answer here ####"
   ]
  },
  {
   "cell_type": "markdown",
   "metadata": {},
   "source": [
    "#### Q4)\n",
    "Based on the definitions from class, which of the following identities does not hold? \n",
    "\n",
    "1. $TP+FN=P$\n",
    "2. $TP+FP=\\hat{P}$\n",
    "3. $TPR+FPR=1$\n",
    "4. $TP\\leq min(P,\\hat{P})$\n",
    "\n"
   ]
  },
  {
   "cell_type": "code",
   "execution_count": null,
   "metadata": {},
   "outputs": [],
   "source": [
    "ans['Q4'] = #### your answer here ####"
   ]
  },
  {
   "cell_type": "markdown",
   "metadata": {},
   "source": [
    "#### Q5)\n",
    "Assume we have two competing models, $mod_1$ and $mod_2$, for the same 2-class classification problem, evlauated on the same test set. \n",
    "Using the definitions we gave in class, with subscript for model number (so $Recall_1$ is the recall of $mod_1$, etc.), which of the following guarantees that $mod_1$ has higher accuracy on the test set?\n",
    "\n",
    "1. $Precision_1 > Precision_2$ and $\\hat{P}_1 < \\hat{P}_2$ \n",
    "2. $TP_1>TP_2$ and $FN_1 < FN_2$\n",
    "3. $Recall_1 > Recall_2$ and  $\\hat{P}_1 > \\hat{P}_2$\n",
    "4. $Recall_1 > Recall_2$ and $FPR_1 < FPR_2$\n"
   ]
  },
  {
   "cell_type": "code",
   "execution_count": null,
   "metadata": {},
   "outputs": [],
   "source": [
    "ans['Q5'] = #### your answer here ####"
   ]
  },
  {
   "cell_type": "markdown",
   "metadata": {},
   "source": [
    "#### Q6)\n",
    "I have a classification model $mod_1$ and I apply it to a test set, measure AUC and get $AUC_1=0.6$. I also construct two additional models: $mod_2=2mod_1$ and $mod_3 = 1-mod_1$ (that is, every prediction goes through the transformation), and measure their AUCs on the same test set. Which of the following holds: \n",
    "\n",
    "1. $AUC_1=AUC_2>AUC_3.$\n",
    "2. $AUC_1>AUC_2>AUC_3.$\n",
    "3. $AUC_1>AUC_2$, don't know about $AUC_3.$\n",
    "4. $AUC_1=AUC_3$, don't know about $AUC_2.$\n"
   ]
  },
  {
   "cell_type": "code",
   "execution_count": null,
   "metadata": {},
   "outputs": [],
   "source": [
    "ans['Q6'] = #### your answer here ####"
   ]
  },
  {
   "cell_type": "markdown",
   "metadata": {},
   "source": [
    "# finish!\n",
    "\n",
    "to submit your HW please run this last code block and follow the instructions. <BR>\n",
    "this code will create a CSV file in the current directory on the azure notebooks project <br>\n",
    "please download it and submit it through moodle"
   ]
  },
  {
   "cell_type": "code",
   "execution_count": null,
   "metadata": {},
   "outputs": [],
   "source": [
    "import pandas as pd\n",
    "df_ans = pd.DataFrame.from_dict(ans, orient='index')\n",
    "if df_ans.shape[0] == 8:\n",
    "    df_ans.to_csv('{}_{}.csv'.format(ans['HW'],str(ans['id_number'])))\n",
    "    print(\"OK!\")\n",
    "else:\n",
    "    print(\"seems like you missed a question, make sure you have run all the code blocks\")"
   ]
  }
 ],
 "metadata": {
  "kernelspec": {
   "display_name": "Python 3",
   "language": "python",
   "name": "python3"
  },
  "language_info": {
   "codemirror_mode": {
    "name": "ipython",
    "version": 3
   },
   "file_extension": ".py",
   "mimetype": "text/x-python",
   "name": "python",
   "nbconvert_exporter": "python",
   "pygments_lexer": "ipython3",
   "version": "3.6.4"
  }
 },
 "nbformat": 4,
 "nbformat_minor": 2
}
