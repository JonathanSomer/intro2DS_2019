{
 "cells": [
  {
   "cell_type": "markdown",
   "metadata": {},
   "source": [
    "# CSD 2: Exploratory Data Analysis"
   ]
  },
  {
   "cell_type": "code",
   "execution_count": null,
   "metadata": {},
   "outputs": [],
   "source": [
    "ans = {}\n",
    "ans['id_number'] = ### your id here ###\n",
    "ans['HW'] = 'CSD2'"
   ]
  },
  {
   "cell_type": "markdown",
   "metadata": {},
   "source": [
    "1. For this Case Study assignment you should have in your current folder the ebay_boys_girls_shirts folder, holding the four CSV files describing the train and test shirts images, and the boys and girls images folders. This is what we did in CSD 1, <br> **after the first time you run this block, if you already have the data in your current folder you don't need to run this again!**: <br> this may take up to 10 minutes... :("
   ]
  },
  {
   "cell_type": "code",
   "execution_count": null,
   "metadata": {},
   "outputs": [],
   "source": [
    "import requests\n",
    "import tarfile\n",
    "\n",
    "url = \"http://www.tau.ac.il/~saharon/DScourse/ebay_boys_girls_shirts.tar.gz\"\n",
    "r = requests.get(url)\n",
    "\n",
    "with open(\"ebay_boys_girls_shirts.tar\", \"wb\") as file:\n",
    "    file.write(r.content)\n",
    "\n",
    "with tarfile.open(\"ebay_boys_girls_shirts.tar\") as tar:\n",
    "    tar.extractall('.')"
   ]
  },
  {
   "cell_type": "markdown",
   "metadata": {},
   "source": [
    "2. Let's look at some of the images in the training set. In order to see boys vs. girls shirts, we'll display a random group from each folder, side by side.\n",
    "\n",
    "Let's get the metadata CSV files first as `pandas` DataFrames:  <br> inspect these DF's annd understand what the data in them means"
   ]
  },
  {
   "cell_type": "code",
   "execution_count": null,
   "metadata": {},
   "outputs": [],
   "source": [
    "import pandas as pd\n",
    "\n",
    "folder = 'ebay_boys_girls_shirts/'\n",
    "boys_train_df = pd.read_csv(folder + 'boys_train.csv')\n",
    "girls_train_df = pd.read_csv(folder + 'girls_train.csv')"
   ]
  },
  {
   "cell_type": "markdown",
   "metadata": {},
   "source": [
    "3. Get a random sample of 400 image files from each folder, completing the following function: <br>\n",
    "`file_ids_list` should hold a random sample of size `n_sample`  from `df`. "
   ]
  },
  {
   "cell_type": "code",
   "execution_count": null,
   "metadata": {},
   "outputs": [],
   "source": [
    "def get_file_list(df, folder, n_sample = None, seed = None):\n",
    "    if n_sample is None:\n",
    "        file_ids_list = df.file_id.values\n",
    "    else:\n",
    "        file_ids_list = ### YOUR CODE HERE ###\n",
    "    files_list = [folder + '/' + str(file_id) + '.jpg' for file_id in file_ids_list]\n",
    "    return files_list\n",
    "\n",
    "boys_display_files = get_file_list(boys_train_df, folder + 'boys', 400)\n",
    "girls_display_files = get_file_list(girls_train_df, folder + 'girls', 400)\n",
    "print(boys_display_files[:5])"
   ]
  },
  {
   "cell_type": "markdown",
   "metadata": {},
   "source": [
    "4. Next we want to read each batch of random images as a 4D `numpy` array. Why 4D? That's [N images X height X width X N color channels], where in our case `N color channels` is 3 (Red, Green and Blue).<br>\n",
    "you might want to make sure you understand what exactly is a digital image, and why we treat it as a 3d matrix.\n",
    "\n",
    "The function `read_image_and_resize` takes an image file address `f`, reads it with the standard [matplotlib](https://matplotlib.org/) library, `resize`s it to the given width and height in pixels (we use 100 for both) with the [skimage](http://scikit-image.org/docs/dev/api/skimage.html) library, and makes sure it is a 4D array, the size of `[1, 100, 100, 3]`:"
   ]
  },
  {
   "cell_type": "code",
   "execution_count": null,
   "metadata": {},
   "outputs": [],
   "source": [
    "import warnings\n",
    "import numpy as np\n",
    "import matplotlib.pyplot as plt\n",
    "from skimage import transform, color, img_as_ubyte\n",
    "\n",
    "%matplotlib inline\n",
    "\n",
    "def read_image_and_resize(f, w = 100, h = 100):\n",
    "    img = plt.imread(f)\n",
    "    with warnings.catch_warnings():\n",
    "        warnings.simplefilter(\"ignore\")\n",
    "        img = transform.resize(img, (w, h), mode='constant')\n",
    "        img = img_as_ubyte(img)\n",
    "    img = color.gray2rgb(img)\n",
    "    img = img[np.newaxis, :, :, :3]\n",
    "    if img.shape != (1, 100, 100, 3):\n",
    "        raise ValueError(f + str(img.shape))\n",
    "    return img"
   ]
  },
  {
   "cell_type": "markdown",
   "metadata": {},
   "source": [
    "5. Complete the `read_images_4d_array` function which receives for boys and for girls our list of random images files and returns the final 4D array.\n",
    "\n",
    "First create the list of single 4D arrays called `images_list`. Then lookup [numpy](http://www.numpy.org/) documentation (or wherever you want) to see the proper numpy function to \"glue\" the list of arrays into a single array called `images_array`."
   ]
  },
  {
   "cell_type": "code",
   "execution_count": null,
   "metadata": {},
   "outputs": [],
   "source": [
    "def read_images_4d_array(files_list):\n",
    "    images_list = [### YOUR CODE HERE ### for file in files_list]\n",
    "    images_array = ### YOUR CODE HERE ###\n",
    "    return images_array"
   ]
  },
  {
   "cell_type": "markdown",
   "metadata": {},
   "source": [
    "6. Your final arrays for boys and for girls should be of dimensions:"
   ]
  },
  {
   "cell_type": "code",
   "execution_count": null,
   "metadata": {},
   "outputs": [],
   "source": [
    "boys_display_images = read_images_4d_array(boys_display_files)\n",
    "girls_display_images = read_images_4d_array(girls_display_files)\n",
    "print(boys_display_images.shape)\n",
    "ans['Q1'] = boys_display_images.shape"
   ]
  },
  {
   "cell_type": "markdown",
   "metadata": {},
   "source": [
    "And of type:"
   ]
  },
  {
   "cell_type": "code",
   "execution_count": null,
   "metadata": {},
   "outputs": [],
   "source": [
    "print(boys_display_images.dtype)\n",
    "ans['Q2'] = boys_display_images.dtype"
   ]
  },
  {
   "cell_type": "markdown",
   "metadata": {},
   "source": [
    "What is their size on disk? You can check the size of an object in python in bytes like this:"
   ]
  },
  {
   "cell_type": "code",
   "execution_count": null,
   "metadata": {},
   "outputs": [],
   "source": [
    "import sys\n",
    "\n",
    "sys.getsizeof(boys_display_images)"
   ]
  },
  {
   "cell_type": "markdown",
   "metadata": {},
   "source": [
    "this is the size in bytes.<br>\n",
    "Read about [numpy types](https://www.numpy.org/devdocs/user/basics.types.html). <br> See that you get why we got 12MB (120 million bytes)."
   ]
  },
  {
   "cell_type": "markdown",
   "metadata": {},
   "source": [
    "7. The function `merge_images` will take our 4D images numpy array of 400 images and make it a 20x20 grid of sub-images. Complete the code to display two grids of boys and girls shirts side by side, as you see below:"
   ]
  },
  {
   "cell_type": "code",
   "execution_count": null,
   "metadata": {},
   "outputs": [],
   "source": [
    "def merge_images(image_batch, size = [20, 20]):\n",
    "    h,w = image_batch.shape[1], image_batch.shape[2]\n",
    "    c = image_batch.shape[3]\n",
    "    img = np.zeros((int(h*size[0]), w*size[1], c))\n",
    "    for idx, im in enumerate(image_batch):\n",
    "        i = idx % size[1]\n",
    "        j = idx // size[1]\n",
    "        img[j*h:j*h+h, i*w:i*w+w,:] = im/255 #notice we divide by 255 to get 0-1 float range\n",
    "    return img\n",
    "\n",
    "boys_merged = ### YOUR CODE HERE ###\n",
    "girls_merged = ### YOUR CODE HERE ###\n",
    "\n",
    "plt.figure(figsize=(10,5))\n",
    "plt.subplot(1, 2, 1)\n",
    "plt.title('Boys Shirts')\n",
    "plt.axis('off')\n",
    "### YOUR CODE HERE ###"
   ]
  },
  {
   "cell_type": "markdown",
   "metadata": {},
   "source": [
    "What would you say is the most obvious difference between boys and girls shirts images?"
   ]
  },
  {
   "cell_type": "markdown",
   "metadata": {},
   "source": [
    "8. Let's look at the color histograms for the RGB channels for our images:\n",
    "\n",
    "You'll need to know how to flatten a N-D numpy array: <br>"
   ]
  },
  {
   "cell_type": "code",
   "execution_count": null,
   "metadata": {},
   "outputs": [],
   "source": [
    "a = np.array([[[1, 2], [3, 4]], [[5, 6], [7, 8]]])\n",
    "print('a 3d array:')\n",
    "print(a)\n",
    "print(\"it's shape:\")\n",
    "print(a.shape)\n",
    "print(\"the 2d matrix on the first level of the 3d array\")\n",
    "print(a[:, :, 0])\n",
    "print(\"the matrix's values flattened as a 1d array\")\n",
    "print(a[:, :, 0].flatten())"
   ]
  },
  {
   "cell_type": "markdown",
   "metadata": {},
   "source": [
    "Complete the `plot_hist_normed` function to see all color histograms for boys and girls shirts images. See the function usage below for more hints regarding its expected input: <br>\n",
    "\n",
    "if you prefer you may change the code to use seaborn instead of matplotlib for the histogram construction\n"
   ]
  },
  {
   "cell_type": "code",
   "execution_count": null,
   "metadata": {},
   "outputs": [],
   "source": [
    "def plot_hist(images, channel, col):\n",
    "    vals = ### YOUR CODE HERE ###\n",
    "    plt.hist(### YOUR CODE HERE ###)\n",
    "    plt.ylim([0, 0.3])\n",
    "    plt.yticks([])\n",
    "    \n",
    "plt.figure(figsize =(10, 5))\n",
    "plt.subplot(3, 2, 1)\n",
    "plot_hist_normed(boys_display_images, 0, 'red')\n",
    "plt.title('Boys Shirts')\n",
    "plt.subplot(3, 2, 2)\n",
    "plot_hist_normed(girls_display_images, 0, 'red')\n",
    "plt.title('Girls Shirts')\n",
    "plt.subplot(3, 2, 3)\n",
    "plot_hist_normed(boys_display_images, 1, 'green')\n",
    "plt.subplot(3, 2, 4)\n",
    "plot_hist_normed(girls_display_images, 1, 'green')\n",
    "plt.subplot(3, 2, 5)\n",
    "plot_hist_normed(boys_display_images, 2, 'blue')\n",
    "plt.subplot(3, 2, 6)\n",
    "plot_hist_normed(girls_display_images, 2, 'blue')\n",
    "plt.show()"
   ]
  },
  {
   "cell_type": "markdown",
   "metadata": {},
   "source": [
    "What would you say is the most obvious difference between boys and girls shirts images?"
   ]
  },
  {
   "cell_type": "markdown",
   "metadata": {},
   "source": [
    "9. See the channels mean and median verify your \"feelings\". Also print out the share of pixels above say 220:"
   ]
  },
  {
   "cell_type": "code",
   "execution_count": null,
   "metadata": {},
   "outputs": [],
   "source": [
    "def summary(images, channel, col):\n",
    "    vals = ### YOUR CODE HERE ###\n",
    "    chan_mean = ### YOUR CODE HERE ###\n",
    "    chan_median = ### YOUR CODE HERE ###\n",
    "    chan_share_above_220 = ### YOUR CODE HERE ###\n",
    "    print('{} mean: {}, median: {}, share above 220: {}'.format(col, str(chan_mean), str(chan_median), str(chan_share_above_220)))\n",
    "\n",
    "print('Boys:')\n",
    "summary(boys_display_images, 0, 'red')\n",
    "summary(boys_display_images, 1, 'green')\n",
    "summary(boys_display_images, 2, 'blue')\n",
    "print('Girls:')\n",
    "summary(girls_display_images, 0, 'red')\n",
    "summary(girls_display_images, 1, 'green')\n",
    "summary(girls_display_images, 2, 'blue')"
   ]
  },
  {
   "cell_type": "markdown",
   "metadata": {},
   "source": [
    "for the summary statistics of the red channel of Girl shirts, please fill in:\n",
    "\n",
    "#### Q3) mean\n",
    "#### Q4) median\n",
    "#### Q5) share above 220"
   ]
  },
  {
   "cell_type": "code",
   "execution_count": null,
   "metadata": {},
   "outputs": [],
   "source": [
    "ans['Q3'] = ### YOUR answer HERE ###\n",
    "ans['Q4'] = ### YOUR answer HERE ###\n",
    "ans['Q5'] = ### YOUR answer HERE ###"
   ]
  },
  {
   "cell_type": "markdown",
   "metadata": {},
   "source": [
    "## finished!\n",
    "you played with some real world image data you gathered from the web!<br>\n",
    "exciting!<br>\n",
    "you know how to gather and \"feel\" real world data using basic plots and summary satatistics.<br>\n",
    "now submit your HW so we would know it too."
   ]
  },
  {
   "cell_type": "code",
   "execution_count": null,
   "metadata": {},
   "outputs": [],
   "source": [
    "import pandas as pd\n",
    "df_ans = pd.DataFrame.from_dict(ans, orient='index')\n",
    "if df_ans.shape[0] == 7:\n",
    "    df_ans.to_csv('{}_{}.csv'.format(ans['HW'],str(ans['id_number'])))\n",
    "else:\n",
    "    print(\"seems like you missed a question, make sure you have run all the code blocks\")"
   ]
  }
 ],
 "metadata": {
  "kernelspec": {
   "display_name": "Python 3",
   "language": "python",
   "name": "python3"
  },
  "language_info": {
   "codemirror_mode": {
    "name": "ipython",
    "version": 3
   },
   "file_extension": ".py",
   "mimetype": "text/x-python",
   "name": "python",
   "nbconvert_exporter": "python",
   "pygments_lexer": "ipython3",
   "version": "3.6.4"
  }
 },
 "nbformat": 4,
 "nbformat_minor": 2
}
