{
 "cells": [
  {
   "cell_type": "code",
   "execution_count": 134,
   "metadata": {},
   "outputs": [],
   "source": [
    "import numpy as np\n",
    "import matplotlib.pyplot as plt"
   ]
  },
  {
   "cell_type": "markdown",
   "metadata": {},
   "source": [
    "# HW5: statistical inference"
   ]
  },
  {
   "cell_type": "markdown",
   "metadata": {},
   "source": [
    "## instructions\n",
    "\n",
    "our course will be using an automatic grading system. <br>\n",
    "after each question there will appear a code block with some prepared code to add your answer to a dictionary that will be sent to the course server for grading. <br>\n",
    "please do not edit any code other than in placeholders marked `#### your code here ####` <br>\n",
    "__don't forget to run the code block after you write your answer.__\n",
    "\n",
    "\n",
    "you can add code blocks wherever you want in order to interact with datasets and play with your own code. <br>\n",
    "in the next code block plase fill in your id number and email account in the appropriate placees. <br>\n",
    "and __don't forget to run the block!__"
   ]
  },
  {
   "cell_type": "code",
   "execution_count": 1,
   "metadata": {},
   "outputs": [],
   "source": [
    "ans = {}\n",
    "ans['HW'] = 'HW5'\n",
    "ans['id_number'] = 307923383"
   ]
  },
  {
   "cell_type": "markdown",
   "metadata": {},
   "source": [
    "## CLT, LLN"
   ]
  },
  {
   "cell_type": "markdown",
   "metadata": {},
   "source": [
    "In addition to the CLT which we learned in class, a simpler important law is the Law of Large Numbers (LLN): If $X_1,X_2,...$ are independent and identically distributed with mean $\\mu$ and variance $\\sigma^2$, then\n",
    "\n",
    "$\\bar{X}_n \\longrightarrow_{n \\rightarrow \\infty} \\mu$, meaning as $n$ increases, the average is guaranteed to get closer to the true mean. The LLN is a consequence of the CLT (see that you understand why).\n",
    "\n",
    "For the following problems, assume we have a fair coin which gives heads and tails with probability $p=0.5$ (or a fair roullette that gives red or black with probability exactly $0.5$).\n",
    "\n",
    "We toss the coin $50$ times and get $20$ heads and $30$ tails (40% heads). Now we want to use the CLT and/or LLN to hypothesize on what will happen in future tosses.\n",
    "\n",
    " \n",
    "\n",
    "#### Q1) \n",
    "If we toss the coin $50$ more times now, what do we expect? (Hint: one of the answer's is called \"the gambler's fallacy\")\n",
    "\n",
    " \n",
    "\n",
    "1. More heads than tails, because by the LLN we converge to $0.5$\n",
    "2. The exact same number of heads and tails, because the coin is fair\n",
    "3. Approximately $1/2$ of the tosses will give heads and $1/2$ tails, becuase the coin is fair and future tosses are independent of past tosses\n",
    "4. None of the above\n",
    "\n",
    " \n",
    "\n"
   ]
  },
  {
   "cell_type": "code",
   "execution_count": 2,
   "metadata": {},
   "outputs": [],
   "source": [
    "ans['Q1'] = 3"
   ]
  },
  {
   "cell_type": "markdown",
   "metadata": {},
   "source": [
    "\n",
    "#### Q2)\n",
    "Now instead of making another $50$ tosses, we decide instead to make another $10^4$ tosses. Denote:\n",
    "\n",
    " \n",
    "\n",
    "Number of heads in first $50$: $\\hat{h}=20$\n",
    "\n",
    "Number of heads in next $10^4$: $\\hat{g}=?$\n",
    "\n",
    "Proportion of heads in first $50$: $\\hat{p}=0.4$\n",
    "\n",
    "Proportion of heads in next $10^4$: $\\hat{q}=?$\n",
    "\n",
    " \n",
    "which of the following most likely holds according to CLT and LLN:\n",
    "<br>\n",
    " \n",
    "\n",
    "1. $|\\hat{h}-25| < |\\hat{h}+\\hat{g}-5025|$ and $|\\hat{p}-0.5|>|\\hat{q}-0.5|$\n",
    "<br><br>\n",
    "2. $|\\hat{h}-25| > |\\hat{h}+\\hat{g}-5025|$ and $|\\hat{p}-0.5|>|\\hat{q}-0.5|$\n",
    "<br><br>\n",
    "3. $|\\hat{h}-25| < |\\hat{h}+\\hat{g}-5025|$ and $|\\hat{p}-0.5|<|\\hat{q}-0.5|$\n",
    "<br><br>\n",
    "4. $|\\hat{h}-25| > |\\hat{h}+\\hat{g}-5025|$ and $|\\hat{p}-0.5|<|\\hat{q}-0.5|$\n",
    "\n"
   ]
  },
  {
   "cell_type": "code",
   "execution_count": 191,
   "metadata": {},
   "outputs": [
    {
     "name": "stdout",
     "output_type": "stream",
     "text": [
      "0.92\n",
      "0.0\n"
     ]
    }
   ],
   "source": [
    "h = 20\n",
    "p_hat = 0.4\n",
    "n = 10**4\n",
    "true_p = 0.5\n",
    "\n",
    "n_experiments = 1000\n",
    "left_lt = 0.\n",
    "right_lt = 0.\n",
    "\n",
    "for i in range(n_experiments):\n",
    "    g = np.random.binomial(n=n,p=true_p)\n",
    "    q = g / n\n",
    "    \n",
    "    left_lt += np.abs(h-25) < np.abs(h+g - 5025)\n",
    "    right_lt += np.abs(p_hat-0.5) < np.abs(q-0.5)\n",
    "\n",
    "print(left_lt / n_experiments)\n",
    "print(right_lt / n_experiments)"
   ]
  },
  {
   "cell_type": "code",
   "execution_count": 50,
   "metadata": {},
   "outputs": [],
   "source": [
    "ans['Q2'] = 1"
   ]
  },
  {
   "cell_type": "markdown",
   "metadata": {},
   "source": [
    "## hypothesis testing"
   ]
  },
  {
   "cell_type": "markdown",
   "metadata": {},
   "source": [
    "\n",
    "#### Q3)\n",
    "Thinking of a criminal trial as a hypothesis test where the null hypothesis is innocence, how do we map the concepts of power, type-1 error to this setting?\n",
    "\n",
    " \n",
    "\n",
    "1. Power: how strong is the evidence against the defendent; type-1 error: probability of acquitting a guilty person\n",
    "\n",
    "2. Power: the probability to convict an innocent person; type-1 error: probability of convicting an innocent person\n",
    "\n",
    "3. Power: probability to convict a guilty person; type-1 error: probability of convicting an innocent person\n",
    "\n",
    "4. Power: probability that the judge will make the right decision; type-1 error: probability that the judge will make a mistake"
   ]
  },
  {
   "cell_type": "markdown",
   "metadata": {},
   "source": [
    "* Power: the probability of rejecting H0 given that H1 is true. --> The probability a criminal is convicted\n",
    "\n",
    "* type-1 error: The probability of falsely rejecting H0 --> the probability an innocent civilian is convicted"
   ]
  },
  {
   "cell_type": "code",
   "execution_count": 51,
   "metadata": {},
   "outputs": [],
   "source": [
    "ans['Q3'] = 3"
   ]
  },
  {
   "cell_type": "markdown",
   "metadata": {},
   "source": [
    "#### Q4)\n",
    "The time in years until a regular lightbulb burns is distributed Exponential(1). I take a sample of 20 random bulbs, what is the distribution of the time until the first one burns?\n",
    "<br>Hint: Calculate the probability that until time $t$ no bulb has burned out, and use it to calculate the cumulative distribution function for the first burn time. \n",
    "\n",
    "1. $Exponential(20)$\n",
    "\n",
    "2. $Normal(1, \\frac{1}{400})$\n",
    "\n",
    "3. $Poisson(\\frac{1}{20})$\n",
    "\n",
    "4. Cannot know"
   ]
  },
  {
   "cell_type": "code",
   "execution_count": 52,
   "metadata": {},
   "outputs": [],
   "source": [
    "ans['Q4'] = 1"
   ]
  },
  {
   "cell_type": "markdown",
   "metadata": {},
   "source": [
    "#### Q5)\n",
    "Now the maker of the bulbs I bought claims they are special bulbs that have Exponential($1/3$) life span with mean of $3$ years. After waiting patiently I find that the first of the 20 bulbs burned after 2 months ($\\frac{1}{6}$ a year). With the regular distribution Exponential(1) as the null, what is the one-sided p-value for the observed value, and what is the conclusion at level $0.05$?\\\\Hint: Remember the p-value is a tail probability under the null \n",
    "\n",
    "1. 0.33, do not reject null\n",
    "\n",
    "2. 0.33, reject null \n",
    "\n",
    "3. 0.036, do not reject null\n",
    "\n",
    "4. 0.036, reject null"
   ]
  },
  {
   "cell_type": "code",
   "execution_count": 58,
   "metadata": {},
   "outputs": [
    {
     "data": {
      "text/plain": [
       "0.03567399334725241"
      ]
     },
     "execution_count": 58,
     "metadata": {},
     "output_type": "execute_result"
    }
   ],
   "source": [
    "1-(1-np.exp(-20*(1/6)))"
   ]
  },
  {
   "cell_type": "code",
   "execution_count": 59,
   "metadata": {},
   "outputs": [],
   "source": [
    "ans['Q5'] = 4"
   ]
  },
  {
   "cell_type": "markdown",
   "metadata": {},
   "source": [
    "#### Q6)\n",
    "Now assume that we want to use the average life span instead of the minimum to test the same hypotheses (i.e., Exponential(1) vs Exponential(1/3)). Assuming the observed average is $1.5$ years, calculate the one-sided p-value using the normal approximation and make the conclusion at level $0.05$.  \n",
    "\n",
    "1. 0.012, do not reject null\n",
    "\n",
    "2. 0.012, reject null \n",
    "\n",
    "3. About $10^{-11}$, do not reject null\n",
    "\n",
    "4. About $10^{-11}$, reject null"
   ]
  },
  {
   "cell_type": "markdown",
   "metadata": {},
   "source": [
    "We now have an approximately normal distribution with:\n",
    "mean = 1/lambda = 1\n",
    "variance  = (1/lambda**2) / n = 1 / 20\n",
    "\n",
    "\n",
    "So (X_bar - mean) / sqrt(variance) is distributed normally"
   ]
  },
  {
   "cell_type": "code",
   "execution_count": 60,
   "metadata": {},
   "outputs": [],
   "source": [
    "from scipy.stats import norm"
   ]
  },
  {
   "cell_type": "code",
   "execution_count": 111,
   "metadata": {},
   "outputs": [
    {
     "data": {
      "text/plain": [
       "0.0126736593387341"
      ]
     },
     "execution_count": 111,
     "metadata": {},
     "output_type": "execute_result"
    }
   ],
   "source": [
    "1 - norm.cdf((1.5 - 1) / (np.sqrt(1/20)))"
   ]
  },
  {
   "cell_type": "code",
   "execution_count": 67,
   "metadata": {},
   "outputs": [],
   "source": [
    "ans['Q6'] = 2"
   ]
  },
  {
   "cell_type": "markdown",
   "metadata": {},
   "source": [
    "#### Q7)\n",
    "Calculate the power for the problem in the previous item: comparing $H_0: Exp(1)$ to $H_1: Exp(1/3)$ using 20 observations and a normal approximation.\n",
    "\n",
    "1. About 0.5\n",
    "\n",
    "2. About 0.8\n",
    "\n",
    "3. About 0.9\n",
    "\n",
    "4. About 0.99"
   ]
  },
  {
   "cell_type": "markdown",
   "metadata": {},
   "source": [
    "The power is the probability of rejecting H0 given that H1 is true.\n",
    "\n",
    "First, let's find the critical value for the previous problem:"
   ]
  },
  {
   "cell_type": "code",
   "execution_count": 115,
   "metadata": {},
   "outputs": [],
   "source": [
    "from scipy import stats"
   ]
  },
  {
   "cell_type": "code",
   "execution_count": 116,
   "metadata": {},
   "outputs": [],
   "source": [
    "critical_x = 1 + (np.sqrt(1/20))*1.64"
   ]
  },
  {
   "cell_type": "code",
   "execution_count": 117,
   "metadata": {},
   "outputs": [
    {
     "data": {
      "text/plain": [
       "0.9925491095528589"
      ]
     },
     "execution_count": 117,
     "metadata": {},
     "output_type": "execute_result"
    }
   ],
   "source": [
    "1 - norm.cdf((critical_x - 3.) / (np.sqrt(9./20)))"
   ]
  },
  {
   "cell_type": "code",
   "execution_count": 118,
   "metadata": {},
   "outputs": [],
   "source": [
    "ans['Q7'] = 4"
   ]
  },
  {
   "cell_type": "markdown",
   "metadata": {},
   "source": [
    "## simulations\n",
    "\n",
    "the following questions require a simulation to compute the answers.<br>\n",
    "use at least 100,000 runs in order to get stable results"
   ]
  },
  {
   "cell_type": "code",
   "execution_count": 130,
   "metadata": {},
   "outputs": [],
   "source": [
    "n_runs = 100000"
   ]
  },
  {
   "cell_type": "markdown",
   "metadata": {},
   "source": [
    "#### Q8)\n",
    "Dr. strangelove is a crazy scientist. he recently bought a new die.\n",
    "dr.strangelove wants to check if his new die is fair (producing each possible output [1,6] with an equal probability of 1/6).\n",
    "he decides to define his test statistic as follows:\n",
    "\n",
    "1. roll the die.\n",
    "2. multiply the result by a random number from the exponential distribution with expectation of (die_roll+1)/2\n",
    "3. add to the previous result, the original die roll squared.\n",
    "\n",
    "Dr.strangelove decided to reject his null hypothesis (the die is fair) if the test statistic is greater or equal to 70.<br>\n",
    "does this procedure, preserve a type one error rate of at most 0.05 ?\n",
    "\n",
    "##### hint: read carefully the docs for numpy.random and make sure you use the correct parameterization for the distributions in your  simulation \n",
    "\n",
    "1. yes\n",
    "2. no\n"
   ]
  },
  {
   "cell_type": "code",
   "execution_count": 169,
   "metadata": {},
   "outputs": [],
   "source": [
    "results = []\n",
    "for i in range(n_runs):\n",
    "    # roll die\n",
    "    die_roll = np.random.choice(np.arange(1,7))\n",
    "    beta = (die_roll+1)/2.\n",
    "    added_value = die_roll*np.random.exponential(beta)\n",
    "    results.append(added_value + die_roll**2)\n",
    "    "
   ]
  },
  {
   "cell_type": "code",
   "execution_count": 172,
   "metadata": {},
   "outputs": [
    {
     "data": {
      "image/png": "[encoded data removed]",
      "text/plain": [
       "<Figure size 432x288 with 1 Axes>"
      ]
     },
     "metadata": {
      "needs_background": "light"
     },
     "output_type": "display_data"
    },
    {
     "name": "stdout",
     "output_type": "stream",
     "text": [
      "0.0420\n"
     ]
    }
   ],
   "source": [
    "plt.hist(results)\n",
    "plt.show()\n",
    "print(\"{:.4f}\".format(np.mean(np.array(results) >= 70)))"
   ]
  },
  {
   "cell_type": "code",
   "execution_count": 173,
   "metadata": {},
   "outputs": [],
   "source": [
    "ans['Q8'] = 1"
   ]
  },
  {
   "cell_type": "markdown",
   "metadata": {},
   "source": [
    "#### Q9)\n",
    "with an alternative hypothesis that the die lands on 5 or 6, each with probbility 0.5 (and never lands on [1,4])\n",
    "what is the __power__ of following Dr.strangelove's procedure and rule of rejection (if the final result is greater or equal to 70)?\n",
    "\n",
    "report the result of your simulation with percision of up to 2 decimal point (X.xx) round down."
   ]
  },
  {
   "cell_type": "code",
   "execution_count": 186,
   "metadata": {},
   "outputs": [
    {
     "data": {
      "image/png": "[encoded data removed]",
      "text/plain": [
       "<Figure size 432x288 with 1 Axes>"
      ]
     },
     "metadata": {
      "needs_background": "light"
     },
     "output_type": "display_data"
    },
    {
     "name": "stdout",
     "output_type": "stream",
     "text": [
      "0.1240\n"
     ]
    }
   ],
   "source": [
    "results = []\n",
    "for i in range(n_runs):\n",
    "    # roll die\n",
    "    die_roll = np.random.choice(np.arange(5,7))\n",
    "    beta = (die_roll+1)/2.\n",
    "    added_value = die_roll*np.random.exponential(beta)\n",
    "    results.append(added_value + die_roll**2)\n",
    "\n",
    "plt.hist(results)\n",
    "plt.show()\n",
    "print(\"{:.4f}\".format(np.mean(np.array(results) >= 70)))"
   ]
  },
  {
   "cell_type": "code",
   "execution_count": 187,
   "metadata": {},
   "outputs": [],
   "source": [
    "ans['Q9'] = 0.12"
   ]
  },
  {
   "cell_type": "markdown",
   "metadata": {},
   "source": [
    "#### Q10)\n",
    "with the same setting of Q9, what woud be the type 2 error probability"
   ]
  },
  {
   "cell_type": "code",
   "execution_count": 188,
   "metadata": {},
   "outputs": [
    {
     "data": {
      "text/plain": [
       "0.88"
      ]
     },
     "execution_count": 188,
     "metadata": {},
     "output_type": "execute_result"
    }
   ],
   "source": [
    "1-0.12"
   ]
  },
  {
   "cell_type": "code",
   "execution_count": 189,
   "metadata": {},
   "outputs": [],
   "source": [
    "ans['Q10'] = 0.88"
   ]
  },
  {
   "cell_type": "markdown",
   "metadata": {},
   "source": [
    "# finish!\n",
    "\n",
    "to submit your HW please run this last code block and follow the instructions. <BR>\n",
    "this code will create a CSV file in the current directory on the azure notebooks project <br>\n",
    "please download it and submit it through moodle"
   ]
  },
  {
   "cell_type": "code",
   "execution_count": 190,
   "metadata": {},
   "outputs": [
    {
     "name": "stdout",
     "output_type": "stream",
     "text": [
      "OK!\n"
     ]
    }
   ],
   "source": [
    "import pandas as pd\n",
    "df_ans = pd.DataFrame.from_dict(ans, orient='index')\n",
    "if df_ans.shape[0] == 12:\n",
    "    df_ans.to_csv('{}_{}.csv'.format(ans['HW'],str(ans['id_number'])))\n",
    "    print(\"OK!\")\n",
    "else:\n",
    "    print(\"seems like you missed a question, make sure you have run all the code blocks\")"
   ]
  }
 ],
 "metadata": {
  "kernelspec": {
   "display_name": "Python 3",
   "language": "python",
   "name": "python3"
  },
  "language_info": {
   "codemirror_mode": {
    "name": "ipython",
    "version": 3
   },
   "file_extension": ".py",
   "mimetype": "text/x-python",
   "name": "python",
   "nbconvert_exporter": "python",
   "pygments_lexer": "ipython3",
   "version": "3.6.6"
  }
 },
 "nbformat": 4,
 "nbformat_minor": 2
}
