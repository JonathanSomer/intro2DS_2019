{
 "cells": [
  {
   "cell_type": "markdown",
   "metadata": {},
   "source": [
    "# HW 1"
   ]
  },
  {
   "cell_type": "markdown",
   "metadata": {},
   "source": [
    "## instructions\n",
    "\n",
    "our course will be using an automatic grading system. <br>\n",
    "after each question there will appear a code block with some prepared code to add your answer to a dictionary that will be sent to the course server for grading. <br>\n",
    "please do not edit any code other than in placeholders marked `#### your code here ####` <br>\n",
    "don't forget to run the code block after you write your answer.\n",
    "\n",
    "\n",
    "you can add code blocks wherever you want in order to interact with datasets and play with your own code. <br>\n",
    "in the next code block plase fill in your id number and email account in the appropriate placees. <br>\n",
    "and don't forget to run the block!"
   ]
  },
  {
   "cell_type": "code",
   "execution_count": null,
   "metadata": {},
   "outputs": [],
   "source": [
    "ans = {}\n",
    "ans['HW'] = 'HW1'\n",
    "ans['id_number'] = #### you ID here ####\n",
    "ans['email'] = #### your email here ####"
   ]
  },
  {
   "cell_type": "markdown",
   "metadata": {},
   "source": [
    "for multiple choice questions, replace the placeholder `#### your answer here ####` with the apropreate number.<br>\n",
    "let's practice with this example question:\n",
    "\n",
    "#### do you understand the instructions?\n",
    "1. no\n",
    "2. yes\n",
    "3. not at all"
   ]
  },
  {
   "cell_type": "code",
   "execution_count": null,
   "metadata": {},
   "outputs": [],
   "source": [
    "ans['example'] = #### your answer here ####"
   ]
  },
  {
   "cell_type": "markdown",
   "metadata": {},
   "source": [
    "# math refresher"
   ]
  },
  {
   "cell_type": "markdown",
   "metadata": {},
   "source": [
    "## Algebra"
   ]
  },
  {
   "cell_type": "markdown",
   "metadata": {},
   "source": [
    "#### Q1. Given column vector $x$ of length $n$, what kind of object is $x x^t$  and what is its rank?\n",
    "\n",
    "1. $n\\times n$ matrix, rank can be between $1$ and $n$\n",
    "\n",
    "2. $n \\times 1$ matrix (a vector), rank is $1$\n",
    "\n",
    "3. $n\\times  n$ matrix, rank is $1$\n",
    "\n",
    "4. $1 \\times 1$ matrix (a scalar), rank is $1$\n"
   ]
  },
  {
   "cell_type": "code",
   "execution_count": null,
   "metadata": {},
   "outputs": [],
   "source": [
    "ans['Q1'] = #### your answer here ####"
   ]
  },
  {
   "cell_type": "markdown",
   "metadata": {},
   "source": [
    "#### Q2. Given a matrix $X_{n\\times n}$, what conditions are required for it to be invertible\n",
    "\n",
    "1. That it is full rank, and the main diagonal elements are not 0\n",
    "\n",
    "2. That all its main diagonal elements are not 0\n",
    "\n",
    "3. That it is full rank\n",
    "\n",
    "4. That its main diagonal is all ones\n"
   ]
  },
  {
   "cell_type": "code",
   "execution_count": null,
   "metadata": {},
   "outputs": [],
   "source": [
    "ans['Q2'] = #### your answer here ####"
   ]
  },
  {
   "cell_type": "markdown",
   "metadata": {},
   "source": [
    "## probability"
   ]
  },
  {
   "cell_type": "markdown",
   "metadata": {},
   "source": [
    "#### Q3. $X , Y$ are random variables, which of the following is true: \n",
    "\n",
    "1. $E(X+Y) = E(X) + E(Y)$ and $E(XY) = E(X)E(Y)$\n",
    "\n",
    "2. $Var(X+Y) = Var(X) + Var(Y)$ if $X, Y$ are independent\n",
    "\n",
    "3. $Var(X+Y) = Var(X) + Var(X) + Cov(X,Y)$\n",
    "\n",
    "4. Both 1 and 3"
   ]
  },
  {
   "cell_type": "code",
   "execution_count": null,
   "metadata": {},
   "outputs": [],
   "source": [
    "ans['Q3'] = #### your answer here ####"
   ]
  },
  {
   "cell_type": "markdown",
   "metadata": {},
   "source": [
    "#### Q4. We have a fair coin, and we define a random variable that is equal 1 if heads come up and 0 if tails. What kind of distribution do the outcome of a single flip and the sum of outcomes of 10 flips have?\n",
    "\n",
    "1. $Uniform(0,1)$ and $Bernoulli(1)$, respectively\n",
    "\n",
    "2. $Poisson(1)$ and $Poisson(10)$, respectively\n",
    "\n",
    "3. $Bernoulli(1)$ and $Bernoulli(10)$, respectively\n",
    "\n",
    "4. $Bernoulli(0.5)$ and $Binomial(10,0.5)$, respectively"
   ]
  },
  {
   "cell_type": "code",
   "execution_count": null,
   "metadata": {},
   "outputs": [],
   "source": [
    "ans['Q4'] = #### your answer here ####"
   ]
  },
  {
   "cell_type": "markdown",
   "metadata": {},
   "source": [
    "#### Q5. I am throwing a fair dice twice, what is the conditional probability that the first throw gives 1, GIVEN that the sum of the throws is 3? \n",
    "\n",
    "1. $^1/_2$\n",
    "\n",
    "2. $1$\n",
    "\n",
    "3. $^1/_6$\n",
    "\n",
    "4. $^1/_3$\n"
   ]
  },
  {
   "cell_type": "code",
   "execution_count": null,
   "metadata": {},
   "outputs": [],
   "source": [
    "ans['Q5'] = #### your answer here ####"
   ]
  },
  {
   "cell_type": "markdown",
   "metadata": {},
   "source": [
    "#### Q6. In the same situation, what is the probability that the sum is 3 AND the first throw gives 1?\n",
    "\n",
    "1. $^1/_6$\n",
    "\n",
    "2. $^1/_{36}$\n",
    "\n",
    "3. $^1/_{18}$\n",
    "\n",
    "4. $^1/_4$ \n"
   ]
  },
  {
   "cell_type": "code",
   "execution_count": null,
   "metadata": {},
   "outputs": [],
   "source": [
    "ans['Q6'] = #### your answer here ####"
   ]
  },
  {
   "cell_type": "markdown",
   "metadata": {},
   "source": [
    "# python"
   ]
  },
  {
   "cell_type": "markdown",
   "metadata": {},
   "source": [
    "## Basics\n",
    "\n",
    "#### Q7. Which one of the following List Comprehensions would create a list containing all prime numbers under 100?\n",
    "\n",
    "1. `[possiblePrime for possiblePrime in range(2, 100) for num in range(2, possiblePrime) if possiblePrime % num != 0] `\n",
    "\n",
    "2. `[possiblePrime for possiblePrime in range(2, 100) if all(possiblePrime % num != 0 for num in range(2, possiblePrime))]`\n",
    "\n",
    "3. `list({possiblePrime for possiblePrime in range(2, 100) for num in range(2, possiblePrime) if possiblePrime % num == 0})`\n",
    "\n",
    "4. `{i: possiblePrime for i, possiblePrime in enumerate(range(2, 100)) if all(possiblePrime % num != 0 for num in range(2, possiblePrime))}`\n"
   ]
  },
  {
   "cell_type": "code",
   "execution_count": null,
   "metadata": {},
   "outputs": [],
   "source": [
    "ans['Q7'] = #### your answer here ####"
   ]
  },
  {
   "cell_type": "markdown",
   "metadata": {},
   "source": [
    "## Numpy"
   ]
  },
  {
   "cell_type": "markdown",
   "metadata": {},
   "source": [
    "#### Q8. What does the following statement do, from left to right? (assume `import numpy as np`)\n",
    "\n",
    "```\n",
    "np.zeros((3, 3)) + 1 / np.array([1, 2, 3])\n",
    "```\n",
    "\n",
    "1. It creates a 3x3 array of zeros, adds 1 to all values and divides each row elementwise by the row [1, 2, 3]\n",
    "\n",
    "2. It creates a 3x3 array of zeros, then throws an exception for trying to add a constant to a numpy array\n",
    "\n",
    "3. It takes a tuple (3,3), makes it (0,0), adds 1 to all values and divides each row elementwise by the row [1, 2, 3]\n",
    "\n",
    "4. It creates a 3x3 array of zeros, adds 1 to all values, then throws an exception for trying to divide a 3x3 array with a 1D arrray\n"
   ]
  },
  {
   "cell_type": "code",
   "execution_count": null,
   "metadata": {},
   "outputs": [],
   "source": [
    "ans['Q8'] = #### your answer here ####"
   ]
  },
  {
   "cell_type": "markdown",
   "metadata": {},
   "source": [
    "#### Q9. What will be the output of the following statement? (Make sure you understand why)\n",
    "\n",
    "```\n",
    "np.array(range(10))[1:-2][::-3].sum()\n",
    "```\n",
    "\n",
    "1. 12\n",
    "\n",
    "2. 15\n",
    "\n",
    "3. 20\n",
    "\n",
    "4. 28\n"
   ]
  },
  {
   "cell_type": "code",
   "execution_count": null,
   "metadata": {},
   "outputs": [],
   "source": [
    "ans['Q9'] = #### your answer here ####"
   ]
  },
  {
   "cell_type": "markdown",
   "metadata": {},
   "source": [
    "## Pandas"
   ]
  },
  {
   "cell_type": "markdown",
   "metadata": {},
   "source": [
    "in this section we will be interacting with a real dataset.<br>\n",
    "this next block loads the dataset from the repository. <br>\n",
    "remember that you are able to add code blocks to interact with the dataset. <br>\n",
    "if at any point you think that you might have altered the original data, you can simply rerun this code block to load a fresh copy.<br>\n",
    "please do not change the blocks that record your answer to the \"ans\" dictionary. <br><br>\n",
    "\n",
    "the pandas documentation, and specifically the list of DataFrame methods can be helpful: \n",
    "https://pandas.pydata.org/pandas-docs/stable/reference/frame.html"
   ]
  },
  {
   "cell_type": "code",
   "execution_count": 4,
   "metadata": {},
   "outputs": [
    {
     "data": {
      "text/html": [
       "<div>\n",
       "<style scoped>\n",
       "    .dataframe tbody tr th:only-of-type {\n",
       "        vertical-align: middle;\n",
       "    }\n",
       "\n",
       "    .dataframe tbody tr th {\n",
       "        vertical-align: top;\n",
       "    }\n",
       "\n",
       "    .dataframe thead th {\n",
       "        text-align: right;\n",
       "    }\n",
       "</style>\n",
       "<table border=\"1\" class=\"dataframe\">\n",
       "  <thead>\n",
       "    <tr style=\"text-align: right;\">\n",
       "      <th></th>\n",
       "      <th>Date</th>\n",
       "      <th>price</th>\n",
       "      <th>year</th>\n",
       "      <th>region</th>\n",
       "    </tr>\n",
       "  </thead>\n",
       "  <tbody>\n",
       "    <tr>\n",
       "      <th>0</th>\n",
       "      <td>12/27/15</td>\n",
       "      <td>1.33</td>\n",
       "      <td>2015</td>\n",
       "      <td>Albany</td>\n",
       "    </tr>\n",
       "    <tr>\n",
       "      <th>1</th>\n",
       "      <td>12/20/15</td>\n",
       "      <td>1.35</td>\n",
       "      <td>2015</td>\n",
       "      <td>Albany</td>\n",
       "    </tr>\n",
       "    <tr>\n",
       "      <th>2</th>\n",
       "      <td>12/13/15</td>\n",
       "      <td>0.93</td>\n",
       "      <td>2015</td>\n",
       "      <td>Albany</td>\n",
       "    </tr>\n",
       "    <tr>\n",
       "      <th>3</th>\n",
       "      <td>12/6/15</td>\n",
       "      <td>1.08</td>\n",
       "      <td>2015</td>\n",
       "      <td>Albany</td>\n",
       "    </tr>\n",
       "    <tr>\n",
       "      <th>4</th>\n",
       "      <td>11/29/15</td>\n",
       "      <td>1.28</td>\n",
       "      <td>2015</td>\n",
       "      <td>Albany</td>\n",
       "    </tr>\n",
       "  </tbody>\n",
       "</table>\n",
       "</div>"
      ],
      "text/plain": [
       "       Date  price  year  region\n",
       "0  12/27/15   1.33  2015  Albany\n",
       "1  12/20/15   1.35  2015  Albany\n",
       "2  12/13/15   0.93  2015  Albany\n",
       "3   12/6/15   1.08  2015  Albany\n",
       "4  11/29/15   1.28  2015  Albany"
      ]
     },
     "execution_count": 4,
     "metadata": {},
     "output_type": "execute_result"
    }
   ],
   "source": [
    "import pandas as pd\n",
    "df_avocado = pd.read_csv('avocado.csv')\n",
    "df_avocado.head()"
   ]
  },
  {
   "cell_type": "markdown",
   "metadata": {},
   "source": [
    "#### Q10. on what date and region was the price the highest?\n",
    "\n",
    "1. Tampa - 4/16/17\n",
    "\n",
    "2. SanFrancisco - 10/30/16\n",
    "\n",
    "3. CincinnatiDayton - 3/5/17\n",
    "\n",
    "4. LosAngeles 2/5/17\n",
    "\n",
    "__Hint:__ the pandas data frame method `sort_values` can come in handy, look it up on the pandas documentation."
   ]
  },
  {
   "cell_type": "code",
   "execution_count": null,
   "metadata": {},
   "outputs": [],
   "source": [
    "ans['Q10'] = #### your answer here ####"
   ]
  },
  {
   "cell_type": "markdown",
   "metadata": {},
   "source": [
    "__Hint:__ `groupby` and `agg (aggregate)` are needed for the next questions, make sure you understand how to use them. you can use the recitation materials as reference. "
   ]
  },
  {
   "cell_type": "markdown",
   "metadata": {},
   "source": [
    "#### Q11. which region had the lowest price for the entire period? (on average)\n",
    "\n",
    "1. NewYork\n",
    "\n",
    "2. WestTexNewMexico\n",
    "\n",
    "3. Houston\n",
    "\n",
    "4. HartfordSpringfield"
   ]
  },
  {
   "cell_type": "code",
   "execution_count": null,
   "metadata": {},
   "outputs": [],
   "source": [
    "ans['Q11'] = #### your answer here ####"
   ]
  },
  {
   "cell_type": "markdown",
   "metadata": {},
   "source": [
    "#### Q12. in what year were avocado prices the lowest? (on average)\n",
    "\n",
    "1. 2015\n",
    "\n",
    "2. 2016\n",
    "\n",
    "3. 2017\n",
    "\n",
    "4. 2018"
   ]
  },
  {
   "cell_type": "code",
   "execution_count": null,
   "metadata": {},
   "outputs": [],
   "source": [
    "ans['Q12'] = #### your answer here ####"
   ]
  },
  {
   "cell_type": "markdown",
   "metadata": {},
   "source": [
    "#### Q13. in what year were the prices lowest in Indianapolis? (on average)\n",
    "\n",
    "1. 2015\n",
    "\n",
    "2. 2016\n",
    "\n",
    "3. 2017\n",
    "\n",
    "4. 2018"
   ]
  },
  {
   "cell_type": "code",
   "execution_count": null,
   "metadata": {},
   "outputs": [],
   "source": [
    "ans['Q13'] = #### your answer here ####"
   ]
  },
  {
   "cell_type": "markdown",
   "metadata": {},
   "source": [
    "we will now load some additional data to play with.<br>\n",
    "the new data set holds number of avocado bags sold in each region for the same period."
   ]
  },
  {
   "cell_type": "code",
   "execution_count": 30,
   "metadata": {},
   "outputs": [
    {
     "data": {
      "text/html": [
       "<div>\n",
       "<style scoped>\n",
       "    .dataframe tbody tr th:only-of-type {\n",
       "        vertical-align: middle;\n",
       "    }\n",
       "\n",
       "    .dataframe tbody tr th {\n",
       "        vertical-align: top;\n",
       "    }\n",
       "\n",
       "    .dataframe thead th {\n",
       "        text-align: right;\n",
       "    }\n",
       "</style>\n",
       "<table border=\"1\" class=\"dataframe\">\n",
       "  <thead>\n",
       "    <tr style=\"text-align: right;\">\n",
       "      <th></th>\n",
       "      <th>Date</th>\n",
       "      <th>num_bags</th>\n",
       "      <th>year</th>\n",
       "      <th>region</th>\n",
       "    </tr>\n",
       "  </thead>\n",
       "  <tbody>\n",
       "    <tr>\n",
       "      <th>0</th>\n",
       "      <td>12/27/15</td>\n",
       "      <td>8696.87</td>\n",
       "      <td>2015</td>\n",
       "      <td>Albany</td>\n",
       "    </tr>\n",
       "    <tr>\n",
       "      <th>1</th>\n",
       "      <td>12/20/15</td>\n",
       "      <td>9505.56</td>\n",
       "      <td>2015</td>\n",
       "      <td>Albany</td>\n",
       "    </tr>\n",
       "    <tr>\n",
       "      <th>2</th>\n",
       "      <td>12/13/15</td>\n",
       "      <td>8145.35</td>\n",
       "      <td>2015</td>\n",
       "      <td>Albany</td>\n",
       "    </tr>\n",
       "    <tr>\n",
       "      <th>3</th>\n",
       "      <td>12/6/15</td>\n",
       "      <td>5811.16</td>\n",
       "      <td>2015</td>\n",
       "      <td>Albany</td>\n",
       "    </tr>\n",
       "    <tr>\n",
       "      <th>4</th>\n",
       "      <td>11/29/15</td>\n",
       "      <td>6183.95</td>\n",
       "      <td>2015</td>\n",
       "      <td>Albany</td>\n",
       "    </tr>\n",
       "  </tbody>\n",
       "</table>\n",
       "</div>"
      ],
      "text/plain": [
       "       Date  num_bags  year  region\n",
       "0  12/27/15   8696.87  2015  Albany\n",
       "1  12/20/15   9505.56  2015  Albany\n",
       "2  12/13/15   8145.35  2015  Albany\n",
       "3   12/6/15   5811.16  2015  Albany\n",
       "4  11/29/15   6183.95  2015  Albany"
      ]
     },
     "execution_count": 30,
     "metadata": {},
     "output_type": "execute_result"
    }
   ],
   "source": [
    "import pandas as pd\n",
    "df_avocado_bags = pd.read_csv('avocado_2.csv')\n",
    "df_avocado_bags.head()"
   ]
  },
  {
   "cell_type": "markdown",
   "metadata": {},
   "source": [
    "__notice:__ to answer the following questions you will need to join the two datasets together properly and make calculations on columns from both dfs. <br>\n",
    "remember the appropriate method for joining DF's in pandas we discussed in the recitation.<br>\n",
    "assume that the 'avocado market' for a single date can be measured by price times number of bags."
   ]
  },
  {
   "cell_type": "markdown",
   "metadata": {},
   "source": [
    "#### Q14. which of the following regions has a larger avocado market? (over the entire period)\n",
    "\n",
    "1. California\n",
    "\n",
    "2. NewYork\n",
    "\n",
    "3. Chicago\n",
    "\n",
    "4. LosAngeles"
   ]
  },
  {
   "cell_type": "code",
   "execution_count": 1,
   "metadata": {},
   "outputs": [
    {
     "ename": "SyntaxError",
     "evalue": "invalid syntax (<ipython-input-1-5d31e468f1b5>, line 1)",
     "output_type": "error",
     "traceback": [
      "\u001b[0;36m  File \u001b[0;32m\"<ipython-input-1-5d31e468f1b5>\"\u001b[0;36m, line \u001b[0;32m1\u001b[0m\n\u001b[0;31m    ans['Q15'] = #### your answer here ####\u001b[0m\n\u001b[0m                                           ^\u001b[0m\n\u001b[0;31mSyntaxError\u001b[0m\u001b[0;31m:\u001b[0m invalid syntax\n"
     ]
    }
   ],
   "source": [
    "ans['Q14'] = #### your answer here ####"
   ]
  },
  {
   "cell_type": "markdown",
   "metadata": {},
   "source": [
    "#### Q15. what year were avocado sales the highest (by total market value)\n",
    "\n",
    "1. 2015\n",
    "\n",
    "2. 2016\n",
    "\n",
    "3. 2017\n",
    "\n",
    "4. 2018"
   ]
  },
  {
   "cell_type": "code",
   "execution_count": null,
   "metadata": {},
   "outputs": [],
   "source": [
    "ans['Q15'] = #### your answer here ####"
   ]
  },
  {
   "cell_type": "markdown",
   "metadata": {},
   "source": [
    "# Data Science Basics"
   ]
  },
  {
   "cell_type": "markdown",
   "metadata": {},
   "source": [
    "the following questions reference material from the first lecture (Tuesday 5.3) and should be answered after the lecture."
   ]
  },
  {
   "cell_type": "markdown",
   "metadata": {},
   "source": [
    "## Basic definitions\n",
    "#### Q16.\tWhich of the following is not primarily a data science project: \n",
    "\n",
    "1.\tCollect and analyze data from a linear accelerator, looking for a new particle\n",
    "\n",
    "2.\tBuild a robot which serves cocktail drinks\n",
    "\n",
    "3.\tGiven two website designs, test which one attracts more traffic\n",
    "\n",
    "4.\tDo an online poll to predict the outcome of an election\n"
   ]
  },
  {
   "cell_type": "code",
   "execution_count": null,
   "metadata": {},
   "outputs": [],
   "source": [
    "ans['Q16'] = #### your answer here ####"
   ]
  },
  {
   "cell_type": "markdown",
   "metadata": {},
   "source": [
    "#### We mentioned in class that data science has three interweaved components: Computing expertise, statistical expertise, domain expertise (Physics). Consider the following tasks involved in a hypothetical data science project to find a new particle: \n",
    "\n",
    "1.\tDesigning the database to hold results\n",
    "\n",
    "2.\tDeciding which signals should be collected, and what kind of signals we are looking for to identify a new particle\n",
    "\n",
    "3.\tFitting regression models to the data and performing statistical tests in search of the signals\n",
    "\n",
    "4.  Recruiting the right personnel to carry out the project \n",
    "\n",
    "#### Q17. Which one of the above most clearly belongs to the statistical expertise category?\n",
    "#### Q18. Which one most clearly belongs to the computing expertise category?\n",
    "#### Q19. Which one most clearly belongs to the domain expertise category?"
   ]
  },
  {
   "cell_type": "code",
   "execution_count": null,
   "metadata": {},
   "outputs": [],
   "source": [
    "ans['Q17'] = #### your answer here ####\n",
    "ans['Q18'] = #### your answer here ####\n",
    "ans['Q19'] = #### your answer here ####"
   ]
  },
  {
   "cell_type": "markdown",
   "metadata": {},
   "source": [
    "# finish!"
   ]
  },
  {
   "cell_type": "markdown",
   "metadata": {},
   "source": [
    "to submit your HW please run this last code block and follow the instructions. <BR>\n",
    "this code will create a CSV file in the current directory on the azure notebooks project <br>\n",
    "please download it and send it to us at: `dorongurel@mail.tau.ac.il` <br>\n",
    "we will then send you a confirmation that the file was recieved."
   ]
  },
  {
   "cell_type": "code",
   "execution_count": null,
   "metadata": {},
   "outputs": [],
   "source": [
    "df_ans = pd.DataFrame.from_dict(ans, orient='index')\n",
    "df_ans.to_csv('{}_{}.csv'.format(ans['HW'],str(ans['id_number'])))"
   ]
  }
 ],
 "metadata": {
  "kernelspec": {
   "display_name": "Python 3",
   "language": "python",
   "name": "python3"
  },
  "language_info": {
   "codemirror_mode": {
    "name": "ipython",
    "version": 3
   },
   "file_extension": ".py",
   "mimetype": "text/x-python",
   "name": "python",
   "nbconvert_exporter": "python",
   "pygments_lexer": "ipython3",
   "version": "3.6.4"
  }
 },
 "nbformat": 4,
 "nbformat_minor": 2
}
