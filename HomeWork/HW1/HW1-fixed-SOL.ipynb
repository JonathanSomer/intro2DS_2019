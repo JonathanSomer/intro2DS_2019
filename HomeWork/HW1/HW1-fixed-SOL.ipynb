{
 "cells": [
  {
   "cell_type": "markdown",
   "metadata": {},
   "source": [
    "# HW 1"
   ]
  },
  {
   "cell_type": "markdown",
   "metadata": {},
   "source": [
    "## instructions\n",
    "\n",
    "our course will be using an automatic grading system. <br>\n",
    "after each question there will appear a code block with some prepared code to add your answer to a dictionary that will be sent to the course server for grading. <br>\n",
    "please do not edit any code other than in placeholders marked `#### your code here ####` <br>\n",
    "don't forget to run the code block after you write your answer.\n",
    "\n",
    "\n",
    "you can add code blocks wherever you want in order to interact with datasets and play with your own code. <br>\n",
    "in the next code block plase fill in your id number and email account in the appropriate placees. <br>\n",
    "and don't forget to run the block!"
   ]
  },
  {
   "cell_type": "code",
   "execution_count": 2,
   "metadata": {},
   "outputs": [],
   "source": [
    "ans = {}\n",
    "ans['HW'] = 'HW1-SOL'\n",
    "ans['id_number'] = 0\n",
    "ans['email'] = None"
   ]
  },
  {
   "cell_type": "markdown",
   "metadata": {},
   "source": [
    "for multiple choice questions, replace the placeholder `#### your answer here ####` with the apropreate number.<br>\n",
    "let's practice with this example question:\n",
    "\n",
    "#### do you understand the instructions?\n",
    "1. no\n",
    "2. yes\n",
    "3. not at all"
   ]
  },
  {
   "cell_type": "code",
   "execution_count": 3,
   "metadata": {},
   "outputs": [],
   "source": [
    "ans['example'] = 2"
   ]
  },
  {
   "cell_type": "markdown",
   "metadata": {},
   "source": [
    "# math refresher"
   ]
  },
  {
   "cell_type": "markdown",
   "metadata": {},
   "source": [
    "## Algebra"
   ]
  },
  {
   "cell_type": "markdown",
   "metadata": {},
   "source": [
    "#### Q1. Given column vector $x$ of length $n$, what kind of object is $x x^t$  and what is its rank?\n",
    "\n",
    "1. $n\\times n$ matrix, rank can be between $1$ and $n$\n",
    "\n",
    "2. $n \\times 1$ matrix (a vector), rank is $1$\n",
    "\n",
    "3. $n\\times  n$ matrix, rank is $1$\n",
    "\n",
    "4. $1 \\times 1$ matrix (a scalar), rank is $1$\n"
   ]
  },
  {
   "cell_type": "code",
   "execution_count": 4,
   "metadata": {},
   "outputs": [],
   "source": [
    "ans['Q1'] = 3"
   ]
  },
  {
   "cell_type": "markdown",
   "metadata": {},
   "source": [
    "#### Q2. Given a matrix $X_{n\\times n}$, what conditions are required for it to be invertible\n",
    "\n",
    "1. That it is full rank, and the main diagonal elements are not 0\n",
    "\n",
    "2. That all its main diagonal elements are not 0\n",
    "\n",
    "3. That it is full rank\n",
    "\n",
    "4. That its main diagonal is all ones\n"
   ]
  },
  {
   "cell_type": "code",
   "execution_count": 5,
   "metadata": {},
   "outputs": [],
   "source": [
    "ans['Q2'] = 3"
   ]
  },
  {
   "cell_type": "markdown",
   "metadata": {},
   "source": [
    "## probability"
   ]
  },
  {
   "cell_type": "markdown",
   "metadata": {},
   "source": [
    "#### Q3. $X , Y$ are random variables, which of the following is true: \n",
    "\n",
    "1. $E(X+Y) = E(X) + E(Y)$ and $E(XY) = E(X)E(Y)$\n",
    "\n",
    "2. $Var(X+Y) = Var(X) + Var(Y)$ if $X, Y$ are independent\n",
    "\n",
    "3. $Var(X+Y) = Var(X) + Var(X) + Cov(X,Y)$\n",
    "\n",
    "4. Both 1 and 3"
   ]
  },
  {
   "cell_type": "code",
   "execution_count": 6,
   "metadata": {},
   "outputs": [],
   "source": [
    "ans['Q3'] = 2"
   ]
  },
  {
   "cell_type": "markdown",
   "metadata": {},
   "source": [
    "#### Q4. We have a fair coin, and we define a random variable that is equal 1 if heads come up and 0 if tails. What kind of distribution do the outcome of a single flip and the sum of outcomes of 10 flips have?\n",
    "\n",
    "1. $Uniform(0,1)$ and $Bernoulli(1)$, respectively\n",
    "\n",
    "2. $Poisson(1)$ and $Poisson(10)$, respectively\n",
    "\n",
    "3. $Bernoulli(1)$ and $Bernoulli(10)$, respectively\n",
    "\n",
    "4. $Bernoulli(0.5)$ and $Binomial(10,0.5)$, respectively"
   ]
  },
  {
   "cell_type": "code",
   "execution_count": 7,
   "metadata": {},
   "outputs": [],
   "source": [
    "ans['Q4'] = 4"
   ]
  },
  {
   "cell_type": "markdown",
   "metadata": {},
   "source": [
    "#### Q5. I am throwing a fair dice twice, what is the conditional probability that the first throw gives 1, GIVEN that the sum of the throws is 3? \n",
    "\n",
    "1. $^1/_2$\n",
    "\n",
    "2. $1$\n",
    "\n",
    "3. $^1/_6$\n",
    "\n",
    "4. $^1/_3$\n"
   ]
  },
  {
   "cell_type": "code",
   "execution_count": 8,
   "metadata": {},
   "outputs": [],
   "source": [
    "ans['Q5'] = 1"
   ]
  },
  {
   "cell_type": "markdown",
   "metadata": {},
   "source": [
    "#### Q6. In the same situation, what is the probability that the sum is 3 AND the first throw gives 1?\n",
    "\n",
    "1. $^1/_6$\n",
    "\n",
    "2. $^1/_{36}$\n",
    "\n",
    "3. $^1/_{18}$\n",
    "\n",
    "4. $^1/_4$ \n"
   ]
  },
  {
   "cell_type": "code",
   "execution_count": 9,
   "metadata": {},
   "outputs": [],
   "source": [
    "ans['Q6'] = 2"
   ]
  },
  {
   "cell_type": "markdown",
   "metadata": {},
   "source": [
    "# python"
   ]
  },
  {
   "cell_type": "markdown",
   "metadata": {},
   "source": [
    "## Basics\n",
    "\n",
    "#### Q7. Which one of the following List Comprehensions would create a list containing all prime numbers under 100?\n",
    "\n",
    "1. `[possiblePrime for possiblePrime in range(2, 100) for num in range(2, possiblePrime) if possiblePrime % num != 0] `\n",
    "\n",
    "2. `[possiblePrime for possiblePrime in range(2, 100) if all(possiblePrime % num != 0 for num in range(2, possiblePrime))]`\n",
    "\n",
    "3. `list({possiblePrime for possiblePrime in range(2, 100) for num in range(2, possiblePrime) if possiblePrime % num == 0})`\n",
    "\n",
    "4. `{i: possiblePrime for i, possiblePrime in enumerate(range(2, 100)) if all(possiblePrime % num != 0 for num in range(2, possiblePrime))}`\n"
   ]
  },
  {
   "cell_type": "code",
   "execution_count": 10,
   "metadata": {},
   "outputs": [],
   "source": [
    "ans['Q7'] = 2"
   ]
  },
  {
   "cell_type": "markdown",
   "metadata": {},
   "source": [
    "## Numpy"
   ]
  },
  {
   "cell_type": "code",
   "execution_count": 13,
   "metadata": {},
   "outputs": [],
   "source": [
    "import numpy as np"
   ]
  },
  {
   "cell_type": "markdown",
   "metadata": {},
   "source": [
    "#### Q8. What does the following statement do, from left to right? (assume `import numpy as np`)\n",
    "\n",
    "```\n",
    "np.zeros((3, 3)) + 1 / np.array([1, 2, 3])\n",
    "```\n",
    "\n",
    "1. It creates a 3x3 array of zeros, adds 1 to all values and divides each row elementwise by the row [1, 2, 3]\n",
    "\n",
    "2. It creates a 3x3 array of zeros, then throws an exception for trying to add a constant to a numpy array\n",
    "\n",
    "3. It takes a tuple (3,3), makes it (0,0), adds 1 to all values and divides each row elementwise by the row [1, 2, 3]\n",
    "\n",
    "4. It creates a 3x3 array of zeros, adds 1 to all values, then throws an exception for trying to divide a 3x3 array with a 1D arrray\n"
   ]
  },
  {
   "cell_type": "code",
   "execution_count": 14,
   "metadata": {},
   "outputs": [
    {
     "data": {
      "text/plain": [
       "array([[1.        , 0.5       , 0.33333333],\n",
       "       [1.        , 0.5       , 0.33333333],\n",
       "       [1.        , 0.5       , 0.33333333]])"
      ]
     },
     "execution_count": 14,
     "metadata": {},
     "output_type": "execute_result"
    }
   ],
   "source": [
    "np.zeros((3, 3)) + 1 / np.array([1, 2, 3])"
   ]
  },
  {
   "cell_type": "code",
   "execution_count": 15,
   "metadata": {},
   "outputs": [
    {
     "data": {
      "text/plain": [
       "array([[1.        , 0.5       , 0.33333333],\n",
       "       [1.        , 0.5       , 0.33333333],\n",
       "       [1.        , 0.5       , 0.33333333]])"
      ]
     },
     "execution_count": 15,
     "metadata": {},
     "output_type": "execute_result"
    }
   ],
   "source": [
    "(np.zeros((3, 3)) + 1) / np.array([1, 2, 3])"
   ]
  },
  {
   "cell_type": "code",
   "execution_count": 16,
   "metadata": {},
   "outputs": [
    {
     "data": {
      "text/plain": [
       "array([[2.        , 1.        , 0.66666667],\n",
       "       [2.        , 1.        , 0.66666667],\n",
       "       [2.        , 1.        , 0.66666667]])"
      ]
     },
     "execution_count": 16,
     "metadata": {},
     "output_type": "execute_result"
    }
   ],
   "source": [
    "import numpy as np\n",
    "(np.ones((3, 3)) + 1) / np.array([1, 2, 3])"
   ]
  },
  {
   "cell_type": "code",
   "execution_count": 17,
   "metadata": {},
   "outputs": [
    {
     "data": {
      "text/plain": [
       "array([[2.        , 1.5       , 1.33333333],\n",
       "       [2.        , 1.5       , 1.33333333],\n",
       "       [2.        , 1.5       , 1.33333333]])"
      ]
     },
     "execution_count": 17,
     "metadata": {},
     "output_type": "execute_result"
    }
   ],
   "source": [
    "np.ones((3, 3)) + 1 / np.array([1, 2, 3])"
   ]
  },
  {
   "cell_type": "code",
   "execution_count": 18,
   "metadata": {},
   "outputs": [],
   "source": [
    "ans['Q8'] = 1"
   ]
  },
  {
   "cell_type": "markdown",
   "metadata": {},
   "source": [
    "#### Q9. What will be the output of the following statement? (Make sure you understand why)\n",
    "\n",
    "```\n",
    "np.array(range(10))[1:-2][::-3].sum()\n",
    "```\n",
    "\n",
    "1. 12\n",
    "\n",
    "2. 15\n",
    "\n",
    "3. 20\n",
    "\n",
    "4. 28\n"
   ]
  },
  {
   "cell_type": "code",
   "execution_count": 19,
   "metadata": {},
   "outputs": [],
   "source": [
    "ans['Q9'] = 1"
   ]
  },
  {
   "cell_type": "markdown",
   "metadata": {},
   "source": [
    "## Pandas"
   ]
  },
  {
   "cell_type": "markdown",
   "metadata": {},
   "source": [
    "in this section we will be interacting with a real dataset.<br>\n",
    "this next block loads the dataset from the repository. <br>\n",
    "remember that you are able to add code blocks to interact with the dataset. <br>\n",
    "if at any point you think that you might have altered the original data, you can simply rerun this code block to load a fresh copy.<br>\n",
    "please do not change the blocks that record your answer to the \"ans\" dictionary. <br><br>\n",
    "\n",
    "the pandas documentation, and specifically the list of DataFrame methods can be helpful: \n",
    "https://pandas.pydata.org/pandas-docs/stable/reference/frame.html"
   ]
  },
  {
   "cell_type": "code",
   "execution_count": 2,
   "metadata": {},
   "outputs": [
    {
     "data": {
      "text/html": [
       "<div>\n",
       "<style scoped>\n",
       "    .dataframe tbody tr th:only-of-type {\n",
       "        vertical-align: middle;\n",
       "    }\n",
       "\n",
       "    .dataframe tbody tr th {\n",
       "        vertical-align: top;\n",
       "    }\n",
       "\n",
       "    .dataframe thead th {\n",
       "        text-align: right;\n",
       "    }\n",
       "</style>\n",
       "<table border=\"1\" class=\"dataframe\">\n",
       "  <thead>\n",
       "    <tr style=\"text-align: right;\">\n",
       "      <th></th>\n",
       "      <th>Date</th>\n",
       "      <th>price</th>\n",
       "      <th>year</th>\n",
       "      <th>region</th>\n",
       "    </tr>\n",
       "  </thead>\n",
       "  <tbody>\n",
       "    <tr>\n",
       "      <th>0</th>\n",
       "      <td>12/27/15</td>\n",
       "      <td>1.33</td>\n",
       "      <td>2015</td>\n",
       "      <td>Albany</td>\n",
       "    </tr>\n",
       "    <tr>\n",
       "      <th>1</th>\n",
       "      <td>12/20/15</td>\n",
       "      <td>1.35</td>\n",
       "      <td>2015</td>\n",
       "      <td>Albany</td>\n",
       "    </tr>\n",
       "    <tr>\n",
       "      <th>2</th>\n",
       "      <td>12/13/15</td>\n",
       "      <td>0.93</td>\n",
       "      <td>2015</td>\n",
       "      <td>Albany</td>\n",
       "    </tr>\n",
       "    <tr>\n",
       "      <th>3</th>\n",
       "      <td>12/6/15</td>\n",
       "      <td>1.08</td>\n",
       "      <td>2015</td>\n",
       "      <td>Albany</td>\n",
       "    </tr>\n",
       "    <tr>\n",
       "      <th>4</th>\n",
       "      <td>11/29/15</td>\n",
       "      <td>1.28</td>\n",
       "      <td>2015</td>\n",
       "      <td>Albany</td>\n",
       "    </tr>\n",
       "  </tbody>\n",
       "</table>\n",
       "</div>"
      ],
      "text/plain": [
       "       Date  price  year  region\n",
       "0  12/27/15   1.33  2015  Albany\n",
       "1  12/20/15   1.35  2015  Albany\n",
       "2  12/13/15   0.93  2015  Albany\n",
       "3   12/6/15   1.08  2015  Albany\n",
       "4  11/29/15   1.28  2015  Albany"
      ]
     },
     "execution_count": 2,
     "metadata": {},
     "output_type": "execute_result"
    }
   ],
   "source": [
    "import pandas as pd\n",
    "df_avocado = pd.read_csv('avocado_fixed.csv')\n",
    "df_avocado.head()"
   ]
  },
  {
   "cell_type": "markdown",
   "metadata": {},
   "source": [
    "#### Q10. on what date and region was the price the highest?\n",
    "\n",
    "1. PhoenixTucson - 2/5/17\n",
    "\n",
    "2. SanFrancisco - 10/30/16\n",
    "\n",
    "3. Chicago - 10/8/17\n",
    "\n",
    "4. LosAngeles 2/5/17\n",
    "\n",
    "__Hint:__ the pandas data frame method `sort_values` can come in handy, look it up on the pandas documentation."
   ]
  },
  {
   "cell_type": "code",
   "execution_count": 21,
   "metadata": {},
   "outputs": [
    {
     "data": {
      "text/html": [
       "<div>\n",
       "<style scoped>\n",
       "    .dataframe tbody tr th:only-of-type {\n",
       "        vertical-align: middle;\n",
       "    }\n",
       "\n",
       "    .dataframe tbody tr th {\n",
       "        vertical-align: top;\n",
       "    }\n",
       "\n",
       "    .dataframe thead th {\n",
       "        text-align: right;\n",
       "    }\n",
       "</style>\n",
       "<table border=\"1\" class=\"dataframe\">\n",
       "  <thead>\n",
       "    <tr style=\"text-align: right;\">\n",
       "      <th></th>\n",
       "      <th>Date</th>\n",
       "      <th>price</th>\n",
       "      <th>year</th>\n",
       "      <th>region</th>\n",
       "    </tr>\n",
       "  </thead>\n",
       "  <tbody>\n",
       "    <tr>\n",
       "      <th>6052</th>\n",
       "      <td>10/8/17</td>\n",
       "      <td>2.22</td>\n",
       "      <td>2017</td>\n",
       "      <td>Chicago</td>\n",
       "    </tr>\n",
       "    <tr>\n",
       "      <th>5000</th>\n",
       "      <td>10/30/16</td>\n",
       "      <td>2.20</td>\n",
       "      <td>2016</td>\n",
       "      <td>SanFrancisco</td>\n",
       "    </tr>\n",
       "    <tr>\n",
       "      <th>6370</th>\n",
       "      <td>10/8/17</td>\n",
       "      <td>2.19</td>\n",
       "      <td>2017</td>\n",
       "      <td>GrandRapids</td>\n",
       "    </tr>\n",
       "    <tr>\n",
       "      <th>6055</th>\n",
       "      <td>9/17/17</td>\n",
       "      <td>2.15</td>\n",
       "      <td>2017</td>\n",
       "      <td>Chicago</td>\n",
       "    </tr>\n",
       "    <tr>\n",
       "      <th>6053</th>\n",
       "      <td>10/1/17</td>\n",
       "      <td>2.14</td>\n",
       "      <td>2017</td>\n",
       "      <td>Chicago</td>\n",
       "    </tr>\n",
       "  </tbody>\n",
       "</table>\n",
       "</div>"
      ],
      "text/plain": [
       "          Date  price  year        region\n",
       "6052   10/8/17   2.22  2017       Chicago\n",
       "5000  10/30/16   2.20  2016  SanFrancisco\n",
       "6370   10/8/17   2.19  2017   GrandRapids\n",
       "6055   9/17/17   2.15  2017       Chicago\n",
       "6053   10/1/17   2.14  2017       Chicago"
      ]
     },
     "execution_count": 21,
     "metadata": {},
     "output_type": "execute_result"
    }
   ],
   "source": [
    "df_avocado.sort_values('price', ascending=False).head()"
   ]
  },
  {
   "cell_type": "code",
   "execution_count": 22,
   "metadata": {},
   "outputs": [],
   "source": [
    "ans['Q10'] = 3"
   ]
  },
  {
   "cell_type": "markdown",
   "metadata": {},
   "source": [
    "__Hint:__ `groupby` and `agg (aggregate)` are needed for the next questions, make sure you understand how to use them. you can use the recitation materials as reference. "
   ]
  },
  {
   "cell_type": "markdown",
   "metadata": {},
   "source": [
    "#### Q11. which region had the lowest price for the entire period? (on average)\n",
    "\n",
    "1. Albany\n",
    "\n",
    "2. PhoenixTucson\n",
    "\n",
    "3. Houston\n",
    "\n",
    "4. HartfordSpringfield"
   ]
  },
  {
   "cell_type": "code",
   "execution_count": 23,
   "metadata": {},
   "outputs": [
    {
     "data": {
      "text/html": [
       "<div>\n",
       "<style scoped>\n",
       "    .dataframe tbody tr th:only-of-type {\n",
       "        vertical-align: middle;\n",
       "    }\n",
       "\n",
       "    .dataframe tbody tr th {\n",
       "        vertical-align: top;\n",
       "    }\n",
       "\n",
       "    .dataframe thead th {\n",
       "        text-align: right;\n",
       "    }\n",
       "</style>\n",
       "<table border=\"1\" class=\"dataframe\">\n",
       "  <thead>\n",
       "    <tr style=\"text-align: right;\">\n",
       "      <th></th>\n",
       "      <th>price</th>\n",
       "    </tr>\n",
       "    <tr>\n",
       "      <th>region</th>\n",
       "      <th></th>\n",
       "    </tr>\n",
       "  </thead>\n",
       "  <tbody>\n",
       "    <tr>\n",
       "      <th>PhoenixTucson</th>\n",
       "      <td>0.728225</td>\n",
       "    </tr>\n",
       "    <tr>\n",
       "      <th>Houston</th>\n",
       "      <td>0.825089</td>\n",
       "    </tr>\n",
       "    <tr>\n",
       "      <th>WestTexNewMexico</th>\n",
       "      <td>0.842130</td>\n",
       "    </tr>\n",
       "    <tr>\n",
       "      <th>DallasFtWorth</th>\n",
       "      <td>0.846450</td>\n",
       "    </tr>\n",
       "    <tr>\n",
       "      <th>SouthCentral</th>\n",
       "      <td>0.869408</td>\n",
       "    </tr>\n",
       "  </tbody>\n",
       "</table>\n",
       "</div>"
      ],
      "text/plain": [
       "                     price\n",
       "region                    \n",
       "PhoenixTucson     0.728225\n",
       "Houston           0.825089\n",
       "WestTexNewMexico  0.842130\n",
       "DallasFtWorth     0.846450\n",
       "SouthCentral      0.869408"
      ]
     },
     "execution_count": 23,
     "metadata": {},
     "output_type": "execute_result"
    }
   ],
   "source": [
    "df_avocado.groupby('region').agg({'price':'mean'}).sort_values('price').head()"
   ]
  },
  {
   "cell_type": "code",
   "execution_count": 24,
   "metadata": {},
   "outputs": [],
   "source": [
    "ans['Q11'] = 2"
   ]
  },
  {
   "cell_type": "markdown",
   "metadata": {},
   "source": [
    "#### Q12. in what year were avocado prices the lowest? (on average)\n",
    "\n",
    "1. 2015\n",
    "\n",
    "2. 2016\n",
    "\n",
    "3. 2017\n",
    "\n",
    "4. 2018"
   ]
  },
  {
   "cell_type": "code",
   "execution_count": 25,
   "metadata": {},
   "outputs": [
    {
     "data": {
      "text/html": [
       "<div>\n",
       "<style scoped>\n",
       "    .dataframe tbody tr th:only-of-type {\n",
       "        vertical-align: middle;\n",
       "    }\n",
       "\n",
       "    .dataframe tbody tr th {\n",
       "        vertical-align: top;\n",
       "    }\n",
       "\n",
       "    .dataframe thead th {\n",
       "        text-align: right;\n",
       "    }\n",
       "</style>\n",
       "<table border=\"1\" class=\"dataframe\">\n",
       "  <thead>\n",
       "    <tr style=\"text-align: right;\">\n",
       "      <th></th>\n",
       "      <th>price</th>\n",
       "    </tr>\n",
       "    <tr>\n",
       "      <th>year</th>\n",
       "      <th></th>\n",
       "    </tr>\n",
       "  </thead>\n",
       "  <tbody>\n",
       "    <tr>\n",
       "      <th>2015</th>\n",
       "      <td>1.077963</td>\n",
       "    </tr>\n",
       "    <tr>\n",
       "      <th>2016</th>\n",
       "      <td>1.105595</td>\n",
       "    </tr>\n",
       "    <tr>\n",
       "      <th>2018</th>\n",
       "      <td>1.127886</td>\n",
       "    </tr>\n",
       "    <tr>\n",
       "      <th>2017</th>\n",
       "      <td>1.294888</td>\n",
       "    </tr>\n",
       "  </tbody>\n",
       "</table>\n",
       "</div>"
      ],
      "text/plain": [
       "         price\n",
       "year          \n",
       "2015  1.077963\n",
       "2016  1.105595\n",
       "2018  1.127886\n",
       "2017  1.294888"
      ]
     },
     "execution_count": 25,
     "metadata": {},
     "output_type": "execute_result"
    }
   ],
   "source": [
    "df_avocado.groupby('year').agg({'price':'mean'}).sort_values('price').head()"
   ]
  },
  {
   "cell_type": "code",
   "execution_count": 26,
   "metadata": {},
   "outputs": [],
   "source": [
    "ans['Q12'] = 1"
   ]
  },
  {
   "cell_type": "markdown",
   "metadata": {},
   "source": [
    "#### Q13. in what year were the prices lowest in Indianapolis? (on average)\n",
    "\n",
    "1. 2015\n",
    "\n",
    "2. 2016\n",
    "\n",
    "3. 2017\n",
    "\n",
    "4. 2018"
   ]
  },
  {
   "cell_type": "code",
   "execution_count": 27,
   "metadata": {},
   "outputs": [
    {
     "data": {
      "text/html": [
       "<div>\n",
       "<style scoped>\n",
       "    .dataframe tbody tr th:only-of-type {\n",
       "        vertical-align: middle;\n",
       "    }\n",
       "\n",
       "    .dataframe tbody tr th {\n",
       "        vertical-align: top;\n",
       "    }\n",
       "\n",
       "    .dataframe thead th {\n",
       "        text-align: right;\n",
       "    }\n",
       "</style>\n",
       "<table border=\"1\" class=\"dataframe\">\n",
       "  <thead>\n",
       "    <tr style=\"text-align: right;\">\n",
       "      <th></th>\n",
       "      <th>price</th>\n",
       "    </tr>\n",
       "    <tr>\n",
       "      <th>year</th>\n",
       "      <th></th>\n",
       "    </tr>\n",
       "  </thead>\n",
       "  <tbody>\n",
       "    <tr>\n",
       "      <th>2018</th>\n",
       "      <td>0.985000</td>\n",
       "    </tr>\n",
       "    <tr>\n",
       "      <th>2015</th>\n",
       "      <td>1.104615</td>\n",
       "    </tr>\n",
       "    <tr>\n",
       "      <th>2016</th>\n",
       "      <td>1.118077</td>\n",
       "    </tr>\n",
       "    <tr>\n",
       "      <th>2017</th>\n",
       "      <td>1.246792</td>\n",
       "    </tr>\n",
       "  </tbody>\n",
       "</table>\n",
       "</div>"
      ],
      "text/plain": [
       "         price\n",
       "year          \n",
       "2018  0.985000\n",
       "2015  1.104615\n",
       "2016  1.118077\n",
       "2017  1.246792"
      ]
     },
     "execution_count": 27,
     "metadata": {},
     "output_type": "execute_result"
    }
   ],
   "source": [
    "df_avocado[df_avocado['region'] == 'Indianapolis'].groupby('year').agg({'price':'mean'}).sort_values('price').head()"
   ]
  },
  {
   "cell_type": "code",
   "execution_count": 28,
   "metadata": {},
   "outputs": [],
   "source": [
    "ans['Q13'] = 4"
   ]
  },
  {
   "cell_type": "markdown",
   "metadata": {},
   "source": [
    "we will now load some additional data to play with.<br>\n",
    "the new data set holds number of avocado bags sold in each region for the same period."
   ]
  },
  {
   "cell_type": "code",
   "execution_count": 3,
   "metadata": {},
   "outputs": [
    {
     "data": {
      "text/html": [
       "<div>\n",
       "<style scoped>\n",
       "    .dataframe tbody tr th:only-of-type {\n",
       "        vertical-align: middle;\n",
       "    }\n",
       "\n",
       "    .dataframe tbody tr th {\n",
       "        vertical-align: top;\n",
       "    }\n",
       "\n",
       "    .dataframe thead th {\n",
       "        text-align: right;\n",
       "    }\n",
       "</style>\n",
       "<table border=\"1\" class=\"dataframe\">\n",
       "  <thead>\n",
       "    <tr style=\"text-align: right;\">\n",
       "      <th></th>\n",
       "      <th>Date</th>\n",
       "      <th>num_bags</th>\n",
       "      <th>year</th>\n",
       "      <th>region</th>\n",
       "    </tr>\n",
       "  </thead>\n",
       "  <tbody>\n",
       "    <tr>\n",
       "      <th>0</th>\n",
       "      <td>12/27/15</td>\n",
       "      <td>8696.87</td>\n",
       "      <td>2015</td>\n",
       "      <td>Albany</td>\n",
       "    </tr>\n",
       "    <tr>\n",
       "      <th>1</th>\n",
       "      <td>12/20/15</td>\n",
       "      <td>9505.56</td>\n",
       "      <td>2015</td>\n",
       "      <td>Albany</td>\n",
       "    </tr>\n",
       "    <tr>\n",
       "      <th>2</th>\n",
       "      <td>12/13/15</td>\n",
       "      <td>8145.35</td>\n",
       "      <td>2015</td>\n",
       "      <td>Albany</td>\n",
       "    </tr>\n",
       "    <tr>\n",
       "      <th>3</th>\n",
       "      <td>12/6/15</td>\n",
       "      <td>5811.16</td>\n",
       "      <td>2015</td>\n",
       "      <td>Albany</td>\n",
       "    </tr>\n",
       "    <tr>\n",
       "      <th>4</th>\n",
       "      <td>11/29/15</td>\n",
       "      <td>6183.95</td>\n",
       "      <td>2015</td>\n",
       "      <td>Albany</td>\n",
       "    </tr>\n",
       "  </tbody>\n",
       "</table>\n",
       "</div>"
      ],
      "text/plain": [
       "       Date  num_bags  year  region\n",
       "0  12/27/15   8696.87  2015  Albany\n",
       "1  12/20/15   9505.56  2015  Albany\n",
       "2  12/13/15   8145.35  2015  Albany\n",
       "3   12/6/15   5811.16  2015  Albany\n",
       "4  11/29/15   6183.95  2015  Albany"
      ]
     },
     "execution_count": 3,
     "metadata": {},
     "output_type": "execute_result"
    }
   ],
   "source": [
    "import pandas as pd\n",
    "df_avocado_bags = pd.read_csv('avocado_2_fixed.csv')\n",
    "df_avocado_bags.head()"
   ]
  },
  {
   "cell_type": "markdown",
   "metadata": {},
   "source": [
    "__notice:__ to answer the following questions you will need to join the two datasets together properly and make calculations on columns from both dfs. <br>\n",
    "remember the appropriate method for joining DF's in pandas we discussed in the recitation.<br>\n",
    "assume that the 'avocado market' for a single date can be measured by price times number of bags."
   ]
  },
  {
   "cell_type": "markdown",
   "metadata": {},
   "source": [
    "#### Q14. which of the following regions has a larger avocado market? (over the entire period)\n",
    "\n",
    "1. California\n",
    "\n",
    "2. NewYork\n",
    "\n",
    "3. Chicago\n",
    "\n",
    "4. LosAngeles"
   ]
  },
  {
   "cell_type": "code",
   "execution_count": 4,
   "metadata": {},
   "outputs": [
    {
     "data": {
      "text/html": [
       "<div>\n",
       "<style scoped>\n",
       "    .dataframe tbody tr th:only-of-type {\n",
       "        vertical-align: middle;\n",
       "    }\n",
       "\n",
       "    .dataframe tbody tr th {\n",
       "        vertical-align: top;\n",
       "    }\n",
       "\n",
       "    .dataframe thead th {\n",
       "        text-align: right;\n",
       "    }\n",
       "</style>\n",
       "<table border=\"1\" class=\"dataframe\">\n",
       "  <thead>\n",
       "    <tr style=\"text-align: right;\">\n",
       "      <th></th>\n",
       "      <th>market</th>\n",
       "    </tr>\n",
       "    <tr>\n",
       "      <th>region</th>\n",
       "      <th></th>\n",
       "    </tr>\n",
       "  </thead>\n",
       "  <tbody>\n",
       "    <tr>\n",
       "      <th>TotalUS</th>\n",
       "      <td>1.694474e+09</td>\n",
       "    </tr>\n",
       "    <tr>\n",
       "      <th>West</th>\n",
       "      <td>3.380878e+08</td>\n",
       "    </tr>\n",
       "    <tr>\n",
       "      <th>California</th>\n",
       "      <td>2.554244e+08</td>\n",
       "    </tr>\n",
       "    <tr>\n",
       "      <th>Northeast</th>\n",
       "      <td>2.441487e+08</td>\n",
       "    </tr>\n",
       "    <tr>\n",
       "      <th>Southeast</th>\n",
       "      <td>2.007594e+08</td>\n",
       "    </tr>\n",
       "  </tbody>\n",
       "</table>\n",
       "</div>"
      ],
      "text/plain": [
       "                  market\n",
       "region                  \n",
       "TotalUS     1.694474e+09\n",
       "West        3.380878e+08\n",
       "California  2.554244e+08\n",
       "Northeast   2.441487e+08\n",
       "Southeast   2.007594e+08"
      ]
     },
     "execution_count": 4,
     "metadata": {},
     "output_type": "execute_result"
    }
   ],
   "source": [
    "avocado_all = df_avocado.merge(df_avocado_bags,on=['Date','region', 'year'], how = 'inner')\n",
    "avocado_all['market'] = avocado_all['price'] * avocado_all['num_bags']\n",
    "avocado_all.groupby('region').agg({'market': 'sum'}).sort_values('market', ascending=False).head()"
   ]
  },
  {
   "cell_type": "code",
   "execution_count": 31,
   "metadata": {},
   "outputs": [],
   "source": [
    "ans['Q14'] = 1"
   ]
  },
  {
   "cell_type": "markdown",
   "metadata": {},
   "source": [
    "#### Q15. what year were avocado sales the highest (by total market value)\n",
    "\n",
    "1. 2015\n",
    "\n",
    "2. 2016\n",
    "\n",
    "3. 2017\n",
    "\n",
    "4. 2018"
   ]
  },
  {
   "cell_type": "code",
   "execution_count": 5,
   "metadata": {},
   "outputs": [
    {
     "data": {
      "text/html": [
       "<div>\n",
       "<style scoped>\n",
       "    .dataframe tbody tr th:only-of-type {\n",
       "        vertical-align: middle;\n",
       "    }\n",
       "\n",
       "    .dataframe tbody tr th {\n",
       "        vertical-align: top;\n",
       "    }\n",
       "\n",
       "    .dataframe thead th {\n",
       "        text-align: right;\n",
       "    }\n",
       "</style>\n",
       "<table border=\"1\" class=\"dataframe\">\n",
       "  <thead>\n",
       "    <tr style=\"text-align: right;\">\n",
       "      <th></th>\n",
       "      <th>market</th>\n",
       "    </tr>\n",
       "    <tr>\n",
       "      <th>year</th>\n",
       "      <th></th>\n",
       "    </tr>\n",
       "  </thead>\n",
       "  <tbody>\n",
       "    <tr>\n",
       "      <th>2017</th>\n",
       "      <td>1.822195e+09</td>\n",
       "    </tr>\n",
       "    <tr>\n",
       "      <th>2016</th>\n",
       "      <td>1.437407e+09</td>\n",
       "    </tr>\n",
       "    <tr>\n",
       "      <th>2015</th>\n",
       "      <td>7.730535e+08</td>\n",
       "    </tr>\n",
       "    <tr>\n",
       "      <th>2018</th>\n",
       "      <td>4.812983e+08</td>\n",
       "    </tr>\n",
       "  </tbody>\n",
       "</table>\n",
       "</div>"
      ],
      "text/plain": [
       "            market\n",
       "year              \n",
       "2017  1.822195e+09\n",
       "2016  1.437407e+09\n",
       "2015  7.730535e+08\n",
       "2018  4.812983e+08"
      ]
     },
     "execution_count": 5,
     "metadata": {},
     "output_type": "execute_result"
    }
   ],
   "source": [
    "avocado_all = df_avocado.merge(df_avocado_bags,on=['Date','region', 'year'], how = 'inner')\n",
    "avocado_all['market'] = avocado_all['price'] * avocado_all['num_bags']\n",
    "avocado_all.groupby('year').agg({'market': 'sum'}).sort_values('market', ascending=False).head()"
   ]
  },
  {
   "cell_type": "code",
   "execution_count": 33,
   "metadata": {},
   "outputs": [],
   "source": [
    "ans['Q15'] = 3"
   ]
  },
  {
   "cell_type": "markdown",
   "metadata": {},
   "source": [
    "# Data Science Basics"
   ]
  },
  {
   "cell_type": "markdown",
   "metadata": {},
   "source": [
    "the following questions reference material from the first lecture (Tuesday 5.3) and should be answered after the lecture."
   ]
  },
  {
   "cell_type": "markdown",
   "metadata": {},
   "source": [
    "## Basic definitions\n",
    "#### Q16.\tWhich of the following is not primarily a data science project: \n",
    "\n",
    "1.\tCollect and analyze data from a linear accelerator, looking for a new particle\n",
    "\n",
    "2.\tBuild a robot which serves cocktail drinks\n",
    "\n",
    "3.\tGiven two website designs, test which one attracts more traffic\n",
    "\n",
    "4.\tDo an online poll to predict the outcome of an election\n"
   ]
  },
  {
   "cell_type": "code",
   "execution_count": 34,
   "metadata": {},
   "outputs": [],
   "source": [
    "ans['Q16'] = 2"
   ]
  },
  {
   "cell_type": "markdown",
   "metadata": {},
   "source": [
    "#### We mentioned in class that data science has three interweaved components: Computing expertise, statistical expertise, domain expertise (Physics). Consider the following tasks involved in a hypothetical data science project to find a new particle: \n",
    "\n",
    "1.\tDesigning the database to hold results\n",
    "\n",
    "2.\tDeciding which signals should be collected, and what kind of signals we are looking for to identify a new particle\n",
    "\n",
    "3.\tFitting regression models to the data and performing statistical tests in search of the signals\n",
    "\n",
    "4.  Recruiting the right personnel to carry out the project \n",
    "\n",
    "#### Q17. Which one of the above most clearly belongs to the statistical expertise category?\n",
    "#### Q18. Which one most clearly belongs to the computing expertise category?\n",
    "#### Q19. Which one most clearly belongs to the domain expertise category?"
   ]
  },
  {
   "cell_type": "code",
   "execution_count": 35,
   "metadata": {},
   "outputs": [],
   "source": [
    "ans['Q17'] = 3\n",
    "ans['Q18'] = 1\n",
    "ans['Q19'] = 2"
   ]
  },
  {
   "cell_type": "markdown",
   "metadata": {},
   "source": [
    "# finish!"
   ]
  },
  {
   "cell_type": "markdown",
   "metadata": {},
   "source": [
    "to submit your HW please run this last code block and follow the instructions. <BR>\n",
    "this code will create a CSV file in the current directory on the azure notebooks project <br>\n",
    "please download it and send it to us at: dorongurel@mail.tau.ac.il with the mail title: `intro2ds-hw1`<br>\n",
    "we will then send you a confirmation that the file was recieved."
   ]
  },
  {
   "cell_type": "code",
   "execution_count": 36,
   "metadata": {},
   "outputs": [],
   "source": [
    "df_ans = pd.DataFrame.from_dict(ans, orient='index')\n",
    "df_ans.to_csv('{}_{}.csv'.format(ans['HW'],str(ans['id_number'])))"
   ]
  }
 ],
 "metadata": {
  "kernelspec": {
   "display_name": "Python 3",
   "language": "python",
   "name": "python3"
  },
  "language_info": {
   "codemirror_mode": {
    "name": "ipython",
    "version": 3
   },
   "file_extension": ".py",
   "mimetype": "text/x-python",
   "name": "python",
   "nbconvert_exporter": "python",
   "pygments_lexer": "ipython3",
   "version": "3.6.4"
  }
 },
 "nbformat": 4,
 "nbformat_minor": 2
}
