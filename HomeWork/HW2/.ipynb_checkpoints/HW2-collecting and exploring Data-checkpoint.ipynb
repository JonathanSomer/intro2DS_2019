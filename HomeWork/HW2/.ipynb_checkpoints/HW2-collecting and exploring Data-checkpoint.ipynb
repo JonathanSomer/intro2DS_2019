{
 "cells": [
  {
   "cell_type": "markdown",
   "metadata": {},
   "source": [
    "# HW2: Collecting and Exploring Data"
   ]
  },
  {
   "cell_type": "markdown",
   "metadata": {},
   "source": [
    "## instructions\n",
    "\n",
    "our course will be using an automatic grading system. <br>\n",
    "after each question there will appear a code block with some prepared code to add your answer to a dictionary that will be sent to the course server for grading. <br>\n",
    "please do not edit any code other than in placeholders marked `#### your code here ####` <br>\n",
    "__don't forget to run the code block after you write your answer.__\n",
    "\n",
    "\n",
    "you can add code blocks wherever you want in order to interact with datasets and play with your own code. <br>\n",
    "in the next code block plase fill in your id number and email account in the appropriate placees. <br>\n",
    "and __don't forget to run the block!__"
   ]
  },
  {
   "cell_type": "code",
   "execution_count": null,
   "metadata": {},
   "outputs": [],
   "source": [
    "ans = {}\n",
    "ans['HW'] = 'HW2'\n",
    "ans['id_number'] = #### your id here ####"
   ]
  },
  {
   "cell_type": "markdown",
   "metadata": {},
   "source": [
    "## pandas basics\n",
    "#### Q1) Data formats: In Python, the object pandas.DataFrame stores a rectangular data structure, and the object Dictionary is flexible like a JSON object. In class we used `pandas.DataFrame.from_dict(mydict,orient=\"index\")` to transform a Dictionary of dictionaries into a DataFrame. What is required for this operation to give the desired outcome: \n",
    "\n",
    "    1. That every dictionary inside mydict has elements with the same names\n",
    "    2. That there is only one dictionary inside mydict\n",
    "    3. That each dicotionary inside mydict has a single element\n",
    "    4. This function will always give a DataFrame which is equivalent to mydict\n",
    "    "
   ]
  },
  {
   "cell_type": "code",
   "execution_count": null,
   "metadata": {},
   "outputs": [],
   "source": [
    "ans['Q1'] = #### your answer here ####"
   ]
  },
  {
   "cell_type": "markdown",
   "metadata": {},
   "source": [
    "## Scraping\n",
    "\n",
    "Consider the following html snippet:\n",
    "\n",
    "```python    \n",
    "    html_doc = \"\"\"\n",
    "\n",
    "    <html><head><title>The Dormouse's story</title></head>\n",
    "    <body>\n",
    "    <p class=\"title\"><b>The Dormouse's story</b></p>\n",
    "\n",
    "    <p class=\"story\">Once upon a time there were three little sisters; and their names were\n",
    "    <a href=\"http://example.com/elsie\" class=\"sister\" id=\"link1\">Elsie</a>,\n",
    "    <a href=\"http://example.com/lacie\" class=\"sister\" id=\"link2\">Lacie</a> and\n",
    "    <a href=\"http://example.com/tillie\" class=\"sister\" id=\"link3\">Tillie</a>;\n",
    "    and they lived at the bottom of a well.</p>\n",
    "\n",
    "    <p class=\"story\">Here is an image of Elsie: <a href=\"http://example.com/elsie\"><img src = \"elsie.png\"></a></p>\n",
    "    <p class=\"story\">And here is an image of Lacie: <a href=\"http://example.com/lacie\"><img src = \"lacie.png\"></a></p>\n",
    "    \"\"\"\n",
    "```"
   ]
  },
  {
   "cell_type": "markdown",
   "metadata": {},
   "source": [
    "#### Q2) We would like to get a list of the three little sisters names. Fill in the missing line of the following function:\n",
    "\n",
    "```python    \n",
    "    from bs4 import BeautifulSoup\n",
    "\n",
    "    soup = BeautifulSoup(html_doc)\n",
    "\n",
    "    def get_sisters_names(soup):\n",
    "        # missing line 1 #\n",
    "        return [sister.get_text() for sister in sisters]\n",
    "    ```\n",
    "\n",
    "   1. `sisters = soup.find_all('sister')`\n",
    "   2. `sisters = soup.find_all('a')`\n",
    "   3. `sisters = soup.find_all('a', {'class': 'sister'})`\n",
    "   4. `sisters = soup.find_all(class = 'sister')`"
   ]
  },
  {
   "cell_type": "code",
   "execution_count": null,
   "metadata": {},
   "outputs": [],
   "source": [
    "ans['Q2'] = #### your answer here ####"
   ]
  },
  {
   "cell_type": "markdown",
   "metadata": {},
   "source": [
    "#### Q3) Now we would like to get only the raw text of the Doormouse story, not including the title. Fill in the missing line of the following function:\n",
    "\n",
    "```python    \n",
    "    def get_story(soup):\n",
    "        # missing line 1 #\n",
    "        story = ''\n",
    "        for p in paragraphs:\n",
    "            # missing line 2 #\n",
    "            if class_name == 'story':\n",
    "                story += p.get_text() + ' '\n",
    "        return ' '.join(story.split())\n",
    "```\n",
    "\n",
    "   1. line 1: `paragraphs = soup.find_all('p')`; line 2: `class_name = p['class'][0]`\n",
    "   2. line 1: `paragraphs = soup.find_all('p', {'class': 'story'})`; line 2: `class_name = p['class']`\n",
    "   3. line 1: `paragraphs = soup.find_all('p', {'class': 'story'})`; line 2: `class_name = p.find('class')[0]`\n",
    "   4. line 1: `paragraphs = soup.find_all('story')`; line 2: `class_name = p.attr['class']`"
   ]
  },
  {
   "cell_type": "code",
   "execution_count": null,
   "metadata": {},
   "outputs": [],
   "source": [
    "ans['Q3'] = #### your answer here ####"
   ]
  },
  {
   "cell_type": "markdown",
   "metadata": {},
   "source": [
    "#### Q4) What will be the result of calling the following function on our `soup` object (i.e. `does_something(soup)`)?\n",
    "\n",
    "```python    \n",
    "    def does_something(soup):\n",
    "        return [e['src'].split('.')[0] for e in soup.find_all('img')]\n",
    "```\n",
    "   1. `['elsie.png', 'lacie.png']`\n",
    "   2. `['elsie', 'lacie']`\n",
    "   3. `{'src': ['elsie', 'lacie']}`\n",
    "   4. The function will throw an exception on our `soup` object"
   ]
  },
  {
   "cell_type": "code",
   "execution_count": null,
   "metadata": {},
   "outputs": [],
   "source": [
    "ans['Q4'] = #### your answer here ####"
   ]
  },
  {
   "cell_type": "markdown",
   "metadata": {},
   "source": [
    "#### Q5) The class notes contain code to scrape the Beatles discography and prepare a list of Albums. If we change the line \n",
    "\n",
    " `if re.match(re.compile('^List of(.+?)albums'), header):` \n",
    " \n",
    "   to \n",
    "   \n",
    " `if re.match(re.compile('^List of EPs'), header):` \n",
    "   we get a list of EPs, however they only contain 17 EPs and not 21 as in the original list. What is the reason for this? \n",
    "\n",
    "   1. That the titles are repetitive and therefore the Python dictionary cannot distinguish between them\n",
    "   2. That the html table only has 17 rows \n",
    "   3. That the other four don't have hyperlinks and therefore `title_col.find('a')` does not find them\n",
    "   4. That the check `release_date is not None` fails for the other four"
   ]
  },
  {
   "cell_type": "code",
   "execution_count": null,
   "metadata": {},
   "outputs": [],
   "source": [
    "ans['Q5'] = #### your answer here ####"
   ]
  },
  {
   "cell_type": "markdown",
   "metadata": {},
   "source": [
    "## Downloading and analyzing data \n",
    "\n",
    "Query Google Trends for searches of pasta compared to rice in the entire year 2018, worldwide. Check out the statistics by country and enjoy the interesting (and not surprising) georgraphic distribution. Download the statistics by country (DO NOT check the Include low search volume regions checkbox). "
   ]
  },
  {
   "cell_type": "markdown",
   "metadata": {},
   "source": [
    "#### Q6) Calculate how many of the reported countries had more searches for pasta than rice: \n",
    "\n",
    "    1. 53\n",
    "    2. 8\n",
    "    3. 31\n",
    "    4. 15\n"
   ]
  },
  {
   "cell_type": "code",
   "execution_count": null,
   "metadata": {},
   "outputs": [],
   "source": [
    "ans['Q6'] = #### your answer here ####"
   ]
  },
  {
   "cell_type": "markdown",
   "metadata": {},
   "source": [
    "#### Q7) How many European countries in this list have more searches for rice than pasta?\n",
    "\n",
    "    1. 0\n",
    "    2. 2\n",
    "    3. 4\n",
    "    4. 6\n",
    "    "
   ]
  },
  {
   "cell_type": "code",
   "execution_count": null,
   "metadata": {},
   "outputs": [],
   "source": [
    "ans['Q7'] = #### your answer here ####"
   ]
  },
  {
   "cell_type": "markdown",
   "metadata": {},
   "source": [
    "## data manipulations\n",
    "Download from [Gapminder data repository](https://www.gapminder.org/data/) the life expectancy data for all countries in the years 1900-1999 (you may load a bigger dataset and concentrate on this part). Extract from this countries that have data for all years in the range 1900-1999. You should get 184 countries. Create for each of these the average age for each decade (1900-1909, 1910-1919,...), creating a matrix of 184\\*10 averages.\n",
    "\n",
    "__notice:__ there are many ways to aggregate the data correctly. you may use loops, numpy matrix operations and of course pandas, whatever you feel fit."
   ]
  },
  {
   "cell_type": "markdown",
   "metadata": {},
   "source": [
    "#### Q8)  Find out all the cases that a country had a higher life expectancy in one decade compared to both the deacdes before and after. How many countries have at least one such decade? \n",
    "\n",
    "    1. 67\n",
    "    2. 70\n",
    "    3. 78\n",
    "    4. 105"
   ]
  },
  {
   "cell_type": "code",
   "execution_count": null,
   "metadata": {},
   "outputs": [],
   "source": [
    "ans['Q8'] = #### your answer here ####"
   ]
  },
  {
   "cell_type": "markdown",
   "metadata": {},
   "source": [
    "#### Q9) In which decade the most countries experienced a decrease in life expectancy compared to the previous decade? (see if you can think of a reason)\n",
    "\n",
    "   1. 1910's compared to 1900's\n",
    "   2. 1920's compared to 1910's\n",
    "   3. 1950's compared to 1940's\n",
    "   4. 1980's compared to 1970's"
   ]
  },
  {
   "cell_type": "code",
   "execution_count": null,
   "metadata": {},
   "outputs": [],
   "source": [
    "ans['Q9'] = #### your answer here ####"
   ]
  },
  {
   "cell_type": "markdown",
   "metadata": {},
   "source": [
    "## Summary Statistics"
   ]
  },
  {
   "cell_type": "markdown",
   "metadata": {},
   "source": [
    "#### Q10) I have 101 observations for length of hospital stays, with maximum value 95 days, minimum 7 days, and average and median both 50 days. Now assume some software bug is causing the data to change from being measured in days to minutes (the length is multiplied by 24*60=1440). What is the minimal number of observations that will need to change before the average exceeds 100?\n",
    "\n",
    "    1. 1\n",
    "    2. 10\n",
    "    3. 51\n",
    "    4. 100"
   ]
  },
  {
   "cell_type": "code",
   "execution_count": null,
   "metadata": {},
   "outputs": [],
   "source": [
    "ans['Q10'] = #### your answer here ####"
   ]
  },
  {
   "cell_type": "markdown",
   "metadata": {},
   "source": [
    "#### Q11) In the same settings, what is the minimal number of observations that will need to change before the median exceeds 100? \n",
    "\n",
    "   1. 1\n",
    "   2. 10\n",
    "   3. 51\n",
    "   4. 100"
   ]
  },
  {
   "cell_type": "code",
   "execution_count": null,
   "metadata": {},
   "outputs": [],
   "source": [
    "ans['Q11'] = #### your answer here ####"
   ]
  },
  {
   "cell_type": "markdown",
   "metadata": {},
   "source": [
    "#### Q12) Assume the pollution in city A is exactly double that in city B every day. We measure the pollution in city A over 100 days and put it in a vector $x=(x_1,…x_{100})$ and in city B over the same 100 days giving $y=(y_1,…y_{100})$. We also consider the vectors $u=(log(x_1),…,log(x_{100}))$ and $v = (log(y_1),…,log(y_{100}))$. Which of the following holds: \n",
    "\n",
    "   1. $u_{10}$ (the 10th observation in $u$) is double $v_{10}$ \n",
    "   2. If $x_{10}$ > $y_{10}$ then $u_{10} < v_{10}$\n",
    "   3. The dispersion of $x$ is bigger than of $y$, but the dispersion of $u$ is equal to that of $v$\n",
    "   4. None of the above \t"
   ]
  },
  {
   "cell_type": "code",
   "execution_count": null,
   "metadata": {},
   "outputs": [],
   "source": [
    "ans['Q12'] = #### your answer here ####"
   ]
  },
  {
   "cell_type": "markdown",
   "metadata": {},
   "source": [
    "## Basic Plots"
   ]
  },
  {
   "cell_type": "markdown",
   "metadata": {},
   "source": [
    "#### Q13) Fill in the missing line to produce two boxplots of `y`, side by side, one for each value of `x`:\n",
    "\n",
    "```python\n",
    "    import pandas as pd\n",
    "    import numpy as np\n",
    "    import seaborn as sns\n",
    "    import matplotlib.pyplot as plt\n",
    "\n",
    "    sns.set()\n",
    "\n",
    "    df = pd.DataFrame({\n",
    "        'x': np.concatenate([np.tile('a', 100), np.tile('b', 100)]),\n",
    "        'y': np.concatenate([np.random.normal(size = 100), np.random.exponential(size = 100)])})\n",
    "\n",
    "    # missing line 1 #\n",
    "```\n",
    "\n",
    "   1. `sns.boxplot(df.x, df.y)`\n",
    "   2. `sns.boxplot(df['x'], df['y'])`\n",
    "   3. `sns.boxplot('x', 'y', data = df)`\n",
    "   4. All of the above"
   ]
  },
  {
   "cell_type": "code",
   "execution_count": null,
   "metadata": {},
   "outputs": [],
   "source": [
    "ans['Q13'] = #### your answer here ####"
   ]
  },
  {
   "cell_type": "markdown",
   "metadata": {},
   "source": [
    "# finish!\n",
    "\n",
    "to submit your HW please run this last code block and follow the instructions. <BR>\n",
    "this code will create a CSV file in the current directory on the azure notebooks project <br>\n",
    "please download it and submit it through moodle"
   ]
  },
  {
   "cell_type": "code",
   "execution_count": null,
   "metadata": {},
   "outputs": [],
   "source": [
    "import pandas as pd\n",
    "df_ans = pd.DataFrame.from_dict(ans, orient='index')\n",
    "if df_ans.shape[0] == 15:\n",
    "    df_ans.to_csv('{}_{}.csv'.format(ans['HW'],str(ans['id_number'])))\n",
    "else\n",
    "    print(\"seems like you missed a question, make sure you have run all the code blocks\")"
   ]
  }
 ],
 "metadata": {
  "kernelspec": {
   "display_name": "Python 3",
   "language": "python",
   "name": "python3"
  },
  "language_info": {
   "codemirror_mode": {
    "name": "ipython",
    "version": 3
   },
   "file_extension": ".py",
   "mimetype": "text/x-python",
   "name": "python",
   "nbconvert_exporter": "python",
   "pygments_lexer": "ipython3",
   "version": "3.6.4"
  }
 },
 "nbformat": 4,
 "nbformat_minor": 2
}
