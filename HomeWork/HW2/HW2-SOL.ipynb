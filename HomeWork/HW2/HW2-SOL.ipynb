{
 "cells": [
  {
   "cell_type": "markdown",
   "metadata": {},
   "source": [
    "# HW2: Collecting and Exploring Data"
   ]
  },
  {
   "cell_type": "markdown",
   "metadata": {},
   "source": [
    "## instructions\n",
    "\n",
    "our course will be using an automatic grading system. <br>\n",
    "after each question there will appear a code block with some prepared code to add your answer to a dictionary that will be sent to the course server for grading. <br>\n",
    "please do not edit any code other than in placeholders marked `#### your code here ####` <br>\n",
    "__don't forget to run the code block after you write your answer.__\n",
    "\n",
    "\n",
    "you can add code blocks wherever you want in order to interact with datasets and play with your own code. <br>\n",
    "in the next code block plase fill in your id number and email account in the appropriate placees. <br>\n",
    "and __don't forget to run the block!__"
   ]
  },
  {
   "cell_type": "code",
   "execution_count": 1,
   "metadata": {},
   "outputs": [],
   "source": [
    "ans = {}\n",
    "ans['HW'] = 'HW2'\n",
    "ans['id_number'] = 1"
   ]
  },
  {
   "cell_type": "markdown",
   "metadata": {},
   "source": [
    "## pandas basics\n",
    "#### Q1) Data formats: In Python, the object pandas.DataFrame stores a rectangular data structure, and the object Dictionary is flexible like a JSON object. In class we used `pandas.DataFrame.from_dict(mydict,orient=\"index\")` to transform a Dictionary of dictionaries into a DataFrame. What is required for this operation to give the desired outcome: \n",
    "\n",
    "    1. That every dictionary inside mydict has elements with the same names\n",
    "    2. That there is only one dictionary inside mydict\n",
    "    3. That each dicotionary inside mydict has a single element\n",
    "    4. This function will always give a DataFrame which is equivalent to mydict\n",
    "    "
   ]
  },
  {
   "cell_type": "code",
   "execution_count": 78,
   "metadata": {},
   "outputs": [
    {
     "data": {
      "text/html": [
       "<div>\n",
       "<style scoped>\n",
       "    .dataframe tbody tr th:only-of-type {\n",
       "        vertical-align: middle;\n",
       "    }\n",
       "\n",
       "    .dataframe tbody tr th {\n",
       "        vertical-align: top;\n",
       "    }\n",
       "\n",
       "    .dataframe thead th {\n",
       "        text-align: right;\n",
       "    }\n",
       "</style>\n",
       "<table border=\"1\" class=\"dataframe\">\n",
       "  <thead>\n",
       "    <tr style=\"text-align: right;\">\n",
       "      <th></th>\n",
       "      <th>B</th>\n",
       "      <th>c</th>\n",
       "      <th>e</th>\n",
       "    </tr>\n",
       "  </thead>\n",
       "  <tbody>\n",
       "    <tr>\n",
       "      <th>a</th>\n",
       "      <td>1.0</td>\n",
       "      <td>2</td>\n",
       "      <td>NaN</td>\n",
       "    </tr>\n",
       "    <tr>\n",
       "      <th>d</th>\n",
       "      <td>NaN</td>\n",
       "      <td>3</td>\n",
       "      <td>4.0</td>\n",
       "    </tr>\n",
       "  </tbody>\n",
       "</table>\n",
       "</div>"
      ],
      "text/plain": [
       "     B  c    e\n",
       "a  1.0  2  NaN\n",
       "d  NaN  3  4.0"
      ]
     },
     "execution_count": 78,
     "metadata": {},
     "output_type": "execute_result"
    }
   ],
   "source": [
    "import pandas as pd \n",
    "mydict = {'a':{'B':1, 'c':2}, 'd':{'c':3,'e':4}}\n",
    "pd.DataFrame.from_dict(mydict,orient=\"index\")"
   ]
  },
  {
   "cell_type": "code",
   "execution_count": 2,
   "metadata": {},
   "outputs": [],
   "source": [
    "ans['Q1'] = 4"
   ]
  },
  {
   "cell_type": "markdown",
   "metadata": {},
   "source": [
    "## Scraping\n",
    "\n",
    "Consider the following html snippet:\n",
    "\n",
    "```python    \n",
    "    html_doc = \"\"\"\n",
    "\n",
    "    <html><head><title>The Dormouse's story</title></head>\n",
    "    <body>\n",
    "    <p class=\"title\"><b>The Dormouse's story</b></p>\n",
    "\n",
    "    <p class=\"story\">Once upon a time there were three little sisters; and their names were\n",
    "    <a href=\"http://example.com/elsie\" class=\"sister\" id=\"link1\">Elsie</a>,\n",
    "    <a href=\"http://example.com/lacie\" class=\"sister\" id=\"link2\">Lacie</a> and\n",
    "    <a href=\"http://example.com/tillie\" class=\"sister\" id=\"link3\">Tillie</a>;\n",
    "    and they lived at the bottom of a well.</p>\n",
    "\n",
    "    <p class=\"story\">Here is an image of Elsie: <a href=\"http://example.com/elsie\"><img src = \"elsie.png\"></a></p>\n",
    "    <p class=\"story\">And here is an image of Lacie: <a href=\"http://example.com/lacie\"><img src = \"lacie.png\"></a></p>\n",
    "    \"\"\"\n",
    "```"
   ]
  },
  {
   "cell_type": "code",
   "execution_count": 20,
   "metadata": {},
   "outputs": [],
   "source": [
    " html_doc = \"\"\"\n",
    "\n",
    "    <html><head><title>The Dormouse's story</title></head>\n",
    "    <body>\n",
    "    <p class=\"title\"><b>The Dormouse's story</b></p>\n",
    "\n",
    "    <p class=\"story\">Once upon a time there were three little sisters; and their names were\n",
    "    <a href=\"http://example.com/elsie\" class=\"sister\" id=\"link1\">Elsie</a>,\n",
    "    <a href=\"http://example.com/lacie\" class=\"sister\" id=\"link2\">Lacie</a> and\n",
    "    <a href=\"http://example.com/tillie\" class=\"sister\" id=\"link3\">Tillie</a>;\n",
    "    and they lived at the bottom of a well.</p>\n",
    "\n",
    "    <p class=\"story\">Here is an image of Elsie: <a href=\"http://example.com/elsie\"><img src = \"elsie.png\"></a></p>\n",
    "    <p class=\"story\">And here is an image of Lacie: <a href=\"http://example.com/lacie\"><img src = \"lacie.png\"></a></p>\n",
    "    \"\"\""
   ]
  },
  {
   "cell_type": "markdown",
   "metadata": {},
   "source": [
    "#### Q2) We would like to get a list of the three little sisters names. Fill in the missing line of the following function:\n",
    "\n",
    "```python    \n",
    "    from bs4 import BeautifulSoup\n",
    "\n",
    "    soup = BeautifulSoup(html_doc)\n",
    "\n",
    "    def get_sisters_names(soup):\n",
    "        # missing line 1 #\n",
    "        return [sister.get_text() for sister in sisters]\n",
    "    ```\n",
    "\n",
    "   1. `sisters = soup.find_all('sister')`\n",
    "   2. `sisters = soup.find_all('a')`\n",
    "   3. `sisters = soup.find_all('a', {'class': 'sister'})`\n",
    "   4. `sisters = soup.find_all(class = 'sister')`"
   ]
  },
  {
   "cell_type": "code",
   "execution_count": 26,
   "metadata": {},
   "outputs": [
    {
     "data": {
      "text/plain": [
       "['Elsie', 'Lacie', 'Tillie']"
      ]
     },
     "execution_count": 26,
     "metadata": {},
     "output_type": "execute_result"
    }
   ],
   "source": [
    "from bs4 import BeautifulSoup\n",
    "\n",
    "soup = BeautifulSoup(html_doc)\n",
    "\n",
    "def get_sisters_names(soup):\n",
    "    sisters = soup.find_all('a', {'class': 'sister'})\n",
    "    return [sister.get_text() for sister in sisters]\n",
    "\n",
    "get_sisters_names(soup)"
   ]
  },
  {
   "cell_type": "code",
   "execution_count": 3,
   "metadata": {},
   "outputs": [],
   "source": [
    "ans['Q2'] = 3"
   ]
  },
  {
   "cell_type": "markdown",
   "metadata": {},
   "source": [
    "#### Q3) Now we would like to get only the raw text of the Doormouse story, not including the title. Fill in the missing line of the following function:\n",
    "\n",
    "```python    \n",
    "    def get_story(soup):\n",
    "        # missing line 1 #\n",
    "        story = ''\n",
    "        for p in paragraphs:\n",
    "            # missing line 2 #\n",
    "            if class_name == 'story':\n",
    "                story += p.get_text() + ' '\n",
    "        return ' '.join(story.split())\n",
    "```\n",
    "\n",
    "   1. line 1: `paragraphs = soup.find_all('p')`; line 2: `class_name = p['class'][0]`\n",
    "   2. line 1: `paragraphs = soup.find_all('p', {'class': 'story'})`; line 2: `class_name = p['class']`\n",
    "   3. line 1: `paragraphs = soup.find_all('p', {'class': 'story'})`; line 2: `class_name = p.find('class')[0]`\n",
    "   4. line 1: `paragraphs = soup.find_all('story')`; line 2: `class_name = p.attr['class']`"
   ]
  },
  {
   "cell_type": "code",
   "execution_count": 35,
   "metadata": {},
   "outputs": [
    {
     "name": "stdout",
     "output_type": "stream",
     "text": [
      "['title']\n",
      "['story']\n",
      "['story']\n",
      "['story']\n"
     ]
    },
    {
     "data": {
      "text/plain": [
       "'Once upon a time there were three little sisters; and their names were Elsie, Lacie and Tillie; and they lived at the bottom of a well. Here is an image of Elsie: And here is an image of Lacie:'"
      ]
     },
     "execution_count": 35,
     "metadata": {},
     "output_type": "execute_result"
    }
   ],
   "source": [
    "def get_story(soup):\n",
    "    paragraphs = soup.find_all('p')\n",
    "    story = ''\n",
    "    for p in paragraphs:\n",
    "        print(p['class'])\n",
    "        class_name = p['class'][0]\n",
    "        if class_name == 'story':\n",
    "            story += p.get_text() + ' '\n",
    "    return ' '.join(story.split())\n",
    "\n",
    "get_story(soup)"
   ]
  },
  {
   "cell_type": "code",
   "execution_count": 4,
   "metadata": {},
   "outputs": [],
   "source": [
    "ans['Q3'] = 1"
   ]
  },
  {
   "cell_type": "markdown",
   "metadata": {},
   "source": [
    "#### Q4) What will be the result of calling the following function on our `soup` object (i.e. `does_something(soup)`)?\n",
    "\n",
    "```python    \n",
    "    def does_something(soup):\n",
    "        return [e['src'].split('.')[0] for e in soup.find_all('img')]\n",
    "```\n",
    "   1. `['elsie.png', 'lacie.png']`\n",
    "   2. `['elsie', 'lacie']`\n",
    "   3. `{'src': ['elsie', 'lacie']}`\n",
    "   4. The function will throw an exception on our `soup` object"
   ]
  },
  {
   "cell_type": "code",
   "execution_count": 36,
   "metadata": {},
   "outputs": [
    {
     "data": {
      "text/plain": [
       "['elsie', 'lacie']"
      ]
     },
     "execution_count": 36,
     "metadata": {},
     "output_type": "execute_result"
    }
   ],
   "source": [
    "def does_something(soup):\n",
    "    return [e['src'].split('.')[0] for e in soup.find_all('img')]\n",
    "does_something(soup)"
   ]
  },
  {
   "cell_type": "code",
   "execution_count": 5,
   "metadata": {},
   "outputs": [],
   "source": [
    "ans['Q4'] = 2"
   ]
  },
  {
   "cell_type": "markdown",
   "metadata": {},
   "source": [
    "#### Q5) The class notes contain code to scrape the Beatles discography and prepare a list of Albums. If we change the line \n",
    "\n",
    " `if re.match(re.compile('^List of(.+?)albums'), header):` \n",
    " \n",
    "   to \n",
    "   \n",
    " `if re.match(re.compile('^List of EPs'), header):` \n",
    "   we get a list of EPs, however they only contain 17 EPs and not 21 as in the original list. What is the reason for this? \n",
    "\n",
    "   1. That the titles are repetitive and therefore the Python dictionary cannot distinguish between them\n",
    "   2. That the html table only has 17 rows \n",
    "   3. That the other four don't have hyperlinks and therefore `title_col.find('a')` does not find them\n",
    "   4. That the check `release_date is not None` fails for the other four"
   ]
  },
  {
   "cell_type": "code",
   "execution_count": 6,
   "metadata": {},
   "outputs": [],
   "source": [
    "ans['Q5'] = 3"
   ]
  },
  {
   "cell_type": "markdown",
   "metadata": {},
   "source": [
    "## Downloading and analyzing data \n",
    "\n",
    "Query Google Trends for searches of pasta compared to rice in the entire year 2018, worldwide. Check out the statistics by country and enjoy the interesting (and not surprising) georgraphic distribution. Download the statistics by country (DO NOT check the Include low search volume regions checkbox). "
   ]
  },
  {
   "cell_type": "markdown",
   "metadata": {},
   "source": [
    "#### Q6) Calculate how many of the reported countries had more searches for pasta than rice: \n",
    "\n",
    "    1. 53\n",
    "    2. 8\n",
    "    3. 31\n",
    "    4. 15\n"
   ]
  },
  {
   "cell_type": "code",
   "execution_count": 7,
   "metadata": {},
   "outputs": [],
   "source": [
    "ans['Q6'] = 4"
   ]
  },
  {
   "cell_type": "markdown",
   "metadata": {},
   "source": [
    "#### Q7) How many European countries in this list have more searches for rice than pasta? (assume there is no Brexit :)\n",
    "\n",
    "    1. 0\n",
    "    2. 2\n",
    "    3. 4\n",
    "    4. 6\n",
    "    "
   ]
  },
  {
   "cell_type": "code",
   "execution_count": 8,
   "metadata": {},
   "outputs": [],
   "source": [
    "ans['Q7'] = 2"
   ]
  },
  {
   "cell_type": "markdown",
   "metadata": {},
   "source": [
    "## data manipulations\n",
    "Download from [Gapminder data repository](https://www.gapminder.org/data/) the life expectancy data for all countries in the years 1900-1999 (you may load a bigger dataset and concentrate on this part). Extract from this countries that have data for all years in the range 1900-1999. You should get 184 countries. Create for each of these the average age for each decade (1900-1909, 1910-1919,...), creating a matrix of 184\\*10 averages.\n",
    "\n",
    "__hint:__ there are many ways to do this manipulation. you can do it using loops in python but you might want to do this in pandas."
   ]
  },
  {
   "cell_type": "code",
   "execution_count": 84,
   "metadata": {},
   "outputs": [
    {
     "name": "stderr",
     "output_type": "stream",
     "text": [
      "/Library/Frameworks/Python.framework/Versions/3.6/lib/python3.6/site-packages/ipykernel_launcher.py:1: FutureWarning: from_csv is deprecated. Please use read_csv(...) instead. Note that some of the default arguments are different, so please refer to the documentation for from_csv when changing your function calls\n",
      "  \"\"\"Entry point for launching an IPython kernel.\n"
     ]
    }
   ],
   "source": [
    "df_pop = pd.DataFrame.from_csv('life_expectancy_years.csv')\n",
    "import numpy as np\n"
   ]
  },
  {
   "cell_type": "code",
   "execution_count": 87,
   "metadata": {},
   "outputs": [
    {
     "data": {
      "text/plain": [
       "['1900',\n",
       " '1901',\n",
       " '1902',\n",
       " '1903',\n",
       " '1904',\n",
       " '1905',\n",
       " '1906',\n",
       " '1907',\n",
       " '1908',\n",
       " '1909']"
      ]
     },
     "execution_count": 87,
     "metadata": {},
     "output_type": "execute_result"
    }
   ],
   "source": [
    "year_range = [str(year) for year in range(1900,2000)]\n",
    "year_range[0:10]"
   ]
  },
  {
   "cell_type": "code",
   "execution_count": 112,
   "metadata": {},
   "outputs": [],
   "source": [
    "avg_vec_1 = np.array([1/10]*10 + [0]*90)\n",
    "avg_vec_2 = np.array([0]*10 + [1/10]*10 + [0]*80)\n",
    "avg_vec_3 = np.array([0]*20 + [1/10]*10 + [0]*70)\n",
    "avg_vec_4 = np.array([0]*30 + [1/10]*10 + [0]*60)\n",
    "avg_vec_5 = np.array([0]*40 + [1/10]*10 + [0]*50)\n",
    "avg_vec_6 = np.array([0]*50 + [1/10]*10 + [0]*40)\n",
    "avg_vec_7 = np.array([0]*60 + [1/10]*10 + [0]*30)\n",
    "avg_vec_8 = np.array([0]*70 + [1/10]*10 + [0]*20)\n",
    "avg_vec_9 = np.array([0]*80 + [1/10]*10 + [0]*10)\n",
    "avg_vec_10 = np.array([0]*90 + [1/10]*10)\n",
    "\n"
   ]
  },
  {
   "cell_type": "code",
   "execution_count": 115,
   "metadata": {},
   "outputs": [
    {
     "data": {
      "text/plain": [
       "(10, 100)"
      ]
     },
     "execution_count": 115,
     "metadata": {},
     "output_type": "execute_result"
    }
   ],
   "source": [
    "the_averager = np.array([[1/10]*10 + [0]*90,\n",
    "                        [0]*10 + [1/10]*10 + [0]*80,\n",
    "                        [0]*20 + [1/10]*10 + [0]*70,\n",
    "                        [0]*30 + [1/10]*10 + [0]*60,\n",
    "                        [0]*40 + [1/10]*10 + [0]*50,\n",
    "                        [0]*50 + [1/10]*10 + [0]*40,\n",
    "                        [0]*60 + [1/10]*10 + [0]*30,\n",
    "                        [0]*70 + [1/10]*10 + [0]*20,\n",
    "                        [0]*80 + [1/10]*10 + [0]*10,\n",
    "                        [0]*90 + [1/10]*10])\n",
    "the_averager.shape"
   ]
  },
  {
   "cell_type": "code",
   "execution_count": 116,
   "metadata": {},
   "outputs": [
    {
     "data": {
      "text/plain": [
       "(100, 10)"
      ]
     },
     "execution_count": 116,
     "metadata": {},
     "output_type": "execute_result"
    }
   ],
   "source": [
    "the_averager.transpose().shape"
   ]
  },
  {
   "cell_type": "code",
   "execution_count": 118,
   "metadata": {},
   "outputs": [
    {
     "data": {
      "text/html": [
       "<div>\n",
       "<style scoped>\n",
       "    .dataframe tbody tr th:only-of-type {\n",
       "        vertical-align: middle;\n",
       "    }\n",
       "\n",
       "    .dataframe tbody tr th {\n",
       "        vertical-align: top;\n",
       "    }\n",
       "\n",
       "    .dataframe thead th {\n",
       "        text-align: right;\n",
       "    }\n",
       "</style>\n",
       "<table border=\"1\" class=\"dataframe\">\n",
       "  <thead>\n",
       "    <tr style=\"text-align: right;\">\n",
       "      <th></th>\n",
       "      <th>1900</th>\n",
       "      <th>1910</th>\n",
       "      <th>1920</th>\n",
       "      <th>1930</th>\n",
       "      <th>1940</th>\n",
       "      <th>1950</th>\n",
       "      <th>1960</th>\n",
       "      <th>1970</th>\n",
       "      <th>1980</th>\n",
       "      <th>1990</th>\n",
       "    </tr>\n",
       "    <tr>\n",
       "      <th>country</th>\n",
       "      <th></th>\n",
       "      <th></th>\n",
       "      <th></th>\n",
       "      <th></th>\n",
       "      <th></th>\n",
       "      <th></th>\n",
       "      <th></th>\n",
       "      <th></th>\n",
       "      <th></th>\n",
       "      <th></th>\n",
       "    </tr>\n",
       "  </thead>\n",
       "  <tbody>\n",
       "    <tr>\n",
       "      <th>Afghanistan</th>\n",
       "      <td>29.47</td>\n",
       "      <td>27.799</td>\n",
       "      <td>30.58</td>\n",
       "      <td>31.14</td>\n",
       "      <td>31.69</td>\n",
       "      <td>34.80</td>\n",
       "      <td>41.87</td>\n",
       "      <td>45.77</td>\n",
       "      <td>43.97</td>\n",
       "      <td>51.16</td>\n",
       "    </tr>\n",
       "    <tr>\n",
       "      <th>Albania</th>\n",
       "      <td>35.50</td>\n",
       "      <td>33.900</td>\n",
       "      <td>35.50</td>\n",
       "      <td>40.33</td>\n",
       "      <td>45.11</td>\n",
       "      <td>57.36</td>\n",
       "      <td>65.57</td>\n",
       "      <td>69.91</td>\n",
       "      <td>72.91</td>\n",
       "      <td>73.92</td>\n",
       "    </tr>\n",
       "    <tr>\n",
       "      <th>Algeria</th>\n",
       "      <td>29.43</td>\n",
       "      <td>30.570</td>\n",
       "      <td>31.40</td>\n",
       "      <td>34.48</td>\n",
       "      <td>36.64</td>\n",
       "      <td>48.98</td>\n",
       "      <td>54.57</td>\n",
       "      <td>59.43</td>\n",
       "      <td>66.91</td>\n",
       "      <td>72.29</td>\n",
       "    </tr>\n",
       "    <tr>\n",
       "      <th>Andorra</th>\n",
       "      <td>NaN</td>\n",
       "      <td>NaN</td>\n",
       "      <td>NaN</td>\n",
       "      <td>NaN</td>\n",
       "      <td>NaN</td>\n",
       "      <td>NaN</td>\n",
       "      <td>NaN</td>\n",
       "      <td>NaN</td>\n",
       "      <td>NaN</td>\n",
       "      <td>NaN</td>\n",
       "    </tr>\n",
       "    <tr>\n",
       "      <th>Angola</th>\n",
       "      <td>29.92</td>\n",
       "      <td>28.870</td>\n",
       "      <td>31.62</td>\n",
       "      <td>32.49</td>\n",
       "      <td>34.59</td>\n",
       "      <td>39.05</td>\n",
       "      <td>45.22</td>\n",
       "      <td>49.40</td>\n",
       "      <td>50.07</td>\n",
       "      <td>51.55</td>\n",
       "    </tr>\n",
       "  </tbody>\n",
       "</table>\n",
       "</div>"
      ],
      "text/plain": [
       "              1900    1910   1920   1930   1940   1950   1960   1970   1980  \\\n",
       "country                                                                       \n",
       "Afghanistan  29.47  27.799  30.58  31.14  31.69  34.80  41.87  45.77  43.97   \n",
       "Albania      35.50  33.900  35.50  40.33  45.11  57.36  65.57  69.91  72.91   \n",
       "Algeria      29.43  30.570  31.40  34.48  36.64  48.98  54.57  59.43  66.91   \n",
       "Andorra        NaN     NaN    NaN    NaN    NaN    NaN    NaN    NaN    NaN   \n",
       "Angola       29.92  28.870  31.62  32.49  34.59  39.05  45.22  49.40  50.07   \n",
       "\n",
       "              1990  \n",
       "country             \n",
       "Afghanistan  51.16  \n",
       "Albania      73.92  \n",
       "Algeria      72.29  \n",
       "Andorra        NaN  \n",
       "Angola       51.55  "
      ]
     },
     "execution_count": 118,
     "metadata": {},
     "output_type": "execute_result"
    }
   ],
   "source": [
    "df_pop_decades = (df_pop[year_range] @ the_averager.transpose())\n",
    "df_pop_decades.columns = [str(decade) for decade in range(1900,2000)[::10]]\n",
    "df_pop_decades.head()"
   ]
  },
  {
   "cell_type": "code",
   "execution_count": 141,
   "metadata": {},
   "outputs": [
    {
     "name": "stdout",
     "output_type": "stream",
     "text": [
      "131\n",
      "2\n",
      "11\n",
      "30\n",
      "1\n",
      "0\n",
      "10\n",
      "8\n",
      "67\n"
     ]
    },
    {
     "name": "stderr",
     "output_type": "stream",
     "text": [
      "/Library/Frameworks/Python.framework/Versions/3.6/lib/python3.6/site-packages/pandas/core/computation/expressions.py:180: UserWarning: evaluating in Python space because the '+' operator is not supported by numexpr for the bool dtype, use '|' instead\n",
      "  .format(op=op_str, alt_op=unsupported[op_str]))\n"
     ]
    }
   ],
   "source": [
    "for i in range(1,df_pop_decades.shape[1]-1):\n",
    "    first_condition = (df_pop_decades.iloc[:,i-1] < df_pop_decades.iloc[:,i])\n",
    "    second_condition = (df_pop_decades.iloc[:,i] > df_pop_decades.iloc[:,i+1])\n",
    "    if i ==1:\n",
    "        country_counter = (first_condition & second_condition)\n",
    "    else:\n",
    "        country_counter += (first_condition & second_condition)\n",
    "    print(sum(df_pop_decades.iloc[:,i-1] > df_pop_decades.iloc[:,i]))\n",
    "\n",
    "print(np.sum(country_counter))"
   ]
  },
  {
   "cell_type": "markdown",
   "metadata": {},
   "source": [
    "#### Q8)  Find out all the cases that a country had a higher life expectancy in one decade compared to both the deacdes before and after. How many countries have at least one such decade? \n",
    "\n",
    "    1. 67\n",
    "    2. 70\n",
    "    3. 78\n",
    "    4. 105"
   ]
  },
  {
   "cell_type": "code",
   "execution_count": 9,
   "metadata": {},
   "outputs": [],
   "source": [
    "ans['Q8'] = 1"
   ]
  },
  {
   "cell_type": "markdown",
   "metadata": {},
   "source": [
    "#### Q9) In which decade the most countries experienced a decrease in life expectancy compared to the previous decade? (see if you can think of a reason)\n",
    "\n",
    "   1. 1910's compared to 1900's\n",
    "   2. 1920's compared to 1910's\n",
    "   3. 1950's compared to 1940's\n",
    "   4. 1980's compared to 1970's"
   ]
  },
  {
   "cell_type": "code",
   "execution_count": 10,
   "metadata": {},
   "outputs": [],
   "source": [
    "ans['Q9'] = 1"
   ]
  },
  {
   "cell_type": "markdown",
   "metadata": {},
   "source": [
    "## Summary Statistics"
   ]
  },
  {
   "cell_type": "markdown",
   "metadata": {},
   "source": [
    "#### Q10) I have 101 observations for length of hospital stays, with maximum value 95 days, minimum 7 days, and average and median both 50 days. Now assume some software bug is causing the data to change from being measured in days to minutes (the length is multiplied by 24*60=1440). What is the minimal number of observations that will need to change before the average exceeds 100?\n",
    "\n",
    "    1. 1\n",
    "    2. 10\n",
    "    3. 51\n",
    "    4. 100"
   ]
  },
  {
   "cell_type": "code",
   "execution_count": 11,
   "metadata": {},
   "outputs": [],
   "source": [
    "ans['Q10'] = 1"
   ]
  },
  {
   "cell_type": "markdown",
   "metadata": {},
   "source": [
    "#### Q11) In the same settings, what is the minimal number of observations that will need to change before the median exceeds 100? \n",
    "\n",
    "   1. 1\n",
    "   2. 10\n",
    "   3. 51\n",
    "   4. 100"
   ]
  },
  {
   "cell_type": "code",
   "execution_count": 12,
   "metadata": {},
   "outputs": [],
   "source": [
    "ans['Q11'] = 3"
   ]
  },
  {
   "cell_type": "markdown",
   "metadata": {},
   "source": [
    "#### Q12) Assume the pollution in city A is exactly double that in city B every day. We measure the pollution in city A over 100 days and put it in a vector $x=(x_1,…x_{100})$ and in city B over the same 100 days giving $y=(y_1,…y_{100})$. We also consider the vectors $u=(log(x_1),…,log(x_{100}))$ and $v = (log(y_1),…,log(y_{100}))$. Which of the following holds: \n",
    "\n",
    "   1. $u_{10}$ (the 10th observation in $u$) is double $v_{10}$ \n",
    "   2. If $x_{10}$ > $y_{10}$ then $u_{10} < v_{10}$\n",
    "   3. The dispersion of $x$ is bigger than of $y$, but the dispersion of $u$ is equal to that of $v$\n",
    "   4. None of the above \t"
   ]
  },
  {
   "cell_type": "code",
   "execution_count": 13,
   "metadata": {},
   "outputs": [
    {
     "name": "stdout",
     "output_type": "stream",
     "text": [
      "[1 2 3 4 5 4 3 2 1]\n",
      "[ 2  4  6  8 10  8  6  4  2]\n",
      "[0.         0.69314718 1.09861229 1.38629436 1.60943791 1.38629436\n",
      " 1.09861229 0.69314718 0.        ]\n",
      "[0.69314718 1.38629436 1.79175947 2.07944154 2.30258509 2.07944154\n",
      " 1.79175947 1.38629436 0.69314718]\n",
      "\n",
      "6.913580246913581\n",
      "1.7283950617283952\n",
      "0.30652530636390013\n",
      "0.3065253063639002\n"
     ]
    }
   ],
   "source": [
    "y = np.array([1,2,3,4,5,4,3,2,1])\n",
    "x = 2*y\n",
    "print(y)\n",
    "print(x)\n",
    "print(np.log(y))\n",
    "print(np.log(x))\n",
    "print('')\n",
    "print(np.var(x))\n",
    "print(np.var(y))\n",
    "print(np.var(np.log(y)))\n",
    "print(np.var(np.log(x)))"
   ]
  },
  {
   "cell_type": "code",
   "execution_count": 13,
   "metadata": {},
   "outputs": [],
   "source": [
    "ans['Q12'] = 3"
   ]
  },
  {
   "cell_type": "markdown",
   "metadata": {},
   "source": [
    "## Basic Plots"
   ]
  },
  {
   "cell_type": "markdown",
   "metadata": {},
   "source": [
    "#### Q13) Fill in the missing line to produce two boxplots of `y`, side by side, one for each value of `x`:\n",
    "\n",
    "```python\n",
    "    import pandas as pd\n",
    "    import numpy as np\n",
    "    import seaborn as sns\n",
    "    import matplotlib.pyplot as plt\n",
    "\n",
    "    sns.set()\n",
    "\n",
    "    df = pd.DataFrame({\n",
    "        'x': np.concatenate([np.tile('a', 100), np.tile('b', 100)]),\n",
    "        'y': np.concatenate([np.random.normal(size = 100), np.random.exponential(size = 100)])})\n",
    "\n",
    "    # missing line 1 #\n",
    "```\n",
    "\n",
    "   1. `sns.boxplot(df.x, df.y)`\n",
    "   2. `sns.boxplot(df['x'], df['y'])`\n",
    "   3. `sns.boxplot('x', 'y', data = df)`\n",
    "   4. All of the above"
   ]
  },
  {
   "cell_type": "code",
   "execution_count": 15,
   "metadata": {},
   "outputs": [
    {
     "data": {
      "image/png": "[encoded data removed]",
      "text/plain": [
       "<matplotlib.figure.Figure at 0x10a5c3dd8>"
      ]
     },
     "metadata": {},
     "output_type": "display_data"
    },
    {
     "data": {
      "image/png": "[encoded data removed]",
      "text/plain": [
       "<matplotlib.figure.Figure at 0x104b492e8>"
      ]
     },
     "metadata": {},
     "output_type": "display_data"
    },
    {
     "data": {
      "image/png": "[encoded data removed]",
      "text/plain": [
       "<matplotlib.figure.Figure at 0x10a76a3c8>"
      ]
     },
     "metadata": {},
     "output_type": "display_data"
    }
   ],
   "source": [
    "import pandas as pd\n",
    "import numpy as np\n",
    "import seaborn as sns\n",
    "import matplotlib.pyplot as plt\n",
    "\n",
    "sns.set()\n",
    "\n",
    "df = pd.DataFrame({\n",
    "    'x': np.concatenate([np.tile('a', 100), np.tile('b', 100)]),\n",
    "    'y': np.concatenate([np.random.normal(size = 100), np.random.exponential(size = 100)])})\n",
    "sns.boxplot(df.x, df.y)\n",
    "plt.show()\n",
    "\n",
    "sns.boxplot(df['x'], df['y'])\n",
    "plt.show()\n",
    "\n",
    "sns.boxplot('x', 'y', data = df)\n",
    "plt.show()"
   ]
  },
  {
   "cell_type": "code",
   "execution_count": 17,
   "metadata": {},
   "outputs": [],
   "source": [
    "ans['Q13'] = 4"
   ]
  },
  {
   "cell_type": "markdown",
   "metadata": {},
   "source": [
    "# finish!\n",
    "\n",
    "to submit your HW please run this last code block and follow the instructions. <BR>\n",
    "this code will create a CSV file in the current directory on the azure notebooks project <br>\n",
    "please download it and submit it through moodle"
   ]
  },
  {
   "cell_type": "code",
   "execution_count": 18,
   "metadata": {},
   "outputs": [
    {
     "name": "stdout",
     "output_type": "stream",
     "text": [
      "seems like you missed a question, make sure you have run all the code blocks\n"
     ]
    }
   ],
   "source": [
    "import pandas as pd\n",
    "df_ans = pd.DataFrame.from_dict(ans, orient='index')\n",
    "if df_ans.shape[0] == 15:\n",
    "    df_ans.to_csv('{}_{}.csv'.format(ans['HW'],str(ans['id_number'])))\n",
    "    print(\"OK!\")\n",
    "else:\n",
    "    print(\"seems like you missed a question, make sure you have run all the code blocks\")"
   ]
  }
 ],
 "metadata": {
  "kernelspec": {
   "display_name": "Python 3",
   "language": "python",
   "name": "python3"
  },
  "language_info": {
   "codemirror_mode": {
    "name": "ipython",
    "version": 3
   },
   "file_extension": ".py",
   "mimetype": "text/x-python",
   "name": "python",
   "nbconvert_exporter": "python",
   "pygments_lexer": "ipython3",
   "version": "3.6.4"
  }
 },
 "nbformat": 4,
 "nbformat_minor": 2
}
