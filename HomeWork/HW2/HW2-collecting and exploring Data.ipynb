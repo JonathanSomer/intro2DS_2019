{
 "cells": [
  {
   "cell_type": "code",
   "execution_count": 1,
   "metadata": {},
   "outputs": [],
   "source": [
    "import pandas as pd\n",
    "import numpy as np"
   ]
  },
  {
   "cell_type": "markdown",
   "metadata": {},
   "source": [
    "# HW2: Collecting and Exploring Data"
   ]
  },
  {
   "cell_type": "markdown",
   "metadata": {},
   "source": [
    "## instructions\n",
    "\n",
    "our course will be using an automatic grading system. <br>\n",
    "after each question there will appear a code block with some prepared code to add your answer to a dictionary that will be sent to the course server for grading. <br>\n",
    "please do not edit any code other than in placeholders marked `#### your code here ####` <br>\n",
    "__don't forget to run the code block after you write your answer.__\n",
    "\n",
    "\n",
    "you can add code blocks wherever you want in order to interact with datasets and play with your own code. <br>\n",
    "in the next code block plase fill in your id number and email account in the appropriate placees. <br>\n",
    "and __don't forget to run the block!__"
   ]
  },
  {
   "cell_type": "code",
   "execution_count": 2,
   "metadata": {},
   "outputs": [],
   "source": [
    "ans = {}\n",
    "ans['HW'] = 'HW2'\n",
    "ans['id_number'] = 307923383"
   ]
  },
  {
   "cell_type": "markdown",
   "metadata": {},
   "source": [
    "## pandas basics\n",
    "#### Q1) Data formats: In Python, the object pandas.DataFrame stores a rectangular data structure, and the object Dictionary is flexible like a JSON object. In class we used `pandas.DataFrame.from_dict(mydict,orient=\"index\")` to transform a Dictionary of dictionaries into a DataFrame. What is required for this operation to give the desired outcome: \n",
    "\n",
    "    1. That every dictionary inside mydict has elements with the same names\n",
    "    2. That there is only one dictionary inside mydict\n",
    "    3. That each dicotionary inside mydict has a single element\n",
    "    4. This function will always give a DataFrame which is equivalent to mydict\n",
    "    "
   ]
  },
  {
   "cell_type": "code",
   "execution_count": 3,
   "metadata": {},
   "outputs": [
    {
     "data": {
      "text/html": [
       "<div>\n",
       "<style scoped>\n",
       "    .dataframe tbody tr th:only-of-type {\n",
       "        vertical-align: middle;\n",
       "    }\n",
       "\n",
       "    .dataframe tbody tr th {\n",
       "        vertical-align: top;\n",
       "    }\n",
       "\n",
       "    .dataframe thead th {\n",
       "        text-align: right;\n",
       "    }\n",
       "</style>\n",
       "<table border=\"1\" class=\"dataframe\">\n",
       "  <thead>\n",
       "    <tr style=\"text-align: right;\">\n",
       "      <th></th>\n",
       "      <th>different_name</th>\n",
       "      <th>two</th>\n",
       "      <th>one</th>\n",
       "    </tr>\n",
       "  </thead>\n",
       "  <tbody>\n",
       "    <tr>\n",
       "      <th>one</th>\n",
       "      <td>1.0</td>\n",
       "      <td>2</td>\n",
       "      <td>NaN</td>\n",
       "    </tr>\n",
       "    <tr>\n",
       "      <th>three</th>\n",
       "      <td>NaN</td>\n",
       "      <td>2</td>\n",
       "      <td>1.0</td>\n",
       "    </tr>\n",
       "    <tr>\n",
       "      <th>two</th>\n",
       "      <td>NaN</td>\n",
       "      <td>2</td>\n",
       "      <td>1.0</td>\n",
       "    </tr>\n",
       "  </tbody>\n",
       "</table>\n",
       "</div>"
      ],
      "text/plain": [
       "       different_name  two  one\n",
       "one               1.0    2  NaN\n",
       "three             NaN    2  1.0\n",
       "two               NaN    2  1.0"
      ]
     },
     "execution_count": 3,
     "metadata": {},
     "output_type": "execute_result"
    }
   ],
   "source": [
    "# 1. That every dictionary inside mydict has elements with the same names - NOPE!\n",
    "# 2. That there is only one dictionary inside mydict - NOPE\n",
    "# 3. That each dicotionary inside mydict has a single element - NOPE\n",
    "mydict = {\n",
    "    'one' : {\n",
    "        'different_name': 1,\n",
    "        'two': 2\n",
    "    },\n",
    "    'two' : {\n",
    "        'one': 1,\n",
    "        'two': 2\n",
    "    },\n",
    "    'three' : {\n",
    "        'one': 1,\n",
    "        'two': 2\n",
    "    }\n",
    "}\n",
    "\n",
    "df = pd.DataFrame.from_dict(mydict, orient='index'); df"
   ]
  },
  {
   "cell_type": "code",
   "execution_count": 4,
   "metadata": {},
   "outputs": [
    {
     "data": {
      "text/html": [
       "<div>\n",
       "<style scoped>\n",
       "    .dataframe tbody tr th:only-of-type {\n",
       "        vertical-align: middle;\n",
       "    }\n",
       "\n",
       "    .dataframe tbody tr th {\n",
       "        vertical-align: top;\n",
       "    }\n",
       "\n",
       "    .dataframe thead th {\n",
       "        text-align: right;\n",
       "    }\n",
       "</style>\n",
       "<table border=\"1\" class=\"dataframe\">\n",
       "  <thead>\n",
       "    <tr style=\"text-align: right;\">\n",
       "      <th></th>\n",
       "      <th>different_name</th>\n",
       "      <th>two</th>\n",
       "      <th>one</th>\n",
       "    </tr>\n",
       "  </thead>\n",
       "  <tbody>\n",
       "    <tr>\n",
       "      <th>one</th>\n",
       "      <td>1.0</td>\n",
       "      <td>2</td>\n",
       "      <td>NaN</td>\n",
       "    </tr>\n",
       "    <tr>\n",
       "      <th>three</th>\n",
       "      <td>NaN</td>\n",
       "      <td>{'how': {'far': {'can we go??': 'very'}}}</td>\n",
       "      <td>1.0</td>\n",
       "    </tr>\n",
       "    <tr>\n",
       "      <th>two</th>\n",
       "      <td>NaN</td>\n",
       "      <td>[1, 2, 3]</td>\n",
       "      <td>1.0</td>\n",
       "    </tr>\n",
       "  </tbody>\n",
       "</table>\n",
       "</div>"
      ],
      "text/plain": [
       "       different_name                                        two  one\n",
       "one               1.0                                          2  NaN\n",
       "three             NaN  {'how': {'far': {'can we go??': 'very'}}}  1.0\n",
       "two               NaN                                  [1, 2, 3]  1.0"
      ]
     },
     "execution_count": 4,
     "metadata": {},
     "output_type": "execute_result"
    }
   ],
   "source": [
    "mydict = {\n",
    "    'one' : {\n",
    "        'different_name': 1,\n",
    "        'two': 2\n",
    "    },\n",
    "    'two' : {\n",
    "        'one': 1,\n",
    "        'two': [1,2,3]\n",
    "    },\n",
    "    'three' : {\n",
    "        'one': 1,\n",
    "        'two': {\n",
    "            'how': {\n",
    "                'far' : {\n",
    "                    'can we go??': \"very\"\n",
    "                }\n",
    "            }\n",
    "        }\n",
    "    }\n",
    "}\n",
    "\n",
    "df = pd.DataFrame.from_dict(mydict, orient='index'); df"
   ]
  },
  {
   "cell_type": "code",
   "execution_count": 5,
   "metadata": {},
   "outputs": [],
   "source": [
    "ans['Q1'] = 4"
   ]
  },
  {
   "cell_type": "markdown",
   "metadata": {},
   "source": [
    "## Scraping\n",
    "\n",
    "Consider the following html snippet:\n",
    "\n",
    "```python    \n",
    "    html_doc = \"\"\"\n",
    "\n",
    "    <html><head><title>The Dormouse's story</title></head>\n",
    "    <body>\n",
    "    <p class=\"title\"><b>The Dormouse's story</b></p>\n",
    "\n",
    "    <p class=\"story\">Once upon a time there were three little sisters; and their names were\n",
    "    <a href=\"http://example.com/elsie\" class=\"sister\" id=\"link1\">Elsie</a>,\n",
    "    <a href=\"http://example.com/lacie\" class=\"sister\" id=\"link2\">Lacie</a> and\n",
    "    <a href=\"http://example.com/tillie\" class=\"sister\" id=\"link3\">Tillie</a>;\n",
    "    and they lived at the bottom of a well.</p>\n",
    "\n",
    "    <p class=\"story\">Here is an image of Elsie: <a href=\"http://example.com/elsie\"><img src = \"elsie.png\"></a></p>\n",
    "    <p class=\"story\">And here is an image of Lacie: <a href=\"http://example.com/lacie\"><img src = \"lacie.png\"></a></p>\n",
    "    \"\"\"\n",
    "```"
   ]
  },
  {
   "cell_type": "markdown",
   "metadata": {},
   "source": [
    "#### Q2) We would like to get a list of the three little sisters names. Fill in the missing line of the following function:\n",
    "\n",
    "```python    \n",
    "    from bs4 import BeautifulSoup\n",
    "\n",
    "    soup = BeautifulSoup(html_doc)\n",
    "\n",
    "    def get_sisters_names(soup):\n",
    "        # missing line 1 #\n",
    "        return [sister.get_text() for sister in sisters]\n",
    "    ```\n",
    "\n",
    "   1. `sisters = soup.find_all('sister')` NOPE\n",
    "   2. `sisters = soup.find_all('a')` NOPE\n",
    "   3. `sisters = soup.find_all('a', {'class': 'sister'})` YES\n",
    "   4. `sisters = soup.find_all(class = 'sister')` NOPE"
   ]
  },
  {
   "cell_type": "code",
   "execution_count": 6,
   "metadata": {},
   "outputs": [
    {
     "data": {
      "text/plain": [
       "['Elsie', 'Lacie', 'Tillie']"
      ]
     },
     "execution_count": 6,
     "metadata": {},
     "output_type": "execute_result"
    }
   ],
   "source": [
    "from bs4 import BeautifulSoup\n",
    "\n",
    "html_doc = \"\"\"\n",
    "\n",
    "    <html><head><title>The Dormouse's story</title></head>\n",
    "    <body>\n",
    "    <p class=\"title\"><b>The Dormouse's story</b></p>\n",
    "\n",
    "    <p class=\"story\">Once upon a time there were three little sisters; and their names were\n",
    "    <a href=\"http://example.com/elsie\" class=\"sister\" id=\"link1\">Elsie</a>,\n",
    "    <a href=\"http://example.com/lacie\" class=\"sister\" id=\"link2\">Lacie</a> and\n",
    "    <a href=\"http://example.com/tillie\" class=\"sister\" id=\"link3\">Tillie</a>;\n",
    "    and they lived at the bottom of a well.</p>\n",
    "\n",
    "    <p class=\"story\">Here is an image of Elsie: <a href=\"http://example.com/elsie\"><img src = \"elsie.png\"></a></p>\n",
    "    <p class=\"story\">And here is an image of Lacie: <a href=\"http://example.com/lacie\"><img src = \"lacie.png\"></a></p>\n",
    "\"\"\"\n",
    "\n",
    "\n",
    "soup = BeautifulSoup(html_doc)\n",
    "\n",
    "def get_sisters_names(soup):\n",
    "    sisters = soup.find_all('a', {'class' : 'sister'})    \n",
    "    return [sister.get_text() for sister in sisters]\n",
    "\n",
    "get_sisters_names(soup)"
   ]
  },
  {
   "cell_type": "code",
   "execution_count": 7,
   "metadata": {},
   "outputs": [],
   "source": [
    "ans['Q2'] = 3"
   ]
  },
  {
   "cell_type": "markdown",
   "metadata": {},
   "source": [
    "#### Q3) Now we would like to get only the raw text of the Doormouse story, not including the title. Fill in the missing line of the following function:\n",
    "\n",
    "```python    \n",
    "    def get_story(soup):\n",
    "        # missing line 1 #\n",
    "        story = ''\n",
    "        for p in paragraphs:\n",
    "            # missing line 2 #\n",
    "            if class_name == 'story':\n",
    "                story += p.get_text() + ' '\n",
    "        return ' '.join(story.split())\n",
    "```\n",
    "\n",
    "   1. line 1: `paragraphs = soup.find_all('p')`; line 2: `class_name = p['class'][0]`\n",
    "   2. line 1: `paragraphs = soup.find_all('p', {'class': 'story'})`; line 2: `class_name = p['class']`\n",
    "   3. line 1: `paragraphs = soup.find_all('p', {'class': 'story'})`; line 2: `class_name = p.find('class')[0]`\n",
    "   4. line 1: `paragraphs = soup.find_all('story')`; line 2: `class_name = p.attr['class']`"
   ]
  },
  {
   "cell_type": "code",
   "execution_count": 8,
   "metadata": {},
   "outputs": [
    {
     "data": {
      "text/plain": [
       "'Once upon a time there were three little sisters; and their names were Elsie, Lacie and Tillie; and they lived at the bottom of a well. Here is an image of Elsie: And here is an image of Lacie:'"
      ]
     },
     "execution_count": 8,
     "metadata": {},
     "output_type": "execute_result"
    }
   ],
   "source": [
    "\n",
    "# paragraphs = soup.find_all('p')\n",
    "# class_name = p['class'][0]\n",
    "\n",
    "# paragraphs = soup.find_all('p', {'class': 'story'})\n",
    "# class_name = p['class']\n",
    "\n",
    "# paragraphs = soup.find_all('p', {'class': 'story'})\n",
    "# class_name = p.find('class')[0]\n",
    "\n",
    "\n",
    "# paragraphs = soup.find_all('story')\n",
    "# class_name = p.attr['class']\n",
    "\n",
    "def get_story(soup):\n",
    "    paragraphs = soup.find_all('p')\n",
    "    story = ''\n",
    "    for p in paragraphs:\n",
    "        class_name = p['class'][0]\n",
    "        if class_name == 'story':\n",
    "            story += p.get_text() + ' '\n",
    "    return ' '.join(story.split())\n",
    "\n",
    "get_story(soup)"
   ]
  },
  {
   "cell_type": "code",
   "execution_count": 9,
   "metadata": {},
   "outputs": [],
   "source": [
    "ans['Q3'] = 1"
   ]
  },
  {
   "cell_type": "markdown",
   "metadata": {},
   "source": [
    "#### Q4) What will be the result of calling the following function on our `soup` object (i.e. `does_something(soup)`)?\n",
    "\n",
    "```python    \n",
    "    def does_something(soup):\n",
    "        return [e['src'].split('.')[0] for e in soup.find_all('img')]\n",
    "```\n",
    "   1. `['elsie.png', 'lacie.png']`\n",
    "   2. `['elsie', 'lacie']`\n",
    "   3. `{'src': ['elsie', 'lacie']}`\n",
    "   4. The function will throw an exception on our `soup` object"
   ]
  },
  {
   "cell_type": "code",
   "execution_count": 10,
   "metadata": {},
   "outputs": [
    {
     "data": {
      "text/plain": [
       "['elsie', 'lacie']"
      ]
     },
     "execution_count": 10,
     "metadata": {},
     "output_type": "execute_result"
    }
   ],
   "source": [
    "def does_something(soup):\n",
    "    return [e['src'].split('.')[0] for e in soup.find_all('img')]\n",
    "\n",
    "does_something(soup)"
   ]
  },
  {
   "cell_type": "code",
   "execution_count": 11,
   "metadata": {},
   "outputs": [],
   "source": [
    "ans['Q4'] = 2"
   ]
  },
  {
   "cell_type": "markdown",
   "metadata": {},
   "source": [
    "#### Q5) The class notes contain code to scrape the Beatles discography and prepare a list of Albums. If we change the line \n",
    "\n",
    " `if re.match(re.compile('^List of(.+?)albums'), header):` \n",
    " \n",
    "   to \n",
    "   \n",
    " `if re.match(re.compile('^List of EPs'), header):` \n",
    "   we get a list of EPs, however they only contain 17 EPs and not 21 as in the original list. What is the reason for this? \n",
    "\n",
    "   1. That the titles are repetitive and therefore the Python dictionary cannot distinguish between them\n",
    "   2. That the html table only has 17 rows \n",
    "   3. That the other four don't have hyperlinks and therefore `title_col.find('a')` does not find them\n",
    "   4. That the check `release_date is not None` fails for the other four"
   ]
  },
  {
   "cell_type": "code",
   "execution_count": 12,
   "metadata": {},
   "outputs": [],
   "source": [
    "ans['Q5'] = 3"
   ]
  },
  {
   "cell_type": "markdown",
   "metadata": {},
   "source": [
    "## Downloading and analyzing data \n",
    "\n",
    "Query Google Trends for searches of pasta compared to rice in the entire year 2018, worldwide. Check out the statistics by country and enjoy the interesting (and not surprising) georgraphic distribution. Download the statistics by country (DO NOT check the Include low search volume regions checkbox). "
   ]
  },
  {
   "cell_type": "markdown",
   "metadata": {},
   "source": [
    "#### Q6) Calculate how many of the reported countries had more searches for pasta than rice: \n",
    "\n",
    "    1. 53\n",
    "    2. 8\n",
    "    3. 31\n",
    "    4. 15\n"
   ]
  },
  {
   "cell_type": "code",
   "execution_count": 30,
   "metadata": {},
   "outputs": [],
   "source": [
    "rice_vs_pasta = pd.read_csv('geoMap.csv')"
   ]
  },
  {
   "cell_type": "code",
   "execution_count": 31,
   "metadata": {},
   "outputs": [
    {
     "data": {
      "text/plain": [
       "(250, 3)"
      ]
     },
     "execution_count": 31,
     "metadata": {},
     "output_type": "execute_result"
    }
   ],
   "source": [
    "rice_vs_pasta.shape"
   ]
  },
  {
   "cell_type": "code",
   "execution_count": 32,
   "metadata": {},
   "outputs": [
    {
     "data": {
      "text/html": [
       "<div>\n",
       "<style scoped>\n",
       "    .dataframe tbody tr th:only-of-type {\n",
       "        vertical-align: middle;\n",
       "    }\n",
       "\n",
       "    .dataframe tbody tr th {\n",
       "        vertical-align: top;\n",
       "    }\n",
       "\n",
       "    .dataframe thead th {\n",
       "        text-align: right;\n",
       "    }\n",
       "</style>\n",
       "<table border=\"1\" class=\"dataframe\">\n",
       "  <thead>\n",
       "    <tr style=\"text-align: right;\">\n",
       "      <th></th>\n",
       "      <th>Country</th>\n",
       "      <th>pasta: (2018)</th>\n",
       "      <th>rice: (2018)</th>\n",
       "    </tr>\n",
       "  </thead>\n",
       "  <tbody>\n",
       "    <tr>\n",
       "      <th>0</th>\n",
       "      <td>Italy</td>\n",
       "      <td>99%</td>\n",
       "      <td>1%</td>\n",
       "    </tr>\n",
       "    <tr>\n",
       "      <th>1</th>\n",
       "      <td>San Marino</td>\n",
       "      <td>NaN</td>\n",
       "      <td>NaN</td>\n",
       "    </tr>\n",
       "    <tr>\n",
       "      <th>2</th>\n",
       "      <td>Singapore</td>\n",
       "      <td>20%</td>\n",
       "      <td>80%</td>\n",
       "    </tr>\n",
       "    <tr>\n",
       "      <th>3</th>\n",
       "      <td>Falkland Islands (Islas Malvinas)</td>\n",
       "      <td>NaN</td>\n",
       "      <td>NaN</td>\n",
       "    </tr>\n",
       "    <tr>\n",
       "      <th>4</th>\n",
       "      <td>Latvia</td>\n",
       "      <td>NaN</td>\n",
       "      <td>NaN</td>\n",
       "    </tr>\n",
       "  </tbody>\n",
       "</table>\n",
       "</div>"
      ],
      "text/plain": [
       "                             Country pasta: (2018) rice: (2018)\n",
       "0                              Italy           99%           1%\n",
       "1                         San Marino           NaN          NaN\n",
       "2                          Singapore           20%          80%\n",
       "3  Falkland Islands (Islas Malvinas)           NaN          NaN\n",
       "4                             Latvia           NaN          NaN"
      ]
     },
     "execution_count": 32,
     "metadata": {},
     "output_type": "execute_result"
    }
   ],
   "source": [
    "rice_vs_pasta.head()"
   ]
  },
  {
   "cell_type": "code",
   "execution_count": 33,
   "metadata": {},
   "outputs": [],
   "source": [
    "rice_vs_pasta = rice_vs_pasta.dropna(axis=0)"
   ]
  },
  {
   "cell_type": "code",
   "execution_count": 34,
   "metadata": {},
   "outputs": [
    {
     "data": {
      "text/plain": [
       "(30, 3)"
      ]
     },
     "execution_count": 34,
     "metadata": {},
     "output_type": "execute_result"
    }
   ],
   "source": [
    "rice_vs_pasta.shape"
   ]
  },
  {
   "cell_type": "code",
   "execution_count": 35,
   "metadata": {},
   "outputs": [
    {
     "data": {
      "text/plain": [
       "array(['Country', 'pasta: (2018)', 'rice: (2018)'], dtype=object)"
      ]
     },
     "execution_count": 35,
     "metadata": {},
     "output_type": "execute_result"
    }
   ],
   "source": [
    "rice_vs_pasta.columns.values"
   ]
  },
  {
   "cell_type": "code",
   "execution_count": 36,
   "metadata": {},
   "outputs": [
    {
     "data": {
      "text/plain": [
       "(15, 3)"
      ]
     },
     "execution_count": 36,
     "metadata": {},
     "output_type": "execute_result"
    }
   ],
   "source": [
    "rice_vs_pasta[rice_vs_pasta['pasta: (2018)'] > rice_vs_pasta['rice: (2018)']].shape"
   ]
  },
  {
   "cell_type": "code",
   "execution_count": 41,
   "metadata": {},
   "outputs": [],
   "source": [
    "rice_vs_pasta[['pasta: (2018)', 'rice: (2018)']] =  rice_vs_pasta[['pasta: (2018)', 'rice: (2018)']].applymap(lambda x: float(str(x).strip('%')) / 100.0)"
   ]
  },
  {
   "cell_type": "code",
   "execution_count": 42,
   "metadata": {},
   "outputs": [
    {
     "data": {
      "text/html": [
       "<div>\n",
       "<style scoped>\n",
       "    .dataframe tbody tr th:only-of-type {\n",
       "        vertical-align: middle;\n",
       "    }\n",
       "\n",
       "    .dataframe tbody tr th {\n",
       "        vertical-align: top;\n",
       "    }\n",
       "\n",
       "    .dataframe thead th {\n",
       "        text-align: right;\n",
       "    }\n",
       "</style>\n",
       "<table border=\"1\" class=\"dataframe\">\n",
       "  <thead>\n",
       "    <tr style=\"text-align: right;\">\n",
       "      <th></th>\n",
       "      <th>Country</th>\n",
       "      <th>pasta: (2018)</th>\n",
       "      <th>rice: (2018)</th>\n",
       "    </tr>\n",
       "  </thead>\n",
       "  <tbody>\n",
       "    <tr>\n",
       "      <th>0</th>\n",
       "      <td>Italy</td>\n",
       "      <td>0.99</td>\n",
       "      <td>0.01</td>\n",
       "    </tr>\n",
       "    <tr>\n",
       "      <th>2</th>\n",
       "      <td>Singapore</td>\n",
       "      <td>0.20</td>\n",
       "      <td>0.80</td>\n",
       "    </tr>\n",
       "    <tr>\n",
       "      <th>5</th>\n",
       "      <td>Turkey</td>\n",
       "      <td>0.99</td>\n",
       "      <td>0.01</td>\n",
       "    </tr>\n",
       "    <tr>\n",
       "      <th>9</th>\n",
       "      <td>Australia</td>\n",
       "      <td>0.43</td>\n",
       "      <td>0.57</td>\n",
       "    </tr>\n",
       "    <tr>\n",
       "      <th>14</th>\n",
       "      <td>United States</td>\n",
       "      <td>0.32</td>\n",
       "      <td>0.68</td>\n",
       "    </tr>\n",
       "    <tr>\n",
       "      <th>16</th>\n",
       "      <td>New Zealand</td>\n",
       "      <td>0.36</td>\n",
       "      <td>0.64</td>\n",
       "    </tr>\n",
       "    <tr>\n",
       "      <th>20</th>\n",
       "      <td>Sweden</td>\n",
       "      <td>0.84</td>\n",
       "      <td>0.16</td>\n",
       "    </tr>\n",
       "    <tr>\n",
       "      <th>23</th>\n",
       "      <td>Canada</td>\n",
       "      <td>0.37</td>\n",
       "      <td>0.63</td>\n",
       "    </tr>\n",
       "    <tr>\n",
       "      <th>27</th>\n",
       "      <td>Philippines</td>\n",
       "      <td>0.26</td>\n",
       "      <td>0.74</td>\n",
       "    </tr>\n",
       "    <tr>\n",
       "      <th>39</th>\n",
       "      <td>United Kingdom</td>\n",
       "      <td>0.46</td>\n",
       "      <td>0.54</td>\n",
       "    </tr>\n",
       "    <tr>\n",
       "      <th>42</th>\n",
       "      <td>Netherlands</td>\n",
       "      <td>0.88</td>\n",
       "      <td>0.12</td>\n",
       "    </tr>\n",
       "    <tr>\n",
       "      <th>45</th>\n",
       "      <td>Malaysia</td>\n",
       "      <td>0.19</td>\n",
       "      <td>0.81</td>\n",
       "    </tr>\n",
       "    <tr>\n",
       "      <th>48</th>\n",
       "      <td>Ireland</td>\n",
       "      <td>0.43</td>\n",
       "      <td>0.57</td>\n",
       "    </tr>\n",
       "    <tr>\n",
       "      <th>49</th>\n",
       "      <td>Belgium</td>\n",
       "      <td>0.90</td>\n",
       "      <td>0.10</td>\n",
       "    </tr>\n",
       "    <tr>\n",
       "      <th>50</th>\n",
       "      <td>United Arab Emirates</td>\n",
       "      <td>0.33</td>\n",
       "      <td>0.67</td>\n",
       "    </tr>\n",
       "    <tr>\n",
       "      <th>53</th>\n",
       "      <td>Denmark</td>\n",
       "      <td>0.77</td>\n",
       "      <td>0.23</td>\n",
       "    </tr>\n",
       "    <tr>\n",
       "      <th>62</th>\n",
       "      <td>Norway</td>\n",
       "      <td>0.78</td>\n",
       "      <td>0.22</td>\n",
       "    </tr>\n",
       "    <tr>\n",
       "      <th>70</th>\n",
       "      <td>Spain</td>\n",
       "      <td>0.91</td>\n",
       "      <td>0.09</td>\n",
       "    </tr>\n",
       "    <tr>\n",
       "      <th>83</th>\n",
       "      <td>Brazil</td>\n",
       "      <td>0.97</td>\n",
       "      <td>0.03</td>\n",
       "    </tr>\n",
       "    <tr>\n",
       "      <th>85</th>\n",
       "      <td>Poland</td>\n",
       "      <td>0.94</td>\n",
       "      <td>0.06</td>\n",
       "    </tr>\n",
       "    <tr>\n",
       "      <th>86</th>\n",
       "      <td>South Africa</td>\n",
       "      <td>0.46</td>\n",
       "      <td>0.54</td>\n",
       "    </tr>\n",
       "    <tr>\n",
       "      <th>96</th>\n",
       "      <td>Switzerland</td>\n",
       "      <td>0.76</td>\n",
       "      <td>0.24</td>\n",
       "    </tr>\n",
       "    <tr>\n",
       "      <th>97</th>\n",
       "      <td>India</td>\n",
       "      <td>0.18</td>\n",
       "      <td>0.82</td>\n",
       "    </tr>\n",
       "    <tr>\n",
       "      <th>101</th>\n",
       "      <td>Pakistan</td>\n",
       "      <td>0.25</td>\n",
       "      <td>0.75</td>\n",
       "    </tr>\n",
       "    <tr>\n",
       "      <th>118</th>\n",
       "      <td>Mexico</td>\n",
       "      <td>0.88</td>\n",
       "      <td>0.12</td>\n",
       "    </tr>\n",
       "    <tr>\n",
       "      <th>150</th>\n",
       "      <td>Germany</td>\n",
       "      <td>0.74</td>\n",
       "      <td>0.26</td>\n",
       "    </tr>\n",
       "    <tr>\n",
       "      <th>152</th>\n",
       "      <td>Indonesia</td>\n",
       "      <td>0.46</td>\n",
       "      <td>0.54</td>\n",
       "    </tr>\n",
       "    <tr>\n",
       "      <th>164</th>\n",
       "      <td>Taiwan</td>\n",
       "      <td>0.70</td>\n",
       "      <td>0.30</td>\n",
       "    </tr>\n",
       "    <tr>\n",
       "      <th>186</th>\n",
       "      <td>France</td>\n",
       "      <td>0.64</td>\n",
       "      <td>0.36</td>\n",
       "    </tr>\n",
       "    <tr>\n",
       "      <th>207</th>\n",
       "      <td>Japan</td>\n",
       "      <td>0.25</td>\n",
       "      <td>0.75</td>\n",
       "    </tr>\n",
       "  </tbody>\n",
       "</table>\n",
       "</div>"
      ],
      "text/plain": [
       "                  Country  pasta: (2018)  rice: (2018)\n",
       "0                   Italy           0.99          0.01\n",
       "2               Singapore           0.20          0.80\n",
       "5                  Turkey           0.99          0.01\n",
       "9               Australia           0.43          0.57\n",
       "14          United States           0.32          0.68\n",
       "16            New Zealand           0.36          0.64\n",
       "20                 Sweden           0.84          0.16\n",
       "23                 Canada           0.37          0.63\n",
       "27            Philippines           0.26          0.74\n",
       "39         United Kingdom           0.46          0.54\n",
       "42            Netherlands           0.88          0.12\n",
       "45               Malaysia           0.19          0.81\n",
       "48                Ireland           0.43          0.57\n",
       "49                Belgium           0.90          0.10\n",
       "50   United Arab Emirates           0.33          0.67\n",
       "53                Denmark           0.77          0.23\n",
       "62                 Norway           0.78          0.22\n",
       "70                  Spain           0.91          0.09\n",
       "83                 Brazil           0.97          0.03\n",
       "85                 Poland           0.94          0.06\n",
       "86           South Africa           0.46          0.54\n",
       "96            Switzerland           0.76          0.24\n",
       "97                  India           0.18          0.82\n",
       "101              Pakistan           0.25          0.75\n",
       "118                Mexico           0.88          0.12\n",
       "150               Germany           0.74          0.26\n",
       "152             Indonesia           0.46          0.54\n",
       "164                Taiwan           0.70          0.30\n",
       "186                France           0.64          0.36\n",
       "207                 Japan           0.25          0.75"
      ]
     },
     "execution_count": 42,
     "metadata": {},
     "output_type": "execute_result"
    }
   ],
   "source": [
    "rice_vs_pasta"
   ]
  },
  {
   "cell_type": "code",
   "execution_count": 43,
   "metadata": {},
   "outputs": [
    {
     "data": {
      "text/plain": [
       "(15, 3)"
      ]
     },
     "execution_count": 43,
     "metadata": {},
     "output_type": "execute_result"
    }
   ],
   "source": [
    "rice_vs_pasta[rice_vs_pasta['pasta: (2018)'] > rice_vs_pasta['rice: (2018)']].shape"
   ]
  },
  {
   "cell_type": "code",
   "execution_count": 20,
   "metadata": {},
   "outputs": [],
   "source": [
    "ans['Q6'] = 4"
   ]
  },
  {
   "cell_type": "markdown",
   "metadata": {},
   "source": [
    "#### Q7) How many European countries in this list have more searches for rice than pasta?\n",
    "\n",
    "    1. 0\n",
    "    2. 2\n",
    "    3. 4\n",
    "    4. 6\n",
    "    "
   ]
  },
  {
   "cell_type": "code",
   "execution_count": 44,
   "metadata": {},
   "outputs": [
    {
     "data": {
      "text/html": [
       "<div>\n",
       "<style scoped>\n",
       "    .dataframe tbody tr th:only-of-type {\n",
       "        vertical-align: middle;\n",
       "    }\n",
       "\n",
       "    .dataframe tbody tr th {\n",
       "        vertical-align: top;\n",
       "    }\n",
       "\n",
       "    .dataframe thead th {\n",
       "        text-align: right;\n",
       "    }\n",
       "</style>\n",
       "<table border=\"1\" class=\"dataframe\">\n",
       "  <thead>\n",
       "    <tr style=\"text-align: right;\">\n",
       "      <th></th>\n",
       "      <th>Country</th>\n",
       "      <th>pasta: (2018)</th>\n",
       "      <th>rice: (2018)</th>\n",
       "    </tr>\n",
       "  </thead>\n",
       "  <tbody>\n",
       "    <tr>\n",
       "      <th>2</th>\n",
       "      <td>Singapore</td>\n",
       "      <td>0.20</td>\n",
       "      <td>0.80</td>\n",
       "    </tr>\n",
       "    <tr>\n",
       "      <th>9</th>\n",
       "      <td>Australia</td>\n",
       "      <td>0.43</td>\n",
       "      <td>0.57</td>\n",
       "    </tr>\n",
       "    <tr>\n",
       "      <th>14</th>\n",
       "      <td>United States</td>\n",
       "      <td>0.32</td>\n",
       "      <td>0.68</td>\n",
       "    </tr>\n",
       "    <tr>\n",
       "      <th>16</th>\n",
       "      <td>New Zealand</td>\n",
       "      <td>0.36</td>\n",
       "      <td>0.64</td>\n",
       "    </tr>\n",
       "    <tr>\n",
       "      <th>23</th>\n",
       "      <td>Canada</td>\n",
       "      <td>0.37</td>\n",
       "      <td>0.63</td>\n",
       "    </tr>\n",
       "    <tr>\n",
       "      <th>27</th>\n",
       "      <td>Philippines</td>\n",
       "      <td>0.26</td>\n",
       "      <td>0.74</td>\n",
       "    </tr>\n",
       "    <tr>\n",
       "      <th>39</th>\n",
       "      <td>United Kingdom</td>\n",
       "      <td>0.46</td>\n",
       "      <td>0.54</td>\n",
       "    </tr>\n",
       "    <tr>\n",
       "      <th>45</th>\n",
       "      <td>Malaysia</td>\n",
       "      <td>0.19</td>\n",
       "      <td>0.81</td>\n",
       "    </tr>\n",
       "    <tr>\n",
       "      <th>48</th>\n",
       "      <td>Ireland</td>\n",
       "      <td>0.43</td>\n",
       "      <td>0.57</td>\n",
       "    </tr>\n",
       "    <tr>\n",
       "      <th>50</th>\n",
       "      <td>United Arab Emirates</td>\n",
       "      <td>0.33</td>\n",
       "      <td>0.67</td>\n",
       "    </tr>\n",
       "    <tr>\n",
       "      <th>86</th>\n",
       "      <td>South Africa</td>\n",
       "      <td>0.46</td>\n",
       "      <td>0.54</td>\n",
       "    </tr>\n",
       "    <tr>\n",
       "      <th>97</th>\n",
       "      <td>India</td>\n",
       "      <td>0.18</td>\n",
       "      <td>0.82</td>\n",
       "    </tr>\n",
       "    <tr>\n",
       "      <th>101</th>\n",
       "      <td>Pakistan</td>\n",
       "      <td>0.25</td>\n",
       "      <td>0.75</td>\n",
       "    </tr>\n",
       "    <tr>\n",
       "      <th>152</th>\n",
       "      <td>Indonesia</td>\n",
       "      <td>0.46</td>\n",
       "      <td>0.54</td>\n",
       "    </tr>\n",
       "    <tr>\n",
       "      <th>207</th>\n",
       "      <td>Japan</td>\n",
       "      <td>0.25</td>\n",
       "      <td>0.75</td>\n",
       "    </tr>\n",
       "  </tbody>\n",
       "</table>\n",
       "</div>"
      ],
      "text/plain": [
       "                  Country  pasta: (2018)  rice: (2018)\n",
       "2               Singapore           0.20          0.80\n",
       "9               Australia           0.43          0.57\n",
       "14          United States           0.32          0.68\n",
       "16            New Zealand           0.36          0.64\n",
       "23                 Canada           0.37          0.63\n",
       "27            Philippines           0.26          0.74\n",
       "39         United Kingdom           0.46          0.54\n",
       "45               Malaysia           0.19          0.81\n",
       "48                Ireland           0.43          0.57\n",
       "50   United Arab Emirates           0.33          0.67\n",
       "86           South Africa           0.46          0.54\n",
       "97                  India           0.18          0.82\n",
       "101              Pakistan           0.25          0.75\n",
       "152             Indonesia           0.46          0.54\n",
       "207                 Japan           0.25          0.75"
      ]
     },
     "execution_count": 44,
     "metadata": {},
     "output_type": "execute_result"
    }
   ],
   "source": [
    "rice_vs_pasta[rice_vs_pasta['pasta: (2018)'] < rice_vs_pasta['rice: (2018)']]"
   ]
  },
  {
   "cell_type": "code",
   "execution_count": 22,
   "metadata": {},
   "outputs": [],
   "source": [
    "ans['Q7'] = 2"
   ]
  },
  {
   "cell_type": "markdown",
   "metadata": {},
   "source": [
    "## data manipulations\n",
    "Download from [Gapminder data repository](https://www.gapminder.org/data/) the life expectancy data for all countries in the years 1900-1999 (you may load a bigger dataset and concentrate on this part). Extract from this countries that have data for all years in the range 1900-1999. You should get 184 countries. Create for each of these the average age for each decade (1900-1909, 1910-1919,...), creating a matrix of 184\\*10 averages.\n",
    "\n",
    "__notice:__ there are many ways to aggregate the data correctly. you may use loops, numpy matrix operations and of course pandas, whatever you feel fit."
   ]
  },
  {
   "cell_type": "code",
   "execution_count": 23,
   "metadata": {},
   "outputs": [],
   "source": [
    "life_expectancy = pd.read_csv('life_expectancy_years.csv')"
   ]
  },
  {
   "cell_type": "code",
   "execution_count": 24,
   "metadata": {},
   "outputs": [
    {
     "data": {
      "text/plain": [
       "(187, 220)"
      ]
     },
     "execution_count": 24,
     "metadata": {},
     "output_type": "execute_result"
    }
   ],
   "source": [
    "life_expectancy.shape"
   ]
  },
  {
   "cell_type": "code",
   "execution_count": 25,
   "metadata": {},
   "outputs": [
    {
     "data": {
      "text/html": [
       "<div>\n",
       "<style scoped>\n",
       "    .dataframe tbody tr th:only-of-type {\n",
       "        vertical-align: middle;\n",
       "    }\n",
       "\n",
       "    .dataframe tbody tr th {\n",
       "        vertical-align: top;\n",
       "    }\n",
       "\n",
       "    .dataframe thead th {\n",
       "        text-align: right;\n",
       "    }\n",
       "</style>\n",
       "<table border=\"1\" class=\"dataframe\">\n",
       "  <thead>\n",
       "    <tr style=\"text-align: right;\">\n",
       "      <th></th>\n",
       "      <th>country</th>\n",
       "      <th>1800</th>\n",
       "      <th>1801</th>\n",
       "      <th>1802</th>\n",
       "      <th>1803</th>\n",
       "      <th>1804</th>\n",
       "      <th>1805</th>\n",
       "      <th>1806</th>\n",
       "      <th>1807</th>\n",
       "      <th>1808</th>\n",
       "      <th>...</th>\n",
       "      <th>2009</th>\n",
       "      <th>2010</th>\n",
       "      <th>2011</th>\n",
       "      <th>2012</th>\n",
       "      <th>2013</th>\n",
       "      <th>2014</th>\n",
       "      <th>2015</th>\n",
       "      <th>2016</th>\n",
       "      <th>2017</th>\n",
       "      <th>2018</th>\n",
       "    </tr>\n",
       "  </thead>\n",
       "  <tbody>\n",
       "    <tr>\n",
       "      <th>0</th>\n",
       "      <td>Afghanistan</td>\n",
       "      <td>28.2</td>\n",
       "      <td>28.2</td>\n",
       "      <td>28.2</td>\n",
       "      <td>28.2</td>\n",
       "      <td>28.2</td>\n",
       "      <td>28.2</td>\n",
       "      <td>28.1</td>\n",
       "      <td>28.1</td>\n",
       "      <td>28.1</td>\n",
       "      <td>...</td>\n",
       "      <td>55.7</td>\n",
       "      <td>56.2</td>\n",
       "      <td>56.7</td>\n",
       "      <td>57.2</td>\n",
       "      <td>57.7</td>\n",
       "      <td>57.8</td>\n",
       "      <td>57.9</td>\n",
       "      <td>58.0</td>\n",
       "      <td>58.4</td>\n",
       "      <td>58.7</td>\n",
       "    </tr>\n",
       "    <tr>\n",
       "      <th>1</th>\n",
       "      <td>Albania</td>\n",
       "      <td>35.4</td>\n",
       "      <td>35.4</td>\n",
       "      <td>35.4</td>\n",
       "      <td>35.4</td>\n",
       "      <td>35.4</td>\n",
       "      <td>35.4</td>\n",
       "      <td>35.4</td>\n",
       "      <td>35.4</td>\n",
       "      <td>35.4</td>\n",
       "      <td>...</td>\n",
       "      <td>75.9</td>\n",
       "      <td>76.3</td>\n",
       "      <td>76.7</td>\n",
       "      <td>77.0</td>\n",
       "      <td>77.2</td>\n",
       "      <td>77.4</td>\n",
       "      <td>77.6</td>\n",
       "      <td>77.7</td>\n",
       "      <td>77.9</td>\n",
       "      <td>78.0</td>\n",
       "    </tr>\n",
       "    <tr>\n",
       "      <th>2</th>\n",
       "      <td>Algeria</td>\n",
       "      <td>28.8</td>\n",
       "      <td>28.8</td>\n",
       "      <td>28.8</td>\n",
       "      <td>28.8</td>\n",
       "      <td>28.8</td>\n",
       "      <td>28.8</td>\n",
       "      <td>28.8</td>\n",
       "      <td>28.8</td>\n",
       "      <td>28.8</td>\n",
       "      <td>...</td>\n",
       "      <td>76.3</td>\n",
       "      <td>76.5</td>\n",
       "      <td>76.7</td>\n",
       "      <td>76.8</td>\n",
       "      <td>77.0</td>\n",
       "      <td>77.1</td>\n",
       "      <td>77.3</td>\n",
       "      <td>77.4</td>\n",
       "      <td>77.6</td>\n",
       "      <td>77.9</td>\n",
       "    </tr>\n",
       "    <tr>\n",
       "      <th>3</th>\n",
       "      <td>Andorra</td>\n",
       "      <td>NaN</td>\n",
       "      <td>NaN</td>\n",
       "      <td>NaN</td>\n",
       "      <td>NaN</td>\n",
       "      <td>NaN</td>\n",
       "      <td>NaN</td>\n",
       "      <td>NaN</td>\n",
       "      <td>NaN</td>\n",
       "      <td>NaN</td>\n",
       "      <td>...</td>\n",
       "      <td>82.7</td>\n",
       "      <td>82.7</td>\n",
       "      <td>82.6</td>\n",
       "      <td>82.6</td>\n",
       "      <td>82.6</td>\n",
       "      <td>82.6</td>\n",
       "      <td>82.5</td>\n",
       "      <td>82.5</td>\n",
       "      <td>NaN</td>\n",
       "      <td>NaN</td>\n",
       "    </tr>\n",
       "    <tr>\n",
       "      <th>4</th>\n",
       "      <td>Angola</td>\n",
       "      <td>27.0</td>\n",
       "      <td>27.0</td>\n",
       "      <td>27.0</td>\n",
       "      <td>27.0</td>\n",
       "      <td>27.0</td>\n",
       "      <td>27.0</td>\n",
       "      <td>27.0</td>\n",
       "      <td>27.0</td>\n",
       "      <td>27.0</td>\n",
       "      <td>...</td>\n",
       "      <td>59.3</td>\n",
       "      <td>60.1</td>\n",
       "      <td>60.9</td>\n",
       "      <td>61.7</td>\n",
       "      <td>62.5</td>\n",
       "      <td>63.3</td>\n",
       "      <td>64.0</td>\n",
       "      <td>64.7</td>\n",
       "      <td>64.9</td>\n",
       "      <td>65.2</td>\n",
       "    </tr>\n",
       "  </tbody>\n",
       "</table>\n",
       "<p>5 rows × 220 columns</p>\n",
       "</div>"
      ],
      "text/plain": [
       "       country  1800  1801  1802  1803  1804  1805  1806  1807  1808  ...   \\\n",
       "0  Afghanistan  28.2  28.2  28.2  28.2  28.2  28.2  28.1  28.1  28.1  ...    \n",
       "1      Albania  35.4  35.4  35.4  35.4  35.4  35.4  35.4  35.4  35.4  ...    \n",
       "2      Algeria  28.8  28.8  28.8  28.8  28.8  28.8  28.8  28.8  28.8  ...    \n",
       "3      Andorra   NaN   NaN   NaN   NaN   NaN   NaN   NaN   NaN   NaN  ...    \n",
       "4       Angola  27.0  27.0  27.0  27.0  27.0  27.0  27.0  27.0  27.0  ...    \n",
       "\n",
       "   2009  2010  2011  2012  2013  2014  2015  2016  2017  2018  \n",
       "0  55.7  56.2  56.7  57.2  57.7  57.8  57.9  58.0  58.4  58.7  \n",
       "1  75.9  76.3  76.7  77.0  77.2  77.4  77.6  77.7  77.9  78.0  \n",
       "2  76.3  76.5  76.7  76.8  77.0  77.1  77.3  77.4  77.6  77.9  \n",
       "3  82.7  82.7  82.6  82.6  82.6  82.6  82.5  82.5   NaN   NaN  \n",
       "4  59.3  60.1  60.9  61.7  62.5  63.3  64.0  64.7  64.9  65.2  \n",
       "\n",
       "[5 rows x 220 columns]"
      ]
     },
     "execution_count": 25,
     "metadata": {},
     "output_type": "execute_result"
    }
   ],
   "source": [
    "life_expectancy.head()"
   ]
  },
  {
   "cell_type": "code",
   "execution_count": 26,
   "metadata": {},
   "outputs": [
    {
     "data": {
      "text/plain": [
       "array(['country', '1800', '1801', '1802', '1803', '1804', '1805', '1806',\n",
       "       '1807', '1808', '1809', '1810', '1811', '1812', '1813', '1814',\n",
       "       '1815', '1816', '1817', '1818', '1819', '1820', '1821', '1822',\n",
       "       '1823', '1824', '1825', '1826', '1827', '1828', '1829', '1830',\n",
       "       '1831', '1832', '1833', '1834', '1835', '1836', '1837', '1838',\n",
       "       '1839', '1840', '1841', '1842', '1843', '1844', '1845', '1846',\n",
       "       '1847', '1848', '1849', '1850', '1851', '1852', '1853', '1854',\n",
       "       '1855', '1856', '1857', '1858', '1859', '1860', '1861', '1862',\n",
       "       '1863', '1864', '1865', '1866', '1867', '1868', '1869', '1870',\n",
       "       '1871', '1872', '1873', '1874', '1875', '1876', '1877', '1878',\n",
       "       '1879', '1880', '1881', '1882', '1883', '1884', '1885', '1886',\n",
       "       '1887', '1888', '1889', '1890', '1891', '1892', '1893', '1894',\n",
       "       '1895', '1896', '1897', '1898', '1899', '1900', '1901', '1902',\n",
       "       '1903', '1904', '1905', '1906', '1907', '1908', '1909', '1910',\n",
       "       '1911', '1912', '1913', '1914', '1915', '1916', '1917', '1918',\n",
       "       '1919', '1920', '1921', '1922', '1923', '1924', '1925', '1926',\n",
       "       '1927', '1928', '1929', '1930', '1931', '1932', '1933', '1934',\n",
       "       '1935', '1936', '1937', '1938', '1939', '1940', '1941', '1942',\n",
       "       '1943', '1944', '1945', '1946', '1947', '1948', '1949', '1950',\n",
       "       '1951', '1952', '1953', '1954', '1955', '1956', '1957', '1958',\n",
       "       '1959', '1960', '1961', '1962', '1963', '1964', '1965', '1966',\n",
       "       '1967', '1968', '1969', '1970', '1971', '1972', '1973', '1974',\n",
       "       '1975', '1976', '1977', '1978', '1979', '1980', '1981', '1982',\n",
       "       '1983', '1984', '1985', '1986', '1987', '1988', '1989', '1990',\n",
       "       '1991', '1992', '1993', '1994', '1995', '1996', '1997', '1998',\n",
       "       '1999', '2000', '2001', '2002', '2003', '2004', '2005', '2006',\n",
       "       '2007', '2008', '2009', '2010', '2011', '2012', '2013', '2014',\n",
       "       '2015', '2016', '2017', '2018'], dtype=object)"
      ]
     },
     "execution_count": 26,
     "metadata": {},
     "output_type": "execute_result"
    }
   ],
   "source": [
    "life_expectancy.columns.values"
   ]
  },
  {
   "cell_type": "code",
   "execution_count": 27,
   "metadata": {},
   "outputs": [],
   "source": [
    "life_expectancy = life_expectancy[['country'] + [str(i) for i in range(1900, 2000)]]"
   ]
  },
  {
   "cell_type": "code",
   "execution_count": 28,
   "metadata": {},
   "outputs": [
    {
     "data": {
      "text/html": [
       "<div>\n",
       "<style scoped>\n",
       "    .dataframe tbody tr th:only-of-type {\n",
       "        vertical-align: middle;\n",
       "    }\n",
       "\n",
       "    .dataframe tbody tr th {\n",
       "        vertical-align: top;\n",
       "    }\n",
       "\n",
       "    .dataframe thead th {\n",
       "        text-align: right;\n",
       "    }\n",
       "</style>\n",
       "<table border=\"1\" class=\"dataframe\">\n",
       "  <thead>\n",
       "    <tr style=\"text-align: right;\">\n",
       "      <th></th>\n",
       "      <th>country</th>\n",
       "      <th>1900</th>\n",
       "      <th>1901</th>\n",
       "      <th>1902</th>\n",
       "      <th>1903</th>\n",
       "      <th>1904</th>\n",
       "      <th>1905</th>\n",
       "      <th>1906</th>\n",
       "      <th>1907</th>\n",
       "      <th>1908</th>\n",
       "      <th>...</th>\n",
       "      <th>1990</th>\n",
       "      <th>1991</th>\n",
       "      <th>1992</th>\n",
       "      <th>1993</th>\n",
       "      <th>1994</th>\n",
       "      <th>1995</th>\n",
       "      <th>1996</th>\n",
       "      <th>1997</th>\n",
       "      <th>1998</th>\n",
       "      <th>1999</th>\n",
       "    </tr>\n",
       "  </thead>\n",
       "  <tbody>\n",
       "    <tr>\n",
       "      <th>0</th>\n",
       "      <td>Afghanistan</td>\n",
       "      <td>29.2</td>\n",
       "      <td>29.3</td>\n",
       "      <td>29.3</td>\n",
       "      <td>29.4</td>\n",
       "      <td>29.4</td>\n",
       "      <td>29.5</td>\n",
       "      <td>29.6</td>\n",
       "      <td>29.6</td>\n",
       "      <td>29.7</td>\n",
       "      <td>...</td>\n",
       "      <td>51.6</td>\n",
       "      <td>51.3</td>\n",
       "      <td>51.4</td>\n",
       "      <td>51.4</td>\n",
       "      <td>50.7</td>\n",
       "      <td>51.1</td>\n",
       "      <td>51.4</td>\n",
       "      <td>51.1</td>\n",
       "      <td>50.1</td>\n",
       "      <td>51.5</td>\n",
       "    </tr>\n",
       "    <tr>\n",
       "      <th>1</th>\n",
       "      <td>Albania</td>\n",
       "      <td>35.5</td>\n",
       "      <td>35.5</td>\n",
       "      <td>35.5</td>\n",
       "      <td>35.5</td>\n",
       "      <td>35.5</td>\n",
       "      <td>35.5</td>\n",
       "      <td>35.5</td>\n",
       "      <td>35.5</td>\n",
       "      <td>35.5</td>\n",
       "      <td>...</td>\n",
       "      <td>73.9</td>\n",
       "      <td>73.9</td>\n",
       "      <td>73.9</td>\n",
       "      <td>73.9</td>\n",
       "      <td>74.0</td>\n",
       "      <td>74.1</td>\n",
       "      <td>74.3</td>\n",
       "      <td>72.5</td>\n",
       "      <td>74.3</td>\n",
       "      <td>74.4</td>\n",
       "    </tr>\n",
       "    <tr>\n",
       "      <th>2</th>\n",
       "      <td>Algeria</td>\n",
       "      <td>30.1</td>\n",
       "      <td>30.2</td>\n",
       "      <td>30.3</td>\n",
       "      <td>31.3</td>\n",
       "      <td>25.3</td>\n",
       "      <td>28.0</td>\n",
       "      <td>29.5</td>\n",
       "      <td>29.4</td>\n",
       "      <td>29.3</td>\n",
       "      <td>...</td>\n",
       "      <td>71.0</td>\n",
       "      <td>71.4</td>\n",
       "      <td>71.7</td>\n",
       "      <td>72.0</td>\n",
       "      <td>72.1</td>\n",
       "      <td>72.3</td>\n",
       "      <td>72.8</td>\n",
       "      <td>73.0</td>\n",
       "      <td>73.1</td>\n",
       "      <td>73.5</td>\n",
       "    </tr>\n",
       "    <tr>\n",
       "      <th>3</th>\n",
       "      <td>Andorra</td>\n",
       "      <td>NaN</td>\n",
       "      <td>NaN</td>\n",
       "      <td>NaN</td>\n",
       "      <td>NaN</td>\n",
       "      <td>NaN</td>\n",
       "      <td>NaN</td>\n",
       "      <td>NaN</td>\n",
       "      <td>NaN</td>\n",
       "      <td>NaN</td>\n",
       "      <td>...</td>\n",
       "      <td>79.5</td>\n",
       "      <td>79.5</td>\n",
       "      <td>79.6</td>\n",
       "      <td>79.8</td>\n",
       "      <td>80.0</td>\n",
       "      <td>80.3</td>\n",
       "      <td>80.6</td>\n",
       "      <td>81.0</td>\n",
       "      <td>81.3</td>\n",
       "      <td>81.5</td>\n",
       "    </tr>\n",
       "    <tr>\n",
       "      <th>4</th>\n",
       "      <td>Angola</td>\n",
       "      <td>29.5</td>\n",
       "      <td>29.6</td>\n",
       "      <td>29.7</td>\n",
       "      <td>29.8</td>\n",
       "      <td>29.9</td>\n",
       "      <td>30.0</td>\n",
       "      <td>30.1</td>\n",
       "      <td>30.1</td>\n",
       "      <td>30.2</td>\n",
       "      <td>...</td>\n",
       "      <td>50.2</td>\n",
       "      <td>50.8</td>\n",
       "      <td>51.0</td>\n",
       "      <td>49.7</td>\n",
       "      <td>51.1</td>\n",
       "      <td>52.0</td>\n",
       "      <td>52.3</td>\n",
       "      <td>52.7</td>\n",
       "      <td>52.8</td>\n",
       "      <td>52.9</td>\n",
       "    </tr>\n",
       "  </tbody>\n",
       "</table>\n",
       "<p>5 rows × 101 columns</p>\n",
       "</div>"
      ],
      "text/plain": [
       "       country  1900  1901  1902  1903  1904  1905  1906  1907  1908  ...   \\\n",
       "0  Afghanistan  29.2  29.3  29.3  29.4  29.4  29.5  29.6  29.6  29.7  ...    \n",
       "1      Albania  35.5  35.5  35.5  35.5  35.5  35.5  35.5  35.5  35.5  ...    \n",
       "2      Algeria  30.1  30.2  30.3  31.3  25.3  28.0  29.5  29.4  29.3  ...    \n",
       "3      Andorra   NaN   NaN   NaN   NaN   NaN   NaN   NaN   NaN   NaN  ...    \n",
       "4       Angola  29.5  29.6  29.7  29.8  29.9  30.0  30.1  30.1  30.2  ...    \n",
       "\n",
       "   1990  1991  1992  1993  1994  1995  1996  1997  1998  1999  \n",
       "0  51.6  51.3  51.4  51.4  50.7  51.1  51.4  51.1  50.1  51.5  \n",
       "1  73.9  73.9  73.9  73.9  74.0  74.1  74.3  72.5  74.3  74.4  \n",
       "2  71.0  71.4  71.7  72.0  72.1  72.3  72.8  73.0  73.1  73.5  \n",
       "3  79.5  79.5  79.6  79.8  80.0  80.3  80.6  81.0  81.3  81.5  \n",
       "4  50.2  50.8  51.0  49.7  51.1  52.0  52.3  52.7  52.8  52.9  \n",
       "\n",
       "[5 rows x 101 columns]"
      ]
     },
     "execution_count": 28,
     "metadata": {},
     "output_type": "execute_result"
    }
   ],
   "source": [
    "life_expectancy.head()"
   ]
  },
  {
   "cell_type": "code",
   "execution_count": 29,
   "metadata": {},
   "outputs": [
    {
     "data": {
      "text/plain": [
       "(187, 101)"
      ]
     },
     "execution_count": 29,
     "metadata": {},
     "output_type": "execute_result"
    }
   ],
   "source": [
    "life_expectancy.shape"
   ]
  },
  {
   "cell_type": "code",
   "execution_count": 30,
   "metadata": {},
   "outputs": [],
   "source": [
    "life_expectancy = life_expectancy.dropna(axis=0)"
   ]
  },
  {
   "cell_type": "code",
   "execution_count": 31,
   "metadata": {},
   "outputs": [
    {
     "data": {
      "text/plain": [
       "(184, 101)"
      ]
     },
     "execution_count": 31,
     "metadata": {},
     "output_type": "execute_result"
    }
   ],
   "source": [
    "life_expectancy.shape"
   ]
  },
  {
   "cell_type": "code",
   "execution_count": 32,
   "metadata": {},
   "outputs": [],
   "source": [
    "decades = np.array([ str(1900 + i*10) + '-'  + str(1909 + i*10) for i in range(10)])"
   ]
  },
  {
   "cell_type": "code",
   "execution_count": 33,
   "metadata": {},
   "outputs": [
    {
     "data": {
      "text/plain": [
       "array(['1900-1909', '1900-1909', '1900-1909', '1900-1909', '1900-1909',\n",
       "       '1900-1909', '1900-1909', '1900-1909', '1900-1909', '1900-1909',\n",
       "       '1910-1919', '1910-1919', '1910-1919', '1910-1919', '1910-1919',\n",
       "       '1910-1919', '1910-1919', '1910-1919', '1910-1919', '1910-1919',\n",
       "       '1920-1929', '1920-1929', '1920-1929', '1920-1929', '1920-1929',\n",
       "       '1920-1929', '1920-1929', '1920-1929', '1920-1929', '1920-1929',\n",
       "       '1930-1939', '1930-1939', '1930-1939', '1930-1939', '1930-1939',\n",
       "       '1930-1939', '1930-1939', '1930-1939', '1930-1939', '1930-1939',\n",
       "       '1940-1949', '1940-1949', '1940-1949', '1940-1949', '1940-1949',\n",
       "       '1940-1949', '1940-1949', '1940-1949', '1940-1949', '1940-1949',\n",
       "       '1950-1959', '1950-1959', '1950-1959', '1950-1959', '1950-1959',\n",
       "       '1950-1959', '1950-1959', '1950-1959', '1950-1959', '1950-1959',\n",
       "       '1960-1969', '1960-1969', '1960-1969', '1960-1969', '1960-1969',\n",
       "       '1960-1969', '1960-1969', '1960-1969', '1960-1969', '1960-1969',\n",
       "       '1970-1979', '1970-1979', '1970-1979', '1970-1979', '1970-1979',\n",
       "       '1970-1979', '1970-1979', '1970-1979', '1970-1979', '1970-1979',\n",
       "       '1980-1989', '1980-1989', '1980-1989', '1980-1989', '1980-1989',\n",
       "       '1980-1989', '1980-1989', '1980-1989', '1980-1989', '1980-1989',\n",
       "       '1990-1999', '1990-1999', '1990-1999', '1990-1999', '1990-1999',\n",
       "       '1990-1999', '1990-1999', '1990-1999', '1990-1999', '1990-1999'],\n",
       "      dtype='<U9')"
      ]
     },
     "execution_count": 33,
     "metadata": {},
     "output_type": "execute_result"
    }
   ],
   "source": [
    "decades = np.repeat(decades, 10); decades"
   ]
  },
  {
   "cell_type": "code",
   "execution_count": 34,
   "metadata": {},
   "outputs": [],
   "source": [
    "decade_means = life_expectancy.iloc[:, life_expectancy.columns != 'country'].groupby(by=decades, axis=1).mean()"
   ]
  },
  {
   "cell_type": "code",
   "execution_count": 35,
   "metadata": {},
   "outputs": [
    {
     "data": {
      "text/plain": [
       "(184, 10)"
      ]
     },
     "execution_count": 35,
     "metadata": {},
     "output_type": "execute_result"
    }
   ],
   "source": [
    "decade_means.shape"
   ]
  },
  {
   "cell_type": "markdown",
   "metadata": {},
   "source": [
    "#### Q8)  Find out all the cases that a country had a higher life expectancy in one decade compared to both the deacdes before and after. How many countries have at least one such decade? \n",
    "\n",
    "    1. 67\n",
    "    2. 70\n",
    "    3. 78\n",
    "    4. 105"
   ]
  },
  {
   "cell_type": "code",
   "execution_count": 36,
   "metadata": {},
   "outputs": [
    {
     "data": {
      "text/html": [
       "<div>\n",
       "<style scoped>\n",
       "    .dataframe tbody tr th:only-of-type {\n",
       "        vertical-align: middle;\n",
       "    }\n",
       "\n",
       "    .dataframe tbody tr th {\n",
       "        vertical-align: top;\n",
       "    }\n",
       "\n",
       "    .dataframe thead th {\n",
       "        text-align: right;\n",
       "    }\n",
       "</style>\n",
       "<table border=\"1\" class=\"dataframe\">\n",
       "  <thead>\n",
       "    <tr style=\"text-align: right;\">\n",
       "      <th></th>\n",
       "      <th>1900-1909</th>\n",
       "      <th>1910-1919</th>\n",
       "      <th>1920-1929</th>\n",
       "      <th>1930-1939</th>\n",
       "      <th>1940-1949</th>\n",
       "      <th>1950-1959</th>\n",
       "      <th>1960-1969</th>\n",
       "      <th>1970-1979</th>\n",
       "      <th>1980-1989</th>\n",
       "      <th>1990-1999</th>\n",
       "    </tr>\n",
       "  </thead>\n",
       "  <tbody>\n",
       "    <tr>\n",
       "      <th>0</th>\n",
       "      <td>29.47</td>\n",
       "      <td>27.799</td>\n",
       "      <td>30.58</td>\n",
       "      <td>31.14</td>\n",
       "      <td>31.69</td>\n",
       "      <td>34.80</td>\n",
       "      <td>41.87</td>\n",
       "      <td>45.77</td>\n",
       "      <td>43.97</td>\n",
       "      <td>51.16</td>\n",
       "    </tr>\n",
       "    <tr>\n",
       "      <th>1</th>\n",
       "      <td>35.50</td>\n",
       "      <td>33.900</td>\n",
       "      <td>35.50</td>\n",
       "      <td>40.33</td>\n",
       "      <td>45.11</td>\n",
       "      <td>57.36</td>\n",
       "      <td>65.57</td>\n",
       "      <td>69.91</td>\n",
       "      <td>72.91</td>\n",
       "      <td>73.92</td>\n",
       "    </tr>\n",
       "    <tr>\n",
       "      <th>2</th>\n",
       "      <td>29.43</td>\n",
       "      <td>30.570</td>\n",
       "      <td>31.40</td>\n",
       "      <td>34.48</td>\n",
       "      <td>36.64</td>\n",
       "      <td>48.98</td>\n",
       "      <td>54.57</td>\n",
       "      <td>59.43</td>\n",
       "      <td>66.91</td>\n",
       "      <td>72.29</td>\n",
       "    </tr>\n",
       "    <tr>\n",
       "      <th>4</th>\n",
       "      <td>29.92</td>\n",
       "      <td>28.870</td>\n",
       "      <td>31.62</td>\n",
       "      <td>32.49</td>\n",
       "      <td>34.59</td>\n",
       "      <td>39.05</td>\n",
       "      <td>45.22</td>\n",
       "      <td>49.40</td>\n",
       "      <td>50.07</td>\n",
       "      <td>51.55</td>\n",
       "    </tr>\n",
       "    <tr>\n",
       "      <th>5</th>\n",
       "      <td>33.70</td>\n",
       "      <td>32.580</td>\n",
       "      <td>36.81</td>\n",
       "      <td>45.12</td>\n",
       "      <td>53.55</td>\n",
       "      <td>60.26</td>\n",
       "      <td>64.77</td>\n",
       "      <td>68.32</td>\n",
       "      <td>72.28</td>\n",
       "      <td>74.39</td>\n",
       "    </tr>\n",
       "  </tbody>\n",
       "</table>\n",
       "</div>"
      ],
      "text/plain": [
       "   1900-1909  1910-1919  1920-1929  1930-1939  1940-1949  1950-1959  \\\n",
       "0      29.47     27.799      30.58      31.14      31.69      34.80   \n",
       "1      35.50     33.900      35.50      40.33      45.11      57.36   \n",
       "2      29.43     30.570      31.40      34.48      36.64      48.98   \n",
       "4      29.92     28.870      31.62      32.49      34.59      39.05   \n",
       "5      33.70     32.580      36.81      45.12      53.55      60.26   \n",
       "\n",
       "   1960-1969  1970-1979  1980-1989  1990-1999  \n",
       "0      41.87      45.77      43.97      51.16  \n",
       "1      65.57      69.91      72.91      73.92  \n",
       "2      54.57      59.43      66.91      72.29  \n",
       "4      45.22      49.40      50.07      51.55  \n",
       "5      64.77      68.32      72.28      74.39  "
      ]
     },
     "execution_count": 36,
     "metadata": {},
     "output_type": "execute_result"
    }
   ],
   "source": [
    "decade_means.head()"
   ]
  },
  {
   "cell_type": "code",
   "execution_count": 37,
   "metadata": {},
   "outputs": [
    {
     "name": "stderr",
     "output_type": "stream",
     "text": [
      "/home/jonathansomer/.virtualenvs/ml/lib/python3.6/site-packages/pandas/core/computation/expressions.py:180: UserWarning: evaluating in Python space because the '*' operator is not supported by numexpr for the bool dtype, use '&' instead\n",
      "  .format(op=op_str, alt_op=unsupported[op_str]))\n"
     ]
    },
    {
     "data": {
      "text/plain": [
       "67"
      ]
     },
     "execution_count": 37,
     "metadata": {},
     "output_type": "execute_result"
    }
   ],
   "source": [
    "(decade_means.diff(axis=1) > 0).multiply(decade_means.diff(axis=1, periods=-1) > 0).max(axis=1).sum()"
   ]
  },
  {
   "cell_type": "code",
   "execution_count": 38,
   "metadata": {},
   "outputs": [],
   "source": [
    "ans['Q8'] = 1"
   ]
  },
  {
   "cell_type": "markdown",
   "metadata": {},
   "source": [
    "#### Q9) In which decade the most countries experienced a decrease in life expectancy compared to the previous decade? (see if you can think of a reason)\n",
    "\n",
    "   1. 1910's compared to 1900's\n",
    "   2. 1920's compared to 1910's\n",
    "   3. 1950's compared to 1940's\n",
    "   4. 1980's compared to 1970's"
   ]
  },
  {
   "cell_type": "code",
   "execution_count": 39,
   "metadata": {},
   "outputs": [
    {
     "data": {
      "text/plain": [
       "1900-1909      0\n",
       "1910-1919    131\n",
       "1920-1929      2\n",
       "1930-1939     11\n",
       "1940-1949     30\n",
       "1950-1959      1\n",
       "1960-1969      0\n",
       "1970-1979     10\n",
       "1980-1989      8\n",
       "1990-1999     35\n",
       "dtype: int64"
      ]
     },
     "execution_count": 39,
     "metadata": {},
     "output_type": "execute_result"
    }
   ],
   "source": [
    "(decade_means.diff(axis=1) < 0).sum(axis=0)"
   ]
  },
  {
   "cell_type": "code",
   "execution_count": 40,
   "metadata": {},
   "outputs": [],
   "source": [
    "ans['Q9'] = 1"
   ]
  },
  {
   "cell_type": "markdown",
   "metadata": {},
   "source": [
    "## Summary Statistics"
   ]
  },
  {
   "cell_type": "markdown",
   "metadata": {},
   "source": [
    "#### Q10) I have 101 observations for length of hospital stays, with maximum value 95 days, minimum 7 days, and average and median both 50 days. Now assume some software bug is causing the data to change from being measured in days to minutes (the length is multiplied by 24*60=1440). What is the minimal number of observations that will need to change before the average exceeds 100?\n",
    "\n",
    "    1. 1\n",
    "    2. 10\n",
    "    3. 51\n",
    "    4. 100"
   ]
  },
  {
   "cell_type": "code",
   "execution_count": 41,
   "metadata": {},
   "outputs": [
    {
     "data": {
      "text/plain": [
       "762.3762376237623"
      ]
     },
     "execution_count": 41,
     "metadata": {},
     "output_type": "execute_result"
    }
   ],
   "source": [
    "n = 101\n",
    "\n",
    "\n",
    "i=1\n",
    "((n-i)*50.0 + i*50.0*60*24)/n"
   ]
  },
  {
   "cell_type": "code",
   "execution_count": 42,
   "metadata": {},
   "outputs": [],
   "source": [
    "ans['Q10'] = 1"
   ]
  },
  {
   "cell_type": "markdown",
   "metadata": {},
   "source": [
    "#### Q11) In the same settings, what is the minimal number of observations that will need to change before the median exceeds 100? \n",
    "\n",
    "   1. 1\n",
    "   2. 10\n",
    "   3. 51\n",
    "   4. 100"
   ]
  },
  {
   "cell_type": "markdown",
   "metadata": {},
   "source": [
    "We will need that half of the observations have a value of 100"
   ]
  },
  {
   "cell_type": "code",
   "execution_count": 43,
   "metadata": {},
   "outputs": [],
   "source": [
    "ans['Q11'] = 3"
   ]
  },
  {
   "cell_type": "markdown",
   "metadata": {},
   "source": [
    "#### Q12) Assume the pollution in city A is exactly double that in city B every day. We measure the pollution in city A over 100 days and put it in a vector $x=(x_1,…x_{100})$ and in city B over the same 100 days giving $y=(y_1,…y_{100})$. We also consider the vectors $u=(log(x_1),…,log(x_{100}))$ and $v = (log(y_1),…,log(y_{100}))$. Which of the following holds: \n",
    "\n",
    "   1. $u_{10}$ (the 10th observation in $u$) is double $v_{10}$ \n",
    "   2. If $x_{10}$ > $y_{10}$ then $u_{10} < v_{10}$\n",
    "   3. The dispersion of $x$ is bigger than of $y$, but the dispersion of $u$ is equal to that of $v$\n",
    "   4. None of the above \t"
   ]
  },
  {
   "cell_type": "markdown",
   "metadata": {},
   "source": [
    "1. is incorrect:\n",
    "log(2x) = 1 + log(x)\n",
    "2. is incorrect\n",
    "log is monotonous\n",
    "3. is correct\n",
    "the mean increases by 1 exactly, the value of each increases by 1 too"
   ]
  },
  {
   "cell_type": "code",
   "execution_count": 44,
   "metadata": {},
   "outputs": [],
   "source": [
    "x = np.random.rand(20)*100\n",
    "y = 0.5*x"
   ]
  },
  {
   "cell_type": "code",
   "execution_count": 45,
   "metadata": {},
   "outputs": [],
   "source": [
    "u = np.log(x)\n",
    "v = np.log(y)"
   ]
  },
  {
   "cell_type": "code",
   "execution_count": 46,
   "metadata": {},
   "outputs": [
    {
     "data": {
      "text/plain": [
       "2.970028822427543"
      ]
     },
     "execution_count": 46,
     "metadata": {},
     "output_type": "execute_result"
    }
   ],
   "source": [
    "u[10]"
   ]
  },
  {
   "cell_type": "code",
   "execution_count": 47,
   "metadata": {},
   "outputs": [
    {
     "data": {
      "text/plain": [
       "2.2768816418675977"
      ]
     },
     "execution_count": 47,
     "metadata": {},
     "output_type": "execute_result"
    }
   ],
   "source": [
    "v[10]"
   ]
  },
  {
   "cell_type": "code",
   "execution_count": 48,
   "metadata": {},
   "outputs": [
    {
     "data": {
      "text/plain": [
       "0.7169094180795238"
      ]
     },
     "execution_count": 48,
     "metadata": {},
     "output_type": "execute_result"
    }
   ],
   "source": [
    "np.std(u)"
   ]
  },
  {
   "cell_type": "code",
   "execution_count": 49,
   "metadata": {},
   "outputs": [
    {
     "data": {
      "text/plain": [
       "0.7169094180795237"
      ]
     },
     "execution_count": 49,
     "metadata": {},
     "output_type": "execute_result"
    }
   ],
   "source": [
    "np.std(v)"
   ]
  },
  {
   "cell_type": "code",
   "execution_count": 50,
   "metadata": {},
   "outputs": [
    {
     "data": {
      "text/plain": [
       "28.7072514890102"
      ]
     },
     "execution_count": 50,
     "metadata": {},
     "output_type": "execute_result"
    }
   ],
   "source": [
    "np.std(x)"
   ]
  },
  {
   "cell_type": "code",
   "execution_count": 51,
   "metadata": {
    "scrolled": true
   },
   "outputs": [
    {
     "data": {
      "text/plain": [
       "14.3536257445051"
      ]
     },
     "execution_count": 51,
     "metadata": {},
     "output_type": "execute_result"
    }
   ],
   "source": [
    "np.std(y)"
   ]
  },
  {
   "cell_type": "code",
   "execution_count": 52,
   "metadata": {},
   "outputs": [],
   "source": [
    "ans['Q12'] = 3"
   ]
  },
  {
   "cell_type": "markdown",
   "metadata": {},
   "source": [
    "## Basic Plots"
   ]
  },
  {
   "cell_type": "markdown",
   "metadata": {},
   "source": [
    "#### Q13) Fill in the missing line to produce two boxplots of `y`, side by side, one for each value of `x`:\n",
    "\n",
    "```python\n",
    "    import pandas as pd\n",
    "    import numpy as np\n",
    "    import seaborn as sns\n",
    "    import matplotlib.pyplot as plt\n",
    "\n",
    "    sns.set()\n",
    "\n",
    "    df = pd.DataFrame({\n",
    "        'x': np.concatenate([np.tile('a', 100), np.tile('b', 100)]),\n",
    "        'y': np.concatenate([np.random.normal(size = 100), np.random.exponential(size = 100)])})\n",
    "\n",
    "    # missing line 1 #\n",
    "```\n",
    "\n",
    "   1. `sns.boxplot(df.x, df.y)`\n",
    "   2. `sns.boxplot(df['x'], df['y'])`\n",
    "   3. `sns.boxplot('x', 'y', data = df)`\n",
    "   4. All of the above"
   ]
  },
  {
   "cell_type": "code",
   "execution_count": 53,
   "metadata": {},
   "outputs": [
    {
     "data": {
      "text/plain": [
       "<Figure size 640x480 with 1 Axes>"
      ]
     },
     "metadata": {},
     "output_type": "display_data"
    },
    {
     "data": {
      "text/plain": [
       "<Figure size 640x480 with 1 Axes>"
      ]
     },
     "metadata": {},
     "output_type": "display_data"
    },
    {
     "data": {
      "text/plain": [
       "<Figure size 640x480 with 1 Axes>"
      ]
     },
     "metadata": {},
     "output_type": "display_data"
    }
   ],
   "source": [
    "import pandas as pd\n",
    "import numpy as np\n",
    "import seaborn as sns\n",
    "import matplotlib.pyplot as plt\n",
    "\n",
    "sns.set()\n",
    "\n",
    "df = pd.DataFrame({\n",
    "    'x': np.concatenate([np.tile('a', 100), np.tile('b', 100)]),\n",
    "    'y': np.concatenate([np.random.normal(size = 100), np.random.exponential(size = 100)])})\n",
    "\n",
    "sns.boxplot('x', 'y', data = df)\n",
    "plt.show()\n",
    "\n",
    "sns.boxplot(df['x'], df['y'])\n",
    "plt.show()\n",
    "\n",
    "sns.boxplot(df.x, df.y)\n",
    "plt.show()"
   ]
  },
  {
   "cell_type": "code",
   "execution_count": 54,
   "metadata": {},
   "outputs": [],
   "source": [
    "ans['Q13'] = 4"
   ]
  },
  {
   "cell_type": "markdown",
   "metadata": {},
   "source": [
    "# finish!\n",
    "\n",
    "to submit your HW please run this last code block and follow the instructions. <BR>\n",
    "this code will create a CSV file in the current directory on the azure notebooks project <br>\n",
    "please download it and submit it through moodle"
   ]
  },
  {
   "cell_type": "code",
   "execution_count": 55,
   "metadata": {},
   "outputs": [
    {
     "ename": "SyntaxError",
     "evalue": "invalid syntax (<ipython-input-55-515358163cdd>, line 5)",
     "output_type": "error",
     "traceback": [
      "\u001b[0;36m  File \u001b[0;32m\"<ipython-input-55-515358163cdd>\"\u001b[0;36m, line \u001b[0;32m5\u001b[0m\n\u001b[0;31m    else\u001b[0m\n\u001b[0m        ^\u001b[0m\n\u001b[0;31mSyntaxError\u001b[0m\u001b[0;31m:\u001b[0m invalid syntax\n"
     ]
    }
   ],
   "source": [
    "import pandas as pd\n",
    "df_ans = pd.DataFrame.from_dict(ans, orient='index')\n",
    "if df_ans.shape[0] == 15:\n",
    "    df_ans.to_csv('{}_{}.csv'.format(ans['HW'],str(ans['id_number'])))\n",
    "else:\n",
    "    print(\"seems like you missed a question, make sure you have run all the code blocks\")"
   ]
  },
  {
   "cell_type": "code",
   "execution_count": null,
   "metadata": {},
   "outputs": [],
   "source": []
  }
 ],
 "metadata": {
  "kernelspec": {
   "display_name": "Python 3",
   "language": "python",
   "name": "python3"
  },
  "language_info": {
   "codemirror_mode": {
    "name": "ipython",
    "version": 3
   },
   "file_extension": ".py",
   "mimetype": "text/x-python",
   "name": "python",
   "nbconvert_exporter": "python",
   "pygments_lexer": "ipython3",
   "version": "3.6.6"
  }
 },
 "nbformat": 4,
 "nbformat_minor": 2
}
