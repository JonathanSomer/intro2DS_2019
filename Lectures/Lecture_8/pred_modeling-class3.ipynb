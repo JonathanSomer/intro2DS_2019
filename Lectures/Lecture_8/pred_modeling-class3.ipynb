{
 "cells": [
  {
   "cell_type": "markdown",
   "metadata": {
    "slideshow": {
     "slide_type": "slide"
    }
   },
   "source": [
    "# Local modeling: nearest neighbors and trees\n"
   ]
  },
  {
   "cell_type": "markdown",
   "metadata": {
    "slideshow": {
     "slide_type": "slide"
    }
   },
   "source": [
    "# Global vs local modeling\n",
    "\n",
    "### So far we have learned two predictive modeling techniques: OLS regression and logistic regression \n",
    "\n",
    "### Common theme: Global, parametric models (+ probabilistic model for inference) --- lots of assumptions!\n",
    "\n",
    "### A different approach: *Local* modeling: I am similar to my neighbors\n",
    "\n",
    "### Simple example: 1-nearest neighbor:\n",
    "\n",
    "1. Define a distance over the $\\cal X$ space. For $x\\in \\mathbb R^p$ can simply choose the Euclidean distance: \n",
    "$$d(x,u) = \\|x-u\\|^2.$$\n",
    "2. For a prediction point (say $x_0 \\in Te$), find its nearest neighbor in the Tr\n",
    "$$ i_0 = \\arg\\min_i d(x_0,x_i).$$\n",
    "3. Predict $x_0$ as the response at the nearest neighbor $\\hat{y}_0 = y_{i_0}.$"
   ]
  },
  {
   "cell_type": "markdown",
   "metadata": {
    "slideshow": {
     "slide_type": "slide"
    }
   },
   "source": [
    "# K-nearest neighbor (KNN) methods\n",
    "\n",
    "### Repeat the same steps, but instead of finding the nearest neighbor only, find the $k$ nearest points in $Tr$ to $x_0$. Assume their indexes are $i_{01},...,i_{0k}.$\n",
    "\n",
    "\n",
    "### For regression predict the average: \n",
    "$$\\hat{y}_0 = \\frac{1}{k} \\sum_{j=1}^k y_{i_{0j}}.$$\n",
    "\n",
    "### For classification predict the majority: \n",
    "$$\\hat{y}_0 = \\left\\{ \\begin{array}{ll} 1 & \\mbox{if} \\frac{1}{k} \\sum_{j=1}^k y_{i_{0j}} > 1/2  \\\\\n",
    "0 & \\mbox{otherwise}\\end{array} \\right.$$\n"
   ]
  },
  {
   "cell_type": "code",
   "execution_count": 7,
   "metadata": {
    "slideshow": {
     "slide_type": "skip"
    }
   },
   "outputs": [],
   "source": [
    "import pandas as pd\n",
    "import numpy as np\n",
    "import matplotlib.pyplot as plt\n",
    "from sklearn import tree\n",
    "import math\n",
    "import random\n",
    "\n",
    "%matplotlib inline"
   ]
  },
  {
   "cell_type": "code",
   "execution_count": 8,
   "metadata": {
    "slideshow": {
     "slide_type": "skip"
    }
   },
   "outputs": [],
   "source": [
    "\n",
    "saheart = pd.read_table(\"http://statweb.stanford.edu/~hastie/ElemStatLearn/datasets/SAheart.data\", header = 0,sep=',',index_col=0)\n",
    "saheart.head()\n",
    "\n",
    "saheart_X=pd.get_dummies(saheart.iloc[:,:9]).iloc[:,:9]\n",
    "saheart_y=saheart.iloc[:,9]\n",
    "n = saheart_X.shape[0]\n",
    "tr_size = math.floor(0.8*n)\n",
    "te_size = n-tr_size\n",
    "tr_ind = random.sample(range(n),tr_size)\n",
    "SA_Xtr = saheart_X.iloc[tr_ind,:]\n",
    "SA_Xte = saheart_X.drop(saheart_X.index[tr_ind])\n",
    "SA_Ytr = saheart_y.iloc[tr_ind]\n",
    "SA_Yte = saheart_y.drop(saheart_y.index[tr_ind])\n"
   ]
  },
  {
   "cell_type": "code",
   "execution_count": 16,
   "metadata": {
    "slideshow": {
     "slide_type": "slide"
    }
   },
   "outputs": [],
   "source": [
    "import sklearn.neighbors as skn\n",
    "\n",
    "ntr = SA_Xtr.shape[0]\n",
    "nte = SA_Xte.shape[0]\n",
    "tr_err = []\n",
    "te_err = []\n",
    "kvals = [1,3,5,10,50,100,200]\n",
    "for k in kvals:\n",
    "    knn = skn.KNeighborsClassifier(n_neighbors=k)\n",
    "    knn.fit (SA_Xtr,SA_Ytr)\n",
    "    yhat_tr = knn.predict(SA_Xtr)>0.5\n",
    "    yhat = knn.predict(SA_Xte)>0.5\n",
    "    tr_err.append(np.sum(yhat_tr!=SA_Ytr)/ntr)\n",
    "    te_err.append(np.sum(yhat!=SA_Yte)/nte)\n"
   ]
  },
  {
   "cell_type": "code",
   "execution_count": 17,
   "metadata": {
    "slideshow": {
     "slide_type": "slide"
    }
   },
   "outputs": [
    {
     "data": {
      "image/png": "[encoded data removed]",
      "text/plain": [
       "<Figure size 432x288 with 1 Axes>"
      ]
     },
     "metadata": {
      "needs_background": "light"
     },
     "output_type": "display_data"
    }
   ],
   "source": [
    "plt.figure()\n",
    "lw = 2\n",
    "plt.plot(kvals, tr_err, color='darkorange', lw=lw, label='train' )\n",
    "plt.plot(kvals, te_err, color='navy', lw=lw, label='test')\n",
    "plt.ylim([0.0, 0.5])\n",
    "plt.xlabel('k')\n",
    "plt.ylabel('Misclass. Err')\n",
    "plt.title('KNN on SAheart')\n",
    "plt.legend(loc=\"lower right\")\n",
    "plt.show() "
   ]
  },
  {
   "cell_type": "code",
   "execution_count": 18,
   "metadata": {
    "slideshow": {
     "slide_type": "skip"
    }
   },
   "outputs": [],
   "source": [
    "\n",
    "ratings = pd.read_table(\"http://www.tau.ac.il/~saharon/StatsLearn2018/train_ratings_all.dat\", header = None)\n",
    "ratings[ratings == 0] = None\n",
    "miss_cong = pd.read_csv(\"http://www.tau.ac.il/~saharon/StatsLearn2018/train_y_rating.dat\", header = None, names = ['score'])\n",
    "movies = pd.read_csv(\"http://www.tau.ac.il/~saharon/StatsLearn2018/movie_titles.txt\", header = None, names = ['year', 'title'])\n",
    "\n",
    "X = ratings.values\n",
    "Y = miss_cong.values[:,0]\n",
    "n = X.shape[0]\n",
    "tr_size = math.floor(0.8*n)\n",
    "te_size = n-tr_size\n",
    "tr_ind = random.sample(range(n),tr_size)\n",
    "Ne_Xtr = X[tr_ind,]\n",
    "Ne_Xte = np.delete(X,tr_ind,0)\n",
    "Ne_Ytr = Y[tr_ind]\n",
    "Ne_Yte = np.delete(Y,tr_ind)"
   ]
  },
  {
   "cell_type": "code",
   "execution_count": 19,
   "metadata": {
    "slideshow": {
     "slide_type": "slide"
    }
   },
   "outputs": [],
   "source": [
    "tr_err = []\n",
    "te_err = []\n",
    "kvals = [1,3,5,10,50,100,200,500]\n",
    "for k in kvals:\n",
    "    knn = skn.KNeighborsRegressor(n_neighbors=k)\n",
    "    knn.fit (Ne_Xtr[:,:14],Ne_Ytr)\n",
    "    yhat_tr = knn.predict(Ne_Xtr[:,:14])\n",
    "    yhat = knn.predict(Ne_Xte[:,:14])\n",
    "    tr_err.append(math.sqrt(np.sum((yhat_tr-Ne_Ytr)**2)/tr_size))\n",
    "    te_err.append(math.sqrt(np.sum((yhat-Ne_Yte)**2)/te_size))"
   ]
  },
  {
   "cell_type": "code",
   "execution_count": 20,
   "metadata": {
    "slideshow": {
     "slide_type": "slide"
    }
   },
   "outputs": [
    {
     "data": {
      "image/png": "[encoded data removed]",
      "text/plain": [
       "<Figure size 432x288 with 1 Axes>"
      ]
     },
     "metadata": {
      "needs_background": "light"
     },
     "output_type": "display_data"
    }
   ],
   "source": [
    "plt.figure()\n",
    "lw = 2\n",
    "plt.plot(kvals, tr_err, color='darkorange', lw=lw, label='train' )\n",
    "plt.plot(kvals, te_err, color='navy', lw=lw, label='test')\n",
    "plt.ylim([0, 1])\n",
    "plt.xlabel('k')\n",
    "plt.ylabel('RMSE')\n",
    "plt.title('KNN on Netflix')\n",
    "plt.legend(loc=\"lower right\")\n",
    "plt.show() "
   ]
  },
  {
   "cell_type": "markdown",
   "metadata": {
    "slideshow": {
     "slide_type": "slide"
    }
   },
   "source": [
    "# The problems with KNN? \n",
    "\n",
    "### 1. What is the appropriate distance metric?\n",
    "\n",
    "### 2. If the data are \"sparse\" in the space, nearest neighbors are far and the results can be very bad\n",
    "\n",
    "### *Curse of dimensionality*: if the dimension $p$ is high,  data are by definition sparse\n",
    "\n",
    "### KNN fails in these settings\n",
    "\n",
    "### Interesting solution to both problems: Adaptive local methods \n"
   ]
  },
  {
   "cell_type": "markdown",
   "metadata": {
    "slideshow": {
     "slide_type": "slide"
    }
   },
   "source": [
    "# Adaptive local methods: trees\n",
    "\n",
    "### The idea: split the space $\\cal X$ into *neighborhoods* by recursive partioning\n",
    "\n",
    "### Each time: pick a region and split it into two (or more) regions\n",
    "\n",
    "### Can be described using a tree --- binary tree if all splits are in two\n",
    "\n",
    "![Alt text](images/CART_tree_titanic_survivors.png)"
   ]
  },
  {
   "cell_type": "markdown",
   "metadata": {
    "slideshow": {
     "slide_type": "slide"
    }
   },
   "source": [
    "# Classification tree on South African Heart data "
   ]
  },
  {
   "cell_type": "code",
   "execution_count": 22,
   "metadata": {
    "slideshow": {
     "slide_type": "-"
    }
   },
   "outputs": [
    {
     "data": {
      "text/html": [
       "<div>\n",
       "<style scoped>\n",
       "    .dataframe tbody tr th:only-of-type {\n",
       "        vertical-align: middle;\n",
       "    }\n",
       "\n",
       "    .dataframe tbody tr th {\n",
       "        vertical-align: top;\n",
       "    }\n",
       "\n",
       "    .dataframe thead th {\n",
       "        text-align: right;\n",
       "    }\n",
       "</style>\n",
       "<table border=\"1\" class=\"dataframe\">\n",
       "  <thead>\n",
       "    <tr style=\"text-align: right;\">\n",
       "      <th></th>\n",
       "      <th>sbp</th>\n",
       "      <th>tobacco</th>\n",
       "      <th>ldl</th>\n",
       "      <th>adiposity</th>\n",
       "      <th>typea</th>\n",
       "      <th>obesity</th>\n",
       "      <th>alcohol</th>\n",
       "      <th>age</th>\n",
       "      <th>famhist_Absent</th>\n",
       "    </tr>\n",
       "  </thead>\n",
       "  <tbody>\n",
       "    <tr>\n",
       "      <th>count</th>\n",
       "      <td>369.000000</td>\n",
       "      <td>369.000000</td>\n",
       "      <td>369.000000</td>\n",
       "      <td>369.000000</td>\n",
       "      <td>369.000000</td>\n",
       "      <td>369.000000</td>\n",
       "      <td>369.000000</td>\n",
       "      <td>369.000000</td>\n",
       "      <td>369.000000</td>\n",
       "    </tr>\n",
       "    <tr>\n",
       "      <th>mean</th>\n",
       "      <td>137.813008</td>\n",
       "      <td>3.486802</td>\n",
       "      <td>4.724851</td>\n",
       "      <td>25.490976</td>\n",
       "      <td>53.208672</td>\n",
       "      <td>26.194553</td>\n",
       "      <td>16.683902</td>\n",
       "      <td>42.428184</td>\n",
       "      <td>0.615176</td>\n",
       "    </tr>\n",
       "    <tr>\n",
       "      <th>std</th>\n",
       "      <td>19.707653</td>\n",
       "      <td>4.618475</td>\n",
       "      <td>2.059389</td>\n",
       "      <td>7.698957</td>\n",
       "      <td>10.017774</td>\n",
       "      <td>4.281510</td>\n",
       "      <td>23.528856</td>\n",
       "      <td>14.732243</td>\n",
       "      <td>0.487214</td>\n",
       "    </tr>\n",
       "    <tr>\n",
       "      <th>min</th>\n",
       "      <td>102.000000</td>\n",
       "      <td>0.000000</td>\n",
       "      <td>0.980000</td>\n",
       "      <td>6.740000</td>\n",
       "      <td>13.000000</td>\n",
       "      <td>14.700000</td>\n",
       "      <td>0.000000</td>\n",
       "      <td>15.000000</td>\n",
       "      <td>0.000000</td>\n",
       "    </tr>\n",
       "    <tr>\n",
       "      <th>25%</th>\n",
       "      <td>124.000000</td>\n",
       "      <td>0.000000</td>\n",
       "      <td>3.300000</td>\n",
       "      <td>20.310000</td>\n",
       "      <td>47.000000</td>\n",
       "      <td>23.090000</td>\n",
       "      <td>0.190000</td>\n",
       "      <td>31.000000</td>\n",
       "      <td>0.000000</td>\n",
       "    </tr>\n",
       "    <tr>\n",
       "      <th>50%</th>\n",
       "      <td>134.000000</td>\n",
       "      <td>1.620000</td>\n",
       "      <td>4.300000</td>\n",
       "      <td>26.260000</td>\n",
       "      <td>53.000000</td>\n",
       "      <td>25.990000</td>\n",
       "      <td>7.610000</td>\n",
       "      <td>44.000000</td>\n",
       "      <td>1.000000</td>\n",
       "    </tr>\n",
       "    <tr>\n",
       "      <th>75%</th>\n",
       "      <td>148.000000</td>\n",
       "      <td>5.150000</td>\n",
       "      <td>5.800000</td>\n",
       "      <td>30.960000</td>\n",
       "      <td>60.000000</td>\n",
       "      <td>28.630000</td>\n",
       "      <td>23.970000</td>\n",
       "      <td>55.000000</td>\n",
       "      <td>1.000000</td>\n",
       "    </tr>\n",
       "    <tr>\n",
       "      <th>max</th>\n",
       "      <td>216.000000</td>\n",
       "      <td>31.200000</td>\n",
       "      <td>15.330000</td>\n",
       "      <td>42.490000</td>\n",
       "      <td>78.000000</td>\n",
       "      <td>46.580000</td>\n",
       "      <td>144.000000</td>\n",
       "      <td>64.000000</td>\n",
       "      <td>1.000000</td>\n",
       "    </tr>\n",
       "  </tbody>\n",
       "</table>\n",
       "</div>"
      ],
      "text/plain": [
       "              sbp     tobacco         ldl   adiposity       typea     obesity  \\\n",
       "count  369.000000  369.000000  369.000000  369.000000  369.000000  369.000000   \n",
       "mean   137.813008    3.486802    4.724851   25.490976   53.208672   26.194553   \n",
       "std     19.707653    4.618475    2.059389    7.698957   10.017774    4.281510   \n",
       "min    102.000000    0.000000    0.980000    6.740000   13.000000   14.700000   \n",
       "25%    124.000000    0.000000    3.300000   20.310000   47.000000   23.090000   \n",
       "50%    134.000000    1.620000    4.300000   26.260000   53.000000   25.990000   \n",
       "75%    148.000000    5.150000    5.800000   30.960000   60.000000   28.630000   \n",
       "max    216.000000   31.200000   15.330000   42.490000   78.000000   46.580000   \n",
       "\n",
       "          alcohol         age  famhist_Absent  \n",
       "count  369.000000  369.000000      369.000000  \n",
       "mean    16.683902   42.428184        0.615176  \n",
       "std     23.528856   14.732243        0.487214  \n",
       "min      0.000000   15.000000        0.000000  \n",
       "25%      0.190000   31.000000        0.000000  \n",
       "50%      7.610000   44.000000        1.000000  \n",
       "75%     23.970000   55.000000        1.000000  \n",
       "max    144.000000   64.000000        1.000000  "
      ]
     },
     "execution_count": 22,
     "metadata": {},
     "output_type": "execute_result"
    }
   ],
   "source": [
    "SA_Xtr.describe()"
   ]
  },
  {
   "cell_type": "code",
   "execution_count": 23,
   "metadata": {
    "slideshow": {
     "slide_type": "slide"
    }
   },
   "outputs": [
    {
     "data": {
      "text/plain": [
       "[Text(167.4, 181.2, 'X[7] <= 50.5\\nentropy = 0.441\\nsamples = 369\\nvalue = [248, 121]'),\n",
       " Text(83.7, 108.72, 'X[4] <= 68.5\\nentropy = 0.323\\nsamples = 237\\nvalue = [189, 48]'),\n",
       " Text(41.85, 36.23999999999998, 'entropy = 0.285\\nsamples = 221\\nvalue = [183, 38]'),\n",
       " Text(125.55000000000001, 36.23999999999998, 'entropy = 0.469\\nsamples = 16\\nvalue = [6, 10]'),\n",
       " Text(251.10000000000002, 108.72, 'X[1] <= 1.175\\nentropy = 0.494\\nsamples = 132\\nvalue = [59, 73]'),\n",
       " Text(209.25, 36.23999999999998, 'entropy = 0.394\\nsamples = 37\\nvalue = [27, 10]'),\n",
       " Text(292.95, 36.23999999999998, 'entropy = 0.447\\nsamples = 95\\nvalue = [32, 63]')]"
      ]
     },
     "execution_count": 23,
     "metadata": {},
     "output_type": "execute_result"
    },
    {
     "data": {
      "image/png": "[encoded data removed]",
      "text/plain": [
       "<Figure size 432x288 with 1 Axes>"
      ]
     },
     "metadata": {
      "needs_background": "light"
     },
     "output_type": "display_data"
    }
   ],
   "source": [
    "SAtree = tree.DecisionTreeClassifier(max_depth=2)\n",
    "SAtree_2 = SAtree.fit(SA_Xtr, SA_Ytr)\n",
    "tree.plot_tree(SAtree_2) "
   ]
  },
  {
   "cell_type": "code",
   "execution_count": 24,
   "metadata": {
    "slideshow": {
     "slide_type": "skip"
    }
   },
   "outputs": [
    {
     "data": {
      "image/png": "[encoded data removed]",
      "text/plain": [
       "<Figure size 432x288 with 1 Axes>"
      ]
     },
     "metadata": {
      "needs_background": "light"
     },
     "output_type": "display_data"
    }
   ],
   "source": [
    "ntr = SA_Xtr.shape[0]\n",
    "nte = SA_Xte.shape[0]\n",
    "tr_err = []\n",
    "te_err = []\n",
    "ds = [2,3,5,7,10,15]\n",
    "for depth in ds:\n",
    "    SAtree = tree.DecisionTreeClassifier(max_depth=depth)\n",
    "    SAtree = SAtree.fit(SA_Xtr, SA_Ytr)\n",
    "    yhat_tr = SAtree.predict(SA_Xtr)>0.5\n",
    "    yhat = SAtree.predict(SA_Xte)>0.5\n",
    "    tr_err.append(np.sum(yhat_tr!=SA_Ytr)/ntr)\n",
    "    te_err.append(np.sum(yhat!=SA_Yte)/nte)\n",
    "\n",
    "plt.figure()\n",
    "lw = 2\n",
    "plt.plot(ds, tr_err, color='darkorange', lw=lw, label='train' )\n",
    "plt.plot(ds, te_err, color='navy', lw=lw, label='test')\n",
    "plt.ylim([0.0, 0.5])\n",
    "plt.xlabel('depth')\n",
    "plt.ylabel('Misclass. Err')\n",
    "plt.title('Trees on SAheart')\n",
    "plt.legend(loc=\"lower right\")\n",
    "plt.show() "
   ]
  },
  {
   "cell_type": "markdown",
   "metadata": {
    "slideshow": {
     "slide_type": "slide"
    }
   },
   "source": [
    "# Tree on Netflix data (14 variables)"
   ]
  },
  {
   "cell_type": "code",
   "execution_count": 25,
   "metadata": {
    "slideshow": {
     "slide_type": "-"
    }
   },
   "outputs": [
    {
     "data": {
      "text/plain": [
       "[Text(167.4, 181.2, 'X[9] <= 3.5\\nentropy = 0.9\\nsamples = 8000\\nvalue = 3.619'),\n",
       " Text(83.7, 108.72, 'X[4] <= 4.5\\nentropy = 0.845\\nsamples = 3332\\nvalue = 3.242'),\n",
       " Text(41.85, 36.23999999999998, 'entropy = 0.777\\nsamples = 2612\\nvalue = 3.137'),\n",
       " Text(125.55000000000001, 36.23999999999998, 'entropy = 0.907\\nsamples = 720\\nvalue = 3.622'),\n",
       " Text(251.10000000000002, 108.72, 'X[13] <= 4.5\\nentropy = 0.765\\nsamples = 4668\\nvalue = 3.888'),\n",
       " Text(209.25, 36.23999999999998, 'entropy = 0.732\\nsamples = 3351\\nvalue = 3.74'),\n",
       " Text(292.95, 36.23999999999998, 'entropy = 0.65\\nsamples = 1317\\nvalue = 4.267')]"
      ]
     },
     "execution_count": 25,
     "metadata": {},
     "output_type": "execute_result"
    },
    {
     "data": {
      "image/png": "[encoded data removed]",
      "text/plain": [
       "<Figure size 432x288 with 1 Axes>"
      ]
     },
     "metadata": {
      "needs_background": "light"
     },
     "output_type": "display_data"
    }
   ],
   "source": [
    "Netree = tree.DecisionTreeRegressor(max_depth=2)\n",
    "Netree_2 = Netree.fit(Ne_Xtr[:,:14], Ne_Ytr)\n",
    "tree.plot_tree(Netree_2) "
   ]
  },
  {
   "cell_type": "code",
   "execution_count": 62,
   "metadata": {
    "slideshow": {
     "slide_type": "skip"
    }
   },
   "outputs": [],
   "source": [
    "ntr = Ne_Xtr.shape[0]\n",
    "nte = Ne_Xte.shape[0]\n",
    "tr_err = []\n",
    "te_err = []\n",
    "ds = [2,3,5,7,10,15]\n",
    "for depth in ds:\n",
    "    Netree = tree.DecisionTreeRegressor(max_depth=depth)\n",
    "    Netree = Netree.fit(Ne_Xtr[:,:14], Ne_Ytr)\n",
    "    yhat_tr = Netree.predict(Ne_Xtr[:,:14])\n",
    "    yhat = Netree.predict(Ne_Xte[:,:14])\n",
    "    tr_err.append(math.sqrt(np.sum((yhat_tr-Ne_Ytr)**2)/ntr))\n",
    "    te_err.append(math.sqrt(np.sum((yhat-Ne_Yte)**2)/nte))"
   ]
  },
  {
   "cell_type": "code",
   "execution_count": 64,
   "metadata": {
    "slideshow": {
     "slide_type": "skip"
    }
   },
   "outputs": [
    {
     "data": {
      "image/png": "[encoded data removed]",
      "text/plain": [
       "<Figure size 432x288 with 1 Axes>"
      ]
     },
     "metadata": {
      "needs_background": "light"
     },
     "output_type": "display_data"
    },
    {
     "data": {
      "text/plain": [
       "[0.8937145920123148,\n",
       " 0.8756548882924237,\n",
       " 0.8542034221709449,\n",
       " 0.8673201256664707,\n",
       " 0.904433367205779,\n",
       " 1.049056392403637]"
      ]
     },
     "execution_count": 64,
     "metadata": {},
     "output_type": "execute_result"
    }
   ],
   "source": [
    "plt.figure()\n",
    "lw = 2\n",
    "plt.plot(ds, tr_err, color='darkorange', lw=lw, label='train' )\n",
    "plt.plot(ds, te_err, color='navy', lw=lw, label='test')\n",
    "plt.ylim([0.3,1.3])\n",
    "plt.xlabel('depth')\n",
    "plt.ylabel('RMSE')\n",
    "plt.title('Trees on Netflix')\n",
    "plt.legend(loc=\"upper left\")\n",
    "plt.show() \n",
    "te_err"
   ]
  },
  {
   "cell_type": "markdown",
   "metadata": {
    "slideshow": {
     "slide_type": "slide"
    }
   },
   "source": [
    "# Defining a decision tree algorithm\n",
    "\n",
    "### There are three main aspects to designing a decision tree algorithm for classification or regression:\n",
    "\n",
    "1. How do we choose a split at each node of the tree?\n",
    "2. How do we decide when to stop splitting?\n",
    "3. How do we fit a value $\\hat{y}$ for each terminal node (*leaf*)?\n",
    "\n",
    "### Some well known decision tree algorithms: \n",
    "\n",
    "#### ID3, C4.5, C5.0: for classification only, invented in the CS/machine learning community\n",
    "\n",
    "#### Classification and regression trees (CART): invented in the statistics community\n",
    "\n",
    "### We are going to mostly describe CART, which is the basis for modern methods we discuss later"
   ]
  },
  {
   "cell_type": "markdown",
   "metadata": {
    "slideshow": {
     "slide_type": "slide"
    }
   },
   "source": [
    "# CART for regression: splitting process\n",
    "\n",
    "### Criterion: Minimize RSS on training. \n",
    "\n",
    "### Given set of $r$ observation in current node, define for a variable $j$ and possible split point $s$: \n",
    "$$ L(j,s) = \\{i\\leq r: x_{ij} \\leq s\\}\\;,\\;\\; R(j,s) = \\{i\\leq r: x_{ij} > s\\}$$\n",
    "$$ \\bar{y}_L =\\frac{\\sum_{i \\in L(j,s)} y_i}{|L(j,s)|}\\;,\\; \\bar{y}_R=\\frac{\\sum_{i \\in R(j,s)} y_i}{|R(j,s)|}$$\n",
    "$$ RSS(j,s) = \\sum_{i \\in L(j,s)} (y_i - \\bar{y}_L)^2 + \\sum_{i \\in R(j,s)} (y_i - \\bar{y}_R)^2$$\n",
    "\n",
    "### And find the pair $j,s$ which minimize this RSS among all possible pairs --- this is the split we do\n",
    "\n",
    "### Split the node into two according to the chosen split and continue\n"
   ]
  },
  {
   "cell_type": "markdown",
   "metadata": {
    "slideshow": {
     "slide_type": "slide"
    }
   },
   "source": [
    "# CART for regression: fits at leaves\n",
    "\n",
    "### Similar to OLS, we think we want to estimate $\\hat{y}(x) \\approx E(y|x)$ \n",
    "\n",
    "### We interpret the splitting as finding *homogeneous areas* with similar $y$ values in our data, hence hopefully similar $E(y|x).$\n",
    "\n",
    "### Consequently, given a leaf (terminal node) with set of observations $Q \\in \\{1,...,n\\}$, we estimate: \n",
    "\n",
    "$$ \\hat{y} = \\bar{y}_Q = \\frac{\\sum_{i \\in Q} y_i}{|Q|}$$"
   ]
  },
  {
   "cell_type": "markdown",
   "metadata": {
    "slideshow": {
     "slide_type": "slide"
    }
   },
   "source": [
    "# CART for regression: stopping criteria\n",
    "\n",
    "### Why limit tree size? Overfitting, computation,...\n",
    "\n",
    "### In the examples above: *max_depth* of tree\n",
    "\n",
    "### Other options: size of nodes not too small, improvement in RSS not too small,...\n",
    "\n",
    "### Interesting approach of CART: grow a very big tree and *prune* it to smaller tree using test set performance (actually cross-validation, which we have not discussed)"
   ]
  },
  {
   "cell_type": "markdown",
   "metadata": {
    "slideshow": {
     "slide_type": "slide"
    }
   },
   "source": [
    "# CART and others for classification\n",
    "\n",
    "### various splitting criteria: Gini, information gain, log-likelihood, all give similar trees\n",
    "\n",
    "### Not a good idea: using misclassification rate as splitting criterion\n",
    "\n",
    "### Fits at leaves: usually empirical % of classes (or majority if need hard classification)\n",
    "\n",
    "### Stopping criteria: similar ideas to regression\n"
   ]
  },
  {
   "cell_type": "markdown",
   "metadata": {
    "slideshow": {
     "slide_type": "slide"
    }
   },
   "source": [
    "## Important properties of trees for real-life data: 1. categoraical features\n",
    "\n",
    "### Real life data often includes categorical features that have many values but are important for prediction, like: \n",
    "1. City of residence\n",
    "2. University/department\n",
    "3. Customer class\n",
    "\n",
    "### CART always does binary splits. For a categorical variable with $K$ values $\\cal G = \\{g_1,...,g_K\\}$  it divides $\\cal G$ into two groups $\\cal G_1, \\cal G_2$ so that:\n",
    "$$L(j) = \\{i : x_{ij} \\in \\cal G_1\\}\\;,\\;\\;R(j) = \\{i : x_{ij} \\in \\cal G_1\\}.$$\n",
    "\n",
    "### C4.5/C5.0 do multi-way non-binary splits\n",
    "\n",
    "### Presents intersting computational and statistical challenges\n"
   ]
  },
  {
   "cell_type": "markdown",
   "metadata": {
    "slideshow": {
     "slide_type": "slide"
    }
   },
   "source": [
    "## Important properties of trees for real-life data: 2. missing data\n",
    "\n",
    "### Many methods struggle dealing with missing data, trees have nice solutions\n",
    "\n",
    "### Solution 1 (C4.5): if I want to split on feature $j$ and I don't know $x_{ij}$, send observation $i$ both left and right\n",
    "\n",
    "### Solution 2 (CART): in addition to the split I want to do, find similar *surrogate splits* on other variables, and if I don't see $x_{ij}$ I can use surrogate split on $x_{ik}$"
   ]
  },
  {
   "cell_type": "markdown",
   "metadata": {
    "slideshow": {
     "slide_type": "slide"
    }
   },
   "source": [
    "# Summary: trees\n",
    "\n",
    "### Advantages: \n",
    "1. Intuitive and appealing: divide the space into *flexible* neighborhoods\n",
    "2. Flexible: categorical variables, missing data, regression or classification, big or small,...\n",
    "3. Big trees are a very rich class of models: can describe well many true models for $E(y|x)$\n",
    "\n",
    "### Disadvantages: \n",
    "1. Intuitive appeal is misleading: very unstable and high variance \n",
    "2. Not a good prediction model: a single tree is usually not competitive!\n",
    "\n",
    "### Conclusions and next steps: \n",
    "1. We do not really want to use trees as our prediction models\n",
    "2. Can we take advantage of their good properties and mitigate the problems? "
   ]
  },
  {
   "cell_type": "markdown",
   "metadata": {
    "slideshow": {
     "slide_type": "slide"
    }
   },
   "source": [
    "# Ensemble methods: using trees as subroutines\n",
    "\n",
    "### Instead of a single tree being a model, combine many trees into a model: \n",
    "1. Bagging and Random Forest: Fit different trees to the data and average them\n",
    "2. Boosting: Adaptively build a model from adding more and more trees\n",
    "\n",
    "### We will focus now on Random Forest (also Bagging), later discuss boosting\n",
    "\n",
    "### Main idea of Random Forest: Take advantage of the instability and high variance of the trees\n",
    "\n",
    "### Trees are unstable and greedy: if we change the data a little bit, the tree can change a lot\n",
    "\n",
    "### Now we intentionally change (randomize) the data to get a different tree every time, and average them\n"
   ]
  },
  {
   "cell_type": "markdown",
   "metadata": {
    "slideshow": {
     "slide_type": "slide"
    }
   },
   "source": [
    "# Reminder: the value of averaging\n",
    "\n",
    "### This is captured through different things we learned: CLT, LLN, variance of the average...\n",
    "\n",
    "### Assume $z_i \\sim F$ has some distribution with mean $\\mu$ and variance $\\sigma^2$. If $z_1,...,z_m \\sim F$ are independent, then $ Var(\\bar{z}) = \\sigma^2 / m,$  so $\\bar{z}$ is close to $\\mu$ for large $m$ \n",
    "\n",
    "### Slightly more complex setting: assume $z_1,...,z_m$ are *somewhat* dependent $Cov(z_i,z_j) = \\rho \\sigma^2,\\;\\rho<1$\n",
    "\n",
    "### Now we still get some variance reduction from averaging: \n",
    "$$Var(\\bar{z}) \\approx \\rho\\sigma^2 + (1-\\rho)\\sigma^2/ m$$\n",
    "\n",
    "### This is exactly the intuition behind Random Forest: "
   ]
  },
  {
   "cell_type": "markdown",
   "metadata": {
    "slideshow": {
     "slide_type": "slide"
    }
   },
   "source": [
    "# Random forest algorithm\n",
    "\n",
    "### Repeat many times: \n",
    "1. Randomize the data (by taking a subsample or a **bootstrap** sample)\n",
    "2. Build a tree on the randomized data, also randomize tree building (e.g. by randomly choosing variables to consider at each node)\n",
    "\n",
    "### To predict at new $x_0$, apply each tree and average their predictions\n",
    "\n",
    "### Bagging applies only step 1 above (randomize data) and not step 2 (randomize the splitting decisions)\n",
    "\n",
    "### Intuition: trees are different because of randomization, they are like $z_1,...z_n \\sim P(y|x_0)$\n",
    "1. Related ($\\rho >0$) because it's the same training set $T$\n",
    "2. Still different from each other ($\\rho<1$ because of randomization and instability of trees\n",
    "\n",
    "### Hence we expect (and indeed see!) that Random Forest gives more accurate predictions of $E(y|x)$ or $P(y=1|x)$ than single trees\n"
   ]
  },
  {
   "cell_type": "code",
   "execution_count": 65,
   "metadata": {
    "slideshow": {
     "slide_type": "slide"
    }
   },
   "outputs": [],
   "source": [
    "from sklearn import ensemble\n",
    "ntr = Ne_Xtr.shape[0]\n",
    "nte = Ne_Xte.shape[0]\n",
    "tr_err = []\n",
    "te_err = []\n",
    "ntrees = [1,10,50,100,500,1000]\n",
    "for ntree in ntrees: \n",
    "    RF = ensemble.RandomForestRegressor(n_estimators=ntree, min_samples_split=2, min_samples_leaf=1, max_features=0.33,  bootstrap=True)\n",
    "    RF = RF.fit(Ne_Xtr[:,:14], Ne_Ytr)\n",
    "    yhat_tr = RF.predict(Ne_Xtr[:,:14])\n",
    "    yhat = RF.predict(Ne_Xte[:,:14])\n",
    "    tr_err.append(math.sqrt(np.sum((yhat_tr-Ne_Ytr)**2)/ntr))\n",
    "    te_err.append(math.sqrt(np.sum((yhat-Ne_Yte)**2)/nte))"
   ]
  },
  {
   "cell_type": "code",
   "execution_count": 66,
   "metadata": {
    "slideshow": {
     "slide_type": "slide"
    }
   },
   "outputs": [
    {
     "data": {
      "image/png": "[encoded data removed]",
      "text/plain": [
       "<Figure size 432x288 with 1 Axes>"
      ]
     },
     "metadata": {
      "needs_background": "light"
     },
     "output_type": "display_data"
    },
    {
     "data": {
      "text/plain": [
       "[1.1500505115047537,\n",
       " 0.8854106626312601,\n",
       " 0.8608213050990714,\n",
       " 0.8552565641811191,\n",
       " 0.8533703566542181,\n",
       " 0.8526231195012078]"
      ]
     },
     "execution_count": 66,
     "metadata": {},
     "output_type": "execute_result"
    }
   ],
   "source": [
    "fig = plt.figure()\n",
    "ax = fig.add_subplot(1,1,1)\n",
    "ax.set_xscale('log')\n",
    "lw = 2\n",
    "plt.plot(ntrees, tr_err, color='darkorange', lw=lw, label='train' )\n",
    "plt.plot(ntrees, te_err, color='navy', lw=lw, label='test')\n",
    "plt.ylim([0.3,1.3])\n",
    "plt.xlabel('Number trees')\n",
    "plt.ylabel('RMSE')\n",
    "plt.title('RF on Netflix')\n",
    "plt.legend(loc=\"upper right\")\n",
    "plt.show() \n",
    "\n",
    "te_err"
   ]
  },
  {
   "cell_type": "markdown",
   "metadata": {
    "slideshow": {
     "slide_type": "slide"
    }
   },
   "source": [
    "# Let's try it bravely on the full 99 dimensions!"
   ]
  },
  {
   "cell_type": "code",
   "execution_count": null,
   "metadata": {
    "slideshow": {
     "slide_type": "-"
    }
   },
   "outputs": [],
   "source": [
    "Ne_Xtr_noNAN = Ne_Xtr\n",
    "Ne_Xtr_noNAN[np.isnan(Ne_Xtr_noNAN)]=0\n",
    "Ne_Xte_noNAN = Ne_Xte\n",
    "Ne_Xte_noNAN[np.isnan(Ne_Xte_noNAN)]=0"
   ]
  },
  {
   "cell_type": "code",
   "execution_count": 60,
   "metadata": {
    "slideshow": {
     "slide_type": "skip"
    }
   },
   "outputs": [
    {
     "data": {
      "image/png": "[encoded data removed]",
      "text/plain": [
       "<Figure size 432x288 with 1 Axes>"
      ]
     },
     "metadata": {
      "needs_background": "light"
     },
     "output_type": "display_data"
    },
    {
     "data": {
      "text/plain": [
       "[0.8810564156751207,\n",
       " 0.8520412825903552,\n",
       " 0.8240262269870388,\n",
       " 0.8519709291892043,\n",
       " 0.9515991049566812,\n",
       " 1.1029870673381963]"
      ]
     },
     "execution_count": 60,
     "metadata": {},
     "output_type": "execute_result"
    }
   ],
   "source": [
    "# Regular trees: \n",
    "tr_err = []\n",
    "te_err = []\n",
    "ds = [2,3,5,7,10,15]\n",
    "for depth in ds:\n",
    "    Netree = tree.DecisionTreeRegressor(max_depth=depth)\n",
    "    Netree = Netree.fit(Ne_Xtr_noNAN, Ne_Ytr)\n",
    "    yhat_tr = Netree.predict(Ne_Xtr_noNAN)\n",
    "    yhat = Netree.predict(Ne_Xte_noNAN)\n",
    "    tr_err.append(math.sqrt(np.sum((yhat_tr-Ne_Ytr)**2)/ntr))\n",
    "    te_err.append(math.sqrt(np.sum((yhat-Ne_Yte)**2)/nte))\n",
    "\n",
    "\n",
    "plt.figure()\n",
    "lw = 2\n",
    "plt.plot(ds, tr_err, color='darkorange', lw=lw, label='train' )\n",
    "plt.plot(ds, te_err, color='navy', lw=lw, label='test')\n",
    "plt.ylim([0.3,1.3])\n",
    "plt.xlabel('depth')\n",
    "plt.ylabel('RMSE')\n",
    "plt.title('Trees on Netflix')\n",
    "plt.legend(loc=\"upper left\")\n",
    "plt.show() \n",
    "\n",
    "te_err\n"
   ]
  },
  {
   "cell_type": "code",
   "execution_count": 61,
   "metadata": {
    "slideshow": {
     "slide_type": "skip"
    }
   },
   "outputs": [
    {
     "data": {
      "image/png": "[encoded data removed]",
      "text/plain": [
       "<Figure size 432x288 with 1 Axes>"
      ]
     },
     "metadata": {
      "needs_background": "light"
     },
     "output_type": "display_data"
    },
    {
     "data": {
      "text/plain": [
       "[1.093460557760979,\n",
       " 0.8212518406891537,\n",
       " 0.7851454341973727,\n",
       " 0.7787280658352046,\n",
       " 0.7820367521434105,\n",
       " 0.7807919984867411]"
      ]
     },
     "execution_count": 61,
     "metadata": {},
     "output_type": "execute_result"
    }
   ],
   "source": [
    "# RF: \n",
    "tr_err = []\n",
    "te_err = []\n",
    "ntrees = [1,10,50,100,500,1000]\n",
    "for ntree in ntrees: \n",
    "    RF = ensemble.RandomForestRegressor(n_estimators=ntree, min_samples_split=5, min_samples_leaf=2, max_features=10,  bootstrap=True)\n",
    "    RF = RF.fit(Ne_Xtr_noNAN, Ne_Ytr)\n",
    "    yhat_tr = RF.predict(Ne_Xtr_noNAN)\n",
    "    yhat = RF.predict(Ne_Xte_noNAN)\n",
    "    tr_err.append(math.sqrt(np.sum((yhat_tr-Ne_Ytr)**2)/ntr))\n",
    "    te_err.append(math.sqrt(np.sum((yhat-Ne_Yte)**2)/nte))\n",
    "fig = plt.figure()\n",
    "ax = fig.add_subplot(1,1,1)\n",
    "ax.set_xscale('log')\n",
    "lw = 2\n",
    "plt.plot(ntrees, tr_err, color='darkorange', lw=lw, label='train' )\n",
    "plt.plot(ntrees, te_err, color='navy', lw=lw, label='test')\n",
    "plt.ylim([0.3,1.3])\n",
    "plt.xlabel('Number trees')\n",
    "plt.ylabel('RMSE')\n",
    "plt.title('RF on Netflix --- 99 features')\n",
    "plt.legend(loc=\"upper right\")\n",
    "plt.show() \n",
    "\n",
    "te_err"
   ]
  },
  {
   "cell_type": "code",
   "execution_count": null,
   "metadata": {},
   "outputs": [],
   "source": []
  }
 ],
 "metadata": {
  "celltoolbar": "Slideshow",
  "kernelspec": {
   "display_name": "Python 3",
   "language": "python",
   "name": "python3"
  },
  "language_info": {
   "codemirror_mode": {
    "name": "ipython",
    "version": 3
   },
   "file_extension": ".py",
   "mimetype": "text/x-python",
   "name": "python",
   "nbconvert_exporter": "python",
   "pygments_lexer": "ipython3",
   "version": "3.7.1"
  }
 },
 "nbformat": 4,
 "nbformat_minor": 2
}
