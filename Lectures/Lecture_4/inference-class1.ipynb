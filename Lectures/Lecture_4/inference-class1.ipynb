{
 "cells": [
  {
   "cell_type": "markdown",
   "metadata": {
    "slideshow": {
     "slide_type": "slide"
    }
   },
   "source": [
    "# Introduction to Data Science\n",
    "\n",
    "## Statistical Inference"
   ]
  },
  {
   "cell_type": "code",
   "execution_count": 4,
   "metadata": {
    "slideshow": {
     "slide_type": "skip"
    }
   },
   "outputs": [],
   "source": [
    "import sys\n",
    "import warnings\n",
    "import pandas as pd\n",
    "import numpy as np\n",
    "import matplotlib.pyplot as plt\n",
    "from skimage import transform, color, img_as_ubyte\n",
    "\n",
    "%matplotlib inline"
   ]
  },
  {
   "cell_type": "code",
   "execution_count": 5,
   "metadata": {
    "slideshow": {
     "slide_type": "skip"
    }
   },
   "outputs": [],
   "source": [
    "def check_mem():\n",
    "    # These are the usual ipython objects, including this one you are creating\n",
    "    ipython_vars = ['In', 'Out', 'exit', 'quit', 'get_ipython', 'ipython_vars']\n",
    "\n",
    "    # Get a sorted list of the objects and their sizes\n",
    "    print(sorted([(x, sys.getsizeof(globals().get(x))) for x in globals() if not x.startswith('_') and x not in sys.modules and x not in ipython_vars], key=lambda x: x[1], reverse=True))\n",
    "\n",
    "def get_file_list(df, folder, n_sample = None, seed = None):\n",
    "    if n_sample is None:\n",
    "        file_ids_list = df.file_id.values\n",
    "    else:\n",
    "        file_ids_list = df.sample(n = n_sample, random_state = seed).file_id.values\n",
    "    files_list = [folder + '/' + str(file_id) + '.jpg' for file_id in file_ids_list]\n",
    "    return files_list\n",
    "\n",
    "def read_image_and_resize(f, w = 100, h = 100):\n",
    "    img = plt.imread(f)\n",
    "    img = transform.resize(img, (w, h), mode='constant', anti_aliasing=True)\n",
    "    with warnings.catch_warnings():\n",
    "        warnings.simplefilter(\"ignore\")\n",
    "        img = img_as_ubyte(img)\n",
    "    img = color.gray2rgb(img)\n",
    "    img = img[np.newaxis, :, :, :3]\n",
    "    if img.shape != (1, 100, 100, 3):\n",
    "        raise ValueError(f + str(img.shape))\n",
    "    return img\n",
    "\n",
    "def read_images_4d_array(files_list):\n",
    "    images_list = [read_image_and_resize(file) for file in files_list]\n",
    "    images_array = np.concatenate(images_list)\n",
    "    return images_array\n",
    "\n",
    "def get_images_matrix(csv_file, folder, n = None, seed = 1976):\n",
    "    df = pd.read_csv(csv_file)\n",
    "    files_list = get_file_list(df, folder, n, seed)\n",
    "    images = read_images_4d_array(files_list)\n",
    "    return images\n",
    "\n",
    "def get_all_pixels(x):\n",
    "    return x.reshape(-1, np.prod(x.shape[1:]))\n",
    "\n",
    "def get_final_matrices(n_train = None, n_test = None):\n",
    "    folder = '../../datasets/ebay_boys_girls_shirts/'\n",
    "    x_boys_train = get_images_matrix(folder + 'boys_train.csv', folder + 'boys', n_train)\n",
    "    x_boys_test = get_images_matrix(folder + 'boys_test.csv', folder + 'boys', n_test)\n",
    "    x_girls_train = get_images_matrix(folder + 'girls_train.csv', folder + 'girls', n_train)\n",
    "    x_girls_test = get_images_matrix(folder + 'girls_test.csv', folder + 'girls', n_test)\n",
    "    \n",
    "    x_boys_train_all = get_all_pixels(x_boys_train)\n",
    "    x_boys_test_all = get_all_pixels(x_boys_test)\n",
    "    x_girls_train_all = get_all_pixels(x_girls_train)\n",
    "    x_girls_test_all = get_all_pixels(x_girls_test)\n",
    "\n",
    "    x_train = np.vstack([x_boys_train_all, x_girls_train_all])\n",
    "    x_test = np.vstack([x_boys_test_all, x_girls_test_all])\n",
    "\n",
    "    y_boys_train = np.array([0] * x_boys_train.shape[0])\n",
    "    y_boys_test = np.array([0] * x_boys_test.shape[0])\n",
    "    y_girls_train = np.array([1] * x_girls_train.shape[0])\n",
    "    y_girls_test = np.array([1] * x_girls_test.shape[0])\n",
    "    y_train = np.concatenate([y_boys_train, y_girls_train])\n",
    "    y_test = np.concatenate([y_boys_test, y_girls_test])\n",
    "    \n",
    "    return x_train, x_test, y_train, y_test"
   ]
  },
  {
   "cell_type": "markdown",
   "metadata": {
    "slideshow": {
     "slide_type": "slide"
    }
   },
   "source": [
    "## Basic idea of statistical inference<br><br>\n",
    "\n",
    "### $  {\\Large \\mbox{(Distribution/World)}\\;\\;\\;\\;\\;\\;F} \\left. \\begin{array}{c} \\stackrel{\\mbox{Sampling}}{\\large \\longrightarrow} \\\\\n",
    "\\stackrel{\\mbox{Inference}}{\\large \\longleftarrow}\\end{array} \\right. {\\Large X\\;\\;\\;\\;\\;\\mbox{  (Data) }} $\n",
    "\n",
    "### The *world* is something we want to learn about: \n",
    "1. Do girls' shirts have more red than boys' shirts?\n",
    "2. Which candidate has more support in the population? \n",
    "\n",
    "### We are given a *sample* of data $X$ and want to use it to learn about the population\n",
    "1. 30 boys' shirts and 20 girls' shirts\n",
    "2. An election survey \n"
   ]
  },
  {
   "cell_type": "markdown",
   "metadata": {
    "slideshow": {
     "slide_type": "slide"
    }
   },
   "source": [
    "## Hypothesis testing\n",
    "\n",
    "### We have a *null* world we believe in unless convinced otherwise: \n",
    "1. There is no difference in red level between girls' and boys'\n",
    "2. The candidates have equal support\n",
    "\n",
    "### We want to use the sample to determine whether to reject the null:\n",
    "1. Does the sample contain **clear evidence** of more red in girls? \n",
    "2. Does the sample **convincingly indicates** that candidate 1 has higher support? \n",
    "\n",
    "### This is often indicated through the p-value, which *calculates* how consistent our data is with the null hypothesis\n",
    "### Formaly, the p-value measures how *surprising* the data we see is, if the null holds"
   ]
  },
  {
   "cell_type": "markdown",
   "metadata": {
    "slideshow": {
     "slide_type": "slide"
    }
   },
   "source": [
    "## Conceptual example: Criminal trial\n",
    "\n",
    "### In a criminal trial, suspects get convicted only if their guilt proven *beyond reasonable doubt* \n",
    "### This is a hypothesis test with null hypothesis: the suspect is innocent\n",
    "### Data: the evidence the sides bring in trial\n",
    "### Beyond reasonable doubt: the evidence is not consistent with the null of innocence\n",
    "### Difference: the decision is based on the judge's intuition, whereas formal hypothesis testing is based on calculating probabilities\n",
    "\n"
   ]
  },
  {
   "cell_type": "markdown",
   "metadata": {
    "slideshow": {
     "slide_type": "slide"
    }
   },
   "source": [
    "## Red shirts example\n",
    "\n",
    "### We want to examine whether there is more red in girls' shirts vs boys' shirts on Ebay\n",
    "\n",
    "### The \"world\" is the 20K images we have: 10K boys, 10K girls\n",
    "\n",
    "### Imagine we can't check all of them, but can only sample a few of each kind and see the difference\n",
    "\n",
    "### Our challenge: to determine if it is *convincing* evidence that girls' shirts are redder overall\n",
    "\n",
    "### Use hypothesis testing approach\n"
   ]
  },
  {
   "cell_type": "code",
   "execution_count": 7,
   "metadata": {
    "slideshow": {
     "slide_type": "slide"
    }
   },
   "outputs": [
    {
     "name": "stdout",
     "output_type": "stream",
     "text": [
      "[206.6873 142.7775 200.6834 221.9937 176.6418  50.4814 160.1469 121.421\n",
      " 216.0849 204.6111]\n",
      "[ 38.0923 179.1978 216.0276 224.2833 129.7951 113.9222 114.0983 250.197\n",
      " 241.1484 202.9927]\n"
     ]
    }
   ],
   "source": [
    "folder = '../../datasets/ebay_boys_girls_shirts/'\n",
    "\n",
    "# the function get_images_matrix was previously defined\n",
    "boys_sample = get_images_matrix(folder + 'boys_train.csv', folder + 'boys', n = 30, seed = 1976)\n",
    "girls_sample = get_images_matrix(folder + 'girls_train.csv', folder + 'girls', n = 30, seed = 1976)\n",
    "\n",
    "boys_red = boys_sample[:, :, :, 0].mean(axis = (1, 2))\n",
    "girls_red = girls_sample[:, :, :, 0].mean(axis = (1, 2))\n",
    "\n",
    "print(boys_red[:10])\n",
    "print(girls_red[:10])"
   ]
  },
  {
   "cell_type": "code",
   "execution_count": 5,
   "metadata": {
    "slideshow": {
     "slide_type": "-"
    }
   },
   "outputs": [
    {
     "name": "stdout",
     "output_type": "stream",
     "text": [
      "Boys shirts mean red value: 165.42\n",
      "Girls shirts mean red value: 181.39\n",
      "Means difference:  15.97\n"
     ]
    }
   ],
   "source": [
    "print(f'Boys shirts mean red value: {boys_red.mean():.2f}')\n",
    "print(f'Girls shirts mean red value: {girls_red.mean():.2f}')\n",
    "print(f'Means difference: {girls_red.mean() - boys_red.mean(): .2f}')"
   ]
  },
  {
   "cell_type": "markdown",
   "metadata": {
    "slideshow": {
     "slide_type": "-"
    }
   },
   "source": [
    "It looks as you expected, girls average red pixel is higher by about 16 points, but if you do it again, results would be different, wouldn't they?"
   ]
  },
  {
   "cell_type": "code",
   "execution_count": 11,
   "metadata": {
    "slideshow": {
     "slide_type": "slide"
    }
   },
   "outputs": [
    {
     "name": "stdout",
     "output_type": "stream",
     "text": [
      "Boys shirts mean red value: 163.45\n",
      "Girls shirts mean red value: 176.27\n",
      "Means difference:  12.82\n"
     ]
    }
   ],
   "source": [
    "boys_sample2 = get_images_matrix(folder + 'boys_train.csv', folder + 'boys', n = 30, seed = 1979)\n",
    "girls_sample2 = get_images_matrix(folder + 'girls_train.csv', folder + 'girls', n = 30, seed = 1979)\n",
    "\n",
    "boys_red2 = boys_sample2[:, :, :, 0].mean(axis = (1, 2))\n",
    "girls_red2 = girls_sample2[:, :, :, 0].mean(axis = (1, 2))\n",
    "\n",
    "print(f'Boys shirts mean red value: {boys_red2.mean():.2f}')\n",
    "print(f'Girls shirts mean red value: {girls_red2.mean():.2f}')\n",
    "print(f'Means difference: {girls_red2.mean() - boys_red2.mean(): .2f}')"
   ]
  },
  {
   "cell_type": "markdown",
   "metadata": {
    "slideshow": {
     "slide_type": "-"
    }
   },
   "source": [
    "Assume sampling is expensive. You have the capacity for 60 shirts of images.\n",
    "\n",
    "How will you know, that the difference you're seeing is of significance? That it will \"stick\"? That what everyone is thinking, the null hypothesis, should be rejected, and your alternative hypothesis is more likely?"
   ]
  },
  {
   "cell_type": "markdown",
   "metadata": {
    "slideshow": {
     "slide_type": "slide"
    }
   },
   "source": [
    "## The Null Distribution\n",
    "\n",
    "### Under the null hypothesis, girls and boys shirts come from the same homogenous population.\n",
    "\n",
    "### To illustrate this we will create an *artificial null* world, made of 20K shirts images in our training dataset. Then we can randomly assign half as girls and half as boys \n",
    "\n",
    "### In this world we *know* that girls' shirts and boys' shirts have about the same amount of red\n"
   ]
  },
  {
   "cell_type": "code",
   "execution_count": 6,
   "metadata": {
    "slideshow": {
     "slide_type": "-"
    }
   },
   "outputs": [
    {
     "name": "stdout",
     "output_type": "stream",
     "text": [
      "(20000,)\n"
     ]
    }
   ],
   "source": [
    "boys_all = get_images_matrix(folder + 'boys_train.csv', folder + 'boys')\n",
    "girls_all = get_images_matrix(folder + 'girls_train.csv', folder + 'girls')\n",
    "\n",
    "boys_red_all = boys_all[:, :, :, 0].mean(axis = (1, 2))\n",
    "girls_red_all = girls_all[:, :, :, 0].mean(axis = (1, 2))\n",
    "population = np.concatenate([boys_red_all, girls_red_all])\n",
    "\n",
    "print(population.shape)"
   ]
  },
  {
   "cell_type": "markdown",
   "metadata": {
    "slideshow": {
     "slide_type": "slide"
    }
   },
   "source": [
    "## The Null Distribution\n",
    "\n",
    "### We can sample two random samples of so-called \"boys\" and so-called \"girls\" to prove to ourselves that the difference between their means should be about zero:"
   ]
  },
  {
   "cell_type": "code",
   "execution_count": 8,
   "metadata": {
    "slideshow": {
     "slide_type": "-"
    }
   },
   "outputs": [
    {
     "name": "stdout",
     "output_type": "stream",
     "text": [
      "Means difference: -2.03\n"
     ]
    }
   ],
   "source": [
    "boys_red_null = np.random.choice(population, 30)\n",
    "girls_red_null = np.random.choice(population, 30)\n",
    "print(f'Means difference: {girls_red_null.mean() - boys_red_null.mean(): .2f}')"
   ]
  },
  {
   "cell_type": "markdown",
   "metadata": {
    "slideshow": {
     "slide_type": "-"
    }
   },
   "source": [
    "### We got a mean difference which is different than zero, *by random*. And again:"
   ]
  },
  {
   "cell_type": "code",
   "execution_count": 9,
   "metadata": {
    "slideshow": {
     "slide_type": "-"
    }
   },
   "outputs": [
    {
     "name": "stdout",
     "output_type": "stream",
     "text": [
      "Means difference: -4.26\n",
      "Means difference:  6.19\n"
     ]
    }
   ],
   "source": [
    "boys_red_null = np.random.choice(population, 30)\n",
    "girls_red_null = np.random.choice(population, 30)\n",
    "print(f'Means difference: {girls_red_null.mean() - boys_red_null.mean(): .2f}')\n",
    "\n",
    "boys_red_null = np.random.choice(population, 30)\n",
    "girls_red_null = np.random.choice(population, 30)\n",
    "print(f'Means difference: {girls_red_null.mean() - boys_red_null.mean(): .2f}')"
   ]
  },
  {
   "cell_type": "markdown",
   "metadata": {
    "slideshow": {
     "slide_type": "slide"
    }
   },
   "source": [
    "## The Null Dsitribution\n",
    "\n",
    "We want to know how is *our* original average difference of about 16 points is in comparison to these **null** average differences between groups coming from the same population. So we'll make a lot of the them and look at their distribution, the Null Distribution of the means difference:"
   ]
  },
  {
   "cell_type": "code",
   "execution_count": 10,
   "metadata": {
    "slideshow": {
     "slide_type": "-"
    }
   },
   "outputs": [
    {
     "name": "stdout",
     "output_type": "stream",
     "text": [
      "Max null mean diff:  42.03\n",
      "Min null mean diff: -50.54\n"
     ]
    }
   ],
   "source": [
    "def sample_null_mean_diff(n = 30):\n",
    "    boys_red_null = np.random.choice(population, n)\n",
    "    girls_red_null = np.random.choice(population, n)\n",
    "    return girls_red_null.mean() - boys_red_null.mean()\n",
    "null_mean_diffs = np.array([sample_null_mean_diff() for i in range(10000)])\n",
    "\n",
    "print(f'Max null mean diff: {max(null_mean_diffs): .2f}')\n",
    "print(f'Min null mean diff: {min(null_mean_diffs): .2f}')"
   ]
  },
  {
   "cell_type": "markdown",
   "metadata": {
    "slideshow": {
     "slide_type": "-"
    }
   },
   "source": [
    "We can see that the max null mean differences is actually much higher than our original 16 points. So at random, when there is *no difference*, you can get mean differences of over 30 or 40!\n",
    "\n",
    "Let's look at the Null Distirbution histogram:"
   ]
  },
  {
   "cell_type": "code",
   "execution_count": 14,
   "metadata": {
    "slideshow": {
     "slide_type": "slide"
    }
   },
   "outputs": [
    {
     "data": {
      "image/png": "[encoded data removed]",
      "text/plain": [
       "<Figure size 432x288 with 1 Axes>"
      ]
     },
     "metadata": {
      "needs_background": "light"
     },
     "output_type": "display_data"
    }
   ],
   "source": [
    "fig, ax = plt.subplots()\n",
    "\n",
    "N, bins, patches = ax.hist(null_mean_diffs, bins=np.arange(-48, 48, 4))\n",
    "for i in range(0, 16):\n",
    "    patches[i].set_facecolor('blue')\n",
    "for i in range(16, len(patches)):\n",
    "    patches[i].set_facecolor('red')\n",
    "\n",
    "plt.show()"
   ]
  },
  {
   "cell_type": "markdown",
   "metadata": {
    "slideshow": {
     "slide_type": "-"
    }
   },
   "source": [
    "It seems like our original value of 16 points difference is not that extreme. There's a measure for that:"
   ]
  },
  {
   "cell_type": "markdown",
   "metadata": {
    "slideshow": {
     "slide_type": "slide"
    }
   },
   "source": [
    "## P-Value\n",
    "\n",
    "How extreme is our original 16 points result?\n",
    "\n",
    "What is the probability under the Null Distribution, where there is no difference between \"boys\" and \"girls\", of getting 16 or higher?"
   ]
  },
  {
   "cell_type": "code",
   "execution_count": 17,
   "metadata": {
    "slideshow": {
     "slide_type": "-"
    }
   },
   "outputs": [
    {
     "name": "stdout",
     "output_type": "stream",
     "text": [
      "P(mean_diff >= 16 | H0) =  0.09\n"
     ]
    }
   ],
   "source": [
    "one_sided_p_value = np.mean(null_mean_diffs > 16)\n",
    "print(f'P(mean_diff >= 16 | H0) = {one_sided_p_value: .2f}')"
   ]
  },
  {
   "cell_type": "markdown",
   "metadata": {
    "slideshow": {
     "slide_type": "-"
    }
   },
   "source": [
    "It looks like the chance of getting a difference of 16 points or higher, when there is no difference, is ~9%. Does that convince you that there actually is a difference, that indeed the boys and girls samples came from two different, separate, distributions?\n",
    "\n",
    "It is a standard in both academia and industry to not by persuaded by a p-value larger than a threshold $\\alpha$ of 1% or 5% (a.k.a Type I Error, see later)."
   ]
  },
  {
   "cell_type": "markdown",
   "metadata": {
    "slideshow": {
     "slide_type": "slide"
    }
   },
   "source": [
    "## P-Value\n",
    "\n",
    "If the original alternative hypothesis were \"Girls shirts images red level is *different* than Boys'\", the p-value should have been two sided.\n",
    "\n",
    "Because the probability of getting our original value or \"more extreme\" would have meant \"more extreme in absolute value\":"
   ]
  },
  {
   "cell_type": "code",
   "execution_count": 18,
   "metadata": {
    "slideshow": {
     "slide_type": "-"
    }
   },
   "outputs": [
    {
     "name": "stdout",
     "output_type": "stream",
     "text": [
      "P(|mean_diff| >= 16 | H0) =  0.17\n"
     ]
    }
   ],
   "source": [
    "two_sided_p_value = np.mean(np.abs(null_mean_diffs) > 16)\n",
    "print(f'P(|mean_diff| >= 16 | H0) = {two_sided_p_value: .2f}')"
   ]
  },
  {
   "cell_type": "markdown",
   "metadata": {
    "slideshow": {
     "slide_type": "-"
    }
   },
   "source": [
    "17-18% chance of observing a result like 16 points or more extreme, at random, when there is no difference. 16 points doesn't look convincing.\n",
    "\n",
    "But in real life we only have that one hard-earned sample. We don't have the population. And from here, the rest is mathematical approximation for getting that p-value and other measures, with what we have."
   ]
  }
 ],
 "metadata": {
  "celltoolbar": "Slideshow",
  "kernelspec": {
   "display_name": "Python 3",
   "language": "python",
   "name": "python3"
  },
  "language_info": {
   "codemirror_mode": {
    "name": "ipython",
    "version": 3
   },
   "file_extension": ".py",
   "mimetype": "text/x-python",
   "name": "python",
   "nbconvert_exporter": "python",
   "pygments_lexer": "ipython3",
   "version": "3.7.1"
  }
 },
 "nbformat": 4,
 "nbformat_minor": 2
}
