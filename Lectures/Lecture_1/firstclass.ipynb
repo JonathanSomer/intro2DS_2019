{
 "cells": [
  {
   "cell_type": "markdown",
   "metadata": {
    "slideshow": {
     "slide_type": "slide"
    }
   },
   "source": [
    "# Introduction to Data Science\n",
    "\n",
    "## Prof. [Saharon Rosset](https://www.tau.ac.il/~saharon/)\n",
    "\n",
    "### When: 2018-2019 Sem B., Tue. 16-18\n",
    "\n",
    "### Where: Screiber 007"
   ]
  },
  {
   "cell_type": "markdown",
   "metadata": {
    "slideshow": {
     "slide_type": "slide"
    }
   },
   "source": [
    "# What is Data Science?\n",
    "\n",
    "It is an emerging multi-disciplinary paradigm that deals with collecting, curating, analyzing, understanding, modeling and using data to address real-world problems. \n",
    "\n",
    "![Alt text](images/three.jpg)"
   ]
  },
  {
   "cell_type": "markdown",
   "metadata": {
    "slideshow": {
     "slide_type": "slide"
    }
   },
   "source": [
    "# Components of a data science project\n",
    "\n",
    "### 1. Defining a problem and understanding where the data to address it will come from\n",
    "\n",
    "\n",
    "\n",
    "\n",
    "\n",
    "\n",
    "\n",
    "\n",
    "\n",
    "\n"
   ]
  },
  {
   "cell_type": "markdown",
   "metadata": {
    "slideshow": {
     "slide_type": "subslide"
    }
   },
   "source": [
    "# Components of a data science project\n",
    "\n",
    "### 1. Defining a problem and understanding where the data to address it will come from\n",
    "\n",
    "### 2. Collecting or generating the data\n",
    "\n",
    "- Difference between passive data collection (e.g. downloading from the web) and active collection (e.g. doing surveys)\n",
    "\n",
    "\n",
    "\n",
    "\n",
    "\n",
    "\n",
    "\n",
    "\n",
    "\n"
   ]
  },
  {
   "cell_type": "markdown",
   "metadata": {
    "slideshow": {
     "slide_type": "subslide"
    }
   },
   "source": [
    "# Components of a data science project\n",
    "\n",
    "### 1. Defining a problem and understanding where the data to address it will come from\n",
    "\n",
    "### 2. Collecting or generating the data\n",
    "\n",
    "- Difference between passive data collection (e.g. downloading from the web) and active collection (e.g. doing surveys)\n",
    "\n",
    "### 3. Organizing, undersrtanding and presenting the data\n",
    "\n",
    "- Visualization, mathematical modeling, probabilistic thinking\n",
    "\n",
    "\n",
    "\n",
    "\n",
    "\n",
    "\n",
    "\n"
   ]
  },
  {
   "cell_type": "markdown",
   "metadata": {
    "slideshow": {
     "slide_type": "subslide"
    }
   },
   "source": [
    "# Components of a data science project\n",
    "\n",
    "### 1. Defining a problem and understanding where the data to address it will come from\n",
    "\n",
    "### 2. Collecting or generating the data\n",
    "\n",
    "- Difference between passive data collection (e.g. downloading from the web) and active collection (e.g. doing surveys)\n",
    "\n",
    "### 3. Organizing, undersrtanding and presenting the data\n",
    "\n",
    "- Visualization, mathematical modeling, probabilistic thinking\n",
    "\n",
    "### 4. Analyzing the data\n",
    "- Statistical analysis (answering questions, performing tests)\n",
    "- Building models, predictive modeling\n",
    "\n",
    "\n",
    "\n"
   ]
  },
  {
   "cell_type": "markdown",
   "metadata": {
    "slideshow": {
     "slide_type": "subslide"
    }
   },
   "source": [
    "# Components of a data science project\n",
    "\n",
    "### 1. Defining a problem and understanding where the data to address it will come from\n",
    "\n",
    "### 2. Collecting or generating the data\n",
    "\n",
    "- Difference between passive data collection (e.g. downloading from the web) and active collection (e.g. doing surveys)\n",
    "\n",
    "### 3. Organizing, undersrtanding and presenting the data\n",
    "\n",
    "- Visualization, mathematical modeling, probabilistic thinking\n",
    "\n",
    "### 4. Analyzing the data\n",
    "- Statistical analysis (answering questions, performing tests)\n",
    "- Building models, predictive modeling\n",
    "\n",
    "\n",
    "### 5. Results and conclusions"
   ]
  },
  {
   "cell_type": "markdown",
   "metadata": {
    "slideshow": {
     "slide_type": "slide"
    }
   },
   "source": [
    "# The three paradigms of data science\n",
    "\n",
    "![Alt text](images/three.jpg)\n"
   ]
  },
  {
   "cell_type": "markdown",
   "metadata": {
    "slideshow": {
     "slide_type": "slide"
    }
   },
   "source": [
    "# Example: The Higgs boson search\n",
    "\n",
    "### Problem: finding a new particle\n",
    "- The data will come from a huge particle accelator\n",
    "\n",
    "### Data collection: measuring paricles at different masses\n",
    "\n",
    "### Data organization and understanding: need physicists, big computers, data cleaning, visualization\n",
    "\n",
    "### Data analysis: looking for peaks in particle counts\n",
    "- A statistical testing problem\n",
    "\n",
    "### Results: Nobel prize\n"
   ]
  },
  {
   "cell_type": "markdown",
   "metadata": {
    "slideshow": {
     "slide_type": "slide"
    }
   },
   "source": [
    "## Asbestos and cancer\n",
    "<img src=\"images/cancer.png\" alt=\"drawing\" width=\"400\"/>\n"
   ]
  },
  {
   "cell_type": "markdown",
   "metadata": {
    "collapsed": true,
    "slideshow": {
     "slide_type": "subslide"
    }
   },
   "source": [
    "# Example: Identifying new disease risk factors from medical health records\n",
    "\n",
    "### Data sources:  laboratory tests, doctor visit reports, hospital records, public health statistics, imaging,...\n",
    "\n",
    "### Data cleaning and understanding: dealing with text, images, different databases, different formats\n",
    "\n",
    "### Exploratory analysis and visualization: looking for interesting connections\n",
    "- This is where the Asbestos and cancer connection happened!\n",
    "\n",
    "### Data analysis: test hypotheses and build models\n",
    "- Is the asbestos-cancer connection statsitically siginificant and consistent?\n",
    "- Can we build more complex models of cancer risk given exposures?\n",
    "\n",
    "### Results: affecting health policy\n",
    "- No more asbestos use!"
   ]
  },
  {
   "cell_type": "markdown",
   "metadata": {
    "slideshow": {
     "slide_type": "slide"
    }
   },
   "source": [
    "# Class project: Can we separate girls' shirts from boys' shirts? \n",
    "\n",
    "\n",
    "![Alt text](https://i.ebayimg.com/thumbs/images/g/-KUAAOSwfplb-3j9/s-l225.jpg)\n",
    "![Alt text](https://i.ebayimg.com/thumbs/images/m/mw715uwn43lx39k3ZnvU1UA/s-l225.jpg)\n"
   ]
  },
  {
   "cell_type": "markdown",
   "metadata": {
    "slideshow": {
     "slide_type": "slide"
    }
   },
   "source": [
    "# Getting the data: Crawling and Scraping Amazon.com\n",
    "\n",
    "We want to get from [this](https://il.ebay.com/b/Boys-Short-Sleeve-Sleeve-Tops-T-Shirts-Sizes-4-Up/175521/bn_4278610?rt=nc&LH_ItemCondition=1000&LH_BIN=1&LH_PrefLoc=3&_pgn=1)\n",
    "\n",
    "To this: \n",
    "\n",
    "![Alt text](images/shirts.png)"
   ]
  },
  {
   "cell_type": "markdown",
   "metadata": {
    "slideshow": {
     "slide_type": "slide"
    }
   },
   "source": [
    "# Organizing and cleaning the data\n",
    "\n",
    "### Junk images: \n",
    "<img src=\"images/problem.png\" alt=\"drawing\" width=\"300\"/>\n",
    "\n",
    "### How much storage do we need? \n",
    "For example: $100,000$ images $\\times\\; (1000\\times1000\\times3)$ pixels = $300$ Gb, too much for a course like this"
   ]
  },
  {
   "cell_type": "markdown",
   "metadata": {
    "slideshow": {
     "slide_type": "slide"
    }
   },
   "source": [
    "# Understanding and visualizing the data\n",
    "\n",
    "### R-G-B plots\n",
    "<img src=\"images/rgb.png\" alt=\"drawing\" width=\"400\"/>\n",
    "\n",
    "### What do we learn from the peaks on the boys' histrograms? "
   ]
  },
  {
   "cell_type": "markdown",
   "metadata": {
    "slideshow": {
     "slide_type": "slide"
    }
   },
   "source": [
    "# Building models \n",
    "\n",
    "### Predictive modeling framework\n",
    "- Build models on \"training set\" with known girls-boys division\n",
    "- Apply the models to new data, and see how well they do\n",
    "\n",
    "### Approaches to model building\n",
    "- Traditional: Linear and logistic regression, nearest neighbor methods (\"most similar image\")\n",
    "- Modern: Deep learning (Convolutional Neural Nets), Boosting\n",
    "\n",
    "### Example: simplistic logistic regression\n",
    "\n",
    "Fitting a logistic model to color averages gives: \n",
    "\n",
    "* Predict 'girl' if $-0.6 + 0.01*red-0.01*green > 0$\n",
    "\n",
    "Accuracy of this model: 56%"
   ]
  },
  {
   "cell_type": "markdown",
   "metadata": {
    "slideshow": {
     "slide_type": "subslide"
    }
   },
   "source": [
    "# How accurate can we get?\n",
    "\n",
    "Our goal in this course will be to build a model with 85% accuracy on fresh test data! \n",
    "\n",
    "Can you tell whether the following are girls or boys shirts?\n",
    "<img src=\"images/hard.png\" alt=\"drawing\" width=\"1000\"/>\n",
    "\n"
   ]
  },
  {
   "cell_type": "markdown",
   "metadata": {
    "slideshow": {
     "slide_type": "subslide"
    }
   },
   "source": [
    "# Solution: \n",
    "<img src=\"images/hard-sol.png\" alt=\"drawing\" width=\"1000\"/>"
   ]
  },
  {
   "cell_type": "markdown",
   "metadata": {
    "slideshow": {
     "slide_type": "slide"
    }
   },
   "source": [
    "# Course details\n",
    "\n",
    "\n",
    "## Philosophy: \n",
    "\n",
    "### Cover all aspects and stages of data science\n",
    "\n",
    "### Combine programming, visualization, probabilistic thinking and statistical modeling\n",
    "\n",
    "\n",
    "## Required background:\n",
    "\n",
    "### Some programming experience\n",
    "\n",
    "### A course in (Introduction to) Probability\n",
    "\n",
    "### A course in Calculus: integration, differentiation, finding extrema of functions\n",
    "\n",
    "### A course in Algebra: matrices, vectors, how to do calculations with them\n",
    "\n",
    "### Important topic: Matrix factorization (singular value/eigen decomposition), we will review it\n",
    "\n",
    "\n"
   ]
  },
  {
   "cell_type": "markdown",
   "metadata": {
    "slideshow": {
     "slide_type": "slide"
    }
   },
   "source": [
    "# Course details (ctd.)\n",
    "\n",
    "\n",
    "## Environment: \n",
    "\n",
    "### Our programming will be done in Python, using Notebooks\n",
    "\n",
    "### Using Azure Notebooks through a browser -- you do not need to install anything on your computer\n",
    "\n",
    "### Alternative: Using Jupyter notebooks for those who have them\n",
    "\n",
    "\n",
    "## Homework and grading: \n",
    "\n",
    "### Homework every week\n",
    "\n",
    "### Each student submits individually\n",
    "\n",
    "### Detailed submission instructions are given in recitations\n",
    "\n",
    "### Required submission: 2/3 of homeworks (around 10)\n",
    "\n",
    "### Will account for 30% of final grade\n",
    "\n"
   ]
  },
  {
   "cell_type": "markdown",
   "metadata": {
    "slideshow": {
     "slide_type": "slide"
    }
   },
   "source": [
    "# Supporting materials: \n",
    "\n"
   ]
  }
 ],
 "metadata": {
  "celltoolbar": "Slideshow",
  "kernelspec": {
   "display_name": "Python 3",
   "language": "python",
   "name": "python3"
  },
  "language_info": {
   "codemirror_mode": {
    "name": "ipython",
    "version": 3
   },
   "file_extension": ".py",
   "mimetype": "text/x-python",
   "name": "python",
   "nbconvert_exporter": "python",
   "pygments_lexer": "ipython3",
   "version": "3.7.1"
  }
 },
 "nbformat": 4,
 "nbformat_minor": 1
}
