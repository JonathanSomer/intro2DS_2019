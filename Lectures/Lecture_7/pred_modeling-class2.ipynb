{
 "cells": [
  {
   "cell_type": "markdown",
   "metadata": {
    "slideshow": {
     "slide_type": "slide"
    }
   },
   "source": [
    "# OLS Regression - continued"
   ]
  },
  {
   "cell_type": "markdown",
   "metadata": {
    "slideshow": {
     "slide_type": "slide"
    }
   },
   "source": [
    "# A statistical model for inference \n",
    "\n",
    "### So far we did not assume any specific *true* relationship between $y$ and $x$\n",
    "\n",
    "### Let us now *assume* the following model: \n",
    "$$ y = \\beta_0 + \\beta_1 x_1 + \\ldots + \\beta_p x_p + \\epsilon,\\;\\;\\epsilon \\sim N(0,\\sigma^2),\\;\\;\\;\\;\\Rightarrow\\;\\; y|x \\sim N (x^T\\beta, \\sigma^2).$$\n",
    "1. $E(y|x) = x^T\\beta$ is a linear function of $x$\n",
    "2. The error $(y-E(y|x))$ has a normal distribution and is independent for each observation\n",
    "\n",
    "### If this assumption holds, we can investigate the distribution of $\\hat{\\beta}$ and use that to do inference on the model\n"
   ]
  },
  {
   "cell_type": "markdown",
   "metadata": {
    "slideshow": {
     "slide_type": "subslide"
    }
   },
   "source": [
    "# Distribution of the OLS solution under the model assumptions:  \n",
    "\n",
    "### What we know: \n",
    "$$  (a)\\; E(Y) = X\\beta,\\;\\;\\;\\; (b)\\; Cov(Y) = \\sigma^2 I_n ,\\;\\;\\;\\;(c)\\; \\hat{\\beta} = (X^TX)^{-1} X^T Y$$\n",
    "\n",
    "### Mean: \n",
    "$$E(\\hat{\\beta}) \\stackrel{(c)}{=} (X^TX)^{-1} X^T E(Y) \\stackrel{(a)}{=} (X^TX)^{-1} X^T X\\beta = \\beta.$$\n",
    "\n",
    "### Covariance matrix: \n",
    "$$ Cov(\\hat{\\beta}) \\stackrel{(c)}{=} (X^TX)^{-1} X^T Cov(Y) X (X^TX)^{-1} \\stackrel{(b)}{=} \\sigma^2 (X^TX)^{-1} (X^T X) (X^TX)^{-1} = \\sigma^2 (X^TX)^{-1}.$$\n"
   ]
  },
  {
   "cell_type": "markdown",
   "metadata": {
    "slideshow": {
     "slide_type": "slide"
    }
   },
   "source": [
    "# Statistical inference\n",
    "\n",
    "### From the previous formulas we conclude: $ \\hat{\\beta}_j \\sim N(\\beta_j, \\sigma^2 (X^TX)^{-1}_{j,j}).$\n",
    "\n",
    "### Recall that our second goal (beyond prediction) was *inference*: which variables are important?  \n",
    "\n",
    "### Now we can formalize this as a hypothesis test: for each variable $j$, test the null $H_{0j}: \\beta_j = 0.$\n",
    "\n",
    "### If $H_{0j}$ holds, then $ \\hat{\\beta}_j \\sim N(0, \\sigma^2 (X^TX)^{-1}_{j,j}).$\n",
    "\n",
    "### Assuming $\\sigma^2$ is known, this leads to a simple $Z$-test as we studied\n",
    "\n",
    "### Since $\\sigma^2$ is not known, we need to estimate it and get a $T$-test instead (details omitted). "
   ]
  },
  {
   "cell_type": "markdown",
   "metadata": {
    "slideshow": {
     "slide_type": "slide"
    }
   },
   "source": [
    "# Back to the 14-movies model, now with the inference: "
   ]
  },
  {
   "cell_type": "code",
   "execution_count": 154,
   "metadata": {},
   "outputs": [
    {
     "name": "stdout",
     "output_type": "stream",
     "text": [
      "                            OLS Regression Results                            \n",
      "==============================================================================\n",
      "Dep. Variable:                      y   R-squared:                       0.276\n",
      "Model:                            OLS   Adj. R-squared:                  0.275\n",
      "Method:                 Least Squares   F-statistic:                     217.7\n",
      "Date:                Tue, 30 Apr 2019   Prob (F-statistic):               0.00\n",
      "Time:                        09:49:26   Log-Likelihood:                -9690.2\n",
      "No. Observations:                8000   AIC:                         1.941e+04\n",
      "Df Residuals:                    7985   BIC:                         1.952e+04\n",
      "Df Model:                          14                                         \n",
      "Covariance Type:            nonrobust                                         \n",
      "==========================================================================================================================\n",
      "                                                             coef    std err          t      P>|t|      [0.025      0.975]\n",
      "--------------------------------------------------------------------------------------------------------------------------\n",
      "constant                                                   0.4096      0.090      4.562      0.000       0.234       0.586\n",
      "Independence Day                                           0.0607      0.013      4.581      0.000       0.035       0.087\n",
      "The Patriot                                               -0.0187      0.012     -1.608      0.108      -0.041       0.004\n",
      "The Day After Tomorrow                                     0.0344      0.011      3.160      0.002       0.013       0.056\n",
      "Pirates of the Caribbean: The Curse of the Black Pearl     0.0610      0.012      5.104      0.000       0.038       0.084\n",
      "Pretty Woman                                               0.1578      0.012     13.657      0.000       0.135       0.180\n",
      "Forrest Gump                                              -0.0621      0.013     -4.664      0.000      -0.088      -0.036\n",
      "The Green Mile                                             0.0281      0.013      2.087      0.037       0.002       0.055\n",
      "Con Air                                                    0.0659      0.012      5.405      0.000       0.042       0.090\n",
      "Twister                                                    0.0988      0.012      8.358      0.000       0.076       0.122\n",
      "Sweet Home Alabama                                         0.2304      0.011     21.171      0.000       0.209       0.252\n",
      "Pearl Harbor                                               0.0401      0.010      3.839      0.000       0.020       0.061\n",
      "Armageddon                                                 0.0135      0.013      1.054      0.292      -0.012       0.039\n",
      "The Rock                                                  -0.0085      0.013     -0.662      0.508      -0.034       0.017\n",
      "What Women Want                                            0.1406      0.011     12.258      0.000       0.118       0.163\n",
      "==============================================================================\n",
      "Omnibus:                      143.151   Durbin-Watson:                   2.026\n",
      "Prob(Omnibus):                  0.000   Jarque-Bera (JB):              151.798\n",
      "Skew:                          -0.320   Prob(JB):                     1.09e-33\n",
      "Kurtosis:                       3.214   Cond. No.                         150.\n",
      "==============================================================================\n",
      "\n",
      "Warnings:\n",
      "[1] Standard Errors assume that the covariance matrix of the errors is correctly specified.\n"
     ]
    }
   ],
   "source": [
    "print(results14.summary())"
   ]
  },
  {
   "cell_type": "markdown",
   "metadata": {
    "slideshow": {
     "slide_type": "slide"
    }
   },
   "source": [
    "# OLS regression summary\n",
    "\n",
    "### Minimize RSS on $Tr$ to find the \"best\" linear fit for $Y$ as a function of $X$\n",
    "\n",
    "### Algebraic solution, geometric interpretation: projection\n",
    "\n",
    "### Under the assumed statistical model (strong assumptions!) can do inference on which variables are important\n",
    "\n",
    "### The most important tool in the statistical/predictive modeling toolbox!\n",
    "\n",
    "### Learn more: Statistical Models course in Statistics"
   ]
  },
  {
   "cell_type": "markdown",
   "metadata": {
    "slideshow": {
     "slide_type": "slide"
    }
   },
   "source": [
    "# OLS interpretation: estimating conditional expectation\n",
    "\n",
    "### As we just saw, under the statistical model, $E\\hat{\\beta} = \\beta \\;\\Rightarrow\\; E(\\hat{y}|x) = x^T E (\\hat{\\beta}) =  x^T \\beta = E(y|x).$  \n",
    "\n",
    "### Even when the model doesn't hold, the use of RSS / squared error loss implies estimation of conditional expectation (details omitted)\n",
    "\n",
    "### Hence an interpretation of the OLS prediction is an *attempt* to estimate the conditional expectation $E(y|x)$\n",
    "\n",
    "### This conditional expectation is clearly interesting: it summarizes what we learned about $y$ from seeing $x$\n",
    "\n",
    "### The attempt may not be successful, if the model is not so good (more on that later), but at least we know what we are trying to predict!"
   ]
  },
  {
   "cell_type": "markdown",
   "metadata": {
    "slideshow": {
     "slide_type": "slide"
    }
   },
   "source": [
    "# What about classification?\n",
    "\n",
    "### We will focus on the simplest (and most important) case of two-class classification: \n",
    "* Girl vs boy\n",
    "* Sick vs healthy\n",
    "* Buy vs don't buy\n",
    "\n",
    "### As before, we have $Tr = (X,Y)$ of size $n$, $Te$ of size $m$. \n",
    "\n",
    "### For now, keep assuming $x \\in \\mathbb R^p$ is numeric as in the eBay shirts example\n",
    "\n",
    "### Can we use the OLS mechanism we have built to build a classification model? \n",
    "\n",
    "### For sure we can, if we encode $y=girl\\Rightarrow y=1,\\;\\;y=boy\\Rightarrow y=0$, we have numeric $y$"
   ]
  },
  {
   "cell_type": "markdown",
   "metadata": {
    "slideshow": {
     "slide_type": "slide"
    }
   },
   "source": [
    "# What is wrong with using OLS for classification? \n",
    "\n",
    "### If we encode $y$ as above what is $E(y|x)$? It is $P(y=girl|\\;picture)$ --- a clearly interesting quantity\n",
    "\n",
    "### Problem: as a probability, $0\\leq P(y=girl|\\;picture) \\leq 1.$ But model predictions $x^T\\hat{\\beta}$ can fall outside the legal range!\n",
    "\n",
    "### Another problem: can we make the model assumptions of normal $\\epsilon$? No --- because $y$ can only be $0$ or $1$\n",
    "\n",
    "### The idea: try to create an approach that is similar to OLS, but more fitting for classification, taking into account the limited range of values and the need for a sensible statistical model\n",
    "\n"
   ]
  },
  {
   "cell_type": "markdown",
   "metadata": {
    "slideshow": {
     "slide_type": "slide"
    }
   },
   "source": [
    "# Logistic regression\n",
    "\n",
    "### Deals with the two problems above\n",
    "\n",
    "### We start from assuming a model: \n",
    "$$ \\log\\frac{P(y=1|x)}{P(y=0|x)} = x^T\\beta$$\n",
    "\n",
    "### Notice that now all values are legal: \n",
    "$$ 0\\leq P(y=1|x) \\leq 1 \\;\\; \\Leftrightarrow\\;\\; -\\infty \\leq \\log\\frac{P(y=1|x)}{P(y=0|x)} \\leq \\infty.$$\n",
    "\n",
    "### Another way of writing this: \n",
    "$$ P(y=1|x) = \\frac{\\exp(x^T\\beta)}{1+\\exp(x^T\\beta)} $$\n",
    "$$ P(y=0|x) = 1- P(y=1|x) = \\frac{1}{1+\\exp(x^T\\beta)} $$\n"
   ]
  },
  {
   "cell_type": "markdown",
   "metadata": {
    "slideshow": {
     "slide_type": "slide"
    }
   },
   "source": [
    "# Fitting a logistic regression\n",
    "\n",
    "### Given training data $Tr$, we want to find the best coefficients $\\hat{\\beta}.$\n",
    "\n",
    "### This is done by maximum likelihood, finding $\\beta$ to maximize: \n",
    "$$ \\max_\\beta \\prod_{i=1}^n  \\left(\\frac{\\exp(x_i^T\\beta)}{1+\\exp(x_i^T\\beta)}\\right)^{y_i} \\left(\\frac{1}{1+\\exp(x_i^T\\beta)}\\right)^{1-y_i}$$\n",
    "\n",
    "### The solution is $\\hat{\\beta}$, the logistic regression coefficients estimates\n",
    "\n",
    "### Predicting on $x \\in Te$: \n",
    "$$ \\widehat{P(y=1|x)} = \\frac{\\exp(x^T\\hat{\\beta})}{1+\\exp(x^T\\hat{\\beta})}\\;\\; \\Rightarrow\\;\\; \\hat{y} = \\left\\{ \\begin{array}{ll} 1 & \\mbox{if} \\widehat{P(y=1|x)}> 0.5 \\\\\n",
    "0 & \\mbox{otherwise}\\end{array}\\right. $$\n"
   ]
  },
  {
   "cell_type": "markdown",
   "metadata": {
    "slideshow": {
     "slide_type": "slide"
    }
   },
   "source": [
    "# Interpretation of coefficients\n",
    "\n",
    "### We can write our model as: \n",
    "$$\\log\\frac{P(y=1|x)}{P(y=0|x)} = x^T\\beta$$\n",
    "\n",
    "### The expression on the left is called the *log odds*: log of the ratio of positive vs negative probability\n",
    "\n",
    "### Interpretation: ${\\beta}_j$ is the change in the log odds from a change of 1 unit in $x_j$. \n",
    "\n",
    "### For example, if ${\\beta}_j=1$ then when $x_j=1$ vs $x_j=0$ the log odds increase by $1$, so the odds increase times $e=2.72$, which is roughly the increase in ${P(y=1|x)}$ when it is close to $0$. \n",
    "\n",
    "### When estimating from $Tr$: add hats over all quantities and remember these are only estimates!"
   ]
  },
  {
   "cell_type": "code",
   "execution_count": 47,
   "metadata": {
    "slideshow": {
     "slide_type": "slide"
    }
   },
   "outputs": [],
   "source": [
    "import pandas as pd\n",
    "import numpy as np\n",
    "import matplotlib.pyplot as plt\n",
    "import seaborn as sns\n",
    "from scipy.stats.stats import pearsonr\n",
    "import warnings\n",
    "import math\n",
    "import random\n",
    "from sklearn.decomposition import PCA\n",
    "\n",
    "%matplotlib inline\n",
    "\n",
    "\n",
    "saheart = pd.read_table(\"http://statweb.stanford.edu/~hastie/ElemStatLearn/datasets/SAheart.data\", header = 0,sep=',',index_col=0)\n",
    "saheart.head()\n",
    "\n",
    "saheart_X=pd.get_dummies(saheart.iloc[:,:9]).iloc[:,:9]\n",
    "saheart_y=saheart.iloc[:,9]"
   ]
  },
  {
   "cell_type": "code",
   "execution_count": 48,
   "metadata": {
    "slideshow": {
     "slide_type": "subslide"
    }
   },
   "outputs": [
    {
     "data": {
      "text/html": [
       "<div>\n",
       "<style scoped>\n",
       "    .dataframe tbody tr th:only-of-type {\n",
       "        vertical-align: middle;\n",
       "    }\n",
       "\n",
       "    .dataframe tbody tr th {\n",
       "        vertical-align: top;\n",
       "    }\n",
       "\n",
       "    .dataframe thead th {\n",
       "        text-align: right;\n",
       "    }\n",
       "</style>\n",
       "<table border=\"1\" class=\"dataframe\">\n",
       "  <thead>\n",
       "    <tr style=\"text-align: right;\">\n",
       "      <th></th>\n",
       "      <th>sbp</th>\n",
       "      <th>tobacco</th>\n",
       "      <th>ldl</th>\n",
       "      <th>adiposity</th>\n",
       "      <th>typea</th>\n",
       "      <th>obesity</th>\n",
       "      <th>alcohol</th>\n",
       "      <th>age</th>\n",
       "      <th>chd</th>\n",
       "    </tr>\n",
       "  </thead>\n",
       "  <tbody>\n",
       "    <tr>\n",
       "      <th>count</th>\n",
       "      <td>462.000000</td>\n",
       "      <td>462.000000</td>\n",
       "      <td>462.000000</td>\n",
       "      <td>462.000000</td>\n",
       "      <td>462.000000</td>\n",
       "      <td>462.000000</td>\n",
       "      <td>462.000000</td>\n",
       "      <td>462.000000</td>\n",
       "      <td>462.000000</td>\n",
       "    </tr>\n",
       "    <tr>\n",
       "      <th>mean</th>\n",
       "      <td>138.326840</td>\n",
       "      <td>3.635649</td>\n",
       "      <td>4.740325</td>\n",
       "      <td>25.406732</td>\n",
       "      <td>53.103896</td>\n",
       "      <td>26.044113</td>\n",
       "      <td>17.044394</td>\n",
       "      <td>42.816017</td>\n",
       "      <td>0.346320</td>\n",
       "    </tr>\n",
       "    <tr>\n",
       "      <th>std</th>\n",
       "      <td>20.496317</td>\n",
       "      <td>4.593024</td>\n",
       "      <td>2.070909</td>\n",
       "      <td>7.780699</td>\n",
       "      <td>9.817534</td>\n",
       "      <td>4.213680</td>\n",
       "      <td>24.481059</td>\n",
       "      <td>14.608956</td>\n",
       "      <td>0.476313</td>\n",
       "    </tr>\n",
       "    <tr>\n",
       "      <th>min</th>\n",
       "      <td>101.000000</td>\n",
       "      <td>0.000000</td>\n",
       "      <td>0.980000</td>\n",
       "      <td>6.740000</td>\n",
       "      <td>13.000000</td>\n",
       "      <td>14.700000</td>\n",
       "      <td>0.000000</td>\n",
       "      <td>15.000000</td>\n",
       "      <td>0.000000</td>\n",
       "    </tr>\n",
       "    <tr>\n",
       "      <th>25%</th>\n",
       "      <td>124.000000</td>\n",
       "      <td>0.052500</td>\n",
       "      <td>3.282500</td>\n",
       "      <td>19.775000</td>\n",
       "      <td>47.000000</td>\n",
       "      <td>22.985000</td>\n",
       "      <td>0.510000</td>\n",
       "      <td>31.000000</td>\n",
       "      <td>0.000000</td>\n",
       "    </tr>\n",
       "    <tr>\n",
       "      <th>50%</th>\n",
       "      <td>134.000000</td>\n",
       "      <td>2.000000</td>\n",
       "      <td>4.340000</td>\n",
       "      <td>26.115000</td>\n",
       "      <td>53.000000</td>\n",
       "      <td>25.805000</td>\n",
       "      <td>7.510000</td>\n",
       "      <td>45.000000</td>\n",
       "      <td>0.000000</td>\n",
       "    </tr>\n",
       "    <tr>\n",
       "      <th>75%</th>\n",
       "      <td>148.000000</td>\n",
       "      <td>5.500000</td>\n",
       "      <td>5.790000</td>\n",
       "      <td>31.227500</td>\n",
       "      <td>60.000000</td>\n",
       "      <td>28.497500</td>\n",
       "      <td>23.892500</td>\n",
       "      <td>55.000000</td>\n",
       "      <td>1.000000</td>\n",
       "    </tr>\n",
       "    <tr>\n",
       "      <th>max</th>\n",
       "      <td>218.000000</td>\n",
       "      <td>31.200000</td>\n",
       "      <td>15.330000</td>\n",
       "      <td>42.490000</td>\n",
       "      <td>78.000000</td>\n",
       "      <td>46.580000</td>\n",
       "      <td>147.190000</td>\n",
       "      <td>64.000000</td>\n",
       "      <td>1.000000</td>\n",
       "    </tr>\n",
       "  </tbody>\n",
       "</table>\n",
       "</div>"
      ],
      "text/plain": [
       "              sbp     tobacco         ldl   adiposity       typea     obesity  \\\n",
       "count  462.000000  462.000000  462.000000  462.000000  462.000000  462.000000   \n",
       "mean   138.326840    3.635649    4.740325   25.406732   53.103896   26.044113   \n",
       "std     20.496317    4.593024    2.070909    7.780699    9.817534    4.213680   \n",
       "min    101.000000    0.000000    0.980000    6.740000   13.000000   14.700000   \n",
       "25%    124.000000    0.052500    3.282500   19.775000   47.000000   22.985000   \n",
       "50%    134.000000    2.000000    4.340000   26.115000   53.000000   25.805000   \n",
       "75%    148.000000    5.500000    5.790000   31.227500   60.000000   28.497500   \n",
       "max    218.000000   31.200000   15.330000   42.490000   78.000000   46.580000   \n",
       "\n",
       "          alcohol         age         chd  \n",
       "count  462.000000  462.000000  462.000000  \n",
       "mean    17.044394   42.816017    0.346320  \n",
       "std     24.481059   14.608956    0.476313  \n",
       "min      0.000000   15.000000    0.000000  \n",
       "25%      0.510000   31.000000    0.000000  \n",
       "50%      7.510000   45.000000    0.000000  \n",
       "75%     23.892500   55.000000    1.000000  \n",
       "max    147.190000   64.000000    1.000000  "
      ]
     },
     "execution_count": 48,
     "metadata": {},
     "output_type": "execute_result"
    }
   ],
   "source": [
    "saheart.describe()"
   ]
  },
  {
   "cell_type": "code",
   "execution_count": 57,
   "metadata": {
    "slideshow": {
     "slide_type": "subslide"
    }
   },
   "outputs": [
    {
     "name": "stdout",
     "output_type": "stream",
     "text": [
      "462 (369, 9) (93, 9) (369,) (93,)\n"
     ]
    }
   ],
   "source": [
    "n = saheart_X.shape[0]\n",
    "tr_size = math.floor(0.8*n)\n",
    "te_size = n-tr_size\n",
    "tr_ind = random.sample(range(n),tr_size)\n",
    "Xtr = saheart_X.iloc[tr_ind,:]\n",
    "Xte = saheart_X.drop(saheart_X.index[tr_ind])\n",
    "Ytr = saheart_y.iloc[tr_ind]\n",
    "Yte = saheart_y.drop(saheart_y.index[tr_ind])\n",
    "\n",
    "print(n,Xtr.shape, Xte.shape, Ytr.shape, Yte.shape)"
   ]
  },
  {
   "cell_type": "markdown",
   "metadata": {
    "slideshow": {
     "slide_type": "subslide"
    }
   },
   "source": [
    "## The predictive modeling way: using sklearn"
   ]
  },
  {
   "cell_type": "code",
   "execution_count": 58,
   "metadata": {},
   "outputs": [
    {
     "name": "stdout",
     "output_type": "stream",
     "text": [
      "intercept: [-5.8570881]\n",
      "coef: [[ 0.00261356  0.09891859  0.17304114  0.01014803  0.03958216 -0.03098118\n",
      "  -0.00087939  0.05461037 -0.79788522]]\n"
     ]
    }
   ],
   "source": [
    "from sklearn.linear_model import LogisticRegression\n",
    "mod = LogisticRegression(solver='lbfgs',max_iter=10000)\n",
    "mod.fit (Xtr, Ytr)\n",
    "print('intercept:', mod.intercept_)\n",
    "print('coef:',mod.coef_)"
   ]
  },
  {
   "cell_type": "markdown",
   "metadata": {
    "slideshow": {
     "slide_type": "subslide"
    }
   },
   "source": [
    "## The statistics modeling way: using statsmodels"
   ]
  },
  {
   "cell_type": "code",
   "execution_count": 59,
   "metadata": {},
   "outputs": [
    {
     "name": "stdout",
     "output_type": "stream",
     "text": [
      "Optimization terminated successfully.\n",
      "         Current function value: 0.502271\n",
      "         Iterations 6\n",
      "                           Logit Regression Results                           \n",
      "==============================================================================\n",
      "Dep. Variable:                    chd   No. Observations:                  369\n",
      "Model:                          Logit   Df Residuals:                      359\n",
      "Method:                           MLE   Df Model:                            9\n",
      "Date:                Tue, 07 May 2019   Pseudo R-squ.:                  0.2219\n",
      "Time:                        09:49:25   Log-Likelihood:                -185.34\n",
      "converged:                       True   LL-Null:                       -238.19\n",
      "                                        LLR p-value:                 1.101e-18\n",
      "==================================================================================\n",
      "                     coef    std err          z      P>|z|      [0.025      0.975]\n",
      "----------------------------------------------------------------------------------\n",
      "const             -5.8241      1.478     -3.941      0.000      -8.721      -2.927\n",
      "sbp                0.0027      0.006      0.412      0.681      -0.010       0.015\n",
      "tobacco            0.0995      0.031      3.216      0.001       0.039       0.160\n",
      "ldl                0.1738      0.071      2.464      0.014       0.036       0.312\n",
      "adiposity          0.0100      0.033      0.305      0.760      -0.054       0.075\n",
      "typea              0.0396      0.014      2.815      0.005       0.012       0.067\n",
      "obesity           -0.0315      0.049     -0.638      0.524      -0.128       0.065\n",
      "alcohol           -0.0010      0.005     -0.193      0.847      -0.011       0.009\n",
      "age                0.0545      0.014      3.899      0.000       0.027       0.082\n",
      "famhist_Absent    -0.8507      0.257     -3.310      0.001      -1.354      -0.347\n",
      "==================================================================================\n"
     ]
    }
   ],
   "source": [
    "import statsmodels.api as sm\n",
    "logit_model=sm.Logit(Ytr, sm.add_constant(Xtr))\n",
    "result=logit_model.fit()\n",
    "print(result.summary())"
   ]
  },
  {
   "cell_type": "code",
   "execution_count": 67,
   "metadata": {},
   "outputs": [
    {
     "name": "stdout",
     "output_type": "stream",
     "text": [
      "[[50 11]\n",
      " [16 16]]\n",
      "Accuracy: 0.71 Misclassification loss: 0.29\n"
     ]
    }
   ],
   "source": [
    "from sklearn.metrics import confusion_matrix\n",
    "phat = result.predict(sm.add_constant(Xte))\n",
    "yhat = phat>0.5\n",
    "conf =confusion_matrix(Yte, yhat) \n",
    "print(conf)\n",
    "print('Accuracy:',round((conf[0,0]+conf[1,1])/te_size,3), 'Misclassification loss:', round((conf[0,1]+conf[1,0])/te_size,3))"
   ]
  },
  {
   "cell_type": "markdown",
   "metadata": {
    "slideshow": {
     "slide_type": "slide"
    }
   },
   "source": [
    "## Classification models performance evaluation on test set: different measures\n",
    "\n",
    "### Different errors have different costs/value. \n",
    "\n",
    "### A way to capture this: summarize performance in different ways that capture different types of errors:\n",
    "\n",
    "#### $P = \\sum_{i=n+1}^{n+m} y_i$ number of positive examples, similarly $N$.\n",
    "\n",
    "#### $\\hat{P} = \\sum_{i=n+1}^{n+m} \\hat{y}_i$ number of positive predictions, similarly $\\hat{N}$.\n",
    "\n",
    "#### $TP = \\sum_{i=n+1}^{n+m} y_i \\hat{y}_i$ number of true positives, $FP = \\hat{P}-TP$\n",
    "\n",
    "#### $TN = \\sum_{i=n+1}^{n+m} (1-y_i) (1-\\hat{y}_i)$ number of true negatives, $FN = \\hat{N}-TN$\n",
    "\n"
   ]
  },
  {
   "cell_type": "markdown",
   "metadata": {
    "slideshow": {
     "slide_type": "subslide"
    }
   },
   "source": [
    "\n",
    "### Prediction error: $\\;(FN+FP)/m$\n",
    "\n",
    "### Precision (positive predictive value): $\\;TP/\\hat{P}$\n",
    "\n",
    "### Recall (sensitivity, true positive rate):  $\\;TP/P$\n",
    "\n",
    "### False positive rate: $\\;FP/N$\n",
    "\n",
    "### Harmonic mean of precision and recall: $\\;F_1 = 2* \\frac{Precision \\times Recall}{Precision + Recall}$. \n"
   ]
  },
  {
   "cell_type": "code",
   "execution_count": 61,
   "metadata": {
    "slideshow": {
     "slide_type": "slide"
    }
   },
   "outputs": [
    {
     "name": "stdout",
     "output_type": "stream",
     "text": [
      "              precision    recall  f1-score   support\n",
      "\n",
      "           0       0.76      0.82      0.79        61\n",
      "           1       0.59      0.50      0.54        32\n",
      "\n",
      "   micro avg       0.71      0.71      0.71        93\n",
      "   macro avg       0.68      0.66      0.66        93\n",
      "weighted avg       0.70      0.71      0.70        93\n",
      "\n"
     ]
    }
   ],
   "source": [
    "from sklearn.metrics import classification_report\n",
    "\n",
    "print(classification_report(Yte, yhat))"
   ]
  },
  {
   "cell_type": "markdown",
   "metadata": {
    "slideshow": {
     "slide_type": "slide"
    }
   },
   "source": [
    "# Classification model evaluation: different goals\n",
    "\n",
    "### We can think of several different prediction goals, all potentially important: \n",
    "1. Classify correctly --- make few (weighted) errors on test set or new prediction points\n",
    "2. Predict probabilities well: $$ \\widehat{P(y=1|x)} \\approx P(y=1|x)$$ for new points\n",
    "3. Rank well: given multiple prediction points, predict which one is *more likely* to have $y=1$. \n",
    "\n",
    "\n",
    "### These different tasks can reflect in the loss function / model evaluation task:\n",
    "1. Correct classification: misclassification loss as above, also precision, recall etc.\n",
    "2. Good probability prediction: using Bernoulli loss / cross entropy: \n",
    "$$ L(y,\\hat{p}) = \\hat{p}^y (1-\\hat{p})^{(1-y)}.$$\n",
    "3. How do we measure ranking perofrmance of a model on a test set? "
   ]
  },
  {
   "cell_type": "markdown",
   "metadata": {
    "slideshow": {
     "slide_type": "slide"
    }
   },
   "source": [
    "# The ROC Curve and the Area Under Curve (AUC)\n",
    "\n",
    "### The idea: to evaluate ranking performance, do not set the threshold $0.5$ but check what happens at all possible thresholds: \n",
    "1. True positive rate: what % of the positive observations pass the threshold?\n",
    "2. False positive rate: what % of the negative observations pass the threshold?\n",
    "\n",
    "### The ROC curve plots TPR vs FPR for all possible threholds: if the model ranks well, for high thresholds we will have $FPR\\approx 0$, while for low thresholds we will have $TPR \\approx 1$. \n",
    "\n",
    "### Note that even if $\\widehat{P(y=1|x)}$ predicts probabilities badly, or even if the predictions are not in the range $[0,1]$, the ranking can still be good. "
   ]
  },
  {
   "cell_type": "code",
   "execution_count": 69,
   "metadata": {
    "slideshow": {
     "slide_type": "subslide"
    }
   },
   "outputs": [
    {
     "data": {
      "image/png": "[encoded data removed]",
      "text/plain": [
       "<Figure size 432x288 with 1 Axes>"
      ]
     },
     "metadata": {
      "needs_background": "light"
     },
     "output_type": "display_data"
    }
   ],
   "source": [
    "from sklearn.metrics import roc_curve, auc\n",
    "fpr, tpr, _ = roc_curve(Yte, phat)\n",
    "roc_auc = auc(fpr, tpr)\n",
    "plt.figure()\n",
    "lw = 2\n",
    "plt.plot(fpr, tpr, color='darkorange',\n",
    "         lw=lw, label='ROC curve (area = %0.2f)' % roc_auc)\n",
    "plt.plot([0, 1], [0, 1], color='navy', lw=lw, linestyle='--')\n",
    "plt.xlim([0.0, 1.0])\n",
    "plt.ylim([0.0, 1.05])\n",
    "plt.xlabel('False Positive Rate')\n",
    "plt.ylabel('True Positive Rate')\n",
    "plt.title('Receiver operating characteristic curve for our logistic model')\n",
    "plt.legend(loc=\"lower right\")\n",
    "plt.show()"
   ]
  },
  {
   "cell_type": "markdown",
   "metadata": {
    "slideshow": {
     "slide_type": "subslide"
    }
   },
   "source": [
    "# The area under the curve (AUC)\n",
    "\n",
    "### *For a random ranking:* $FPR \\approx TPR$ at every threshold, so we are around the diagonal $x=y$: $$AUC\\approx 0.5.$$\n",
    "\n",
    "### *For a perfect ranking model:* at high thresholds, $FPR=0$, at low thresholds $TPR=1$, hence: $$AUC=1.$$\n",
    "\n",
    "### Very nice interpretation of AUC: Assume the test set has $m_1$ ones ($y=1$) and $m_0$ zeros, then AUC is the % of correctly ranked pairs with different response: \n",
    "$$ AUC = \\frac{ \\#\\left\\{(i,j): y_i = 0, y_j=1 \\mbox{ and } \\hat{p}_i < \\hat{p}_j\\right\\}}{m_1\\times m_0}.$$"
   ]
  },
  {
   "cell_type": "markdown",
   "metadata": {
    "slideshow": {
     "slide_type": "slide"
    }
   },
   "source": [
    "# Global vs local modeling\n",
    "\n",
    "### So far we have learned two predictive modeling techniques: OLS regression and logistic regression \n",
    "\n",
    "### Common theme: Global, parametric models (+ probabilistic model for inference) --- lots of assumptions!\n",
    "\n",
    "### A different approach: *Local* modeling: I am similar to my neighbors\n",
    "\n",
    "### Simple example: 1-nearest neighbor:\n",
    "\n",
    "1. Define a distance over the $\\cal X$ space. For $x\\in \\mathbbb R^p$ can simply choose the Euclidean distance: \n",
    "$$d(x,u) = \\|x-u\\|^2.$$\n",
    "2. For a prediction point (say $x_0 \\in Te$), find its nearest neighbor in the Tr\n",
    "$$ i_0 = \\arg\\min_i d(x_0,x_i).$$\n",
    "3. Predict $x_0$ as the response at the nearest neighbor $\\hat{y}_0 = y_{i_0}.$"
   ]
  },
  {
   "cell_type": "markdown",
   "metadata": {
    "slideshow": {
     "slide_type": "slide"
    }
   },
   "source": [
    "# K-nearest neighbor (KNN) methods\n",
    "\n",
    "### Repeat the same steps, but instead of finding the nearest neighbor only, find the $k$ nearest points in $Tr$ to $x_0$. Assume their indexes are $i_{01},...,i_{0k}.$\n",
    "\n",
    "\n",
    "### For regression predict the average: \n",
    "$$\\hat{y}_0 = \\frac{1}{k} \\sum_{j=1}^k y_{i_{0j}}.$$\n",
    "\n",
    "### For classification predict the majority: \n",
    "$$\\hat{y}_0 = \\left\\{ \\begin{array}{ll} 1 & \\mbox{if} \\frac{1}{k} \\sum_{j=1}^k y_{i_{0j}} > 1/2  \\\\\n",
    "0 & \\mbox{otherwise}\\end{array} \\right.$$\n"
   ]
  },
  {
   "cell_type": "markdown",
   "metadata": {
    "slideshow": {
     "slide_type": "slide"
    }
   },
   "source": [
    "# The problem with KNN? \n",
    "\n",
    "### If the data are \"sparse\" in the space, nearest neighbors are far and the results can be very bad\n",
    "\n",
    "### *Curse of dimensionality*: if the dimension $p$ is high,  data are by definition sparse\n",
    "\n",
    "### KNN fails in these settings\n",
    "\n",
    "### Interesting solution: Adaptive local methods (*trees!*) => next week\n"
   ]
  }
 ],
 "metadata": {
  "celltoolbar": "Slideshow",
  "kernelspec": {
   "display_name": "Python 3",
   "language": "python",
   "name": "python3"
  },
  "language_info": {
   "codemirror_mode": {
    "name": "ipython",
    "version": 3
   },
   "file_extension": ".py",
   "mimetype": "text/x-python",
   "name": "python",
   "nbconvert_exporter": "python",
   "pygments_lexer": "ipython3",
   "version": "3.7.1"
  }
 },
 "nbformat": 4,
 "nbformat_minor": 2
}
