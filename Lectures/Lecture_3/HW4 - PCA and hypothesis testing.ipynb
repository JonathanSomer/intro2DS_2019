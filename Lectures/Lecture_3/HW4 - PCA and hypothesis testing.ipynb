{
 "cells": [
  {
   "cell_type": "markdown",
   "metadata": {},
   "source": [
    "# HW4: PCA and hypothesis testing"
   ]
  },
  {
   "cell_type": "markdown",
   "metadata": {},
   "source": [
    "## instructions\n",
    "\n",
    "our course will be using an automatic grading system. <br>\n",
    "after each question there will appear a code block with some prepared code to add your answer to a dictionary that will be sent to the course server for grading. <br>\n",
    "please do not edit any code other than in placeholders marked `#### your code here ####` <br>\n",
    "__don't forget to run the code block after you write your answer.__\n",
    "\n",
    "\n",
    "you can add code blocks wherever you want in order to interact with datasets and play with your own code. <br>\n",
    "in the next code block plase fill in your id number and email account in the appropriate placees. <br>\n",
    "and __don't forget to run the block!__"
   ]
  },
  {
   "cell_type": "code",
   "execution_count": 1,
   "metadata": {},
   "outputs": [],
   "source": [
    "ans = {}\n",
    "ans['HW'] = 'HW4'\n",
    "ans['id_number'] = 307923383"
   ]
  },
  {
   "cell_type": "markdown",
   "metadata": {},
   "source": [
    "## PCA\n",
    "#### Q1)\n",
    "I have a vector $\\mathbf{z}\\in \\mathbb R^n$ with norm $1$ and average $0$, and I create a matrix $X_{n*3}$ by making the first and second column equal to $\\mathbf{z}$, and the third column equal to $-\\mathbf{z}$. Which of the following can be the direction $\\mathbf{v}_1$ of the first principal component?\n",
    "\n",
    "1. $(1,1,-1)$\n",
    "2. $(1/\\sqrt{3},1/\\sqrt{3},1/\\sqrt{3})$\n",
    "3. $(1/\\sqrt{3},1/\\sqrt{3},-1/\\sqrt{3})$\n",
    "4. There is not enough information to know\n"
   ]
  },
  {
   "cell_type": "code",
   "execution_count": 2,
   "metadata": {},
   "outputs": [],
   "source": [
    "import numpy as np\n",
    "from sklearn.decomposition import PCA"
   ]
  },
  {
   "cell_type": "code",
   "execution_count": 3,
   "metadata": {},
   "outputs": [
    {
     "data": {
      "text/plain": [
       "array([[ 0.12963297,  0.12963297, -0.12963297],\n",
       "       [ 0.85065124,  0.85065124, -0.85065124],\n",
       "       [ 0.41053473,  0.41053473, -0.41053473],\n",
       "       [ 0.30809384,  0.30809384, -0.30809384],\n",
       "       [ 0.53131412,  0.53131412, -0.53131412],\n",
       "       [ 0.33632016,  0.33632016, -0.33632016],\n",
       "       [ 0.82520954,  0.82520954, -0.82520954],\n",
       "       [ 0.51788227,  0.51788227, -0.51788227],\n",
       "       [ 0.1564044 ,  0.1564044 , -0.1564044 ],\n",
       "       [ 0.68590229,  0.68590229, -0.68590229]])"
      ]
     },
     "execution_count": 3,
     "metadata": {},
     "output_type": "execute_result"
    }
   ],
   "source": [
    "z = np.random.rand(10,1)\n",
    "X = np.hstack((z,z,-z));X"
   ]
  },
  {
   "cell_type": "code",
   "execution_count": 4,
   "metadata": {},
   "outputs": [
    {
     "data": {
      "text/plain": [
       "PCA(copy=True, iterated_power='auto', n_components=1, random_state=None,\n",
       "  svd_solver='auto', tol=0.0, whiten=False)"
      ]
     },
     "execution_count": 4,
     "metadata": {},
     "output_type": "execute_result"
    }
   ],
   "source": [
    "pca = PCA(n_components=1)\n",
    "pca.fit(X)"
   ]
  },
  {
   "cell_type": "code",
   "execution_count": 5,
   "metadata": {},
   "outputs": [
    {
     "data": {
      "text/plain": [
       "array([[ 0.57735027,  0.57735027, -0.57735027]])"
      ]
     },
     "execution_count": 5,
     "metadata": {},
     "output_type": "execute_result"
    }
   ],
   "source": [
    "pca.components_"
   ]
  },
  {
   "cell_type": "code",
   "execution_count": 6,
   "metadata": {},
   "outputs": [
    {
     "data": {
      "text/plain": [
       "0.5773502691896258"
      ]
     },
     "execution_count": 6,
     "metadata": {},
     "output_type": "execute_result"
    }
   ],
   "source": [
    "1/np.sqrt(3)"
   ]
  },
  {
   "cell_type": "code",
   "execution_count": 7,
   "metadata": {},
   "outputs": [],
   "source": [
    "ans['Q1'] = 3"
   ]
  },
  {
   "cell_type": "markdown",
   "metadata": {},
   "source": [
    "#### Q2)\n",
    "Assume that I do a PCA of a movie reviews matrix like the one we did in class, and I get that the first principal direction $\\mathbf{v}_1$ has all equal positive loadings (i.e., it is the average of the data), and the second principal direction $\\mathbf{v}_2$ has positive loadings for comedy and negative for action movies (i.e., it separates action lovers from comedy lovers). This is similar to what we got on the actual data. Now assume also that when I plot all observations in the two dimensional space I get by projecting them on the first two PCs (as we did in class), I get two distinct clusters, one high on both coordinates, and one low on both (this is not as we got in class). What can be said about the nature of my reviews data?\n",
    "\n",
    "    1.       Comedy lovers tend to give higher reviews overall than action lovers\n",
    "    2.       There are more comedies than action movies in my data\n",
    "    3.       The comedies get higher reviews than action movies\n",
    "    4.       None of the above\n"
   ]
  },
  {
   "cell_type": "code",
   "execution_count": 8,
   "metadata": {},
   "outputs": [],
   "source": [
    "ans['Q2'] = 1"
   ]
  },
  {
   "cell_type": "markdown",
   "metadata": {},
   "source": [
    "#### Q3)\n",
    "Given a matrix $X_{n*p}$ and its first principal component direction $\\mathbf{v}_1$, the first principal projection is $X \\mathbf{v}_1 \\in \\mathbb R^n$. Denote this vector by $\\mathbf{r}_1$. What is the connection between $\\mathbf{r}_1$ and the first singular value $\\lambda_1$ form the SVD of $X$?\n",
    "\n",
    "1.       $\\|\\mathbf{r}_1\\|^2 = \\lambda_1$\n",
    "2.       $\\|\\mathbf{r}_1\\|^2 = \\lambda_1^2$\n",
    "3.       $\\mathbf{v}_1 * \\lambda_1 = \\mathbf{r}_1 $\n",
    "4.       There is no connection"
   ]
  },
  {
   "cell_type": "code",
   "execution_count": null,
   "metadata": {},
   "outputs": [],
   "source": [
    "ans['Q3'] = #### your answer here ####"
   ]
  },
  {
   "cell_type": "markdown",
   "metadata": {},
   "source": [
    "## Probability\n",
    "\n",
    "#### Q4)\n",
    "It has been found that in a typical Researcher's academic life span, the number of experiments she would run is 100, with the probability of \"reaching the wrong conclusion\" of 0.01. What is the expected number of experiments \"reaching the wrong conclusion\" in a typical Researcher's academic life, and what is the probability that a typical Researcher would \"reach the wrong conclusion\" in at least 1 experiment during her academic life?\n",
    "\n",
    "    1. 1 and 1, respectively\n",
    "    2. 1 and 0.63, respectively\n",
    "    3. 10 and 0.63, respectiverly\n",
    "    4. 10 and 0.99, respectively\n"
   ]
  },
  {
   "cell_type": "code",
   "execution_count": null,
   "metadata": {},
   "outputs": [],
   "source": [
    "ans['Q4'] = #### your answer here ####"
   ]
  },
  {
   "cell_type": "markdown",
   "metadata": {},
   "source": [
    "#### Q5)\n",
    "A Web Analyst has tested 3 different versions of a website, each seen by a different amount of users. For each version, for each user, the Analyst knows whether the user has signed up for the website or not. He put the results in a contingency table:\n",
    "\n",
    "|  Version/Sign | Yes  | No|\n",
    "|-----|--------|---------|\n",
    "| V1   |   1000    |   3000     |\n",
    "| V2   |   400    |   100  |\n",
    "| V3   |   900 |   2700  |\n",
    "\n",
    "What is the probability a user seeing V2 will not sign up to the website?\n",
    "\n",
    "    1. 0.20\n",
    "    2. 0.25\n",
    "    3. 0.33\n",
    "    4. 0.8\n"
   ]
  },
  {
   "cell_type": "code",
   "execution_count": null,
   "metadata": {},
   "outputs": [],
   "source": [
    "ans['Q5'] = #### your answer here ####"
   ]
  },
  {
   "cell_type": "markdown",
   "metadata": {},
   "source": [
    "#### Q6)\n",
    "Which of the following is correct?\n",
    "\n",
    "    1. A user signing up to the website is 2.5 more likely to have seen V3 of the website, than V2.\n",
    "    2. A user who has seen V1 is 2.5 more likely to sign up to the website, than a user who has seen V2.\n",
    "    3. A user who has seen V2 is 3.2 more likely to sign up to the website, than a user who has seen V1.\n",
    "    4. A user not signing up to the website has 10% more chance to have seen V1, than V3."
   ]
  },
  {
   "cell_type": "code",
   "execution_count": null,
   "metadata": {},
   "outputs": [],
   "source": [
    "ans['Q6'] = #### your answer here ####"
   ]
  },
  {
   "cell_type": "markdown",
   "metadata": {},
   "source": [
    "# hypothesis tests"
   ]
  },
  {
   "cell_type": "markdown",
   "metadata": {},
   "source": [
    "#### Q7)\n",
    "As we did in class notes for the coin-tossing example, we calculate a p value for some experiment in two ways:\n",
    "\n",
    "A. Using (correctly formulated) simulation <BR>\n",
    "B. Using (correctly calculated) analytical calculations\n",
    "\n",
    "Now we consider changing the size of the simulation from $N=10^4$ as we did in class to $N=10^5$ or $N=10^6$. What will happen to the results of the two calculations above as $N$ grows?\n",
    "\n",
    "1. They will give exactly identical results for all $N$\n",
    "2. They will give similar results, and their relation will not change as $N$ increases\n",
    "3. As $N$ increases, the two ways of calculating will give more and more similar results\n",
    "4. As $N$ increases, the results will become less similar"
   ]
  },
  {
   "cell_type": "code",
   "execution_count": null,
   "metadata": {},
   "outputs": [],
   "source": [
    "ans['Q7'] = #### your answer here ####"
   ]
  },
  {
   "cell_type": "markdown",
   "metadata": {},
   "source": [
    "#### Q8)\n",
    "Recall we defined a p-value as the probability of the event we see (or a more extreme event) if the null holds. It is typical to reject the null if the p-value is smaller than 0.05.\n",
    "\n",
    "David and Jonathan each have a different dice, and they want to test the null hypothesis ($H_0$) that the dice is fair. Each tosses their dice 20 times, David counts how many times 1 came up, and bases a test on that. Jonathan counts how many time 6 came up and bases a test on that. Which of the following is correct:\n",
    "\n",
    "1.       If both dice are fair, the distribution of the two counts is the same\n",
    "2.      If a dice is fair, such an experiment will never reject the null hypothesis\n",
    "3.       If both dice are not fair, then either both David and Jonathan will reject the null hypothesis, or neither of them will\n",
    "4.      If David's dice is fair and Jonathan's dice is not fair, it is impossible that David will reject his null and Jonathan won't reject his null."
   ]
  },
  {
   "cell_type": "code",
   "execution_count": null,
   "metadata": {},
   "outputs": [],
   "source": [
    "ans['Q8'] = #### your answer here ####"
   ]
  },
  {
   "cell_type": "markdown",
   "metadata": {},
   "source": [
    "#### Q9)\n",
    "In the previous case, assume David saw the number  1 come up 6 times, which is a close approximation of the one-sided p value for his experiment (can use analytical calculations or simulation):\n",
    "\n",
    "1. 0.001\n",
    "2. 0.01\n",
    "3. 0.1\n",
    "4. 0.5"
   ]
  },
  {
   "cell_type": "code",
   "execution_count": null,
   "metadata": {},
   "outputs": [],
   "source": [
    "ans['Q9'] = #### your answer here ####"
   ]
  },
  {
   "cell_type": "markdown",
   "metadata": {},
   "source": [
    "# finish!\n",
    "\n",
    "to submit your HW please run this last code block and follow the instructions. <BR>\n",
    "this code will create a CSV file in the current directory on the azure notebooks project <br>\n",
    "please download it and submit it through moodle"
   ]
  },
  {
   "cell_type": "code",
   "execution_count": null,
   "metadata": {},
   "outputs": [],
   "source": [
    "import pandas as pd\n",
    "df_ans = pd.DataFrame.from_dict(ans, orient='index')\n",
    "if df_ans.shape[0] == 11:\n",
    "    df_ans.to_csv('{}_{}.csv'.format(ans['HW'],str(ans['id_number'])))\n",
    "    print(\"OK!\")\n",
    "else:\n",
    "    print(\"seems like you missed a question, make sure you have run all the code blocks\")"
   ]
  }
 ],
 "metadata": {
  "kernelspec": {
   "display_name": "Python 3",
   "language": "python",
   "name": "python3"
  },
  "language_info": {
   "codemirror_mode": {
    "name": "ipython",
    "version": 3
   },
   "file_extension": ".py",
   "mimetype": "text/x-python",
   "name": "python",
   "nbconvert_exporter": "python",
   "pygments_lexer": "ipython3",
   "version": "3.6.6"
  }
 },
 "nbformat": 4,
 "nbformat_minor": 2
}
