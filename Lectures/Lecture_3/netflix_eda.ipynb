{
 "cells": [
  {
   "cell_type": "markdown",
   "metadata": {},
   "source": [
    "# Read the data"
   ]
  },
  {
   "cell_type": "code",
   "execution_count": 1,
   "metadata": {},
   "outputs": [],
   "source": [
    "import pandas as pd\n",
    "import numpy as np\n",
    "import matplotlib.pyplot as plt\n",
    "import seaborn as sns\n",
    "from scipy.stats.stats import pearsonr\n",
    "import warnings\n",
    "\n",
    "%matplotlib inline\n",
    "\n",
    "ratings = pd.read_table(\"http://www.tau.ac.il/~saharon/StatsLearn2018/train_ratings_all.dat\", header = None)\n",
    "miss_cong = pd.read_csv(\"http://www.tau.ac.il/~saharon/StatsLearn2018/train_y_rating.dat\", header = None, names = ['score'])\n",
    "movies = pd.read_csv(\"http://www.tau.ac.il/~saharon/StatsLearn2018/movie_titles.txt\", header = None, names = ['year', 'title'])"
   ]
  },
  {
   "cell_type": "markdown",
   "metadata": {},
   "source": [
    "# Peek at the data"
   ]
  },
  {
   "cell_type": "code",
   "execution_count": 2,
   "metadata": {},
   "outputs": [
    {
     "name": "stdout",
     "output_type": "stream",
     "text": [
      "no. of raters: 10000, no. of movies: 99\n",
      "no. of miss_cong raters: 10000, no. of movies: 1\n",
      "\n",
      "first 4 movies, first 6 raters:\n",
      "[[2 4 4 4]\n",
      " [4 5 3 3]\n",
      " [5 5 5 5]\n",
      " [3 3 3 4]\n",
      " [4 4 4 5]\n",
      " [4 3 3 4]]\n",
      "\n",
      "head of movies DataFrame:\n",
      "   year                                              title\n",
      "0  1996                                   Independence Day\n",
      "1  2000                                        The Patriot\n",
      "2  2004                             The Day After Tomorrow\n",
      "3  2003  Pirates of the Caribbean: The Curse of the Bla...\n",
      "4  1990                                       Pretty Woman\n"
     ]
    }
   ],
   "source": [
    "print('no. of raters: %d, no. of movies: %d' % ratings.shape)\n",
    "print('no. of miss_cong raters: %d, no. of movies: %d' % miss_cong.shape)\n",
    "print()\n",
    "print('first 4 movies, first 6 raters:')\n",
    "print(ratings.values[:6, :4]) #notice ratings is still a pandas DataFrame, its `values` field is its numpy 2d array (matrix)\n",
    "print()\n",
    "print('head of movies DataFrame:')\n",
    "print(movies.head())"
   ]
  },
  {
   "cell_type": "markdown",
   "metadata": {},
   "source": [
    "# Missing Data Exploration"
   ]
  },
  {
   "cell_type": "markdown",
   "metadata": {},
   "source": [
    "## General"
   ]
  },
  {
   "cell_type": "code",
   "execution_count": 3,
   "metadata": {},
   "outputs": [
    {
     "name": "stdout",
     "output_type": "stream",
     "text": [
      "total missing values: 152414 out of total observations: 990000\n",
      "so that's 0.15 missing\n"
     ]
    }
   ],
   "source": [
    "# putting None's for zeros\n",
    "ratings[ratings == 0] = None\n",
    "\n",
    "total_missing = np.sum(np.isnan(ratings.values))\n",
    "total_obs = np.prod(ratings.shape)\n",
    "\n",
    "print('total missing values: %d out of total observations: %d' % (total_missing, total_obs))\n",
    "print('so that\\'s %.2f missing' % (total_missing / total_obs))"
   ]
  },
  {
   "cell_type": "markdown",
   "metadata": {},
   "source": [
    "## Marginal on Movies"
   ]
  },
  {
   "cell_type": "code",
   "execution_count": 4,
   "metadata": {},
   "outputs": [
    {
     "data": {
      "text/html": [
       "<div>\n",
       "<style scoped>\n",
       "    .dataframe tbody tr th:only-of-type {\n",
       "        vertical-align: middle;\n",
       "    }\n",
       "\n",
       "    .dataframe tbody tr th {\n",
       "        vertical-align: top;\n",
       "    }\n",
       "\n",
       "    .dataframe thead th {\n",
       "        text-align: right;\n",
       "    }\n",
       "</style>\n",
       "<table border=\"1\" class=\"dataframe\">\n",
       "  <thead>\n",
       "    <tr style=\"text-align: right;\">\n",
       "      <th></th>\n",
       "      <th>year</th>\n",
       "      <th>title</th>\n",
       "      <th>n_missing</th>\n",
       "    </tr>\n",
       "  </thead>\n",
       "  <tbody>\n",
       "    <tr>\n",
       "      <th>0</th>\n",
       "      <td>1996</td>\n",
       "      <td>Independence Day</td>\n",
       "      <td>0</td>\n",
       "    </tr>\n",
       "    <tr>\n",
       "      <th>1</th>\n",
       "      <td>2000</td>\n",
       "      <td>The Patriot</td>\n",
       "      <td>0</td>\n",
       "    </tr>\n",
       "    <tr>\n",
       "      <th>2</th>\n",
       "      <td>2004</td>\n",
       "      <td>The Day After Tomorrow</td>\n",
       "      <td>0</td>\n",
       "    </tr>\n",
       "    <tr>\n",
       "      <th>3</th>\n",
       "      <td>2003</td>\n",
       "      <td>Pirates of the Caribbean: The Curse of the Bla...</td>\n",
       "      <td>0</td>\n",
       "    </tr>\n",
       "    <tr>\n",
       "      <th>4</th>\n",
       "      <td>1990</td>\n",
       "      <td>Pretty Woman</td>\n",
       "      <td>0</td>\n",
       "    </tr>\n",
       "    <tr>\n",
       "      <th>5</th>\n",
       "      <td>1994</td>\n",
       "      <td>Forrest Gump</td>\n",
       "      <td>0</td>\n",
       "    </tr>\n",
       "    <tr>\n",
       "      <th>6</th>\n",
       "      <td>1999</td>\n",
       "      <td>The Green Mile</td>\n",
       "      <td>0</td>\n",
       "    </tr>\n",
       "    <tr>\n",
       "      <th>7</th>\n",
       "      <td>1997</td>\n",
       "      <td>Con Air</td>\n",
       "      <td>0</td>\n",
       "    </tr>\n",
       "    <tr>\n",
       "      <th>8</th>\n",
       "      <td>1996</td>\n",
       "      <td>Twister</td>\n",
       "      <td>0</td>\n",
       "    </tr>\n",
       "    <tr>\n",
       "      <th>9</th>\n",
       "      <td>2002</td>\n",
       "      <td>Sweet Home Alabama</td>\n",
       "      <td>0</td>\n",
       "    </tr>\n",
       "    <tr>\n",
       "      <th>10</th>\n",
       "      <td>2001</td>\n",
       "      <td>Pearl Harbor</td>\n",
       "      <td>0</td>\n",
       "    </tr>\n",
       "    <tr>\n",
       "      <th>11</th>\n",
       "      <td>1998</td>\n",
       "      <td>Armageddon</td>\n",
       "      <td>0</td>\n",
       "    </tr>\n",
       "    <tr>\n",
       "      <th>12</th>\n",
       "      <td>1996</td>\n",
       "      <td>The Rock</td>\n",
       "      <td>0</td>\n",
       "    </tr>\n",
       "    <tr>\n",
       "      <th>13</th>\n",
       "      <td>2000</td>\n",
       "      <td>What Women Want</td>\n",
       "      <td>0</td>\n",
       "    </tr>\n",
       "    <tr>\n",
       "      <th>14</th>\n",
       "      <td>2003</td>\n",
       "      <td>Bruce Almighty</td>\n",
       "      <td>854</td>\n",
       "    </tr>\n",
       "    <tr>\n",
       "      <th>15</th>\n",
       "      <td>2001</td>\n",
       "      <td>Oceans Eleven</td>\n",
       "      <td>788</td>\n",
       "    </tr>\n",
       "    <tr>\n",
       "      <th>16</th>\n",
       "      <td>2002</td>\n",
       "      <td>The Bourne Identity</td>\n",
       "      <td>952</td>\n",
       "    </tr>\n",
       "    <tr>\n",
       "      <th>17</th>\n",
       "      <td>2003</td>\n",
       "      <td>The Italian Job</td>\n",
       "      <td>1338</td>\n",
       "    </tr>\n",
       "    <tr>\n",
       "      <th>18</th>\n",
       "      <td>2004</td>\n",
       "      <td>I Robot</td>\n",
       "      <td>1232</td>\n",
       "    </tr>\n",
       "    <tr>\n",
       "      <th>19</th>\n",
       "      <td>1999</td>\n",
       "      <td>American Beauty</td>\n",
       "      <td>2046</td>\n",
       "    </tr>\n",
       "  </tbody>\n",
       "</table>\n",
       "</div>"
      ],
      "text/plain": [
       "    year                                              title  n_missing\n",
       "0   1996                                   Independence Day          0\n",
       "1   2000                                        The Patriot          0\n",
       "2   2004                             The Day After Tomorrow          0\n",
       "3   2003  Pirates of the Caribbean: The Curse of the Bla...          0\n",
       "4   1990                                       Pretty Woman          0\n",
       "5   1994                                       Forrest Gump          0\n",
       "6   1999                                     The Green Mile          0\n",
       "7   1997                                            Con Air          0\n",
       "8   1996                                            Twister          0\n",
       "9   2002                                 Sweet Home Alabama          0\n",
       "10  2001                                       Pearl Harbor          0\n",
       "11  1998                                         Armageddon          0\n",
       "12  1996                                           The Rock          0\n",
       "13  2000                                    What Women Want          0\n",
       "14  2003                                     Bruce Almighty        854\n",
       "15  2001                                      Oceans Eleven        788\n",
       "16  2002                                The Bourne Identity        952\n",
       "17  2003                                    The Italian Job       1338\n",
       "18  2004                                            I Robot       1232\n",
       "19  1999                                    American Beauty       2046"
      ]
     },
     "execution_count": 4,
     "metadata": {},
     "output_type": "execute_result"
    }
   ],
   "source": [
    "# n missing per movie, adding it is another column of movies\n",
    "missing_per_movie = np.isnan(ratings.values).sum(axis=0)\n",
    "movies['n_missing'] = missing_per_movie\n",
    "\n",
    "movies.head(20)"
   ]
  },
  {
   "cell_type": "code",
   "execution_count": 5,
   "metadata": {},
   "outputs": [
    {
     "data": {
      "text/plain": [
       "19    2046\n",
       "Name: n_missing, dtype: int64"
      ]
     },
     "execution_count": 5,
     "metadata": {},
     "output_type": "execute_result"
    }
   ],
   "source": [
    "# finding n missing of a specific movie\n",
    "movies.loc[movies['title'] == 'American Beauty', 'n_missing']"
   ]
  },
  {
   "cell_type": "code",
   "execution_count": 6,
   "metadata": {},
   "outputs": [
    {
     "name": "stdout",
     "output_type": "stream",
     "text": [
      "movie with minimum n missing: Gladiator, with 722 missing\n",
      "movie with maximum n missing: Sideways, with 4702 missing\n",
      "movie with median n missing: A Few Good Men, with 1638 missing\n",
      "movie with mean n missing: The Bourne Supremacy, with 1793 missing\n"
     ]
    }
   ],
   "source": [
    "# finding min, max, median and mean movie per n_missing, ignoring first 14 movies with no missing at all\n",
    "movies_with_missing = movies.iloc[14:, :]\n",
    "\n",
    "def get_val_of_col_by_col(df, by, col, value):\n",
    "    idx = (np.abs(df[by] - value)).idxmin() # taking id *closest* to value because mean is involved\n",
    "    return df.at[idx, col]\n",
    "\n",
    "min_n_missing = np.min(movies_with_missing['n_missing'])\n",
    "min_n_missing_movie = get_val_of_col_by_col(movies_with_missing, 'n_missing', 'title', min_n_missing)\n",
    "\n",
    "max_n_missing = np.max(movies_with_missing['n_missing'])\n",
    "max_n_missing_movie = get_val_of_col_by_col(movies_with_missing, 'n_missing', 'title', max_n_missing)\n",
    "\n",
    "median_n_missing = np.median(movies_with_missing['n_missing'])\n",
    "median_n_missing_movie = get_val_of_col_by_col(movies_with_missing, 'n_missing', 'title', median_n_missing)\n",
    "\n",
    "mean_n_missing = np.mean(movies_with_missing['n_missing'])\n",
    "mean_n_missing_movie = get_val_of_col_by_col(movies_with_missing, 'n_missing', 'title', mean_n_missing)\n",
    "\n",
    "print('movie with minimum n missing: %s, with %d missing' % (min_n_missing_movie, min_n_missing))\n",
    "print('movie with maximum n missing: %s, with %d missing' % (max_n_missing_movie, max_n_missing))\n",
    "print('movie with median n missing: %s, with %d missing' % (median_n_missing_movie, median_n_missing))\n",
    "print('movie with mean n missing: %s, with %d missing' % (mean_n_missing_movie, mean_n_missing))"
   ]
  },
  {
   "cell_type": "code",
   "execution_count": 7,
   "metadata": {},
   "outputs": [
    {
     "name": "stderr",
     "output_type": "stream",
     "text": [
      "/home/jonathansomer/.virtualenvs/ml/lib/python3.6/site-packages/scipy/stats/stats.py:1713: FutureWarning: Using a non-tuple sequence for multidimensional indexing is deprecated; use `arr[tuple(seq)]` instead of `arr[seq]`. In the future this will be interpreted as an array index, `arr[np.array(seq)]`, which will result either in an error or a different result.\n",
      "  return np.add.reduce(sorted[indexer] * weights, axis=axis) / sumval\n"
     ]
    },
    {
     "data": {
      "image/png": "[encoded data removed]",
      "text/plain": [
       "<Figure size 432x288 with 1 Axes>"
      ]
     },
     "metadata": {
      "needs_background": "light"
     },
     "output_type": "display_data"
    }
   ],
   "source": [
    "# histogram\n",
    "sns.distplot(movies['n_missing'], kde=False, rug=True)\n",
    "plt.ylabel('n movies')\n",
    "plt.show()"
   ]
  },
  {
   "cell_type": "markdown",
   "metadata": {},
   "source": [
    "## Marginal on Raters"
   ]
  },
  {
   "cell_type": "code",
   "execution_count": 8,
   "metadata": {},
   "outputs": [
    {
     "data": {
      "text/html": [
       "<div>\n",
       "<style scoped>\n",
       "    .dataframe tbody tr th:only-of-type {\n",
       "        vertical-align: middle;\n",
       "    }\n",
       "\n",
       "    .dataframe tbody tr th {\n",
       "        vertical-align: top;\n",
       "    }\n",
       "\n",
       "    .dataframe thead th {\n",
       "        text-align: right;\n",
       "    }\n",
       "</style>\n",
       "<table border=\"1\" class=\"dataframe\">\n",
       "  <thead>\n",
       "    <tr style=\"text-align: right;\">\n",
       "      <th></th>\n",
       "      <th>rater</th>\n",
       "      <th>n_missing</th>\n",
       "    </tr>\n",
       "  </thead>\n",
       "  <tbody>\n",
       "    <tr>\n",
       "      <th>0</th>\n",
       "      <td>0</td>\n",
       "      <td>17</td>\n",
       "    </tr>\n",
       "    <tr>\n",
       "      <th>1</th>\n",
       "      <td>1</td>\n",
       "      <td>13</td>\n",
       "    </tr>\n",
       "    <tr>\n",
       "      <th>2</th>\n",
       "      <td>2</td>\n",
       "      <td>28</td>\n",
       "    </tr>\n",
       "    <tr>\n",
       "      <th>3</th>\n",
       "      <td>3</td>\n",
       "      <td>4</td>\n",
       "    </tr>\n",
       "    <tr>\n",
       "      <th>4</th>\n",
       "      <td>4</td>\n",
       "      <td>9</td>\n",
       "    </tr>\n",
       "    <tr>\n",
       "      <th>5</th>\n",
       "      <td>5</td>\n",
       "      <td>8</td>\n",
       "    </tr>\n",
       "    <tr>\n",
       "      <th>6</th>\n",
       "      <td>6</td>\n",
       "      <td>22</td>\n",
       "    </tr>\n",
       "    <tr>\n",
       "      <th>7</th>\n",
       "      <td>7</td>\n",
       "      <td>19</td>\n",
       "    </tr>\n",
       "    <tr>\n",
       "      <th>8</th>\n",
       "      <td>8</td>\n",
       "      <td>52</td>\n",
       "    </tr>\n",
       "    <tr>\n",
       "      <th>9</th>\n",
       "      <td>9</td>\n",
       "      <td>6</td>\n",
       "    </tr>\n",
       "  </tbody>\n",
       "</table>\n",
       "</div>"
      ],
      "text/plain": [
       "   rater  n_missing\n",
       "0      0         17\n",
       "1      1         13\n",
       "2      2         28\n",
       "3      3          4\n",
       "4      4          9\n",
       "5      5          8\n",
       "6      6         22\n",
       "7      7         19\n",
       "8      8         52\n",
       "9      9          6"
      ]
     },
     "execution_count": 8,
     "metadata": {},
     "output_type": "execute_result"
    }
   ],
   "source": [
    "# n missing per rater, creating a new DataFrame\n",
    "raters = pd.DataFrame({'rater': range(ratings.shape[0])})\n",
    "missing_per_rater = np.isnan(ratings.values).sum(axis=1)\n",
    "raters['n_missing'] = missing_per_rater\n",
    "\n",
    "raters.head(10)"
   ]
  },
  {
   "cell_type": "code",
   "execution_count": 9,
   "metadata": {},
   "outputs": [
    {
     "name": "stdout",
     "output_type": "stream",
     "text": [
      "rater with minimum n missing: 81, with 0 missing\n",
      "rater with maximum n missing: 7007, with 71 missing\n",
      "rater with median n missing: 1, with 13 missing\n",
      "rater with mean n missing: 21, with 15 missing\n"
     ]
    }
   ],
   "source": [
    "# finding min, max, median and mean rater per n_missing\n",
    "min_n_missing = np.min(raters['n_missing'])\n",
    "min_n_missing_rater = get_val_of_col_by_col(raters, 'n_missing', 'rater', min_n_missing)\n",
    "\n",
    "max_n_missing = np.max(raters['n_missing'])\n",
    "max_n_missing_rater = get_val_of_col_by_col(raters, 'n_missing', 'rater', max_n_missing)\n",
    "\n",
    "median_n_missing = np.median(raters['n_missing'])\n",
    "median_n_missing_rater = get_val_of_col_by_col(raters, 'n_missing', 'rater', median_n_missing)\n",
    "\n",
    "mean_n_missing = np.mean(raters['n_missing'])\n",
    "mean_n_missing_rater = get_val_of_col_by_col(raters, 'n_missing', 'rater', mean_n_missing)\n",
    "\n",
    "print('rater with minimum n missing: %s, with %d missing' % (min_n_missing_rater, min_n_missing))\n",
    "print('rater with maximum n missing: %s, with %d missing' % (max_n_missing_rater, max_n_missing))\n",
    "print('rater with median n missing: %s, with %d missing' % (median_n_missing_rater, median_n_missing))\n",
    "print('rater with mean n missing: %s, with %d missing' % (mean_n_missing_rater, mean_n_missing))"
   ]
  },
  {
   "cell_type": "code",
   "execution_count": 10,
   "metadata": {},
   "outputs": [
    {
     "data": {
      "image/png": "[encoded data removed]",
      "text/plain": [
       "<Figure size 432x288 with 1 Axes>"
      ]
     },
     "metadata": {
      "needs_background": "light"
     },
     "output_type": "display_data"
    }
   ],
   "source": [
    "# histogram\n",
    "sns.distplot(raters['n_missing'], kde=False, rug=True)\n",
    "plt.ylabel('n raters')\n",
    "plt.show()"
   ]
  },
  {
   "cell_type": "markdown",
   "metadata": {},
   "source": [
    "# Scores Exploration (ignoring missing values)"
   ]
  },
  {
   "cell_type": "markdown",
   "metadata": {},
   "source": [
    "## General"
   ]
  },
  {
   "cell_type": "code",
   "execution_count": 11,
   "metadata": {},
   "outputs": [
    {
     "name": "stdout",
     "output_type": "stream",
     "text": [
      "min movies score: 1.00\n",
      "max movies score: 5.00\n",
      "median movies score: 4.00\n",
      "mean movies score: 3.93\n"
     ]
    }
   ],
   "source": [
    "# min, max, median, mean:\n",
    "print('min movies score: %.2f' % np.nanmin(ratings.values))\n",
    "print('max movies score: %.2f' % np.nanmax(ratings.values))\n",
    "print('median movies score: %.2f' % np.nanmedian(ratings.values))\n",
    "print('mean movies score: %.2f' % np.nanmean(ratings.values))"
   ]
  },
  {
   "cell_type": "code",
   "execution_count": 12,
   "metadata": {},
   "outputs": [
    {
     "data": {
      "image/png": "[encoded data removed]",
      "text/plain": [
       "<Figure size 432x288 with 1 Axes>"
      ]
     },
     "metadata": {
      "needs_background": "light"
     },
     "output_type": "display_data"
    }
   ],
   "source": [
    "# histogram (barchart really)\n",
    "sns.distplot(ratings.values[~np.isnan(ratings.values)], kde=False, rug=True)\n",
    "plt.ylabel('n scores')\n",
    "plt.show()"
   ]
  },
  {
   "cell_type": "markdown",
   "metadata": {},
   "source": [
    "## Mean Scores, Marginal on Movies"
   ]
  },
  {
   "cell_type": "code",
   "execution_count": 13,
   "metadata": {},
   "outputs": [
    {
     "data": {
      "text/html": [
       "<div>\n",
       "<style scoped>\n",
       "    .dataframe tbody tr th:only-of-type {\n",
       "        vertical-align: middle;\n",
       "    }\n",
       "\n",
       "    .dataframe tbody tr th {\n",
       "        vertical-align: top;\n",
       "    }\n",
       "\n",
       "    .dataframe thead th {\n",
       "        text-align: right;\n",
       "    }\n",
       "</style>\n",
       "<table border=\"1\" class=\"dataframe\">\n",
       "  <thead>\n",
       "    <tr style=\"text-align: right;\">\n",
       "      <th></th>\n",
       "      <th>year</th>\n",
       "      <th>title</th>\n",
       "      <th>n_missing</th>\n",
       "      <th>mean_score</th>\n",
       "    </tr>\n",
       "  </thead>\n",
       "  <tbody>\n",
       "    <tr>\n",
       "      <th>0</th>\n",
       "      <td>1996</td>\n",
       "      <td>Independence Day</td>\n",
       "      <td>0</td>\n",
       "      <td>4.1463</td>\n",
       "    </tr>\n",
       "    <tr>\n",
       "      <th>1</th>\n",
       "      <td>2000</td>\n",
       "      <td>The Patriot</td>\n",
       "      <td>0</td>\n",
       "      <td>4.1073</td>\n",
       "    </tr>\n",
       "    <tr>\n",
       "      <th>2</th>\n",
       "      <td>2004</td>\n",
       "      <td>The Day After Tomorrow</td>\n",
       "      <td>0</td>\n",
       "      <td>3.7045</td>\n",
       "    </tr>\n",
       "    <tr>\n",
       "      <th>3</th>\n",
       "      <td>2003</td>\n",
       "      <td>Pirates of the Caribbean: The Curse of the Bla...</td>\n",
       "      <td>0</td>\n",
       "      <td>4.3482</td>\n",
       "    </tr>\n",
       "    <tr>\n",
       "      <th>4</th>\n",
       "      <td>1990</td>\n",
       "      <td>Pretty Woman</td>\n",
       "      <td>0</td>\n",
       "      <td>4.0748</td>\n",
       "    </tr>\n",
       "    <tr>\n",
       "      <th>5</th>\n",
       "      <td>1994</td>\n",
       "      <td>Forrest Gump</td>\n",
       "      <td>0</td>\n",
       "      <td>4.5143</td>\n",
       "    </tr>\n",
       "    <tr>\n",
       "      <th>6</th>\n",
       "      <td>1999</td>\n",
       "      <td>The Green Mile</td>\n",
       "      <td>0</td>\n",
       "      <td>4.4563</td>\n",
       "    </tr>\n",
       "    <tr>\n",
       "      <th>7</th>\n",
       "      <td>1997</td>\n",
       "      <td>Con Air</td>\n",
       "      <td>0</td>\n",
       "      <td>3.7287</td>\n",
       "    </tr>\n",
       "    <tr>\n",
       "      <th>8</th>\n",
       "      <td>1996</td>\n",
       "      <td>Twister</td>\n",
       "      <td>0</td>\n",
       "      <td>3.7546</td>\n",
       "    </tr>\n",
       "    <tr>\n",
       "      <th>9</th>\n",
       "      <td>2002</td>\n",
       "      <td>Sweet Home Alabama</td>\n",
       "      <td>0</td>\n",
       "      <td>3.6749</td>\n",
       "    </tr>\n",
       "  </tbody>\n",
       "</table>\n",
       "</div>"
      ],
      "text/plain": [
       "   year                                              title  n_missing  \\\n",
       "0  1996                                   Independence Day          0   \n",
       "1  2000                                        The Patriot          0   \n",
       "2  2004                             The Day After Tomorrow          0   \n",
       "3  2003  Pirates of the Caribbean: The Curse of the Bla...          0   \n",
       "4  1990                                       Pretty Woman          0   \n",
       "5  1994                                       Forrest Gump          0   \n",
       "6  1999                                     The Green Mile          0   \n",
       "7  1997                                            Con Air          0   \n",
       "8  1996                                            Twister          0   \n",
       "9  2002                                 Sweet Home Alabama          0   \n",
       "\n",
       "   mean_score  \n",
       "0      4.1463  \n",
       "1      4.1073  \n",
       "2      3.7045  \n",
       "3      4.3482  \n",
       "4      4.0748  \n",
       "5      4.5143  \n",
       "6      4.4563  \n",
       "7      3.7287  \n",
       "8      3.7546  \n",
       "9      3.6749  "
      ]
     },
     "execution_count": 13,
     "metadata": {},
     "output_type": "execute_result"
    }
   ],
   "source": [
    "# mean score per movie, adding it is another column of movies\n",
    "mean_score_per_movie = np.nanmean(ratings.values, axis=0)\n",
    "movies['mean_score'] = mean_score_per_movie\n",
    "\n",
    "movies.head(10)"
   ]
  },
  {
   "cell_type": "code",
   "execution_count": 14,
   "metadata": {},
   "outputs": [
    {
     "name": "stdout",
     "output_type": "stream",
     "text": [
      "movie with minimum mean score: The Royal Tenenbaums, with mean 2.73\n",
      "movie with maximum mean score: The Shawshank Redemption Special Edition, with mean 4.63\n",
      "movie with median mean score: Air Force One, with mean 3.91\n",
      "movie with mean mean score: American Pie, with mean 3.91\n"
     ]
    }
   ],
   "source": [
    "# finding min, max, median and mean movie per mean_score\n",
    "min_mean_score = np.min(movies['mean_score'])\n",
    "min_mean_score_movie = get_val_of_col_by_col(movies, 'mean_score', 'title', min_mean_score)\n",
    "\n",
    "max_mean_score = np.max(movies['mean_score'])\n",
    "max_mean_score_movie = get_val_of_col_by_col(movies, 'mean_score', 'title', max_mean_score)\n",
    "\n",
    "median_mean_score = np.median(movies['mean_score'])\n",
    "median_mean_score_movie = get_val_of_col_by_col(movies, 'mean_score', 'title', median_mean_score)\n",
    "\n",
    "mean_mean_score = np.mean(movies['mean_score'])\n",
    "mean_mean_score_movie = get_val_of_col_by_col(movies, 'mean_score', 'title', mean_mean_score)\n",
    "\n",
    "print('movie with minimum mean score: %s, with mean %.2f' % (min_mean_score_movie, min_mean_score))\n",
    "print('movie with maximum mean score: %s, with mean %.2f' % (max_mean_score_movie, max_mean_score))\n",
    "print('movie with median mean score: %s, with mean %.2f' % (median_mean_score_movie, median_mean_score))\n",
    "print('movie with mean mean score: %s, with mean %.2f' % (mean_mean_score_movie, mean_mean_score))"
   ]
  },
  {
   "cell_type": "code",
   "execution_count": 15,
   "metadata": {},
   "outputs": [
    {
     "data": {
      "image/png": "[encoded data removed]",
      "text/plain": [
       "<Figure size 432x288 with 1 Axes>"
      ]
     },
     "metadata": {
      "needs_background": "light"
     },
     "output_type": "display_data"
    }
   ],
   "source": [
    "# histogram\n",
    "sns.distplot(movies['mean_score'], kde=False, rug=True)\n",
    "plt.ylabel('n movies')\n",
    "plt.show()"
   ]
  },
  {
   "cell_type": "markdown",
   "metadata": {},
   "source": [
    "## Mean Scores, Marginal on Raters"
   ]
  },
  {
   "cell_type": "code",
   "execution_count": 16,
   "metadata": {},
   "outputs": [
    {
     "data": {
      "text/html": [
       "<div>\n",
       "<style scoped>\n",
       "    .dataframe tbody tr th:only-of-type {\n",
       "        vertical-align: middle;\n",
       "    }\n",
       "\n",
       "    .dataframe tbody tr th {\n",
       "        vertical-align: top;\n",
       "    }\n",
       "\n",
       "    .dataframe thead th {\n",
       "        text-align: right;\n",
       "    }\n",
       "</style>\n",
       "<table border=\"1\" class=\"dataframe\">\n",
       "  <thead>\n",
       "    <tr style=\"text-align: right;\">\n",
       "      <th></th>\n",
       "      <th>rater</th>\n",
       "      <th>n_missing</th>\n",
       "      <th>mean_score</th>\n",
       "    </tr>\n",
       "  </thead>\n",
       "  <tbody>\n",
       "    <tr>\n",
       "      <th>0</th>\n",
       "      <td>0</td>\n",
       "      <td>17</td>\n",
       "      <td>3.792683</td>\n",
       "    </tr>\n",
       "    <tr>\n",
       "      <th>1</th>\n",
       "      <td>1</td>\n",
       "      <td>13</td>\n",
       "      <td>2.895349</td>\n",
       "    </tr>\n",
       "    <tr>\n",
       "      <th>2</th>\n",
       "      <td>2</td>\n",
       "      <td>28</td>\n",
       "      <td>4.901408</td>\n",
       "    </tr>\n",
       "    <tr>\n",
       "      <th>3</th>\n",
       "      <td>3</td>\n",
       "      <td>4</td>\n",
       "      <td>3.736842</td>\n",
       "    </tr>\n",
       "    <tr>\n",
       "      <th>4</th>\n",
       "      <td>4</td>\n",
       "      <td>9</td>\n",
       "      <td>3.833333</td>\n",
       "    </tr>\n",
       "    <tr>\n",
       "      <th>5</th>\n",
       "      <td>5</td>\n",
       "      <td>8</td>\n",
       "      <td>3.582418</td>\n",
       "    </tr>\n",
       "    <tr>\n",
       "      <th>6</th>\n",
       "      <td>6</td>\n",
       "      <td>22</td>\n",
       "      <td>4.688312</td>\n",
       "    </tr>\n",
       "    <tr>\n",
       "      <th>7</th>\n",
       "      <td>7</td>\n",
       "      <td>19</td>\n",
       "      <td>4.287500</td>\n",
       "    </tr>\n",
       "    <tr>\n",
       "      <th>8</th>\n",
       "      <td>8</td>\n",
       "      <td>52</td>\n",
       "      <td>4.170213</td>\n",
       "    </tr>\n",
       "    <tr>\n",
       "      <th>9</th>\n",
       "      <td>9</td>\n",
       "      <td>6</td>\n",
       "      <td>3.903226</td>\n",
       "    </tr>\n",
       "  </tbody>\n",
       "</table>\n",
       "</div>"
      ],
      "text/plain": [
       "   rater  n_missing  mean_score\n",
       "0      0         17    3.792683\n",
       "1      1         13    2.895349\n",
       "2      2         28    4.901408\n",
       "3      3          4    3.736842\n",
       "4      4          9    3.833333\n",
       "5      5          8    3.582418\n",
       "6      6         22    4.688312\n",
       "7      7         19    4.287500\n",
       "8      8         52    4.170213\n",
       "9      9          6    3.903226"
      ]
     },
     "execution_count": 16,
     "metadata": {},
     "output_type": "execute_result"
    }
   ],
   "source": [
    "# mean score per rater, adding it is another column of raters\n",
    "mean_score_per_rater = np.nanmean(ratings.values, axis=1)\n",
    "raters['mean_score'] = mean_score_per_rater\n",
    "\n",
    "raters.head(10)"
   ]
  },
  {
   "cell_type": "code",
   "execution_count": 17,
   "metadata": {},
   "outputs": [
    {
     "name": "stdout",
     "output_type": "stream",
     "text": [
      "rater with minimum mean score: 3961, with mean 2.04\n",
      "rater with maximum mean score: 957, with mean 5.00\n",
      "rater with median mean score: 7404, with mean 3.93\n",
      "rater with mean mean score: 857, with mean 3.93\n"
     ]
    }
   ],
   "source": [
    "# finding min, max, median and mean rater per mean_score\n",
    "min_mean_score = np.min(raters['mean_score'])\n",
    "min_mean_score_rater = get_val_of_col_by_col(raters, 'mean_score', 'rater', min_mean_score)\n",
    "\n",
    "max_mean_score = np.max(raters['mean_score'])\n",
    "max_mean_score_rater = get_val_of_col_by_col(raters, 'mean_score', 'rater', max_mean_score)\n",
    "\n",
    "median_mean_score = np.median(raters['mean_score'])\n",
    "median_mean_score_rater = get_val_of_col_by_col(raters, 'mean_score', 'rater', median_mean_score)\n",
    "\n",
    "mean_mean_score = np.mean(raters['mean_score'])\n",
    "mean_mean_score_rater = get_val_of_col_by_col(raters, 'mean_score', 'rater', mean_mean_score)\n",
    "\n",
    "print('rater with minimum mean score: %s, with mean %.2f' % (min_mean_score_rater, min_mean_score))\n",
    "print('rater with maximum mean score: %s, with mean %.2f' % (max_mean_score_rater, max_mean_score))\n",
    "print('rater with median mean score: %s, with mean %.2f' % (median_mean_score_rater, median_mean_score))\n",
    "print('rater with mean mean score: %s, with mean %.2f' % (mean_mean_score_rater, mean_mean_score))"
   ]
  },
  {
   "cell_type": "code",
   "execution_count": 18,
   "metadata": {},
   "outputs": [
    {
     "data": {
      "image/png": "[encoded data removed]",
      "text/plain": [
       "<Figure size 432x288 with 1 Axes>"
      ]
     },
     "metadata": {
      "needs_background": "light"
     },
     "output_type": "display_data"
    }
   ],
   "source": [
    "# histogram\n",
    "sns.distplot(raters['mean_score'], kde=False, rug=True)\n",
    "plt.ylabel('n raters')\n",
    "plt.show()"
   ]
  },
  {
   "cell_type": "markdown",
   "metadata": {},
   "source": [
    "## Mean Scores, Marginal on Release Year"
   ]
  },
  {
   "cell_type": "markdown",
   "metadata": {},
   "source": [
    "**Warning**: a lot of pandas magic ahead."
   ]
  },
  {
   "cell_type": "code",
   "execution_count": 19,
   "metadata": {},
   "outputs": [
    {
     "data": {
      "text/html": [
       "<div>\n",
       "<style scoped>\n",
       "    .dataframe tbody tr th:only-of-type {\n",
       "        vertical-align: middle;\n",
       "    }\n",
       "\n",
       "    .dataframe tbody tr th {\n",
       "        vertical-align: top;\n",
       "    }\n",
       "\n",
       "    .dataframe thead th {\n",
       "        text-align: right;\n",
       "    }\n",
       "</style>\n",
       "<table border=\"1\" class=\"dataframe\">\n",
       "  <thead>\n",
       "    <tr style=\"text-align: right;\">\n",
       "      <th></th>\n",
       "      <th>0</th>\n",
       "      <th>1</th>\n",
       "      <th>2</th>\n",
       "      <th>3</th>\n",
       "      <th>4</th>\n",
       "      <th>5</th>\n",
       "      <th>6</th>\n",
       "      <th>7</th>\n",
       "      <th>8</th>\n",
       "      <th>9</th>\n",
       "      <th>...</th>\n",
       "      <th>9991</th>\n",
       "      <th>9992</th>\n",
       "      <th>9993</th>\n",
       "      <th>9994</th>\n",
       "      <th>9995</th>\n",
       "      <th>9996</th>\n",
       "      <th>9997</th>\n",
       "      <th>9998</th>\n",
       "      <th>9999</th>\n",
       "      <th>year</th>\n",
       "    </tr>\n",
       "  </thead>\n",
       "  <tbody>\n",
       "    <tr>\n",
       "      <th>0</th>\n",
       "      <td>2.0</td>\n",
       "      <td>4.0</td>\n",
       "      <td>5.0</td>\n",
       "      <td>3.0</td>\n",
       "      <td>4.0</td>\n",
       "      <td>4.0</td>\n",
       "      <td>5.0</td>\n",
       "      <td>3.0</td>\n",
       "      <td>5.0</td>\n",
       "      <td>4.0</td>\n",
       "      <td>...</td>\n",
       "      <td>4.0</td>\n",
       "      <td>4.0</td>\n",
       "      <td>4.0</td>\n",
       "      <td>4.0</td>\n",
       "      <td>5.0</td>\n",
       "      <td>3.0</td>\n",
       "      <td>4.0</td>\n",
       "      <td>4.0</td>\n",
       "      <td>2.0</td>\n",
       "      <td>1996</td>\n",
       "    </tr>\n",
       "    <tr>\n",
       "      <th>1</th>\n",
       "      <td>4.0</td>\n",
       "      <td>5.0</td>\n",
       "      <td>5.0</td>\n",
       "      <td>3.0</td>\n",
       "      <td>4.0</td>\n",
       "      <td>3.0</td>\n",
       "      <td>4.0</td>\n",
       "      <td>5.0</td>\n",
       "      <td>5.0</td>\n",
       "      <td>4.0</td>\n",
       "      <td>...</td>\n",
       "      <td>3.0</td>\n",
       "      <td>5.0</td>\n",
       "      <td>5.0</td>\n",
       "      <td>2.0</td>\n",
       "      <td>5.0</td>\n",
       "      <td>3.0</td>\n",
       "      <td>5.0</td>\n",
       "      <td>4.0</td>\n",
       "      <td>4.0</td>\n",
       "      <td>2000</td>\n",
       "    </tr>\n",
       "    <tr>\n",
       "      <th>2</th>\n",
       "      <td>4.0</td>\n",
       "      <td>3.0</td>\n",
       "      <td>5.0</td>\n",
       "      <td>3.0</td>\n",
       "      <td>4.0</td>\n",
       "      <td>3.0</td>\n",
       "      <td>5.0</td>\n",
       "      <td>3.0</td>\n",
       "      <td>5.0</td>\n",
       "      <td>4.0</td>\n",
       "      <td>...</td>\n",
       "      <td>3.0</td>\n",
       "      <td>5.0</td>\n",
       "      <td>4.0</td>\n",
       "      <td>2.0</td>\n",
       "      <td>5.0</td>\n",
       "      <td>3.0</td>\n",
       "      <td>3.0</td>\n",
       "      <td>4.0</td>\n",
       "      <td>2.0</td>\n",
       "      <td>2004</td>\n",
       "    </tr>\n",
       "    <tr>\n",
       "      <th>3</th>\n",
       "      <td>4.0</td>\n",
       "      <td>3.0</td>\n",
       "      <td>5.0</td>\n",
       "      <td>4.0</td>\n",
       "      <td>5.0</td>\n",
       "      <td>4.0</td>\n",
       "      <td>5.0</td>\n",
       "      <td>4.0</td>\n",
       "      <td>5.0</td>\n",
       "      <td>4.0</td>\n",
       "      <td>...</td>\n",
       "      <td>4.0</td>\n",
       "      <td>4.0</td>\n",
       "      <td>5.0</td>\n",
       "      <td>2.0</td>\n",
       "      <td>5.0</td>\n",
       "      <td>3.0</td>\n",
       "      <td>5.0</td>\n",
       "      <td>4.0</td>\n",
       "      <td>4.0</td>\n",
       "      <td>2003</td>\n",
       "    </tr>\n",
       "    <tr>\n",
       "      <th>4</th>\n",
       "      <td>5.0</td>\n",
       "      <td>4.0</td>\n",
       "      <td>5.0</td>\n",
       "      <td>4.0</td>\n",
       "      <td>4.0</td>\n",
       "      <td>4.0</td>\n",
       "      <td>5.0</td>\n",
       "      <td>4.0</td>\n",
       "      <td>5.0</td>\n",
       "      <td>5.0</td>\n",
       "      <td>...</td>\n",
       "      <td>5.0</td>\n",
       "      <td>5.0</td>\n",
       "      <td>5.0</td>\n",
       "      <td>4.0</td>\n",
       "      <td>5.0</td>\n",
       "      <td>5.0</td>\n",
       "      <td>3.0</td>\n",
       "      <td>2.0</td>\n",
       "      <td>4.0</td>\n",
       "      <td>1990</td>\n",
       "    </tr>\n",
       "    <tr>\n",
       "      <th>5</th>\n",
       "      <td>3.0</td>\n",
       "      <td>3.0</td>\n",
       "      <td>5.0</td>\n",
       "      <td>5.0</td>\n",
       "      <td>5.0</td>\n",
       "      <td>5.0</td>\n",
       "      <td>5.0</td>\n",
       "      <td>5.0</td>\n",
       "      <td>3.0</td>\n",
       "      <td>4.0</td>\n",
       "      <td>...</td>\n",
       "      <td>5.0</td>\n",
       "      <td>5.0</td>\n",
       "      <td>5.0</td>\n",
       "      <td>4.0</td>\n",
       "      <td>5.0</td>\n",
       "      <td>5.0</td>\n",
       "      <td>5.0</td>\n",
       "      <td>4.0</td>\n",
       "      <td>5.0</td>\n",
       "      <td>1994</td>\n",
       "    </tr>\n",
       "    <tr>\n",
       "      <th>6</th>\n",
       "      <td>4.0</td>\n",
       "      <td>3.0</td>\n",
       "      <td>5.0</td>\n",
       "      <td>4.0</td>\n",
       "      <td>5.0</td>\n",
       "      <td>4.0</td>\n",
       "      <td>5.0</td>\n",
       "      <td>5.0</td>\n",
       "      <td>5.0</td>\n",
       "      <td>5.0</td>\n",
       "      <td>...</td>\n",
       "      <td>5.0</td>\n",
       "      <td>5.0</td>\n",
       "      <td>5.0</td>\n",
       "      <td>3.0</td>\n",
       "      <td>5.0</td>\n",
       "      <td>4.0</td>\n",
       "      <td>4.0</td>\n",
       "      <td>3.0</td>\n",
       "      <td>3.0</td>\n",
       "      <td>1999</td>\n",
       "    </tr>\n",
       "    <tr>\n",
       "      <th>7</th>\n",
       "      <td>2.0</td>\n",
       "      <td>2.0</td>\n",
       "      <td>5.0</td>\n",
       "      <td>3.0</td>\n",
       "      <td>4.0</td>\n",
       "      <td>4.0</td>\n",
       "      <td>5.0</td>\n",
       "      <td>3.0</td>\n",
       "      <td>5.0</td>\n",
       "      <td>4.0</td>\n",
       "      <td>...</td>\n",
       "      <td>4.0</td>\n",
       "      <td>5.0</td>\n",
       "      <td>3.0</td>\n",
       "      <td>5.0</td>\n",
       "      <td>5.0</td>\n",
       "      <td>1.0</td>\n",
       "      <td>4.0</td>\n",
       "      <td>3.0</td>\n",
       "      <td>3.0</td>\n",
       "      <td>1997</td>\n",
       "    </tr>\n",
       "    <tr>\n",
       "      <th>8</th>\n",
       "      <td>3.0</td>\n",
       "      <td>3.0</td>\n",
       "      <td>5.0</td>\n",
       "      <td>3.0</td>\n",
       "      <td>4.0</td>\n",
       "      <td>3.0</td>\n",
       "      <td>5.0</td>\n",
       "      <td>2.0</td>\n",
       "      <td>5.0</td>\n",
       "      <td>4.0</td>\n",
       "      <td>...</td>\n",
       "      <td>2.0</td>\n",
       "      <td>5.0</td>\n",
       "      <td>4.0</td>\n",
       "      <td>5.0</td>\n",
       "      <td>5.0</td>\n",
       "      <td>3.0</td>\n",
       "      <td>3.0</td>\n",
       "      <td>2.0</td>\n",
       "      <td>5.0</td>\n",
       "      <td>1996</td>\n",
       "    </tr>\n",
       "    <tr>\n",
       "      <th>9</th>\n",
       "      <td>4.0</td>\n",
       "      <td>3.0</td>\n",
       "      <td>5.0</td>\n",
       "      <td>4.0</td>\n",
       "      <td>4.0</td>\n",
       "      <td>3.0</td>\n",
       "      <td>5.0</td>\n",
       "      <td>5.0</td>\n",
       "      <td>4.0</td>\n",
       "      <td>3.0</td>\n",
       "      <td>...</td>\n",
       "      <td>2.0</td>\n",
       "      <td>5.0</td>\n",
       "      <td>4.0</td>\n",
       "      <td>3.0</td>\n",
       "      <td>5.0</td>\n",
       "      <td>3.0</td>\n",
       "      <td>3.0</td>\n",
       "      <td>3.0</td>\n",
       "      <td>4.0</td>\n",
       "      <td>2002</td>\n",
       "    </tr>\n",
       "  </tbody>\n",
       "</table>\n",
       "<p>10 rows × 10001 columns</p>\n",
       "</div>"
      ],
      "text/plain": [
       "     0    1    2    3    4    5    6    7    8    9  ...   9991  9992  9993  \\\n",
       "0  2.0  4.0  5.0  3.0  4.0  4.0  5.0  3.0  5.0  4.0  ...    4.0   4.0   4.0   \n",
       "1  4.0  5.0  5.0  3.0  4.0  3.0  4.0  5.0  5.0  4.0  ...    3.0   5.0   5.0   \n",
       "2  4.0  3.0  5.0  3.0  4.0  3.0  5.0  3.0  5.0  4.0  ...    3.0   5.0   4.0   \n",
       "3  4.0  3.0  5.0  4.0  5.0  4.0  5.0  4.0  5.0  4.0  ...    4.0   4.0   5.0   \n",
       "4  5.0  4.0  5.0  4.0  4.0  4.0  5.0  4.0  5.0  5.0  ...    5.0   5.0   5.0   \n",
       "5  3.0  3.0  5.0  5.0  5.0  5.0  5.0  5.0  3.0  4.0  ...    5.0   5.0   5.0   \n",
       "6  4.0  3.0  5.0  4.0  5.0  4.0  5.0  5.0  5.0  5.0  ...    5.0   5.0   5.0   \n",
       "7  2.0  2.0  5.0  3.0  4.0  4.0  5.0  3.0  5.0  4.0  ...    4.0   5.0   3.0   \n",
       "8  3.0  3.0  5.0  3.0  4.0  3.0  5.0  2.0  5.0  4.0  ...    2.0   5.0   4.0   \n",
       "9  4.0  3.0  5.0  4.0  4.0  3.0  5.0  5.0  4.0  3.0  ...    2.0   5.0   4.0   \n",
       "\n",
       "   9994  9995  9996  9997  9998  9999  year  \n",
       "0   4.0   5.0   3.0   4.0   4.0   2.0  1996  \n",
       "1   2.0   5.0   3.0   5.0   4.0   4.0  2000  \n",
       "2   2.0   5.0   3.0   3.0   4.0   2.0  2004  \n",
       "3   2.0   5.0   3.0   5.0   4.0   4.0  2003  \n",
       "4   4.0   5.0   5.0   3.0   2.0   4.0  1990  \n",
       "5   4.0   5.0   5.0   5.0   4.0   5.0  1994  \n",
       "6   3.0   5.0   4.0   4.0   3.0   3.0  1999  \n",
       "7   5.0   5.0   1.0   4.0   3.0   3.0  1997  \n",
       "8   5.0   5.0   3.0   3.0   2.0   5.0  1996  \n",
       "9   3.0   5.0   3.0   3.0   3.0   4.0  2002  \n",
       "\n",
       "[10 rows x 10001 columns]"
      ]
     },
     "execution_count": 19,
     "metadata": {},
     "output_type": "execute_result"
    }
   ],
   "source": [
    "# first, \"attach\" year to ratings:\n",
    "ratings_by_year = ratings.T # transpose\n",
    "ratings_by_year['year'] = movies['year'] # add new column\n",
    "ratings_by_year.head(10)"
   ]
  },
  {
   "cell_type": "code",
   "execution_count": 20,
   "metadata": {},
   "outputs": [
    {
     "data": {
      "text/html": [
       "<div>\n",
       "<style scoped>\n",
       "    .dataframe tbody tr th:only-of-type {\n",
       "        vertical-align: middle;\n",
       "    }\n",
       "\n",
       "    .dataframe tbody tr th {\n",
       "        vertical-align: top;\n",
       "    }\n",
       "\n",
       "    .dataframe thead th {\n",
       "        text-align: right;\n",
       "    }\n",
       "</style>\n",
       "<table border=\"1\" class=\"dataframe\">\n",
       "  <thead>\n",
       "    <tr style=\"text-align: right;\">\n",
       "      <th></th>\n",
       "      <th>year</th>\n",
       "      <th>movie_id</th>\n",
       "      <th>score</th>\n",
       "    </tr>\n",
       "  </thead>\n",
       "  <tbody>\n",
       "    <tr>\n",
       "      <th>0</th>\n",
       "      <td>1996</td>\n",
       "      <td>0</td>\n",
       "      <td>2.0</td>\n",
       "    </tr>\n",
       "    <tr>\n",
       "      <th>1</th>\n",
       "      <td>2000</td>\n",
       "      <td>0</td>\n",
       "      <td>4.0</td>\n",
       "    </tr>\n",
       "    <tr>\n",
       "      <th>2</th>\n",
       "      <td>2004</td>\n",
       "      <td>0</td>\n",
       "      <td>4.0</td>\n",
       "    </tr>\n",
       "    <tr>\n",
       "      <th>3</th>\n",
       "      <td>2003</td>\n",
       "      <td>0</td>\n",
       "      <td>4.0</td>\n",
       "    </tr>\n",
       "    <tr>\n",
       "      <th>4</th>\n",
       "      <td>1990</td>\n",
       "      <td>0</td>\n",
       "      <td>5.0</td>\n",
       "    </tr>\n",
       "  </tbody>\n",
       "</table>\n",
       "</div>"
      ],
      "text/plain": [
       "   year movie_id  score\n",
       "0  1996        0    2.0\n",
       "1  2000        0    4.0\n",
       "2  2004        0    4.0\n",
       "3  2003        0    4.0\n",
       "4  1990        0    5.0"
      ]
     },
     "execution_count": 20,
     "metadata": {},
     "output_type": "execute_result"
    }
   ],
   "source": [
    "# Then, \"melt\" DataFrame, so each year will have each score in a separate line\n",
    "ratings_by_year = pd.melt(ratings_by_year, id_vars=['year'], value_vars=list(range(99)))\n",
    "ratings_by_year.columns = ['year', 'movie_id', 'score']\n",
    "ratings_by_year.head()"
   ]
  },
  {
   "cell_type": "code",
   "execution_count": 21,
   "metadata": {},
   "outputs": [
    {
     "data": {
      "image/png": "[encoded data removed]",
      "text/plain": [
       "<Figure size 432x288 with 1 Axes>"
      ]
     },
     "metadata": {
      "needs_background": "light"
     },
     "output_type": "display_data"
    }
   ],
   "source": [
    "# boxplots are problematic on a 1 to 5 scale...\n",
    "sns.boxplot('year', 'score', data = ratings_by_year)\n",
    "plt.show()"
   ]
  },
  {
   "cell_type": "code",
   "execution_count": 22,
   "metadata": {},
   "outputs": [
    {
     "data": {
      "image/png": "[encoded data removed]",
      "text/plain": [
       "<Figure size 432x288 with 1 Axes>"
      ]
     },
     "metadata": {
      "needs_background": "light"
     },
     "output_type": "display_data"
    }
   ],
   "source": [
    "# so we can get mean score per year and use a simple line chart\n",
    "ratings_by_year = ratings_by_year.groupby('year')['score'].mean().reset_index()\n",
    "ratings_by_year.columns = ['year', 'mean_score']\n",
    "sns.lineplot('year', 'mean_score', data = ratings_by_year)\n",
    "plt.show()"
   ]
  },
  {
   "cell_type": "markdown",
   "metadata": {},
   "source": [
    "# Pairwise Correlations"
   ]
  },
  {
   "cell_type": "markdown",
   "metadata": {},
   "source": [
    "## General"
   ]
  },
  {
   "cell_type": "code",
   "execution_count": 23,
   "metadata": {},
   "outputs": [
    {
     "data": {
      "image/png": "[encoded data removed]",
      "text/plain": [
       "<Figure size 432x288 with 1 Axes>"
      ]
     },
     "metadata": {
      "needs_background": "light"
     },
     "output_type": "display_data"
    },
    {
     "name": "stdout",
     "output_type": "stream",
     "text": [
      "Pearson r correlation: -0.44\n"
     ]
    }
   ],
   "source": [
    "# is a movie \"missingness\" correlated with its mean score?\n",
    "sns.scatterplot('n_missing', 'mean_score', data = movies)\n",
    "plt.show()\n",
    "\n",
    "print('Pearson r correlation: %.2f' % pearsonr(movies['n_missing'], movies['mean_score'])[0])"
   ]
  },
  {
   "cell_type": "code",
   "execution_count": 24,
   "metadata": {},
   "outputs": [
    {
     "data": {
      "image/png": "[encoded data removed]",
      "text/plain": [
       "<Figure size 432x288 with 1 Axes>"
      ]
     },
     "metadata": {
      "needs_background": "light"
     },
     "output_type": "display_data"
    },
    {
     "name": "stdout",
     "output_type": "stream",
     "text": [
      "Pearson r correlation: 0.04\n"
     ]
    }
   ],
   "source": [
    "# is a rater's \"missingness\" correlated with her mean score?\n",
    "sns.scatterplot('n_missing', 'mean_score', data = raters)\n",
    "plt.show()\n",
    "\n",
    "print('Pearson r correlation: %.2f' % pearsonr(raters['n_missing'], raters['mean_score'])[0])"
   ]
  },
  {
   "cell_type": "code",
   "execution_count": 29,
   "metadata": {},
   "outputs": [
    {
     "data": {
      "image/png": "[encoded data removed]",
      "text/plain": [
       "<Figure size 432x288 with 1 Axes>"
      ]
     },
     "metadata": {
      "needs_background": "light"
     },
     "output_type": "display_data"
    }
   ],
   "source": [
    "# it looked to me like with very high \"missingness\" the mean score is lower, but:\n",
    "raters['n_missing_high'] = raters['n_missing'] > 50\n",
    "sns.boxplot('n_missing_high', 'mean_score', data = raters)\n",
    "plt.show()"
   ]
  },
  {
   "cell_type": "markdown",
   "metadata": {},
   "source": [
    "## Marginal on Movies"
   ]
  },
  {
   "cell_type": "code",
   "execution_count": 30,
   "metadata": {},
   "outputs": [
    {
     "data": {
      "image/png": "[encoded data removed]",
      "text/plain": [
       "<Figure size 432x288 with 1 Axes>"
      ]
     },
     "metadata": {
      "needs_background": "light"
     },
     "output_type": "display_data"
    }
   ],
   "source": [
    "# look at a scatterplot of two specific movies, ignoring missing observations\n",
    "def scatter_movies(mov1, mov2):\n",
    "    mov1_id = movies.index[movies['title'] == mov1][0]\n",
    "    mov2_id = movies.index[movies['title'] == mov2][0]\n",
    "    sns.scatterplot(mov1_id, mov2_id, data = ratings)\n",
    "    plt.show()\n",
    "    \n",
    "scatter_movies('American Beauty', 'The Patriot')"
   ]
  },
  {
   "cell_type": "code",
   "execution_count": 31,
   "metadata": {},
   "outputs": [
    {
     "data": {
      "image/png": "[encoded data removed]",
      "text/plain": [
       "<Figure size 432x288 with 1 Axes>"
      ]
     },
     "metadata": {
      "needs_background": "light"
     },
     "output_type": "display_data"
    }
   ],
   "source": [
    "# oops, either use boxplots or make dots diameter proportional to group's size\n",
    "def scatter_movies(mov1, mov2):\n",
    "    mov1_id = movies.index[movies['title'] == mov1][0]\n",
    "    mov2_id = movies.index[movies['title'] == mov2][0]\n",
    "    mov1_scores = ratings.values[:, mov1_id]\n",
    "    mov2_scores = ratings.values[:, mov2_id]\n",
    "    nas = np.logical_or(np.isnan(mov1_scores), np.isnan(mov2_scores))\n",
    "    agg_data = pd.DataFrame({'mov1': mov1_scores[~nas], 'mov2': mov2_scores[~nas]}).groupby(['mov1', 'mov2']).size().reset_index()\n",
    "    agg_data.columns = [mov1, mov2, 'count']\n",
    "    sns.scatterplot(mov1, mov2, size = 'count', data = agg_data, legend = False)\n",
    "    plt.show()\n",
    "scatter_movies('American Beauty', 'The Patriot')"
   ]
  },
  {
   "cell_type": "code",
   "execution_count": 32,
   "metadata": {},
   "outputs": [
    {
     "data": {
      "text/plain": [
       "-0.04850299965468798"
      ]
     },
     "execution_count": 32,
     "metadata": {},
     "output_type": "execute_result"
    }
   ],
   "source": [
    "# look at correlation of two specific movies\n",
    "def corr_movies(mov1, mov2):\n",
    "    mov1_id = movies.index[movies['title'] == mov1][0]\n",
    "    mov2_id = movies.index[movies['title'] == mov2][0]\n",
    "    mov1_scores = ratings.values[:, mov1_id]\n",
    "    mov2_scores = ratings.values[:, mov2_id]\n",
    "    nas = np.logical_or(np.isnan(mov1_scores), np.isnan(mov2_scores))\n",
    "    return pearsonr(mov1_scores[~nas], mov2_scores[~nas])[0]\n",
    "\n",
    "corr_movies('American Beauty', 'The Patriot')"
   ]
  },
  {
   "cell_type": "code",
   "execution_count": 33,
   "metadata": {},
   "outputs": [
    {
     "data": {
      "text/html": [
       "<div>\n",
       "<style scoped>\n",
       "    .dataframe tbody tr th:only-of-type {\n",
       "        vertical-align: middle;\n",
       "    }\n",
       "\n",
       "    .dataframe tbody tr th {\n",
       "        vertical-align: top;\n",
       "    }\n",
       "\n",
       "    .dataframe thead th {\n",
       "        text-align: right;\n",
       "    }\n",
       "</style>\n",
       "<table border=\"1\" class=\"dataframe\">\n",
       "  <thead>\n",
       "    <tr style=\"text-align: right;\">\n",
       "      <th></th>\n",
       "      <th>mov1</th>\n",
       "      <th>mov2</th>\n",
       "      <th>corr</th>\n",
       "    </tr>\n",
       "  </thead>\n",
       "  <tbody>\n",
       "    <tr>\n",
       "      <th>0</th>\n",
       "      <td>Independence Day</td>\n",
       "      <td>The Patriot</td>\n",
       "      <td>0.247979</td>\n",
       "    </tr>\n",
       "    <tr>\n",
       "      <th>1</th>\n",
       "      <td>Independence Day</td>\n",
       "      <td>The Day After Tomorrow</td>\n",
       "      <td>0.306479</td>\n",
       "    </tr>\n",
       "    <tr>\n",
       "      <th>2</th>\n",
       "      <td>Independence Day</td>\n",
       "      <td>Pirates of the Caribbean: The Curse of the Bla...</td>\n",
       "      <td>0.196642</td>\n",
       "    </tr>\n",
       "    <tr>\n",
       "      <th>3</th>\n",
       "      <td>Independence Day</td>\n",
       "      <td>Pretty Woman</td>\n",
       "      <td>0.182783</td>\n",
       "    </tr>\n",
       "    <tr>\n",
       "      <th>4</th>\n",
       "      <td>Independence Day</td>\n",
       "      <td>Forrest Gump</td>\n",
       "      <td>0.147100</td>\n",
       "    </tr>\n",
       "    <tr>\n",
       "      <th>5</th>\n",
       "      <td>Independence Day</td>\n",
       "      <td>The Green Mile</td>\n",
       "      <td>0.189265</td>\n",
       "    </tr>\n",
       "    <tr>\n",
       "      <th>6</th>\n",
       "      <td>Independence Day</td>\n",
       "      <td>Con Air</td>\n",
       "      <td>0.321706</td>\n",
       "    </tr>\n",
       "    <tr>\n",
       "      <th>7</th>\n",
       "      <td>Independence Day</td>\n",
       "      <td>Twister</td>\n",
       "      <td>0.378102</td>\n",
       "    </tr>\n",
       "    <tr>\n",
       "      <th>8</th>\n",
       "      <td>Independence Day</td>\n",
       "      <td>Sweet Home Alabama</td>\n",
       "      <td>0.194208</td>\n",
       "    </tr>\n",
       "    <tr>\n",
       "      <th>9</th>\n",
       "      <td>Independence Day</td>\n",
       "      <td>Pearl Harbor</td>\n",
       "      <td>0.258672</td>\n",
       "    </tr>\n",
       "  </tbody>\n",
       "</table>\n",
       "</div>"
      ],
      "text/plain": [
       "               mov1                                               mov2  \\\n",
       "0  Independence Day                                        The Patriot   \n",
       "1  Independence Day                             The Day After Tomorrow   \n",
       "2  Independence Day  Pirates of the Caribbean: The Curse of the Bla...   \n",
       "3  Independence Day                                       Pretty Woman   \n",
       "4  Independence Day                                       Forrest Gump   \n",
       "5  Independence Day                                     The Green Mile   \n",
       "6  Independence Day                                            Con Air   \n",
       "7  Independence Day                                            Twister   \n",
       "8  Independence Day                                 Sweet Home Alabama   \n",
       "9  Independence Day                                       Pearl Harbor   \n",
       "\n",
       "       corr  \n",
       "0  0.247979  \n",
       "1  0.306479  \n",
       "2  0.196642  \n",
       "3  0.182783  \n",
       "4  0.147100  \n",
       "5  0.189265  \n",
       "6  0.321706  \n",
       "7  0.378102  \n",
       "8  0.194208  \n",
       "9  0.258672  "
      ]
     },
     "execution_count": 33,
     "metadata": {},
     "output_type": "execute_result"
    }
   ],
   "source": [
    "# get all movies 99 * (99 - 1) / 2 pairwise correlations\n",
    "movies_titles = movies['title'].values\n",
    "pair_counter = 0\n",
    "pair_corrs = dict()\n",
    "for i in range(len(movies_titles) - 1):\n",
    "    for j in range(i + 1, len(movies_titles)):\n",
    "        mov1 = movies_titles[i]\n",
    "        mov2 = movies_titles[j]\n",
    "        pair_corrs[pair_counter] = {'mov1': mov1, 'mov2': mov2, 'corr': corr_movies(mov1, mov2)}\n",
    "        pair_counter += 1\n",
    "pair_corrs_df = pd.DataFrame.from_dict(pair_corrs, 'index')\n",
    "pair_corrs_df.head(10)"
   ]
  },
  {
   "cell_type": "code",
   "execution_count": 34,
   "metadata": {},
   "outputs": [
    {
     "name": "stdout",
     "output_type": "stream",
     "text": [
      "movie1: Lord of the Rings: The Two Towers, movie2: Lord of the Rings: The Fellowship of the Ring, correlation: 0.80\n"
     ]
    }
   ],
   "source": [
    "# pair of movies with highest correlation:\n",
    "max_corr_pair_id = pair_corrs_df['corr'].idxmax()\n",
    "max_pair = pair_corrs_df.iloc[max_corr_pair_id, :].values.tolist()\n",
    "print('movie1: %s, movie2: %s, correlation: %.2f' % (max_pair[0], max_pair[1], max_pair[2]))"
   ]
  },
  {
   "cell_type": "code",
   "execution_count": 35,
   "metadata": {},
   "outputs": [
    {
     "data": {
      "image/png": "[encoded data removed]",
      "text/plain": [
       "<Figure size 432x288 with 1 Axes>"
      ]
     },
     "metadata": {
      "needs_background": "light"
     },
     "output_type": "display_data"
    }
   ],
   "source": [
    "# see how the scatterplot of these raters look like\n",
    "scatter_movies(max_pair[0], max_pair[1])"
   ]
  },
  {
   "cell_type": "code",
   "execution_count": 36,
   "metadata": {},
   "outputs": [
    {
     "name": "stdout",
     "output_type": "stream",
     "text": [
      "movie1: Pearl Harbor, movie2: The Royal Tenenbaums, correlation: -0.17\n"
     ]
    }
   ],
   "source": [
    "# pair of movies with lowest correlation:\n",
    "min_corr_pair_id = pair_corrs_df['corr'].idxmin()\n",
    "min_pair = pair_corrs_df.iloc[min_corr_pair_id, :].values.tolist()\n",
    "print('movie1: %s, movie2: %s, correlation: %.2f' % (min_pair[0], min_pair[1], min_pair[2]))"
   ]
  },
  {
   "cell_type": "code",
   "execution_count": 37,
   "metadata": {},
   "outputs": [
    {
     "data": {
      "image/png": "[encoded data removed]",
      "text/plain": [
       "<Figure size 432x288 with 1 Axes>"
      ]
     },
     "metadata": {
      "needs_background": "light"
     },
     "output_type": "display_data"
    }
   ],
   "source": [
    "# see how the scatterplot of these movies look like\n",
    "scatter_movies(min_pair[0], min_pair[1])"
   ]
  },
  {
   "cell_type": "markdown",
   "metadata": {},
   "source": [
    "But beware: what would be the correlation between two movies all 10K raters chose to give a perfect rating?"
   ]
  },
  {
   "cell_type": "code",
   "execution_count": 38,
   "metadata": {},
   "outputs": [
    {
     "data": {
      "image/png": "[encoded data removed]",
      "text/plain": [
       "<Figure size 432x288 with 1 Axes>"
      ]
     },
     "metadata": {
      "needs_background": "light"
     },
     "output_type": "display_data"
    }
   ],
   "source": [
    "# histogram\n",
    "sns.distplot(pair_corrs_df['corr'], kde=False, rug=True)\n",
    "plt.ylabel('n pairs of movies')\n",
    "plt.show()"
   ]
  },
  {
   "cell_type": "markdown",
   "metadata": {},
   "source": [
    "# Marginal on Raters"
   ]
  },
  {
   "cell_type": "code",
   "execution_count": 39,
   "metadata": {},
   "outputs": [
    {
     "data": {
      "image/png": "[encoded data removed]",
      "text/plain": [
       "<Figure size 432x288 with 1 Axes>"
      ]
     },
     "metadata": {
      "needs_background": "light"
     },
     "output_type": "display_data"
    }
   ],
   "source": [
    "# look at a scatterplot of two specific raters, ignoring missing observations, making marker diameter proportional to group size\n",
    "def scatter_raters(rater1, rater2):\n",
    "    rater1_scores = ratings.values[rater1, :]\n",
    "    rater2_scores = ratings.values[rater2, :]\n",
    "    nas = np.logical_or(np.isnan(rater1_scores), np.isnan(rater2_scores))\n",
    "    agg_data = pd.DataFrame({'rater1': rater1_scores[~nas], 'rater2': rater2_scores[~nas]}).groupby(['rater1', 'rater2']).size().reset_index()\n",
    "    agg_data.columns = [rater1, rater2, 'count']\n",
    "    sns.scatterplot(rater1, rater2, size = 'count', data = agg_data, legend = False)\n",
    "    plt.show()\n",
    "scatter_raters(0, 1)"
   ]
  },
  {
   "cell_type": "code",
   "execution_count": 40,
   "metadata": {},
   "outputs": [
    {
     "data": {
      "text/plain": [
       "0.06245887897166847"
      ]
     },
     "execution_count": 40,
     "metadata": {},
     "output_type": "execute_result"
    }
   ],
   "source": [
    "# look at correlation of two specific raters\n",
    "def corr_raters(rater1, rater2):\n",
    "    rater1_scores = ratings.values[rater1, :]\n",
    "    rater2_scores = ratings.values[rater2, :]\n",
    "    nas = np.logical_or(np.isnan(rater1_scores), np.isnan(rater2_scores))\n",
    "    return pearsonr(rater1_scores[~nas], rater2_scores[~nas])[0]\n",
    "\n",
    "corr_raters(0, 1)"
   ]
  },
  {
   "cell_type": "code",
   "execution_count": 41,
   "metadata": {},
   "outputs": [
    {
     "name": "stderr",
     "output_type": "stream",
     "text": [
      "/home/jonathansomer/.virtualenvs/ml/lib/python3.6/site-packages/scipy/stats/stats.py:3010: RuntimeWarning: invalid value encountered in double_scalars\n",
      "  r = r_num / r_den\n"
     ]
    },
    {
     "data": {
      "text/html": [
       "<div>\n",
       "<style scoped>\n",
       "    .dataframe tbody tr th:only-of-type {\n",
       "        vertical-align: middle;\n",
       "    }\n",
       "\n",
       "    .dataframe tbody tr th {\n",
       "        vertical-align: top;\n",
       "    }\n",
       "\n",
       "    .dataframe thead th {\n",
       "        text-align: right;\n",
       "    }\n",
       "</style>\n",
       "<table border=\"1\" class=\"dataframe\">\n",
       "  <thead>\n",
       "    <tr style=\"text-align: right;\">\n",
       "      <th></th>\n",
       "      <th>rater1</th>\n",
       "      <th>rater2</th>\n",
       "      <th>corr</th>\n",
       "    </tr>\n",
       "  </thead>\n",
       "  <tbody>\n",
       "    <tr>\n",
       "      <th>0</th>\n",
       "      <td>3046</td>\n",
       "      <td>5508</td>\n",
       "      <td>0.023005</td>\n",
       "    </tr>\n",
       "    <tr>\n",
       "      <th>1</th>\n",
       "      <td>7706</td>\n",
       "      <td>1918</td>\n",
       "      <td>0.263178</td>\n",
       "    </tr>\n",
       "    <tr>\n",
       "      <th>2</th>\n",
       "      <td>6497</td>\n",
       "      <td>9846</td>\n",
       "      <td>0.082903</td>\n",
       "    </tr>\n",
       "    <tr>\n",
       "      <th>3</th>\n",
       "      <td>3770</td>\n",
       "      <td>7636</td>\n",
       "      <td>0.140471</td>\n",
       "    </tr>\n",
       "    <tr>\n",
       "      <th>4</th>\n",
       "      <td>4476</td>\n",
       "      <td>2830</td>\n",
       "      <td>-0.093497</td>\n",
       "    </tr>\n",
       "    <tr>\n",
       "      <th>5</th>\n",
       "      <td>3901</td>\n",
       "      <td>6210</td>\n",
       "      <td>0.169219</td>\n",
       "    </tr>\n",
       "    <tr>\n",
       "      <th>6</th>\n",
       "      <td>8958</td>\n",
       "      <td>1498</td>\n",
       "      <td>0.267828</td>\n",
       "    </tr>\n",
       "    <tr>\n",
       "      <th>7</th>\n",
       "      <td>2833</td>\n",
       "      <td>9767</td>\n",
       "      <td>0.073357</td>\n",
       "    </tr>\n",
       "    <tr>\n",
       "      <th>8</th>\n",
       "      <td>950</td>\n",
       "      <td>9695</td>\n",
       "      <td>0.124434</td>\n",
       "    </tr>\n",
       "    <tr>\n",
       "      <th>9</th>\n",
       "      <td>5802</td>\n",
       "      <td>6956</td>\n",
       "      <td>0.196577</td>\n",
       "    </tr>\n",
       "  </tbody>\n",
       "</table>\n",
       "</div>"
      ],
      "text/plain": [
       "   rater1  rater2      corr\n",
       "0    3046    5508  0.023005\n",
       "1    7706    1918  0.263178\n",
       "2    6497    9846  0.082903\n",
       "3    3770    7636  0.140471\n",
       "4    4476    2830 -0.093497\n",
       "5    3901    6210  0.169219\n",
       "6    8958    1498  0.267828\n",
       "7    2833    9767  0.073357\n",
       "8     950    9695  0.124434\n",
       "9    5802    6956  0.196577"
      ]
     },
     "execution_count": 41,
     "metadata": {},
     "output_type": "execute_result"
    }
   ],
   "source": [
    "# now, looking at all 10K * (10K - 1) / 2 pairwise correlations is time consuming, let's sample 10K *pairs* of raters\n",
    "n = 10000\n",
    "pair_corrs = dict()\n",
    "for i in range(n):\n",
    "    rater1, rater2 = np.random.choice(range(raters.shape[0]), 2, replace = False)\n",
    "    pair_corrs[i] = {'rater1': rater1, 'rater2': rater2, 'corr': corr_raters(rater1, rater2)}\n",
    "pair_corrs_df = pd.DataFrame.from_dict(pair_corrs, 'index')\n",
    "pair_corrs_df.head(10)"
   ]
  },
  {
   "cell_type": "code",
   "execution_count": 42,
   "metadata": {},
   "outputs": [
    {
     "data": {
      "text/plain": [
       "5"
      ]
     },
     "execution_count": 42,
     "metadata": {},
     "output_type": "execute_result"
    }
   ],
   "source": [
    "# here more likely to get missing values (why?)\n",
    "sum(np.isnan(pair_corrs_df['corr']))"
   ]
  },
  {
   "cell_type": "code",
   "execution_count": 43,
   "metadata": {},
   "outputs": [
    {
     "name": "stdout",
     "output_type": "stream",
     "text": [
      "rater1: 1382.0, rater2: 4822.0, correlation: 0.74\n"
     ]
    }
   ],
   "source": [
    "# pair of raters with highest correlation:\n",
    "max_corr_pair_id = pair_corrs_df['corr'].idxmax()\n",
    "max_pair = pair_corrs_df.iloc[max_corr_pair_id, :].values.tolist()\n",
    "print('rater1: %s, rater2: %s, correlation: %.2f' % (max_pair[0], max_pair[1], max_pair[2]))"
   ]
  },
  {
   "cell_type": "code",
   "execution_count": 44,
   "metadata": {},
   "outputs": [
    {
     "data": {
      "image/png": "[encoded data removed]",
      "text/plain": [
       "<Figure size 432x288 with 1 Axes>"
      ]
     },
     "metadata": {
      "needs_background": "light"
     },
     "output_type": "display_data"
    }
   ],
   "source": [
    "# see how the scatterplot of these raters look like\n",
    "scatter_raters(int(max_pair[0]), int(max_pair[1]))"
   ]
  },
  {
   "cell_type": "code",
   "execution_count": 45,
   "metadata": {},
   "outputs": [
    {
     "name": "stdout",
     "output_type": "stream",
     "text": [
      "rater1: 7793.0, rater2: 3250.0, correlation: -0.47\n"
     ]
    }
   ],
   "source": [
    "# pair of movies with lowest correlation:\n",
    "min_corr_pair_id = pair_corrs_df['corr'].idxmin()\n",
    "min_pair = pair_corrs_df.iloc[min_corr_pair_id, :].values.tolist()\n",
    "print('rater1: %s, rater2: %s, correlation: %.2f' % (min_pair[0], min_pair[1], min_pair[2]))"
   ]
  },
  {
   "cell_type": "code",
   "execution_count": 46,
   "metadata": {},
   "outputs": [
    {
     "data": {
      "image/png": "[encoded data removed]",
      "text/plain": [
       "<Figure size 432x288 with 1 Axes>"
      ]
     },
     "metadata": {
      "needs_background": "light"
     },
     "output_type": "display_data"
    }
   ],
   "source": [
    "# see how the scatterplot of these raters look like\n",
    "scatter_raters(int(min_pair[0]), int(min_pair[1]))"
   ]
  },
  {
   "cell_type": "code",
   "execution_count": 47,
   "metadata": {},
   "outputs": [
    {
     "data": {
      "image/png": "[encoded data removed]",
      "text/plain": [
       "<Figure size 432x288 with 1 Axes>"
      ]
     },
     "metadata": {
      "needs_background": "light"
     },
     "output_type": "display_data"
    }
   ],
   "source": [
    "# histogram\n",
    "pair_corrs_no_nans = pair_corrs_df['corr'][~np.isnan(pair_corrs_df['corr'])]\n",
    "sns.distplot(pair_corrs_no_nans, kde=False, rug=True)\n",
    "plt.ylabel('n pairs of raters')\n",
    "plt.show()"
   ]
  },
  {
   "cell_type": "markdown",
   "metadata": {},
   "source": [
    "# Correlation with Miss Congeniality"
   ]
  },
  {
   "cell_type": "code",
   "execution_count": 48,
   "metadata": {},
   "outputs": [
    {
     "data": {
      "image/png": "[encoded data removed]",
      "text/plain": [
       "<Figure size 432x288 with 1 Axes>"
      ]
     },
     "metadata": {
      "needs_background": "light"
     },
     "output_type": "display_data"
    }
   ],
   "source": [
    "miss_cong_scores = miss_cong['score'].values\n",
    "\n",
    "# see scatterplot of miss congeniality against another specific movie\n",
    "def scatter_miss_cong(mov1):\n",
    "    mov1_id = movies.index[movies['title'] == mov1][0]\n",
    "    mov1_scores = ratings.values[:, mov1_id]\n",
    "    nas = np.logical_or(np.isnan(mov1_scores), np.isnan(miss_cong_scores))\n",
    "    agg_data = pd.DataFrame({'mov1': mov1_scores[~nas], 'mov2': miss_cong_scores[~nas]}).groupby(['mov1', 'mov2']).size().reset_index()\n",
    "    agg_data.columns = [mov1, 'Miss Congeniality', 'count']\n",
    "    sns.scatterplot(mov1, 'Miss Congeniality', size = 'count', data = agg_data, legend = False)\n",
    "    plt.show()\n",
    "scatter_miss_cong('Con Air')"
   ]
  },
  {
   "cell_type": "code",
   "execution_count": 49,
   "metadata": {},
   "outputs": [
    {
     "data": {
      "text/plain": [
       "0.26409257070749775"
      ]
     },
     "execution_count": 49,
     "metadata": {},
     "output_type": "execute_result"
    }
   ],
   "source": [
    "# look at correlation of miss congeniality against another specific movie\n",
    "def corr_miss_cong(mov1):\n",
    "    mov1_id = movies.index[movies['title'] == mov1][0]\n",
    "    mov1_scores = ratings.values[:, mov1_id]\n",
    "    nas = np.logical_or(np.isnan(mov1_scores), np.isnan(miss_cong_scores))\n",
    "    return pearsonr(mov1_scores[~nas], miss_cong_scores[~nas])[0]\n",
    "\n",
    "corr_miss_cong('Con Air')"
   ]
  },
  {
   "cell_type": "code",
   "execution_count": 50,
   "metadata": {},
   "outputs": [
    {
     "data": {
      "text/html": [
       "<div>\n",
       "<style scoped>\n",
       "    .dataframe tbody tr th:only-of-type {\n",
       "        vertical-align: middle;\n",
       "    }\n",
       "\n",
       "    .dataframe tbody tr th {\n",
       "        vertical-align: top;\n",
       "    }\n",
       "\n",
       "    .dataframe thead th {\n",
       "        text-align: right;\n",
       "    }\n",
       "</style>\n",
       "<table border=\"1\" class=\"dataframe\">\n",
       "  <thead>\n",
       "    <tr style=\"text-align: right;\">\n",
       "      <th></th>\n",
       "      <th>mov1</th>\n",
       "      <th>corr</th>\n",
       "    </tr>\n",
       "  </thead>\n",
       "  <tbody>\n",
       "    <tr>\n",
       "      <th>0</th>\n",
       "      <td>Independence Day</td>\n",
       "      <td>0.241628</td>\n",
       "    </tr>\n",
       "    <tr>\n",
       "      <th>1</th>\n",
       "      <td>The Patriot</td>\n",
       "      <td>0.177594</td>\n",
       "    </tr>\n",
       "    <tr>\n",
       "      <th>2</th>\n",
       "      <td>The Day After Tomorrow</td>\n",
       "      <td>0.258913</td>\n",
       "    </tr>\n",
       "    <tr>\n",
       "      <th>3</th>\n",
       "      <td>Pirates of the Caribbean: The Curse of the Bla...</td>\n",
       "      <td>0.184226</td>\n",
       "    </tr>\n",
       "    <tr>\n",
       "      <th>4</th>\n",
       "      <td>Pretty Woman</td>\n",
       "      <td>0.332299</td>\n",
       "    </tr>\n",
       "    <tr>\n",
       "      <th>5</th>\n",
       "      <td>Forrest Gump</td>\n",
       "      <td>0.057058</td>\n",
       "    </tr>\n",
       "    <tr>\n",
       "      <th>6</th>\n",
       "      <td>The Green Mile</td>\n",
       "      <td>0.157233</td>\n",
       "    </tr>\n",
       "    <tr>\n",
       "      <th>7</th>\n",
       "      <td>Con Air</td>\n",
       "      <td>0.264093</td>\n",
       "    </tr>\n",
       "    <tr>\n",
       "      <th>8</th>\n",
       "      <td>Twister</td>\n",
       "      <td>0.293391</td>\n",
       "    </tr>\n",
       "    <tr>\n",
       "      <th>9</th>\n",
       "      <td>Sweet Home Alabama</td>\n",
       "      <td>0.412030</td>\n",
       "    </tr>\n",
       "  </tbody>\n",
       "</table>\n",
       "</div>"
      ],
      "text/plain": [
       "                                                mov1      corr\n",
       "0                                   Independence Day  0.241628\n",
       "1                                        The Patriot  0.177594\n",
       "2                             The Day After Tomorrow  0.258913\n",
       "3  Pirates of the Caribbean: The Curse of the Bla...  0.184226\n",
       "4                                       Pretty Woman  0.332299\n",
       "5                                       Forrest Gump  0.057058\n",
       "6                                     The Green Mile  0.157233\n",
       "7                                            Con Air  0.264093\n",
       "8                                            Twister  0.293391\n",
       "9                                 Sweet Home Alabama  0.412030"
      ]
     },
     "execution_count": 50,
     "metadata": {},
     "output_type": "execute_result"
    }
   ],
   "source": [
    "# all Miss Congeniality's correlations with other movies\n",
    "miss_cong_corrs = dict()\n",
    "for i, mov1 in enumerate(movies_titles):\n",
    "    miss_cong_corrs[i] = {'mov1': mov1, 'corr': corr_miss_cong(mov1)}\n",
    "miss_cong_corrs_df = pd.DataFrame.from_dict(miss_cong_corrs, 'index')\n",
    "miss_cong_corrs_df.head(10)"
   ]
  },
  {
   "cell_type": "code",
   "execution_count": 51,
   "metadata": {},
   "outputs": [
    {
     "name": "stdout",
     "output_type": "stream",
     "text": [
      "movie with max corr to Miss congeniality: The Wedding Planner, correlation: 0.43\n"
     ]
    }
   ],
   "source": [
    "# movie with highest correlation to Miss Congeniality:\n",
    "max_corr_id = miss_cong_corrs_df['corr'].idxmax()\n",
    "max_movie = miss_cong_corrs_df.iloc[max_corr_id, :].values.tolist()\n",
    "print('movie with max corr to Miss congeniality: %s, correlation: %.2f' % (max_movie[0], max_movie[1]))"
   ]
  },
  {
   "cell_type": "code",
   "execution_count": 52,
   "metadata": {},
   "outputs": [
    {
     "data": {
      "image/png": "[encoded data removed]",
      "text/plain": [
       "<Figure size 432x288 with 1 Axes>"
      ]
     },
     "metadata": {
      "needs_background": "light"
     },
     "output_type": "display_data"
    }
   ],
   "source": [
    "# see how the scatterplot looks like\n",
    "scatter_miss_cong(max_movie[0])"
   ]
  },
  {
   "cell_type": "code",
   "execution_count": 53,
   "metadata": {},
   "outputs": [
    {
     "name": "stdout",
     "output_type": "stream",
     "text": [
      "movie with min corr to Miss congeniality: Pulp Fiction, correlation: -0.14\n"
     ]
    }
   ],
   "source": [
    "# movie with lowest correlation to Miss Congeniality:\n",
    "min_corr_id = miss_cong_corrs_df['corr'].idxmin()\n",
    "min_movie = miss_cong_corrs_df.iloc[min_corr_id, :].values.tolist()\n",
    "print('movie with min corr to Miss congeniality: %s, correlation: %.2f' % (min_movie[0], min_movie[1]))"
   ]
  },
  {
   "cell_type": "code",
   "execution_count": 54,
   "metadata": {},
   "outputs": [
    {
     "data": {
      "image/png": "[encoded data removed]",
      "text/plain": [
       "<Figure size 432x288 with 1 Axes>"
      ]
     },
     "metadata": {
      "needs_background": "light"
     },
     "output_type": "display_data"
    }
   ],
   "source": [
    "# see how the scatterplot looks like\n",
    "scatter_miss_cong(min_movie[0])"
   ]
  },
  {
   "cell_type": "markdown",
   "metadata": {},
   "source": [
    "# Miss Congeniality Conditional Distributions"
   ]
  },
  {
   "cell_type": "code",
   "execution_count": 55,
   "metadata": {},
   "outputs": [
    {
     "data": {
      "image/png": "[encoded data removed]",
      "text/plain": [
       "<Figure size 432x288 with 1 Axes>"
      ]
     },
     "metadata": {
      "needs_background": "light"
     },
     "output_type": "display_data"
    },
    {
     "name": "stdout",
     "output_type": "stream",
     "text": [
      "Miss Congeniality mean score is: 3.61\n"
     ]
    }
   ],
   "source": [
    "# first how does the marginal distirbution of Miss Congeniality look like?\n",
    "sns.distplot(miss_cong_scores, kde=False, rug=True)\n",
    "plt.ylabel('n raters')\n",
    "plt.show()\n",
    "print('Miss Congeniality mean score is: %.2f' % np.mean(miss_cong_scores))"
   ]
  },
  {
   "cell_type": "markdown",
   "metadata": {},
   "source": [
    "## Conditional on Score"
   ]
  },
  {
   "cell_type": "code",
   "execution_count": 56,
   "metadata": {},
   "outputs": [
    {
     "name": "stderr",
     "output_type": "stream",
     "text": [
      "/home/jonathansomer/.virtualenvs/ml/lib/python3.6/site-packages/scipy/stats/stats.py:1713: FutureWarning: Using a non-tuple sequence for multidimensional indexing is deprecated; use `arr[tuple(seq)]` instead of `arr[seq]`. In the future this will be interpreted as an array index, `arr[np.array(seq)]`, which will result either in an error or a different result.\n",
      "  return np.add.reduce(sorted[indexer] * weights, axis=axis) / sumval\n"
     ]
    },
    {
     "data": {
      "image/png": "[encoded data removed]",
      "text/plain": [
       "<Figure size 432x288 with 1 Axes>"
      ]
     },
     "metadata": {
      "needs_background": "light"
     },
     "output_type": "display_data"
    },
    {
     "name": "stdout",
     "output_type": "stream",
     "text": [
      "Miss Congeniality mean score is: 4.05\n"
     ]
    }
   ],
   "source": [
    "# how does it look like conditional on scoring high (4 or 5) on another movie?\n",
    "def miss_cong_dist_cond_high(mov1, high_thresh = 4.0):\n",
    "    mov1_id = movies.index[movies['title'] == mov1][0]\n",
    "    mov1_scores = ratings.values[:, mov1_id]\n",
    "    with warnings.catch_warnings():\n",
    "        warnings.simplefilter(\"ignore\")\n",
    "        miss_cong_filtered = miss_cong_scores[mov1_scores >= high_thresh]\n",
    "    sns.distplot(miss_cong_filtered, kde=False, rug=True)\n",
    "    plt.ylabel('n raters')\n",
    "    plt.show()\n",
    "    print('Miss Congeniality mean score is: %.2f' % np.mean(miss_cong_filtered))\n",
    "miss_cong_dist_cond_high('The Wedding Planner')"
   ]
  },
  {
   "cell_type": "code",
   "execution_count": 57,
   "metadata": {},
   "outputs": [
    {
     "name": "stderr",
     "output_type": "stream",
     "text": [
      "/home/jonathansomer/.virtualenvs/ml/lib/python3.6/site-packages/scipy/stats/stats.py:1713: FutureWarning: Using a non-tuple sequence for multidimensional indexing is deprecated; use `arr[tuple(seq)]` instead of `arr[seq]`. In the future this will be interpreted as an array index, `arr[np.array(seq)]`, which will result either in an error or a different result.\n",
      "  return np.add.reduce(sorted[indexer] * weights, axis=axis) / sumval\n"
     ]
    },
    {
     "data": {
      "image/png": "[encoded data removed]",
      "text/plain": [
       "<Figure size 432x288 with 1 Axes>"
      ]
     },
     "metadata": {
      "needs_background": "light"
     },
     "output_type": "display_data"
    },
    {
     "name": "stdout",
     "output_type": "stream",
     "text": [
      "Miss Congeniality mean score is: 3.47\n"
     ]
    }
   ],
   "source": [
    "miss_cong_dist_cond_high('Pulp Fiction')"
   ]
  },
  {
   "cell_type": "code",
   "execution_count": 58,
   "metadata": {},
   "outputs": [
    {
     "name": "stderr",
     "output_type": "stream",
     "text": [
      "/home/jonathansomer/.virtualenvs/ml/lib/python3.6/site-packages/scipy/stats/stats.py:1713: FutureWarning: Using a non-tuple sequence for multidimensional indexing is deprecated; use `arr[tuple(seq)]` instead of `arr[seq]`. In the future this will be interpreted as an array index, `arr[np.array(seq)]`, which will result either in an error or a different result.\n",
      "  return np.add.reduce(sorted[indexer] * weights, axis=axis) / sumval\n"
     ]
    },
    {
     "data": {
      "image/png": "[encoded data removed]",
      "text/plain": [
       "<Figure size 432x288 with 1 Axes>"
      ]
     },
     "metadata": {
      "needs_background": "light"
     },
     "output_type": "display_data"
    },
    {
     "name": "stdout",
     "output_type": "stream",
     "text": [
      "Miss Congeniality mean score is: 3.02\n"
     ]
    }
   ],
   "source": [
    "# how does it look like conditional on scoring low (1 or 2) on another movie?\n",
    "def miss_cong_dist_cond_low(mov1, low_thresh = 2.0):\n",
    "    mov1_id = movies.index[movies['title'] == mov1][0]\n",
    "    mov1_scores = ratings.values[:, mov1_id]\n",
    "    with warnings.catch_warnings():\n",
    "        warnings.simplefilter(\"ignore\")\n",
    "        miss_cong_filtered = miss_cong_scores[mov1_scores <= low_thresh]\n",
    "    sns.distplot(miss_cong_filtered, kde=False, rug=True)\n",
    "    plt.ylabel('n raters')\n",
    "    plt.show()\n",
    "    print('Miss Congeniality mean score is: %.2f' % np.mean(miss_cong_filtered))\n",
    "miss_cong_dist_cond_low('The Wedding Planner')"
   ]
  },
  {
   "cell_type": "code",
   "execution_count": 59,
   "metadata": {},
   "outputs": [
    {
     "name": "stderr",
     "output_type": "stream",
     "text": [
      "/home/jonathansomer/.virtualenvs/ml/lib/python3.6/site-packages/scipy/stats/stats.py:1713: FutureWarning: Using a non-tuple sequence for multidimensional indexing is deprecated; use `arr[tuple(seq)]` instead of `arr[seq]`. In the future this will be interpreted as an array index, `arr[np.array(seq)]`, which will result either in an error or a different result.\n",
      "  return np.add.reduce(sorted[indexer] * weights, axis=axis) / sumval\n"
     ]
    },
    {
     "data": {
      "image/png": "[encoded data removed]",
      "text/plain": [
       "<Figure size 432x288 with 1 Axes>"
      ]
     },
     "metadata": {
      "needs_background": "light"
     },
     "output_type": "display_data"
    },
    {
     "name": "stdout",
     "output_type": "stream",
     "text": [
      "Miss Congeniality mean score is: 3.80\n"
     ]
    }
   ],
   "source": [
    "miss_cong_dist_cond_low('Pulp Fiction')"
   ]
  },
  {
   "cell_type": "markdown",
   "metadata": {},
   "source": [
    "## Conditional on Missing Data Rate"
   ]
  },
  {
   "cell_type": "code",
   "execution_count": 60,
   "metadata": {},
   "outputs": [
    {
     "data": {
      "image/png": "[encoded data removed]",
      "text/plain": [
       "<Figure size 432x288 with 1 Axes>"
      ]
     },
     "metadata": {
      "needs_background": "light"
     },
     "output_type": "display_data"
    },
    {
     "name": "stdout",
     "output_type": "stream",
     "text": [
      "Miss Congeniality mean score is: 3.28\n"
     ]
    }
   ],
   "source": [
    "# how does it look like conditional on NOT scoring another movie (missing score)?\n",
    "def miss_cong_dist_cond_missing(mov1):\n",
    "    mov1_id = movies.index[movies['title'] == mov1][0]\n",
    "    mov1_scores = ratings.values[:, mov1_id]\n",
    "    mov1_na = np.isnan(mov1_scores)\n",
    "    miss_cong_filtered = miss_cong_scores[mov1_na]\n",
    "    sns.distplot(miss_cong_filtered, kde=False, rug=True)\n",
    "    plt.ylabel('n raters')\n",
    "    plt.show()\n",
    "    print('Miss Congeniality mean score is: %.2f' % np.mean(miss_cong_filtered))\n",
    "miss_cong_dist_cond_missing('The Wedding Planner')"
   ]
  },
  {
   "cell_type": "code",
   "execution_count": 61,
   "metadata": {},
   "outputs": [
    {
     "data": {
      "image/png": "[encoded data removed]",
      "text/plain": [
       "<Figure size 432x288 with 1 Axes>"
      ]
     },
     "metadata": {
      "needs_background": "light"
     },
     "output_type": "display_data"
    },
    {
     "name": "stdout",
     "output_type": "stream",
     "text": [
      "Miss Congeniality mean score is: 3.87\n"
     ]
    }
   ],
   "source": [
    "miss_cong_dist_cond_missing('Pulp Fiction')"
   ]
  },
  {
   "cell_type": "markdown",
   "metadata": {
    "slideshow": {
     "slide_type": "slide"
    }
   },
   "source": [
    "## Advanced exploration: dimensionality reduction\n",
    "\n",
    "### We have $n$ points in $p$ dimensions. In our case: $n=10^4, p=14$ (considering only the fully observed movies)\n",
    "### We want to reduce the data to $q<<p$ dimensions (typically $q=2$ or $q=3$), to: \n",
    "* Identify **important dimensions** which summarize the data well\n",
    "* **Visualize** the data (2-d or 3-d visualizations)\n",
    "* Identify **structure** in the data, such as clusters\n",
    "\n",
    "### Naive way: select $q$ out of the original $p$ dimensions\n",
    "* For $q=2$, we have been looking at pairwise plots of movies\n",
    "\n",
    "### Less Naive way: Look for interesting \"projections\": linear combinations of the variables which expose interesting information and patterns"
   ]
  },
  {
   "cell_type": "markdown",
   "metadata": {
    "slideshow": {
     "slide_type": "slide"
    }
   },
   "source": [
    "## Mathematical setup\n",
    "\n",
    "#### We have $n$ vectors in ${\\mathbb R}^p$: $\\mathbf{x}_1,..., \\mathbf{x}_n$. \n",
    "\n",
    "#### We can desribe them thorugh a matrix $X_{n*p}$ (each row is an observation). \n",
    "\n",
    "#### Assume for simplicity that the columns are centered: $\\sum_i x_{ij} = 0,\\;\\forall j$, so our data is a cloud around $0$ in ${\\mathbb R}^p$.\n",
    "\n",
    "#### Total dispersion (squared distance of points from their center): $\\sum_{ij} x_{ij}^2 = \\|\\mathbf{x}_1\\|_2^2+...+ \\|\\mathbf{x}_n\\|_2^2 = tr (X^T X).$\n",
    "\n",
    "#### Possible goal: find $q<<p$ **good directions**, such that **much of the dispersion** will be captured by these directions. \n",
    "\n",
    "#### A **direction** in ${\\mathbb R}^p$ is a vector $\\mathbf{v}\\in {\\mathbb R}^p$ with $\\|\\mathbf{v}\\|_2^2=1$.\n",
    "\n",
    "\n"
   ]
  },
  {
   "cell_type": "markdown",
   "metadata": {
    "slideshow": {
     "slide_type": "slide"
    }
   },
   "source": [
    "## The Principal Component Analysis (PCA) Problem\n",
    "\n",
    "#### Goal: Find the $q$ direction(s) with the most dispersion\n",
    "\n",
    "#### Projection in direction $\\mathbf{v}$: $X\\mathbf{v} \\in \\mathbb R^n.$ Examples: \n",
    "##### $\\mathbf{v} = (1,0,...,0)^T$: pick first coordinate from each observation\n",
    "##### $\\mathbf{v} = (1/\\sqrt{p},1/\\sqrt{p},...,1/\\sqrt{p})^T$: project on diagonal (average all coordinates)\n",
    "\n",
    "\n",
    "#### Dispersion in direction $\\mathbf{v}$: $\\|X\\mathbf{v}\\|^2 = \\mathbf{v}^T (X^TX) \\mathbf{v}.$\n",
    "\n",
    "#### Finding the best direction which maximizes dispersion: $ \\mathbf{v}_1 = \\arg\\max_{\\mathbf{v}:\\|\\mathbf{v}\\|^2 =1} \\|X\\mathbf{v}\\|^2 $\n",
    "\n",
    "#### $\\mathbf{v}_1$ is the first Principal Component direction: the best direction to project on!\n",
    "\n"
   ]
  },
  {
   "cell_type": "markdown",
   "metadata": {
    "slideshow": {
     "slide_type": "slide"
    }
   },
   "source": [
    "## How do we find the next principal component? \n",
    "\n",
    "#### Now we want a **different** direction $\\mathbf{v}_2$ which maximizes direction after accounting for $\\mathbf{v}_1$.\n",
    "\n",
    "#### Require orthogonality: $\\mathbf{v}_2 = \\arg\\max_{\\|\\mathbf{v}\\|^2 =1, \\mathbf{v}^T\\mathbf{v}_1 = 0}\\|X\\mathbf{v}\\|^2 $\n",
    "\n",
    "#### This is the second principal component\n",
    "\n",
    "#### Can keep going looking for new directions\n"
   ]
  },
  {
   "cell_type": "markdown",
   "metadata": {
    "slideshow": {
     "slide_type": "slide"
    }
   },
   "source": [
    "## PCA on the Netflix data\n",
    "\n",
    "#### Our Netflix dataset contains the 1-5 rankings made by 10,000 users to 99 movies.\n",
    "\n",
    "#### Let $X$ be the data matrix for the first 14 movies to which all users gave ranking.\n",
    "\n",
    "#### So: $n = 10000$ and $p = 14$. This isn't that \"Big\", however even with 14 variables it is almost impossible to see any latent structure hidden in the data.\n",
    "\n",
    "#### Let's perform PCA!"
   ]
  },
  {
   "cell_type": "code",
   "execution_count": 62,
   "metadata": {
    "scrolled": true,
    "slideshow": {
     "slide_type": "slide"
    }
   },
   "outputs": [
    {
     "name": "stdout",
     "output_type": "stream",
     "text": [
      "(10000, 14)\n",
      "[[2. 4. 4. 4. 5.]\n",
      " [4. 5. 3. 3. 4.]\n",
      " [5. 5. 5. 5. 5.]\n",
      " [3. 3. 3. 4. 4.]\n",
      " [4. 4. 4. 5. 4.]]\n"
     ]
    }
   ],
   "source": [
    "from sklearn.decomposition import PCA\n",
    "\n",
    "# read in the data\n",
    "X = ratings.values[:,:14]\n",
    "#X = pd.read_table(\"http://www.tau.ac.il/~saharon/StatsLearn2018/train_ratings_all.dat\",\n",
    "#                  header = None, usecols = range(14)).values\n",
    "print(X.shape)\n",
    "print(X[:5, :5])"
   ]
  },
  {
   "cell_type": "code",
   "execution_count": 63,
   "metadata": {},
   "outputs": [
    {
     "data": {
      "text/plain": [
       "PCA(copy=True, iterated_power='auto', n_components=None, random_state=None,\n",
       "  svd_solver='auto', tol=0.0, whiten=False)"
      ]
     },
     "execution_count": 63,
     "metadata": {},
     "output_type": "execute_result"
    }
   ],
   "source": [
    "\n",
    "# centering X: subtracting the mean from each column\n",
    "X_centered = X - X.mean(axis = 0)\n",
    "\n",
    "# instantiating PCA object\n",
    "pca = PCA()\n",
    "\n",
    "# performing PCA\n",
    "pca.fit(X_centered)"
   ]
  },
  {
   "cell_type": "code",
   "execution_count": 64,
   "metadata": {
    "slideshow": {
     "slide_type": "slide"
    }
   },
   "outputs": [
    {
     "name": "stdout",
     "output_type": "stream",
     "text": [
      "(14, 14)\n"
     ]
    }
   ],
   "source": [
    "# What did we get?\n",
    "\n",
    "# This is the W matrix, a.k.a the \"loadings\", a.k.a the matrix whose columns are XtX eigenvectors:\n",
    "W = pca.components_\n",
    "print(W.shape)\n",
    "\n",
    "# Helper function for better pandas styling\n",
    "def color_negative_red(val):\n",
    "    \"\"\"\n",
    "    Takes a scalar and returns a string with\n",
    "    the css property `'color: red'` for negative\n",
    "    strings, black otherwise.\n",
    "    \"\"\"\n",
    "    color = 'red' if val < 0 else 'black'\n",
    "    return 'color: %s' % color"
   ]
  },
  {
   "cell_type": "code",
   "execution_count": 65,
   "metadata": {},
   "outputs": [
    {
     "data": {
      "text/html": [
       "<style  type=\"text/css\" >\n",
       "    #T_9329dd1e_61ff_11e9_befa_94659c72c17brow0_col0 {\n",
       "            color:  black;\n",
       "        }    #T_9329dd1e_61ff_11e9_befa_94659c72c17brow0_col1 {\n",
       "            color:  red;\n",
       "        }    #T_9329dd1e_61ff_11e9_befa_94659c72c17brow0_col2 {\n",
       "            color:  red;\n",
       "        }    #T_9329dd1e_61ff_11e9_befa_94659c72c17brow0_col3 {\n",
       "            color:  black;\n",
       "        }    #T_9329dd1e_61ff_11e9_befa_94659c72c17brow1_col0 {\n",
       "            color:  black;\n",
       "        }    #T_9329dd1e_61ff_11e9_befa_94659c72c17brow1_col1 {\n",
       "            color:  red;\n",
       "        }    #T_9329dd1e_61ff_11e9_befa_94659c72c17brow1_col2 {\n",
       "            color:  red;\n",
       "        }    #T_9329dd1e_61ff_11e9_befa_94659c72c17brow1_col3 {\n",
       "            color:  red;\n",
       "        }    #T_9329dd1e_61ff_11e9_befa_94659c72c17brow2_col0 {\n",
       "            color:  black;\n",
       "        }    #T_9329dd1e_61ff_11e9_befa_94659c72c17brow2_col1 {\n",
       "            color:  red;\n",
       "        }    #T_9329dd1e_61ff_11e9_befa_94659c72c17brow2_col2 {\n",
       "            color:  red;\n",
       "        }    #T_9329dd1e_61ff_11e9_befa_94659c72c17brow2_col3 {\n",
       "            color:  black;\n",
       "        }    #T_9329dd1e_61ff_11e9_befa_94659c72c17brow3_col0 {\n",
       "            color:  black;\n",
       "        }    #T_9329dd1e_61ff_11e9_befa_94659c72c17brow3_col1 {\n",
       "            color:  red;\n",
       "        }    #T_9329dd1e_61ff_11e9_befa_94659c72c17brow3_col2 {\n",
       "            color:  red;\n",
       "        }    #T_9329dd1e_61ff_11e9_befa_94659c72c17brow3_col3 {\n",
       "            color:  black;\n",
       "        }    #T_9329dd1e_61ff_11e9_befa_94659c72c17brow4_col0 {\n",
       "            color:  black;\n",
       "        }    #T_9329dd1e_61ff_11e9_befa_94659c72c17brow4_col1 {\n",
       "            color:  red;\n",
       "        }    #T_9329dd1e_61ff_11e9_befa_94659c72c17brow4_col2 {\n",
       "            color:  black;\n",
       "        }    #T_9329dd1e_61ff_11e9_befa_94659c72c17brow4_col3 {\n",
       "            color:  black;\n",
       "        }    #T_9329dd1e_61ff_11e9_befa_94659c72c17brow5_col0 {\n",
       "            color:  black;\n",
       "        }    #T_9329dd1e_61ff_11e9_befa_94659c72c17brow5_col1 {\n",
       "            color:  red;\n",
       "        }    #T_9329dd1e_61ff_11e9_befa_94659c72c17brow5_col2 {\n",
       "            color:  black;\n",
       "        }    #T_9329dd1e_61ff_11e9_befa_94659c72c17brow5_col3 {\n",
       "            color:  red;\n",
       "        }    #T_9329dd1e_61ff_11e9_befa_94659c72c17brow6_col0 {\n",
       "            color:  black;\n",
       "        }    #T_9329dd1e_61ff_11e9_befa_94659c72c17brow6_col1 {\n",
       "            color:  red;\n",
       "        }    #T_9329dd1e_61ff_11e9_befa_94659c72c17brow6_col2 {\n",
       "            color:  black;\n",
       "        }    #T_9329dd1e_61ff_11e9_befa_94659c72c17brow6_col3 {\n",
       "            color:  red;\n",
       "        }    #T_9329dd1e_61ff_11e9_befa_94659c72c17brow7_col0 {\n",
       "            color:  black;\n",
       "        }    #T_9329dd1e_61ff_11e9_befa_94659c72c17brow7_col1 {\n",
       "            color:  red;\n",
       "        }    #T_9329dd1e_61ff_11e9_befa_94659c72c17brow7_col2 {\n",
       "            color:  red;\n",
       "        }    #T_9329dd1e_61ff_11e9_befa_94659c72c17brow7_col3 {\n",
       "            color:  black;\n",
       "        }    #T_9329dd1e_61ff_11e9_befa_94659c72c17brow8_col0 {\n",
       "            color:  black;\n",
       "        }    #T_9329dd1e_61ff_11e9_befa_94659c72c17brow8_col1 {\n",
       "            color:  red;\n",
       "        }    #T_9329dd1e_61ff_11e9_befa_94659c72c17brow8_col2 {\n",
       "            color:  red;\n",
       "        }    #T_9329dd1e_61ff_11e9_befa_94659c72c17brow8_col3 {\n",
       "            color:  black;\n",
       "        }    #T_9329dd1e_61ff_11e9_befa_94659c72c17brow9_col0 {\n",
       "            color:  black;\n",
       "        }    #T_9329dd1e_61ff_11e9_befa_94659c72c17brow9_col1 {\n",
       "            color:  red;\n",
       "        }    #T_9329dd1e_61ff_11e9_befa_94659c72c17brow9_col2 {\n",
       "            color:  black;\n",
       "        }    #T_9329dd1e_61ff_11e9_befa_94659c72c17brow9_col3 {\n",
       "            color:  black;\n",
       "        }    #T_9329dd1e_61ff_11e9_befa_94659c72c17brow10_col0 {\n",
       "            color:  black;\n",
       "        }    #T_9329dd1e_61ff_11e9_befa_94659c72c17brow10_col1 {\n",
       "            color:  red;\n",
       "        }    #T_9329dd1e_61ff_11e9_befa_94659c72c17brow10_col2 {\n",
       "            color:  black;\n",
       "        }    #T_9329dd1e_61ff_11e9_befa_94659c72c17brow10_col3 {\n",
       "            color:  red;\n",
       "        }    #T_9329dd1e_61ff_11e9_befa_94659c72c17brow11_col0 {\n",
       "            color:  black;\n",
       "        }    #T_9329dd1e_61ff_11e9_befa_94659c72c17brow11_col1 {\n",
       "            color:  red;\n",
       "        }    #T_9329dd1e_61ff_11e9_befa_94659c72c17brow11_col2 {\n",
       "            color:  red;\n",
       "        }    #T_9329dd1e_61ff_11e9_befa_94659c72c17brow11_col3 {\n",
       "            color:  black;\n",
       "        }    #T_9329dd1e_61ff_11e9_befa_94659c72c17brow12_col0 {\n",
       "            color:  black;\n",
       "        }    #T_9329dd1e_61ff_11e9_befa_94659c72c17brow12_col1 {\n",
       "            color:  red;\n",
       "        }    #T_9329dd1e_61ff_11e9_befa_94659c72c17brow12_col2 {\n",
       "            color:  red;\n",
       "        }    #T_9329dd1e_61ff_11e9_befa_94659c72c17brow12_col3 {\n",
       "            color:  black;\n",
       "        }    #T_9329dd1e_61ff_11e9_befa_94659c72c17brow13_col0 {\n",
       "            color:  black;\n",
       "        }    #T_9329dd1e_61ff_11e9_befa_94659c72c17brow13_col1 {\n",
       "            color:  red;\n",
       "        }    #T_9329dd1e_61ff_11e9_befa_94659c72c17brow13_col2 {\n",
       "            color:  black;\n",
       "        }    #T_9329dd1e_61ff_11e9_befa_94659c72c17brow13_col3 {\n",
       "            color:  black;\n",
       "        }</style>  \n",
       "<table id=\"T_9329dd1e_61ff_11e9_befa_94659c72c17b\" > \n",
       "<thead>    <tr> \n",
       "        <th class=\"blank level0\" ></th> \n",
       "        <th class=\"col_heading level0 col0\" >mean_rating</th> \n",
       "        <th class=\"col_heading level0 col1\" >0</th> \n",
       "        <th class=\"col_heading level0 col2\" >1</th> \n",
       "        <th class=\"col_heading level0 col3\" >2</th> \n",
       "    </tr>    <tr> \n",
       "        <th class=\"index_name level0\" >title</th> \n",
       "        <th class=\"blank\" ></th> \n",
       "        <th class=\"blank\" ></th> \n",
       "        <th class=\"blank\" ></th> \n",
       "        <th class=\"blank\" ></th> \n",
       "    </tr></thead> \n",
       "<tbody>    <tr> \n",
       "        <th id=\"T_9329dd1e_61ff_11e9_befa_94659c72c17blevel0_row0\" class=\"row_heading level0 row0\" >Independence Day</th> \n",
       "        <td id=\"T_9329dd1e_61ff_11e9_befa_94659c72c17brow0_col0\" class=\"data row0 col0\" >4.15</td> \n",
       "        <td id=\"T_9329dd1e_61ff_11e9_befa_94659c72c17brow0_col1\" class=\"data row0 col1\" >-0.25</td> \n",
       "        <td id=\"T_9329dd1e_61ff_11e9_befa_94659c72c17brow0_col2\" class=\"data row0 col2\" >-0.26</td> \n",
       "        <td id=\"T_9329dd1e_61ff_11e9_befa_94659c72c17brow0_col3\" class=\"data row0 col3\" >0.14</td> \n",
       "    </tr>    <tr> \n",
       "        <th id=\"T_9329dd1e_61ff_11e9_befa_94659c72c17blevel0_row1\" class=\"row_heading level0 row1\" >The Patriot</th> \n",
       "        <td id=\"T_9329dd1e_61ff_11e9_befa_94659c72c17brow1_col0\" class=\"data row1 col0\" >4.11</td> \n",
       "        <td id=\"T_9329dd1e_61ff_11e9_befa_94659c72c17brow1_col1\" class=\"data row1 col1\" >-0.26</td> \n",
       "        <td id=\"T_9329dd1e_61ff_11e9_befa_94659c72c17brow1_col2\" class=\"data row1 col2\" >-0.06</td> \n",
       "        <td id=\"T_9329dd1e_61ff_11e9_befa_94659c72c17brow1_col3\" class=\"data row1 col3\" >-0.41</td> \n",
       "    </tr>    <tr> \n",
       "        <th id=\"T_9329dd1e_61ff_11e9_befa_94659c72c17blevel0_row2\" class=\"row_heading level0 row2\" >The Day After Tomorrow</th> \n",
       "        <td id=\"T_9329dd1e_61ff_11e9_befa_94659c72c17brow2_col0\" class=\"data row2 col0\" >3.70</td> \n",
       "        <td id=\"T_9329dd1e_61ff_11e9_befa_94659c72c17brow2_col1\" class=\"data row2 col1\" >-0.32</td> \n",
       "        <td id=\"T_9329dd1e_61ff_11e9_befa_94659c72c17brow2_col2\" class=\"data row2 col2\" >-0.15</td> \n",
       "        <td id=\"T_9329dd1e_61ff_11e9_befa_94659c72c17brow2_col3\" class=\"data row2 col3\" >0.05</td> \n",
       "    </tr>    <tr> \n",
       "        <th id=\"T_9329dd1e_61ff_11e9_befa_94659c72c17blevel0_row3\" class=\"row_heading level0 row3\" >Pirates of the Caribbean: The Curse of the Black Pearl</th> \n",
       "        <td id=\"T_9329dd1e_61ff_11e9_befa_94659c72c17brow3_col0\" class=\"data row3 col0\" >4.35</td> \n",
       "        <td id=\"T_9329dd1e_61ff_11e9_befa_94659c72c17brow3_col1\" class=\"data row3 col1\" >-0.15</td> \n",
       "        <td id=\"T_9329dd1e_61ff_11e9_befa_94659c72c17brow3_col2\" class=\"data row3 col2\" >-0.03</td> \n",
       "        <td id=\"T_9329dd1e_61ff_11e9_befa_94659c72c17brow3_col3\" class=\"data row3 col3\" >0.21</td> \n",
       "    </tr>    <tr> \n",
       "        <th id=\"T_9329dd1e_61ff_11e9_befa_94659c72c17blevel0_row4\" class=\"row_heading level0 row4\" >Pretty Woman</th> \n",
       "        <td id=\"T_9329dd1e_61ff_11e9_befa_94659c72c17brow4_col0\" class=\"data row4 col0\" >4.07</td> \n",
       "        <td id=\"T_9329dd1e_61ff_11e9_befa_94659c72c17brow4_col1\" class=\"data row4 col1\" >-0.23</td> \n",
       "        <td id=\"T_9329dd1e_61ff_11e9_befa_94659c72c17brow4_col2\" class=\"data row4 col2\" >0.45</td> \n",
       "        <td id=\"T_9329dd1e_61ff_11e9_befa_94659c72c17brow4_col3\" class=\"data row4 col3\" >0.24</td> \n",
       "    </tr>    <tr> \n",
       "        <th id=\"T_9329dd1e_61ff_11e9_befa_94659c72c17blevel0_row5\" class=\"row_heading level0 row5\" >Forrest Gump</th> \n",
       "        <td id=\"T_9329dd1e_61ff_11e9_befa_94659c72c17brow5_col0\" class=\"data row5 col0\" >4.51</td> \n",
       "        <td id=\"T_9329dd1e_61ff_11e9_befa_94659c72c17brow5_col1\" class=\"data row5 col1\" >-0.11</td> \n",
       "        <td id=\"T_9329dd1e_61ff_11e9_befa_94659c72c17brow5_col2\" class=\"data row5 col2\" >0.01</td> \n",
       "        <td id=\"T_9329dd1e_61ff_11e9_befa_94659c72c17brow5_col3\" class=\"data row5 col3\" >-0.08</td> \n",
       "    </tr>    <tr> \n",
       "        <th id=\"T_9329dd1e_61ff_11e9_befa_94659c72c17blevel0_row6\" class=\"row_heading level0 row6\" >The Green Mile</th> \n",
       "        <td id=\"T_9329dd1e_61ff_11e9_befa_94659c72c17brow6_col0\" class=\"data row6 col0\" >4.46</td> \n",
       "        <td id=\"T_9329dd1e_61ff_11e9_befa_94659c72c17brow6_col1\" class=\"data row6 col1\" >-0.16</td> \n",
       "        <td id=\"T_9329dd1e_61ff_11e9_befa_94659c72c17brow6_col2\" class=\"data row6 col2\" >0.00</td> \n",
       "        <td id=\"T_9329dd1e_61ff_11e9_befa_94659c72c17brow6_col3\" class=\"data row6 col3\" >-0.16</td> \n",
       "    </tr>    <tr> \n",
       "        <th id=\"T_9329dd1e_61ff_11e9_befa_94659c72c17blevel0_row7\" class=\"row_heading level0 row7\" >Con Air</th> \n",
       "        <td id=\"T_9329dd1e_61ff_11e9_befa_94659c72c17brow7_col0\" class=\"data row7 col0\" >3.73</td> \n",
       "        <td id=\"T_9329dd1e_61ff_11e9_befa_94659c72c17brow7_col1\" class=\"data row7 col1\" >-0.30</td> \n",
       "        <td id=\"T_9329dd1e_61ff_11e9_befa_94659c72c17brow7_col2\" class=\"data row7 col2\" >-0.32</td> \n",
       "        <td id=\"T_9329dd1e_61ff_11e9_befa_94659c72c17brow7_col3\" class=\"data row7 col3\" >0.20</td> \n",
       "    </tr>    <tr> \n",
       "        <th id=\"T_9329dd1e_61ff_11e9_befa_94659c72c17blevel0_row8\" class=\"row_heading level0 row8\" >Twister</th> \n",
       "        <td id=\"T_9329dd1e_61ff_11e9_befa_94659c72c17brow8_col0\" class=\"data row8 col0\" >3.75</td> \n",
       "        <td id=\"T_9329dd1e_61ff_11e9_befa_94659c72c17brow8_col1\" class=\"data row8 col1\" >-0.30</td> \n",
       "        <td id=\"T_9329dd1e_61ff_11e9_befa_94659c72c17brow8_col2\" class=\"data row8 col2\" >-0.14</td> \n",
       "        <td id=\"T_9329dd1e_61ff_11e9_befa_94659c72c17brow8_col3\" class=\"data row8 col3\" >0.22</td> \n",
       "    </tr>    <tr> \n",
       "        <th id=\"T_9329dd1e_61ff_11e9_befa_94659c72c17blevel0_row9\" class=\"row_heading level0 row9\" >Sweet Home Alabama</th> \n",
       "        <td id=\"T_9329dd1e_61ff_11e9_befa_94659c72c17brow9_col0\" class=\"data row9 col0\" >3.67</td> \n",
       "        <td id=\"T_9329dd1e_61ff_11e9_befa_94659c72c17brow9_col1\" class=\"data row9 col1\" >-0.30</td> \n",
       "        <td id=\"T_9329dd1e_61ff_11e9_befa_94659c72c17brow9_col2\" class=\"data row9 col2\" >0.59</td> \n",
       "        <td id=\"T_9329dd1e_61ff_11e9_befa_94659c72c17brow9_col3\" class=\"data row9 col3\" >0.22</td> \n",
       "    </tr>    <tr> \n",
       "        <th id=\"T_9329dd1e_61ff_11e9_befa_94659c72c17blevel0_row10\" class=\"row_heading level0 row10\" >Pearl Harbor</th> \n",
       "        <td id=\"T_9329dd1e_61ff_11e9_befa_94659c72c17brow10_col0\" class=\"data row10 col0\" >3.73</td> \n",
       "        <td id=\"T_9329dd1e_61ff_11e9_befa_94659c72c17brow10_col1\" class=\"data row10 col1\" >-0.37</td> \n",
       "        <td id=\"T_9329dd1e_61ff_11e9_befa_94659c72c17brow10_col2\" class=\"data row10 col2\" >0.12</td> \n",
       "        <td id=\"T_9329dd1e_61ff_11e9_befa_94659c72c17brow10_col3\" class=\"data row10 col3\" >-0.71</td> \n",
       "    </tr>    <tr> \n",
       "        <th id=\"T_9329dd1e_61ff_11e9_befa_94659c72c17blevel0_row11\" class=\"row_heading level0 row11\" >Armageddon</th> \n",
       "        <td id=\"T_9329dd1e_61ff_11e9_befa_94659c72c17brow11_col0\" class=\"data row11 col0\" >4.02</td> \n",
       "        <td id=\"T_9329dd1e_61ff_11e9_befa_94659c72c17brow11_col1\" class=\"data row11 col1\" >-0.33</td> \n",
       "        <td id=\"T_9329dd1e_61ff_11e9_befa_94659c72c17brow11_col2\" class=\"data row11 col2\" >-0.22</td> \n",
       "        <td id=\"T_9329dd1e_61ff_11e9_befa_94659c72c17brow11_col3\" class=\"data row11 col3\" >0.05</td> \n",
       "    </tr>    <tr> \n",
       "        <th id=\"T_9329dd1e_61ff_11e9_befa_94659c72c17blevel0_row12\" class=\"row_heading level0 row12\" >The Rock</th> \n",
       "        <td id=\"T_9329dd1e_61ff_11e9_befa_94659c72c17brow12_col0\" class=\"data row12 col0\" >4.02</td> \n",
       "        <td id=\"T_9329dd1e_61ff_11e9_befa_94659c72c17brow12_col1\" class=\"data row12 col1\" >-0.24</td> \n",
       "        <td id=\"T_9329dd1e_61ff_11e9_befa_94659c72c17brow12_col2\" class=\"data row12 col2\" >-0.30</td> \n",
       "        <td id=\"T_9329dd1e_61ff_11e9_befa_94659c72c17brow12_col3\" class=\"data row12 col3\" >0.16</td> \n",
       "    </tr>    <tr> \n",
       "        <th id=\"T_9329dd1e_61ff_11e9_befa_94659c72c17blevel0_row13\" class=\"row_heading level0 row13\" >What Women Want</th> \n",
       "        <td id=\"T_9329dd1e_61ff_11e9_befa_94659c72c17brow13_col0\" class=\"data row13 col0\" >3.71</td> \n",
       "        <td id=\"T_9329dd1e_61ff_11e9_befa_94659c72c17brow13_col1\" class=\"data row13 col1\" >-0.29</td> \n",
       "        <td id=\"T_9329dd1e_61ff_11e9_befa_94659c72c17brow13_col2\" class=\"data row13 col2\" >0.30</td> \n",
       "        <td id=\"T_9329dd1e_61ff_11e9_befa_94659c72c17brow13_col3\" class=\"data row13 col3\" >0.07</td> \n",
       "    </tr></tbody> \n",
       "</table> "
      ],
      "text/plain": [
       "<pandas.io.formats.style.Styler at 0x7f425dfc1e48>"
      ]
     },
     "execution_count": 65,
     "metadata": {},
     "output_type": "execute_result"
    }
   ],
   "source": [
    "# Let's see the W matrix first 3 eigenvectors alongside the movies: do you see anything interesting?\n",
    "means = pd.DataFrame(X.mean(axis = 0))\n",
    "means.columns = ['mean_rating']\n",
    "loadings3 = pd.DataFrame(W.T[:, :3])\n",
    "pd.concat([movies[:14]['title'], means, loadings3], axis = 1).set_index('title').style.applymap(color_negative_red).format(\"{:.2f}\")"
   ]
  },
  {
   "cell_type": "code",
   "execution_count": 66,
   "metadata": {
    "slideshow": {
     "slide_type": "slide"
    }
   },
   "outputs": [
    {
     "name": "stdout",
     "output_type": "stream",
     "text": [
      "(10000, 14)\n"
     ]
    },
    {
     "name": "stderr",
     "output_type": "stream",
     "text": [
      "/home/jonathansomer/.virtualenvs/ml/lib/python3.6/site-packages/scipy/stats/stats.py:1713: FutureWarning: Using a non-tuple sequence for multidimensional indexing is deprecated; use `arr[tuple(seq)]` instead of `arr[seq]`. In the future this will be interpreted as an array index, `arr[np.array(seq)]`, which will result either in an error or a different result.\n",
      "  return np.add.reduce(sorted[indexer] * weights, axis=axis) / sumval\n"
     ]
    },
    {
     "data": {
      "image/png": "[encoded data removed]",
      "text/plain": [
       "<Figure size 432x432 with 3 Axes>"
      ]
     },
     "metadata": {},
     "output_type": "display_data"
    }
   ],
   "source": [
    "# And these are our principal components, the T matrix:\n",
    "T = np.matmul(X_centered, W.T) # make sure this is the same as pca.transform(X_centered)\n",
    "print(T.shape)\n",
    "\n",
    "import matplotlib.pyplot as plt\n",
    "import seaborn as sns\n",
    "sns.set()\n",
    "\n",
    "# The first PC will indicate to what extent the user conforms with the general popular vote of movies:\n",
    "# The second PC will indicate if the user is a romance-comedy-drama or action person:\n",
    "# Are there interesting clusters or people worth pointing at? Would have been nice to see users' gender here!\n",
    "ax = sns.jointplot(T[:,0], T[:,1])\n",
    "ax.set_axis_labels('PC1: Popular Vote', 'PC2: Romance vs. Action', fontsize=16)\n",
    "plt.show()"
   ]
  },
  {
   "cell_type": "code",
   "execution_count": 67,
   "metadata": {
    "slideshow": {
     "slide_type": "slide"
    }
   },
   "outputs": [
    {
     "name": "stdout",
     "output_type": "stream",
     "text": [
      "Top PC1: score\n",
      "1    30\n",
      "2    32\n",
      "3    30\n",
      "4     8\n",
      "dtype: int64\n",
      "Bottom PC1: score\n",
      "3     5\n",
      "4    16\n",
      "5    79\n",
      "dtype: int64\n"
     ]
    }
   ],
   "source": [
    "# And now: Miss Congeniality!\n",
    "\n",
    "# What do you expect the scores to be for users that are high on 1st PC (hate all films)?\n",
    "PC1_top_100 = T[:, 0].argsort()[-100:]\n",
    "print('Top PC1:',miss_cong.iloc[PC1_top_100, :].groupby('score').size())\n",
    "# What do you expect the scores to be for users that are low on 1st PC (love all films)\n",
    "PC1_bottom_100 = T[:, 0].argsort()[:100]\n",
    "print('Bottom PC1:', miss_cong.iloc[PC1_bottom_100, :].groupby('score').size())"
   ]
  },
  {
   "cell_type": "code",
   "execution_count": 68,
   "metadata": {},
   "outputs": [
    {
     "name": "stdout",
     "output_type": "stream",
     "text": [
      "Top PC2: score\n",
      "2    12\n",
      "3    26\n",
      "4    28\n",
      "5    34\n",
      "dtype: int64\n",
      "Bottom PC2: score\n",
      "1    17\n",
      "2    27\n",
      "3    35\n",
      "4    12\n",
      "5     9\n",
      "dtype: int64\n"
     ]
    }
   ],
   "source": [
    "\n",
    "# What do you expect the scores to be for users that are high on 2nd PC (like romantic films)?\n",
    "PC2_top_100 = T[:, 1].argsort()[-100:]\n",
    "print('Top PC2:',miss_cong.iloc[PC2_top_100, :].groupby('score').size())\n",
    "# What do you expect the scores to be for users that are low on 2nd PC (like action films)\n",
    "PC2_bottom_100 = T[:, 1].argsort()[:100]\n",
    "print('Bottom PC2:', miss_cong.iloc[PC2_bottom_100, :].groupby('score').size())"
   ]
  },
  {
   "cell_type": "markdown",
   "metadata": {
    "slideshow": {
     "slide_type": "slide"
    }
   },
   "source": [
    "## Calculating Principal Components: the SVD\n",
    "\n",
    "#### We have the matrix $X_{n*p}$ and want to find: $$\\mathbf{v}_1 = \\arg\\max_{\\mathbf{v}:\\|\\mathbf{v}\\|^2 =1} \\|X\\mathbf{v}\\|^2$$ \n",
    "$$\\mathbf{v}_2 = \\arg\\max_{\\mathbf{v}:\\|\\mathbf{v}\\|^2 =1, \\mathbf{v}^T\\mathbf{v}_1 = 0}\\|X\\mathbf{v}\\|^2$$ \n",
    "Etc. \n",
    "\n",
    "#### The key: the Singular value decomposition (SVD) $X = U D V^T$, where: \n",
    "#### $U_{n*p}$ is a matrix with orthonormal columns: $U^TU = I_{p*p}$<br>$D_{p*p}$ is a diagonal matrix with non-negative diagonal elements  (called the Singular Values)<br>  $V_{p*p}$ is an orthogonal matrix: its columns are an orthonormal basis of $\\mathbb R^p$, $V^TV = V V^T = I$. \n",
    "\n"
   ]
  },
  {
   "cell_type": "markdown",
   "metadata": {
    "slideshow": {
     "slide_type": "slide"
    }
   },
   "source": [
    "## More on the SVD\n",
    "\n",
    "($X = U D V^T$, where:<br> \n",
    "$U_{n*p}$ is a matrix with orthonormal columns<br>  $D_{p*p}$ is a diagonal matrix with non-negative diagonal elements  (called the Singular Values)<br>  $V_{p*p}$ is an orthogonal matrix: its columns are an orthonormal basis of $\\mathbb R^p$.) \n",
    "\n",
    "#### Assuming $d_1>d_2>...d_p$ on the diagonal of $D$ defines this decomposition uniquely.\n",
    "\n",
    "#### Now denote the columns of $V=[\\mathbf{v}_1,...\\mathbf{v}_p]$, a basis of $\\mathbb R^p$, and the columns of $U=[\\mathbf{u}_1,...\\mathbf{u}_p]$.\n",
    "\n",
    "#### Key observation: $X\\mathbf{v}_j = U D V^T \\mathbf{v}_j = UD \\mathbf{e}_j = \\mathbf{u}_j d_j$ because of orthogonality of $V$\n",
    "\n"
   ]
  },
  {
   "cell_type": "markdown",
   "metadata": {
    "slideshow": {
     "slide_type": "slide"
    }
   },
   "source": [
    "## Using the SVD to find the PCA\n",
    "\n",
    "#### Given a vector $\\mathbf{v} \\in \\mathbb R^p$ with $\\|\\mathbf{v}\\|^2=1$, express it in the $V$ columns basis: <br>$ \\mathbf{v} = a_1\\mathbf{v}_1+...+a_p \\mathbf{v}_p \\mbox{ with } a_1^2+...+a_p^2 = 1.$\n",
    "\n",
    "#### Now we can calculate its dispersion using the SVD: <br>$ X\\mathbf{v} = a_1 d_1 \\mathbf{u}_1 + ... + a_p d_p \\mathbf{u}_p \\Rightarrow \\|X\\mathbf{v}\\|^2 = a_1^2 d_1^2 +... + a_p^2 d_p ^2$.\n",
    "\n",
    "\n",
    "#### We know $a_1^2+...+a_p^2=1$, hence: $ \\|X\\mathbf{v}\\|^2 \\leq d_1^2.$\n",
    "\n",
    "#### But we get equality when $\\mathbf{v}=\\mathbf{v}_1$, the first column of $V$, hence $\\mathbf{v}_1$ is the first PC\n",
    "\n",
    "#### Similarly the second PC is defined by $\\mathbf{v}_2$ in $V$, and so on"
   ]
  }
 ],
 "metadata": {
  "celltoolbar": "Slideshow",
  "kernelspec": {
   "display_name": "Python 3",
   "language": "python",
   "name": "python3"
  },
  "language_info": {
   "codemirror_mode": {
    "name": "ipython",
    "version": 3
   },
   "file_extension": ".py",
   "mimetype": "text/x-python",
   "name": "python",
   "nbconvert_exporter": "python",
   "pygments_lexer": "ipython3",
   "version": "3.6.6"
  }
 },
 "nbformat": 4,
 "nbformat_minor": 2
}
